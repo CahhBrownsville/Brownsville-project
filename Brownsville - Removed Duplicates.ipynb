{
 "cells": [
  {
   "cell_type": "markdown",
   "metadata": {},
   "source": [
    "# Part 1: Analysis of Brownsville.csv, years 2014-2021"
   ]
  },
  {
   "cell_type": "markdown",
   "metadata": {},
   "source": [
    "Removing duplicate requests on the Brownsville dataset"
   ]
  },
  {
   "cell_type": "code",
   "execution_count": 1,
   "metadata": {},
   "outputs": [],
   "source": [
    "import matplotlib.pyplot as plt\n",
    "import pandas as pd\n",
    "import numpy as np\n",
    "import datetime as dt\n",
    "import seaborn as sns\n",
    "%matplotlib inline"
   ]
  },
  {
   "cell_type": "code",
   "execution_count": 2,
   "metadata": {
    "scrolled": true
   },
   "outputs": [
    {
     "name": "stderr",
     "output_type": "stream",
     "text": [
      "<ipython-input-2-d20f5645d4b5>:2: FutureWarning: Passing a negative integer is deprecated in version 1.0 and will not be supported in future version. Instead, use None to not limit the column width.\n",
      "  pd.set_option('display.max_colwidth', -1)\n"
     ]
    },
    {
     "data": {
      "text/html": [
       "<div>\n",
       "<style scoped>\n",
       "    .dataframe tbody tr th:only-of-type {\n",
       "        vertical-align: middle;\n",
       "    }\n",
       "\n",
       "    .dataframe tbody tr th {\n",
       "        vertical-align: top;\n",
       "    }\n",
       "\n",
       "    .dataframe thead th {\n",
       "        text-align: right;\n",
       "    }\n",
       "</style>\n",
       "<table border=\"1\" class=\"dataframe\">\n",
       "  <thead>\n",
       "    <tr style=\"text-align: right;\">\n",
       "      <th></th>\n",
       "      <th>Zip</th>\n",
       "      <th>Borough</th>\n",
       "      <th>BoroughID</th>\n",
       "      <th>BuildingID</th>\n",
       "      <th>ProblemID</th>\n",
       "      <th>ComplaintID</th>\n",
       "      <th>UnitTypeID</th>\n",
       "      <th>UnitType</th>\n",
       "      <th>SpaceTypeID</th>\n",
       "      <th>SpaceType</th>\n",
       "      <th>...</th>\n",
       "      <th>MajorCategoryID</th>\n",
       "      <th>MajorCategory</th>\n",
       "      <th>MinorCategoryID</th>\n",
       "      <th>MinorCategory</th>\n",
       "      <th>CodeID</th>\n",
       "      <th>Code</th>\n",
       "      <th>StatusID</th>\n",
       "      <th>Status</th>\n",
       "      <th>StatusDate</th>\n",
       "      <th>StatusDescription</th>\n",
       "    </tr>\n",
       "  </thead>\n",
       "  <tbody>\n",
       "    <tr>\n",
       "      <th>0</th>\n",
       "      <td>11233</td>\n",
       "      <td>BROOKLYN</td>\n",
       "      <td>3</td>\n",
       "      <td>219263</td>\n",
       "      <td>14570531</td>\n",
       "      <td>6977738</td>\n",
       "      <td>91</td>\n",
       "      <td>APARTMENT</td>\n",
       "      <td>541</td>\n",
       "      <td>BATHROOM</td>\n",
       "      <td>...</td>\n",
       "      <td>65</td>\n",
       "      <td>WATER LEAK</td>\n",
       "      <td>380</td>\n",
       "      <td>HEAVY FLOW</td>\n",
       "      <td>2828</td>\n",
       "      <td>AT WALL OR CEILING</td>\n",
       "      <td>2</td>\n",
       "      <td>CLOSE</td>\n",
       "      <td>2014-07-31</td>\n",
       "      <td>The Department of Housing Preservation and Development inspected the following conditions. No violations were issued. The complaint has been closed.</td>\n",
       "    </tr>\n",
       "    <tr>\n",
       "      <th>1</th>\n",
       "      <td>11212</td>\n",
       "      <td>BROOKLYN</td>\n",
       "      <td>3</td>\n",
       "      <td>283890</td>\n",
       "      <td>14618845</td>\n",
       "      <td>6996145</td>\n",
       "      <td>91</td>\n",
       "      <td>APARTMENT</td>\n",
       "      <td>546</td>\n",
       "      <td>KITCHEN</td>\n",
       "      <td>...</td>\n",
       "      <td>9</td>\n",
       "      <td>PLUMBING</td>\n",
       "      <td>68</td>\n",
       "      <td>WATER SUPPLY</td>\n",
       "      <td>2564</td>\n",
       "      <td>NO WATER</td>\n",
       "      <td>2</td>\n",
       "      <td>CLOSE</td>\n",
       "      <td>2014-08-23</td>\n",
       "      <td>The Department of Housing Preservation and Development inspected the following conditions. Violations were issued. Information about specific violations is available at www.nyc.gov/hpd.</td>\n",
       "    </tr>\n",
       "    <tr>\n",
       "      <th>2</th>\n",
       "      <td>11212</td>\n",
       "      <td>BROOKLYN</td>\n",
       "      <td>3</td>\n",
       "      <td>283890</td>\n",
       "      <td>14618846</td>\n",
       "      <td>6996145</td>\n",
       "      <td>91</td>\n",
       "      <td>APARTMENT</td>\n",
       "      <td>545</td>\n",
       "      <td>ENTRANCE/FOYER</td>\n",
       "      <td>...</td>\n",
       "      <td>56</td>\n",
       "      <td>DOOR/WINDOW</td>\n",
       "      <td>333</td>\n",
       "      <td>DOOR</td>\n",
       "      <td>2664</td>\n",
       "      <td>BROKEN OR MISSING</td>\n",
       "      <td>2</td>\n",
       "      <td>CLOSE</td>\n",
       "      <td>2014-08-23</td>\n",
       "      <td>The Department of Housing Preservation and Development inspected the following conditions. Violations were issued. Information about specific violations is available at www.nyc.gov/hpd.</td>\n",
       "    </tr>\n",
       "    <tr>\n",
       "      <th>3</th>\n",
       "      <td>11212</td>\n",
       "      <td>BROOKLYN</td>\n",
       "      <td>3</td>\n",
       "      <td>283890</td>\n",
       "      <td>14618847</td>\n",
       "      <td>6996145</td>\n",
       "      <td>91</td>\n",
       "      <td>APARTMENT</td>\n",
       "      <td>542</td>\n",
       "      <td>BEDROOM</td>\n",
       "      <td>...</td>\n",
       "      <td>63</td>\n",
       "      <td>UNSANITARY CONDITION</td>\n",
       "      <td>375</td>\n",
       "      <td>MOLD</td>\n",
       "      <td>2817</td>\n",
       "      <td>NaN</td>\n",
       "      <td>2</td>\n",
       "      <td>CLOSE</td>\n",
       "      <td>2014-08-23</td>\n",
       "      <td>The Department of Housing Preservation and Development inspected the following conditions. No violations were issued. The complaint has been closed.</td>\n",
       "    </tr>\n",
       "    <tr>\n",
       "      <th>4</th>\n",
       "      <td>11233</td>\n",
       "      <td>BROOKLYN</td>\n",
       "      <td>3</td>\n",
       "      <td>330347</td>\n",
       "      <td>14585091</td>\n",
       "      <td>6982717</td>\n",
       "      <td>91</td>\n",
       "      <td>APARTMENT</td>\n",
       "      <td>543</td>\n",
       "      <td>ENTIRE APARTMENT</td>\n",
       "      <td>...</td>\n",
       "      <td>59</td>\n",
       "      <td>HEAT/HOT WATER</td>\n",
       "      <td>348</td>\n",
       "      <td>APARTMENT ONLY</td>\n",
       "      <td>2833</td>\n",
       "      <td>NO HEAT AND NO HOT WATER</td>\n",
       "      <td>2</td>\n",
       "      <td>CLOSE</td>\n",
       "      <td>2014-08-05</td>\n",
       "      <td>More than one complaint was received for this building-wide condition.This complaint status is for the initial complaint. The Department of Housing Preservation and Development contacted an occupant of the apartment and verified that the following conditions were corrected. The complaint has been closed. If the condition still exists, please file a new complaint.</td>\n",
       "    </tr>\n",
       "  </tbody>\n",
       "</table>\n",
       "<p>5 rows × 22 columns</p>\n",
       "</div>"
      ],
      "text/plain": [
       "     Zip   Borough  BoroughID  BuildingID  ProblemID  ComplaintID  UnitTypeID  \\\n",
       "0  11233  BROOKLYN  3          219263      14570531   6977738      91           \n",
       "1  11212  BROOKLYN  3          283890      14618845   6996145      91           \n",
       "2  11212  BROOKLYN  3          283890      14618846   6996145      91           \n",
       "3  11212  BROOKLYN  3          283890      14618847   6996145      91           \n",
       "4  11233  BROOKLYN  3          330347      14585091   6982717      91           \n",
       "\n",
       "    UnitType  SpaceTypeID         SpaceType  ...  MajorCategoryID  \\\n",
       "0  APARTMENT  541          BATHROOM          ...  65                \n",
       "1  APARTMENT  546          KITCHEN           ...  9                 \n",
       "2  APARTMENT  545          ENTRANCE/FOYER    ...  56                \n",
       "3  APARTMENT  542          BEDROOM           ...  63                \n",
       "4  APARTMENT  543          ENTIRE APARTMENT  ...  59                \n",
       "\n",
       "          MajorCategory  MinorCategoryID   MinorCategory  CodeID  \\\n",
       "0  WATER LEAK            380              HEAVY FLOW      2828     \n",
       "1  PLUMBING              68               WATER SUPPLY    2564     \n",
       "2  DOOR/WINDOW           333              DOOR            2664     \n",
       "3  UNSANITARY CONDITION  375              MOLD            2817     \n",
       "4  HEAT/HOT WATER        348              APARTMENT ONLY  2833     \n",
       "\n",
       "                       Code  StatusID Status  StatusDate  \\\n",
       "0  AT WALL OR CEILING        2         CLOSE 2014-07-31    \n",
       "1  NO WATER                  2         CLOSE 2014-08-23    \n",
       "2  BROKEN OR MISSING         2         CLOSE 2014-08-23    \n",
       "3  NaN                       2         CLOSE 2014-08-23    \n",
       "4  NO HEAT AND NO HOT WATER  2         CLOSE 2014-08-05    \n",
       "\n",
       "                                                                                                                                                                                                                                                                                                                                                               StatusDescription  \n",
       "0  The Department of Housing Preservation and Development inspected the following conditions. No violations were issued. The complaint has been closed.                                                                                                                                                                                                                           \n",
       "1  The Department of Housing Preservation and Development inspected the following conditions. Violations were issued. Information about specific violations is available at www.nyc.gov/hpd.                                                                                                                                                                                      \n",
       "2  The Department of Housing Preservation and Development inspected the following conditions. Violations were issued. Information about specific violations is available at www.nyc.gov/hpd.                                                                                                                                                                                      \n",
       "3  The Department of Housing Preservation and Development inspected the following conditions. No violations were issued. The complaint has been closed.                                                                                                                                                                                                                           \n",
       "4  More than one complaint was received for this building-wide condition.This complaint status is for the initial complaint. The Department of Housing Preservation and Development contacted an occupant of the apartment and verified that the following conditions were corrected. The complaint has been closed. If the condition still exists, please file a new complaint.  \n",
       "\n",
       "[5 rows x 22 columns]"
      ]
     },
     "execution_count": 2,
     "metadata": {},
     "output_type": "execute_result"
    }
   ],
   "source": [
    "rdbrownsville = pd.read_csv(\"brownsville.csv\", parse_dates=[\"StatusDate\"])\n",
    "pd.set_option('display.max_colwidth', -1)\n",
    "rdbrownsville.head()"
   ]
  },
  {
   "cell_type": "code",
   "execution_count": 3,
   "metadata": {
    "scrolled": true
   },
   "outputs": [
    {
     "data": {
      "text/html": [
       "<div>\n",
       "<style scoped>\n",
       "    .dataframe tbody tr th:only-of-type {\n",
       "        vertical-align: middle;\n",
       "    }\n",
       "\n",
       "    .dataframe tbody tr th {\n",
       "        vertical-align: top;\n",
       "    }\n",
       "\n",
       "    .dataframe thead th {\n",
       "        text-align: right;\n",
       "    }\n",
       "</style>\n",
       "<table border=\"1\" class=\"dataframe\">\n",
       "  <thead>\n",
       "    <tr style=\"text-align: right;\">\n",
       "      <th></th>\n",
       "      <th>Zip</th>\n",
       "      <th>Borough</th>\n",
       "      <th>BoroughID</th>\n",
       "      <th>BuildingID</th>\n",
       "      <th>ProblemID</th>\n",
       "      <th>ComplaintID</th>\n",
       "      <th>UnitTypeID</th>\n",
       "      <th>UnitType</th>\n",
       "      <th>SpaceTypeID</th>\n",
       "      <th>SpaceType</th>\n",
       "      <th>...</th>\n",
       "      <th>MajorCategoryID</th>\n",
       "      <th>MajorCategory</th>\n",
       "      <th>MinorCategoryID</th>\n",
       "      <th>MinorCategory</th>\n",
       "      <th>CodeID</th>\n",
       "      <th>Code</th>\n",
       "      <th>StatusID</th>\n",
       "      <th>Status</th>\n",
       "      <th>StatusDate</th>\n",
       "      <th>StatusDescription</th>\n",
       "    </tr>\n",
       "  </thead>\n",
       "  <tbody>\n",
       "    <tr>\n",
       "      <th>0</th>\n",
       "      <td>11233</td>\n",
       "      <td>BROOKLYN</td>\n",
       "      <td>3</td>\n",
       "      <td>219263</td>\n",
       "      <td>14570531</td>\n",
       "      <td>6977738</td>\n",
       "      <td>91</td>\n",
       "      <td>APARTMENT</td>\n",
       "      <td>541</td>\n",
       "      <td>BATHROOM</td>\n",
       "      <td>...</td>\n",
       "      <td>65</td>\n",
       "      <td>WATER LEAK</td>\n",
       "      <td>380</td>\n",
       "      <td>HEAVY FLOW</td>\n",
       "      <td>2828</td>\n",
       "      <td>AT WALL OR CEILING</td>\n",
       "      <td>2</td>\n",
       "      <td>CLOSE</td>\n",
       "      <td>2014-07-31</td>\n",
       "      <td>The Department of Housing Preservation and Development inspected the following conditions. No violations were issued. The complaint has been closed.</td>\n",
       "    </tr>\n",
       "    <tr>\n",
       "      <th>1</th>\n",
       "      <td>11212</td>\n",
       "      <td>BROOKLYN</td>\n",
       "      <td>3</td>\n",
       "      <td>283890</td>\n",
       "      <td>14618845</td>\n",
       "      <td>6996145</td>\n",
       "      <td>91</td>\n",
       "      <td>APARTMENT</td>\n",
       "      <td>546</td>\n",
       "      <td>KITCHEN</td>\n",
       "      <td>...</td>\n",
       "      <td>9</td>\n",
       "      <td>PLUMBING</td>\n",
       "      <td>68</td>\n",
       "      <td>WATER SUPPLY</td>\n",
       "      <td>2564</td>\n",
       "      <td>NO WATER</td>\n",
       "      <td>2</td>\n",
       "      <td>CLOSE</td>\n",
       "      <td>2014-08-23</td>\n",
       "      <td>The Department of Housing Preservation and Development inspected the following conditions. Violations were issued. Information about specific violations is available at www.nyc.gov/hpd.</td>\n",
       "    </tr>\n",
       "    <tr>\n",
       "      <th>2</th>\n",
       "      <td>11212</td>\n",
       "      <td>BROOKLYN</td>\n",
       "      <td>3</td>\n",
       "      <td>283890</td>\n",
       "      <td>14618846</td>\n",
       "      <td>6996145</td>\n",
       "      <td>91</td>\n",
       "      <td>APARTMENT</td>\n",
       "      <td>545</td>\n",
       "      <td>ENTRANCE/FOYER</td>\n",
       "      <td>...</td>\n",
       "      <td>56</td>\n",
       "      <td>DOOR/WINDOW</td>\n",
       "      <td>333</td>\n",
       "      <td>DOOR</td>\n",
       "      <td>2664</td>\n",
       "      <td>BROKEN OR MISSING</td>\n",
       "      <td>2</td>\n",
       "      <td>CLOSE</td>\n",
       "      <td>2014-08-23</td>\n",
       "      <td>The Department of Housing Preservation and Development inspected the following conditions. Violations were issued. Information about specific violations is available at www.nyc.gov/hpd.</td>\n",
       "    </tr>\n",
       "    <tr>\n",
       "      <th>3</th>\n",
       "      <td>11212</td>\n",
       "      <td>BROOKLYN</td>\n",
       "      <td>3</td>\n",
       "      <td>283890</td>\n",
       "      <td>14618847</td>\n",
       "      <td>6996145</td>\n",
       "      <td>91</td>\n",
       "      <td>APARTMENT</td>\n",
       "      <td>542</td>\n",
       "      <td>BEDROOM</td>\n",
       "      <td>...</td>\n",
       "      <td>63</td>\n",
       "      <td>UNSANITARY CONDITION</td>\n",
       "      <td>375</td>\n",
       "      <td>MOLD</td>\n",
       "      <td>2817</td>\n",
       "      <td>NaN</td>\n",
       "      <td>2</td>\n",
       "      <td>CLOSE</td>\n",
       "      <td>2014-08-23</td>\n",
       "      <td>The Department of Housing Preservation and Development inspected the following conditions. No violations were issued. The complaint has been closed.</td>\n",
       "    </tr>\n",
       "    <tr>\n",
       "      <th>4</th>\n",
       "      <td>11233</td>\n",
       "      <td>BROOKLYN</td>\n",
       "      <td>3</td>\n",
       "      <td>330347</td>\n",
       "      <td>14585091</td>\n",
       "      <td>6982717</td>\n",
       "      <td>91</td>\n",
       "      <td>APARTMENT</td>\n",
       "      <td>543</td>\n",
       "      <td>ENTIRE APARTMENT</td>\n",
       "      <td>...</td>\n",
       "      <td>59</td>\n",
       "      <td>HEAT/HOT WATER</td>\n",
       "      <td>348</td>\n",
       "      <td>APARTMENT ONLY</td>\n",
       "      <td>2833</td>\n",
       "      <td>NO HEAT AND NO HOT WATER</td>\n",
       "      <td>2</td>\n",
       "      <td>CLOSE</td>\n",
       "      <td>2014-08-05</td>\n",
       "      <td>More than one complaint was received for this building-wide condition.This complaint status is for the initial complaint. The Department of Housing Preservation and Development contacted an occupant of the apartment and verified that the following conditions were corrected. The complaint has been closed. If the condition still exists, please file a new complaint.</td>\n",
       "    </tr>\n",
       "    <tr>\n",
       "      <th>...</th>\n",
       "      <td>...</td>\n",
       "      <td>...</td>\n",
       "      <td>...</td>\n",
       "      <td>...</td>\n",
       "      <td>...</td>\n",
       "      <td>...</td>\n",
       "      <td>...</td>\n",
       "      <td>...</td>\n",
       "      <td>...</td>\n",
       "      <td>...</td>\n",
       "      <td>...</td>\n",
       "      <td>...</td>\n",
       "      <td>...</td>\n",
       "      <td>...</td>\n",
       "      <td>...</td>\n",
       "      <td>...</td>\n",
       "      <td>...</td>\n",
       "      <td>...</td>\n",
       "      <td>...</td>\n",
       "      <td>...</td>\n",
       "      <td>...</td>\n",
       "    </tr>\n",
       "    <tr>\n",
       "      <th>37950</th>\n",
       "      <td>11212</td>\n",
       "      <td>BROOKLYN</td>\n",
       "      <td>3</td>\n",
       "      <td>380139</td>\n",
       "      <td>15980886</td>\n",
       "      <td>7716968</td>\n",
       "      <td>91</td>\n",
       "      <td>APARTMENT</td>\n",
       "      <td>546</td>\n",
       "      <td>KITCHEN</td>\n",
       "      <td>...</td>\n",
       "      <td>8</td>\n",
       "      <td>APPLIANCE</td>\n",
       "      <td>321</td>\n",
       "      <td>MICROWAVE</td>\n",
       "      <td>2619</td>\n",
       "      <td>BROKEN OR MISSING</td>\n",
       "      <td>2</td>\n",
       "      <td>CLOSE</td>\n",
       "      <td>2015-12-01</td>\n",
       "      <td>The Department of Housing Preservation and Development inspected the following conditions. A Section 8 Failure was issued. Both the tenant and the property owner will receive a notice in the mail regarding the details of the Failure and the resulting action by the Agency.</td>\n",
       "    </tr>\n",
       "    <tr>\n",
       "      <th>44325</th>\n",
       "      <td>11233</td>\n",
       "      <td>BROOKLYN</td>\n",
       "      <td>3</td>\n",
       "      <td>231197</td>\n",
       "      <td>10027327</td>\n",
       "      <td>5060448</td>\n",
       "      <td>20</td>\n",
       "      <td>APARTMENT</td>\n",
       "      <td>68</td>\n",
       "      <td>ENTIRE APARTMENT</td>\n",
       "      <td>...</td>\n",
       "      <td>10</td>\n",
       "      <td>ELECTRIC</td>\n",
       "      <td>70</td>\n",
       "      <td>ELECTRIC-SUPPLY</td>\n",
       "      <td>2457</td>\n",
       "      <td>NO SUPPLY TO APARTMENT</td>\n",
       "      <td>2</td>\n",
       "      <td>CLOSE</td>\n",
       "      <td>2016-03-18</td>\n",
       "      <td>The Department of Housing Preservation and Development was not able to gain access to inspect the following conditions. The complaint has been closed. If the condition still exists, please file a new complaint.</td>\n",
       "    </tr>\n",
       "    <tr>\n",
       "      <th>118976</th>\n",
       "      <td>11233</td>\n",
       "      <td>BROOKLYN</td>\n",
       "      <td>3</td>\n",
       "      <td>374425</td>\n",
       "      <td>3348129</td>\n",
       "      <td>2170316</td>\n",
       "      <td>24</td>\n",
       "      <td>PUBLIC PAR</td>\n",
       "      <td>187</td>\n",
       "      <td>BASEMENT</td>\n",
       "      <td>...</td>\n",
       "      <td>13</td>\n",
       "      <td>NONCONST</td>\n",
       "      <td>97</td>\n",
       "      <td>ILLEGAL</td>\n",
       "      <td>830</td>\n",
       "      <td>APARTMENT CREATED IN CELLAR/ BASEMENT/ ATTIC</td>\n",
       "      <td>2</td>\n",
       "      <td>CLOSE</td>\n",
       "      <td>2004-04-22</td>\n",
       "      <td>The Department of Housing Preservation and Development was not able to gain access to inspect the following conditions. The complaint has been closed. If the condition still exists, please file a new complaint.</td>\n",
       "    </tr>\n",
       "    <tr>\n",
       "      <th>119063</th>\n",
       "      <td>11233</td>\n",
       "      <td>BROOKLYN</td>\n",
       "      <td>3</td>\n",
       "      <td>374425</td>\n",
       "      <td>3343230</td>\n",
       "      <td>2167196</td>\n",
       "      <td>24</td>\n",
       "      <td>PUBLIC PAR</td>\n",
       "      <td>78</td>\n",
       "      <td>FRONT AREAWAY</td>\n",
       "      <td>...</td>\n",
       "      <td>11</td>\n",
       "      <td>GENERAL</td>\n",
       "      <td>87</td>\n",
       "      <td>STAIRS</td>\n",
       "      <td>770</td>\n",
       "      <td>BROKEN</td>\n",
       "      <td>2</td>\n",
       "      <td>CLOSE</td>\n",
       "      <td>2004-01-16</td>\n",
       "      <td>The Department of Housing Preservation and Development inspected the following conditions. Violations were previously issued for these conditions. Information about specific violations is available at www.nyc.gov/hpd.</td>\n",
       "    </tr>\n",
       "    <tr>\n",
       "      <th>139511</th>\n",
       "      <td>11233</td>\n",
       "      <td>BROOKLYN</td>\n",
       "      <td>3</td>\n",
       "      <td>218999</td>\n",
       "      <td>10426481</td>\n",
       "      <td>5199096</td>\n",
       "      <td>29</td>\n",
       "      <td>BUILDING</td>\n",
       "      <td>148</td>\n",
       "      <td>ENTIRE BUILDING</td>\n",
       "      <td>...</td>\n",
       "      <td>12</td>\n",
       "      <td>HEATING</td>\n",
       "      <td>92</td>\n",
       "      <td>HEAT-PLANT</td>\n",
       "      <td>2500</td>\n",
       "      <td>BOILER INOPERATIVE / MISSING</td>\n",
       "      <td>2</td>\n",
       "      <td>CLOSE</td>\n",
       "      <td>2010-12-06</td>\n",
       "      <td>The Department of Housing Preservation and Development contacted an occupant of the apartment and verified that the following conditions were corrected. The complaint has been closed. If the condition still exists, please file a new complaint.</td>\n",
       "    </tr>\n",
       "  </tbody>\n",
       "</table>\n",
       "<p>74 rows × 22 columns</p>\n",
       "</div>"
      ],
      "text/plain": [
       "          Zip   Borough  BoroughID  BuildingID  ProblemID  ComplaintID  \\\n",
       "0       11233  BROOKLYN  3          219263      14570531   6977738       \n",
       "1       11212  BROOKLYN  3          283890      14618845   6996145       \n",
       "2       11212  BROOKLYN  3          283890      14618846   6996145       \n",
       "3       11212  BROOKLYN  3          283890      14618847   6996145       \n",
       "4       11233  BROOKLYN  3          330347      14585091   6982717       \n",
       "...       ...       ... ..             ...           ...       ...       \n",
       "37950   11212  BROOKLYN  3          380139      15980886   7716968       \n",
       "44325   11233  BROOKLYN  3          231197      10027327   5060448       \n",
       "118976  11233  BROOKLYN  3          374425      3348129    2170316       \n",
       "119063  11233  BROOKLYN  3          374425      3343230    2167196       \n",
       "139511  11233  BROOKLYN  3          218999      10426481   5199096       \n",
       "\n",
       "        UnitTypeID    UnitType  SpaceTypeID         SpaceType  ...  \\\n",
       "0       91          APARTMENT   541          BATHROOM          ...   \n",
       "1       91          APARTMENT   546          KITCHEN           ...   \n",
       "2       91          APARTMENT   545          ENTRANCE/FOYER    ...   \n",
       "3       91          APARTMENT   542          BEDROOM           ...   \n",
       "4       91          APARTMENT   543          ENTIRE APARTMENT  ...   \n",
       "...     ..                ...   ...                       ...  ...   \n",
       "37950   91          APARTMENT   546          KITCHEN           ...   \n",
       "44325   20          APARTMENT   68           ENTIRE APARTMENT  ...   \n",
       "118976  24          PUBLIC PAR  187          BASEMENT          ...   \n",
       "119063  24          PUBLIC PAR  78           FRONT AREAWAY     ...   \n",
       "139511  29          BUILDING    148          ENTIRE BUILDING   ...   \n",
       "\n",
       "        MajorCategoryID         MajorCategory  MinorCategoryID  \\\n",
       "0       65               WATER LEAK            380               \n",
       "1       9                PLUMBING              68                \n",
       "2       56               DOOR/WINDOW           333               \n",
       "3       63               UNSANITARY CONDITION  375               \n",
       "4       59               HEAT/HOT WATER        348               \n",
       "...     ..                          ...        ...               \n",
       "37950   8                APPLIANCE             321               \n",
       "44325   10               ELECTRIC              70                \n",
       "118976  13               NONCONST              97                \n",
       "119063  11               GENERAL               87                \n",
       "139511  12               HEATING               92                \n",
       "\n",
       "          MinorCategory  CodeID                                          Code  \\\n",
       "0       HEAVY FLOW       2828    AT WALL OR CEILING                             \n",
       "1       WATER SUPPLY     2564    NO WATER                                       \n",
       "2       DOOR             2664    BROKEN OR MISSING                              \n",
       "3       MOLD             2817    NaN                                            \n",
       "4       APARTMENT ONLY   2833    NO HEAT AND NO HOT WATER                       \n",
       "...                ...    ...                         ...                       \n",
       "37950   MICROWAVE        2619    BROKEN OR MISSING                              \n",
       "44325   ELECTRIC-SUPPLY  2457    NO SUPPLY TO APARTMENT                         \n",
       "118976  ILLEGAL          830     APARTMENT CREATED IN CELLAR/ BASEMENT/ ATTIC   \n",
       "119063  STAIRS           770     BROKEN                                         \n",
       "139511  HEAT-PLANT       2500    BOILER INOPERATIVE / MISSING                   \n",
       "\n",
       "        StatusID Status  StatusDate  \\\n",
       "0       2         CLOSE 2014-07-31    \n",
       "1       2         CLOSE 2014-08-23    \n",
       "2       2         CLOSE 2014-08-23    \n",
       "3       2         CLOSE 2014-08-23    \n",
       "4       2         CLOSE 2014-08-05    \n",
       "...    ..           ...        ...    \n",
       "37950   2         CLOSE 2015-12-01    \n",
       "44325   2         CLOSE 2016-03-18    \n",
       "118976  2         CLOSE 2004-04-22    \n",
       "119063  2         CLOSE 2004-01-16    \n",
       "139511  2         CLOSE 2010-12-06    \n",
       "\n",
       "                                                                                                                                                                                                                                                                                                                                                                    StatusDescription  \n",
       "0       The Department of Housing Preservation and Development inspected the following conditions. No violations were issued. The complaint has been closed.                                                                                                                                                                                                                           \n",
       "1       The Department of Housing Preservation and Development inspected the following conditions. Violations were issued. Information about specific violations is available at www.nyc.gov/hpd.                                                                                                                                                                                      \n",
       "2       The Department of Housing Preservation and Development inspected the following conditions. Violations were issued. Information about specific violations is available at www.nyc.gov/hpd.                                                                                                                                                                                      \n",
       "3       The Department of Housing Preservation and Development inspected the following conditions. No violations were issued. The complaint has been closed.                                                                                                                                                                                                                           \n",
       "4       More than one complaint was received for this building-wide condition.This complaint status is for the initial complaint. The Department of Housing Preservation and Development contacted an occupant of the apartment and verified that the following conditions were corrected. The complaint has been closed. If the condition still exists, please file a new complaint.  \n",
       "...                                                                                                                                                                                                                                                                                                                                                                               ...  \n",
       "37950   The Department of Housing Preservation and Development inspected the following conditions. A Section 8 Failure was issued. Both the tenant and the property owner will receive a notice in the mail regarding the details of the Failure and the resulting action by the Agency.                                                                                               \n",
       "44325   The Department of Housing Preservation and Development was not able to gain access to inspect the following conditions. The complaint has been closed. If the condition still exists, please file a new complaint.                                                                                                                                                             \n",
       "118976  The Department of Housing Preservation and Development was not able to gain access to inspect the following conditions. The complaint has been closed. If the condition still exists, please file a new complaint.                                                                                                                                                             \n",
       "119063  The Department of Housing Preservation and Development inspected the following conditions. Violations were previously issued for these conditions. Information about specific violations is available at www.nyc.gov/hpd.                                                                                                                                                      \n",
       "139511  The Department of Housing Preservation and Development contacted an occupant of the apartment and verified that the following conditions were corrected. The complaint has been closed. If the condition still exists, please file a new complaint.                                                                                                                            \n",
       "\n",
       "[74 rows x 22 columns]"
      ]
     },
     "execution_count": 3,
     "metadata": {},
     "output_type": "execute_result"
    }
   ],
   "source": [
    "rdbrownsville.drop_duplicates(subset=[\"MajorCategory\", \"MinorCategory\"], keep='first', inplace=False)"
   ]
  },
  {
   "cell_type": "code",
   "execution_count": 4,
   "metadata": {},
   "outputs": [
    {
     "data": {
      "text/html": [
       "<div>\n",
       "<style scoped>\n",
       "    .dataframe tbody tr th:only-of-type {\n",
       "        vertical-align: middle;\n",
       "    }\n",
       "\n",
       "    .dataframe tbody tr th {\n",
       "        vertical-align: top;\n",
       "    }\n",
       "\n",
       "    .dataframe thead th {\n",
       "        text-align: right;\n",
       "    }\n",
       "</style>\n",
       "<table border=\"1\" class=\"dataframe\">\n",
       "  <thead>\n",
       "    <tr style=\"text-align: right;\">\n",
       "      <th></th>\n",
       "      <th>Zip</th>\n",
       "      <th>Borough</th>\n",
       "      <th>BoroughID</th>\n",
       "      <th>BuildingID</th>\n",
       "      <th>ProblemID</th>\n",
       "      <th>ComplaintID</th>\n",
       "      <th>UnitTypeID</th>\n",
       "      <th>UnitType</th>\n",
       "      <th>SpaceTypeID</th>\n",
       "      <th>SpaceType</th>\n",
       "      <th>...</th>\n",
       "      <th>MajorCategoryID</th>\n",
       "      <th>MajorCategory</th>\n",
       "      <th>MinorCategoryID</th>\n",
       "      <th>MinorCategory</th>\n",
       "      <th>CodeID</th>\n",
       "      <th>Code</th>\n",
       "      <th>StatusID</th>\n",
       "      <th>Status</th>\n",
       "      <th>StatusDate</th>\n",
       "      <th>StatusDescription</th>\n",
       "    </tr>\n",
       "  </thead>\n",
       "  <tbody>\n",
       "    <tr>\n",
       "      <th>0</th>\n",
       "      <td>11233</td>\n",
       "      <td>BROOKLYN</td>\n",
       "      <td>3</td>\n",
       "      <td>219263</td>\n",
       "      <td>14570531</td>\n",
       "      <td>6977738</td>\n",
       "      <td>91</td>\n",
       "      <td>APARTMENT</td>\n",
       "      <td>541</td>\n",
       "      <td>BATHROOM</td>\n",
       "      <td>...</td>\n",
       "      <td>65</td>\n",
       "      <td>WATER LEAK</td>\n",
       "      <td>380</td>\n",
       "      <td>HEAVY FLOW</td>\n",
       "      <td>2828</td>\n",
       "      <td>AT WALL OR CEILING</td>\n",
       "      <td>2</td>\n",
       "      <td>CLOSE</td>\n",
       "      <td>2014-07-31</td>\n",
       "      <td>The Department of Housing Preservation and Development inspected the following conditions. No violations were issued. The complaint has been closed.</td>\n",
       "    </tr>\n",
       "    <tr>\n",
       "      <th>1</th>\n",
       "      <td>11212</td>\n",
       "      <td>BROOKLYN</td>\n",
       "      <td>3</td>\n",
       "      <td>283890</td>\n",
       "      <td>14618845</td>\n",
       "      <td>6996145</td>\n",
       "      <td>91</td>\n",
       "      <td>APARTMENT</td>\n",
       "      <td>546</td>\n",
       "      <td>KITCHEN</td>\n",
       "      <td>...</td>\n",
       "      <td>9</td>\n",
       "      <td>PLUMBING</td>\n",
       "      <td>68</td>\n",
       "      <td>WATER SUPPLY</td>\n",
       "      <td>2564</td>\n",
       "      <td>NO WATER</td>\n",
       "      <td>2</td>\n",
       "      <td>CLOSE</td>\n",
       "      <td>2014-08-23</td>\n",
       "      <td>The Department of Housing Preservation and Development inspected the following conditions. Violations were issued. Information about specific violations is available at www.nyc.gov/hpd.</td>\n",
       "    </tr>\n",
       "    <tr>\n",
       "      <th>2</th>\n",
       "      <td>11212</td>\n",
       "      <td>BROOKLYN</td>\n",
       "      <td>3</td>\n",
       "      <td>283890</td>\n",
       "      <td>14618846</td>\n",
       "      <td>6996145</td>\n",
       "      <td>91</td>\n",
       "      <td>APARTMENT</td>\n",
       "      <td>545</td>\n",
       "      <td>ENTRANCE/FOYER</td>\n",
       "      <td>...</td>\n",
       "      <td>56</td>\n",
       "      <td>DOOR/WINDOW</td>\n",
       "      <td>333</td>\n",
       "      <td>DOOR</td>\n",
       "      <td>2664</td>\n",
       "      <td>BROKEN OR MISSING</td>\n",
       "      <td>2</td>\n",
       "      <td>CLOSE</td>\n",
       "      <td>2014-08-23</td>\n",
       "      <td>The Department of Housing Preservation and Development inspected the following conditions. Violations were issued. Information about specific violations is available at www.nyc.gov/hpd.</td>\n",
       "    </tr>\n",
       "    <tr>\n",
       "      <th>4</th>\n",
       "      <td>11233</td>\n",
       "      <td>BROOKLYN</td>\n",
       "      <td>3</td>\n",
       "      <td>330347</td>\n",
       "      <td>14585091</td>\n",
       "      <td>6982717</td>\n",
       "      <td>91</td>\n",
       "      <td>APARTMENT</td>\n",
       "      <td>543</td>\n",
       "      <td>ENTIRE APARTMENT</td>\n",
       "      <td>...</td>\n",
       "      <td>59</td>\n",
       "      <td>HEAT/HOT WATER</td>\n",
       "      <td>348</td>\n",
       "      <td>APARTMENT ONLY</td>\n",
       "      <td>2833</td>\n",
       "      <td>NO HEAT AND NO HOT WATER</td>\n",
       "      <td>2</td>\n",
       "      <td>CLOSE</td>\n",
       "      <td>2014-08-05</td>\n",
       "      <td>More than one complaint was received for this building-wide condition.This complaint status is for the initial complaint. The Department of Housing Preservation and Development contacted an occupant of the apartment and verified that the following conditions were corrected. The complaint has been closed. If the condition still exists, please file a new complaint.</td>\n",
       "    </tr>\n",
       "    <tr>\n",
       "      <th>5</th>\n",
       "      <td>11212</td>\n",
       "      <td>BROOKLYN</td>\n",
       "      <td>3</td>\n",
       "      <td>184244</td>\n",
       "      <td>15256017</td>\n",
       "      <td>7370258</td>\n",
       "      <td>91</td>\n",
       "      <td>APARTMENT</td>\n",
       "      <td>541</td>\n",
       "      <td>BATHROOM</td>\n",
       "      <td>...</td>\n",
       "      <td>65</td>\n",
       "      <td>WATER LEAK</td>\n",
       "      <td>380</td>\n",
       "      <td>HEAVY FLOW</td>\n",
       "      <td>2828</td>\n",
       "      <td>AT WALL OR CEILING</td>\n",
       "      <td>2</td>\n",
       "      <td>CLOSE</td>\n",
       "      <td>2015-03-22</td>\n",
       "      <td>The Department of Housing Preservation and Development inspected the following conditions. Violations were issued. Information about specific violations is available at www.nyc.gov/hpd.</td>\n",
       "    </tr>\n",
       "    <tr>\n",
       "      <th>...</th>\n",
       "      <td>...</td>\n",
       "      <td>...</td>\n",
       "      <td>...</td>\n",
       "      <td>...</td>\n",
       "      <td>...</td>\n",
       "      <td>...</td>\n",
       "      <td>...</td>\n",
       "      <td>...</td>\n",
       "      <td>...</td>\n",
       "      <td>...</td>\n",
       "      <td>...</td>\n",
       "      <td>...</td>\n",
       "      <td>...</td>\n",
       "      <td>...</td>\n",
       "      <td>...</td>\n",
       "      <td>...</td>\n",
       "      <td>...</td>\n",
       "      <td>...</td>\n",
       "      <td>...</td>\n",
       "      <td>...</td>\n",
       "      <td>...</td>\n",
       "    </tr>\n",
       "    <tr>\n",
       "      <th>143682</th>\n",
       "      <td>11212</td>\n",
       "      <td>BROOKLYN</td>\n",
       "      <td>3</td>\n",
       "      <td>309623</td>\n",
       "      <td>21541551</td>\n",
       "      <td>10701702</td>\n",
       "      <td>91</td>\n",
       "      <td>APARTMENT</td>\n",
       "      <td>546</td>\n",
       "      <td>KITCHEN</td>\n",
       "      <td>...</td>\n",
       "      <td>8</td>\n",
       "      <td>APPLIANCE</td>\n",
       "      <td>61</td>\n",
       "      <td>REFRIGERATOR</td>\n",
       "      <td>2622</td>\n",
       "      <td>BROKEN DOOR SEAL</td>\n",
       "      <td>1</td>\n",
       "      <td>OPEN</td>\n",
       "      <td>2021-04-30</td>\n",
       "      <td>The following complaint conditions are still open. HPD may attempt to contact you to verify the correction of the condition or may conduct an inspection.</td>\n",
       "    </tr>\n",
       "    <tr>\n",
       "      <th>143683</th>\n",
       "      <td>11212</td>\n",
       "      <td>BROOKLYN</td>\n",
       "      <td>3</td>\n",
       "      <td>309623</td>\n",
       "      <td>21541552</td>\n",
       "      <td>10701702</td>\n",
       "      <td>91</td>\n",
       "      <td>APARTMENT</td>\n",
       "      <td>543</td>\n",
       "      <td>ENTIRE APARTMENT</td>\n",
       "      <td>...</td>\n",
       "      <td>65</td>\n",
       "      <td>WATER LEAK</td>\n",
       "      <td>381</td>\n",
       "      <td>SLOW LEAK</td>\n",
       "      <td>2831</td>\n",
       "      <td>AT WALL OR CEILING</td>\n",
       "      <td>1</td>\n",
       "      <td>OPEN</td>\n",
       "      <td>2021-04-30</td>\n",
       "      <td>The following complaint conditions are still open. HPD may attempt to contact you to verify the correction of the condition or may conduct an inspection.</td>\n",
       "    </tr>\n",
       "    <tr>\n",
       "      <th>143684</th>\n",
       "      <td>11212</td>\n",
       "      <td>BROOKLYN</td>\n",
       "      <td>3</td>\n",
       "      <td>309623</td>\n",
       "      <td>21541553</td>\n",
       "      <td>10701702</td>\n",
       "      <td>91</td>\n",
       "      <td>APARTMENT</td>\n",
       "      <td>543</td>\n",
       "      <td>ENTIRE APARTMENT</td>\n",
       "      <td>...</td>\n",
       "      <td>28</td>\n",
       "      <td>PAINT/PLASTER</td>\n",
       "      <td>198</td>\n",
       "      <td>WALL</td>\n",
       "      <td>1364</td>\n",
       "      <td>BULGING/HOLE/CRACKED</td>\n",
       "      <td>1</td>\n",
       "      <td>OPEN</td>\n",
       "      <td>2021-04-30</td>\n",
       "      <td>The following complaint conditions are still open. HPD may attempt to contact you to verify the correction of the condition or may conduct an inspection.</td>\n",
       "    </tr>\n",
       "    <tr>\n",
       "      <th>143685</th>\n",
       "      <td>11233</td>\n",
       "      <td>BROOKLYN</td>\n",
       "      <td>3</td>\n",
       "      <td>364106</td>\n",
       "      <td>21541604</td>\n",
       "      <td>10701726</td>\n",
       "      <td>92</td>\n",
       "      <td>BUILDING-WIDE</td>\n",
       "      <td>550</td>\n",
       "      <td>BUILDING-WIDE</td>\n",
       "      <td>...</td>\n",
       "      <td>63</td>\n",
       "      <td>UNSANITARY CONDITION</td>\n",
       "      <td>374</td>\n",
       "      <td>GARBAGE/RECYCLING STORAGE</td>\n",
       "      <td>2816</td>\n",
       "      <td>MISSING OR INADEQUATE CANS/LID</td>\n",
       "      <td>1</td>\n",
       "      <td>OPEN</td>\n",
       "      <td>2021-04-30</td>\n",
       "      <td>The following complaint conditions are still open. HPD may attempt to contact you to verify the correction of the condition or may conduct an inspection.</td>\n",
       "    </tr>\n",
       "    <tr>\n",
       "      <th>143686</th>\n",
       "      <td>11233</td>\n",
       "      <td>BROOKLYN</td>\n",
       "      <td>3</td>\n",
       "      <td>349937</td>\n",
       "      <td>21542153</td>\n",
       "      <td>10701883</td>\n",
       "      <td>93</td>\n",
       "      <td>PUBLIC AREA</td>\n",
       "      <td>569</td>\n",
       "      <td>LOBBY</td>\n",
       "      <td>...</td>\n",
       "      <td>63</td>\n",
       "      <td>UNSANITARY CONDITION</td>\n",
       "      <td>374</td>\n",
       "      <td>GARBAGE/RECYCLING STORAGE</td>\n",
       "      <td>2813</td>\n",
       "      <td>ACCUMULATION</td>\n",
       "      <td>1</td>\n",
       "      <td>OPEN</td>\n",
       "      <td>2021-04-30</td>\n",
       "      <td>The following complaint conditions are still open. HPD may attempt to contact you to verify the correction of the condition or may conduct an inspection.</td>\n",
       "    </tr>\n",
       "  </tbody>\n",
       "</table>\n",
       "<p>135893 rows × 22 columns</p>\n",
       "</div>"
      ],
      "text/plain": [
       "          Zip   Borough  BoroughID  BuildingID  ProblemID  ComplaintID  \\\n",
       "0       11233  BROOKLYN  3          219263      14570531   6977738       \n",
       "1       11212  BROOKLYN  3          283890      14618845   6996145       \n",
       "2       11212  BROOKLYN  3          283890      14618846   6996145       \n",
       "4       11233  BROOKLYN  3          330347      14585091   6982717       \n",
       "5       11212  BROOKLYN  3          184244      15256017   7370258       \n",
       "...       ...       ... ..             ...           ...       ...       \n",
       "143682  11212  BROOKLYN  3          309623      21541551   10701702      \n",
       "143683  11212  BROOKLYN  3          309623      21541552   10701702      \n",
       "143684  11212  BROOKLYN  3          309623      21541553   10701702      \n",
       "143685  11233  BROOKLYN  3          364106      21541604   10701726      \n",
       "143686  11233  BROOKLYN  3          349937      21542153   10701883      \n",
       "\n",
       "        UnitTypeID       UnitType  SpaceTypeID         SpaceType  ...  \\\n",
       "0       91          APARTMENT      541          BATHROOM          ...   \n",
       "1       91          APARTMENT      546          KITCHEN           ...   \n",
       "2       91          APARTMENT      545          ENTRANCE/FOYER    ...   \n",
       "4       91          APARTMENT      543          ENTIRE APARTMENT  ...   \n",
       "5       91          APARTMENT      541          BATHROOM          ...   \n",
       "...     ..                ...      ...               ...          ...   \n",
       "143682  91          APARTMENT      546          KITCHEN           ...   \n",
       "143683  91          APARTMENT      543          ENTIRE APARTMENT  ...   \n",
       "143684  91          APARTMENT      543          ENTIRE APARTMENT  ...   \n",
       "143685  92          BUILDING-WIDE  550          BUILDING-WIDE     ...   \n",
       "143686  93          PUBLIC AREA    569          LOBBY             ...   \n",
       "\n",
       "        MajorCategoryID         MajorCategory  MinorCategoryID  \\\n",
       "0       65               WATER LEAK            380               \n",
       "1       9                PLUMBING              68                \n",
       "2       56               DOOR/WINDOW           333               \n",
       "4       59               HEAT/HOT WATER        348               \n",
       "5       65               WATER LEAK            380               \n",
       "...     ..                      ...            ...               \n",
       "143682  8                APPLIANCE             61                \n",
       "143683  65               WATER LEAK            381               \n",
       "143684  28               PAINT/PLASTER         198               \n",
       "143685  63               UNSANITARY CONDITION  374               \n",
       "143686  63               UNSANITARY CONDITION  374               \n",
       "\n",
       "                    MinorCategory  CodeID                            Code  \\\n",
       "0       HEAVY FLOW                 2828    AT WALL OR CEILING               \n",
       "1       WATER SUPPLY               2564    NO WATER                         \n",
       "2       DOOR                       2664    BROKEN OR MISSING                \n",
       "4       APARTMENT ONLY             2833    NO HEAT AND NO HOT WATER         \n",
       "5       HEAVY FLOW                 2828    AT WALL OR CEILING               \n",
       "...            ...                  ...                   ...               \n",
       "143682  REFRIGERATOR               2622    BROKEN DOOR SEAL                 \n",
       "143683  SLOW LEAK                  2831    AT WALL OR CEILING               \n",
       "143684  WALL                       1364    BULGING/HOLE/CRACKED             \n",
       "143685  GARBAGE/RECYCLING STORAGE  2816    MISSING OR INADEQUATE CANS/LID   \n",
       "143686  GARBAGE/RECYCLING STORAGE  2813    ACCUMULATION                     \n",
       "\n",
       "        StatusID Status  StatusDate  \\\n",
       "0       2         CLOSE 2014-07-31    \n",
       "1       2         CLOSE 2014-08-23    \n",
       "2       2         CLOSE 2014-08-23    \n",
       "4       2         CLOSE 2014-08-05    \n",
       "5       2         CLOSE 2015-03-22    \n",
       "...    ..           ...        ...    \n",
       "143682  1         OPEN  2021-04-30    \n",
       "143683  1         OPEN  2021-04-30    \n",
       "143684  1         OPEN  2021-04-30    \n",
       "143685  1         OPEN  2021-04-30    \n",
       "143686  1         OPEN  2021-04-30    \n",
       "\n",
       "                                                                                                                                                                                                                                                                                                                                                                    StatusDescription  \n",
       "0       The Department of Housing Preservation and Development inspected the following conditions. No violations were issued. The complaint has been closed.                                                                                                                                                                                                                           \n",
       "1       The Department of Housing Preservation and Development inspected the following conditions. Violations were issued. Information about specific violations is available at www.nyc.gov/hpd.                                                                                                                                                                                      \n",
       "2       The Department of Housing Preservation and Development inspected the following conditions. Violations were issued. Information about specific violations is available at www.nyc.gov/hpd.                                                                                                                                                                                      \n",
       "4       More than one complaint was received for this building-wide condition.This complaint status is for the initial complaint. The Department of Housing Preservation and Development contacted an occupant of the apartment and verified that the following conditions were corrected. The complaint has been closed. If the condition still exists, please file a new complaint.  \n",
       "5       The Department of Housing Preservation and Development inspected the following conditions. Violations were issued. Information about specific violations is available at www.nyc.gov/hpd.                                                                                                                                                                                      \n",
       "...                                                                                                                                                                                           ...                                                                                                                                                                                      \n",
       "143682  The following complaint conditions are still open. HPD may attempt to contact you to verify the correction of the condition or may conduct an inspection.                                                                                                                                                                                                                      \n",
       "143683  The following complaint conditions are still open. HPD may attempt to contact you to verify the correction of the condition or may conduct an inspection.                                                                                                                                                                                                                      \n",
       "143684  The following complaint conditions are still open. HPD may attempt to contact you to verify the correction of the condition or may conduct an inspection.                                                                                                                                                                                                                      \n",
       "143685  The following complaint conditions are still open. HPD may attempt to contact you to verify the correction of the condition or may conduct an inspection.                                                                                                                                                                                                                      \n",
       "143686  The following complaint conditions are still open. HPD may attempt to contact you to verify the correction of the condition or may conduct an inspection.                                                                                                                                                                                                                      \n",
       "\n",
       "[135893 rows x 22 columns]"
      ]
     },
     "execution_count": 4,
     "metadata": {},
     "output_type": "execute_result"
    }
   ],
   "source": [
    "rdbrownsville.dropna()"
   ]
  },
  {
   "cell_type": "markdown",
   "metadata": {},
   "source": [
    "Loaded up libraries, dataset, removed duplicates and removed N/A rows. "
   ]
  },
  {
   "cell_type": "markdown",
   "metadata": {},
   "source": [
    "-----------------------"
   ]
  },
  {
   "cell_type": "markdown",
   "metadata": {},
   "source": [
    "Checking the Major Categories column"
   ]
  },
  {
   "cell_type": "code",
   "execution_count": 5,
   "metadata": {},
   "outputs": [],
   "source": [
    "sorted_cat = rdbrownsville.sort_values(\"MajorCategory\", ascending = True)"
   ]
  },
  {
   "cell_type": "code",
   "execution_count": 6,
   "metadata": {},
   "outputs": [
    {
     "data": {
      "text/plain": [
       "HEAT/HOT WATER          40541\n",
       "UNSANITARY CONDITION    22167\n",
       "PAINT/PLASTER           15047\n",
       "PLUMBING                14308\n",
       "DOOR/WINDOW             11524\n",
       "WATER LEAK              9077 \n",
       "ELECTRIC                7831 \n",
       "GENERAL                 6671 \n",
       "FLOORING/STAIRS         6457 \n",
       "SAFETY                  4990 \n",
       "APPLIANCE               4246 \n",
       "OUTSIDE BUILDING        648  \n",
       "ELEVATOR                96   \n",
       "HEATING                 74   \n",
       "NONCONST                9    \n",
       "CONSTRUCTION            1    \n",
       "Name: MajorCategory, dtype: int64"
      ]
     },
     "execution_count": 6,
     "metadata": {},
     "output_type": "execute_result"
    }
   ],
   "source": [
    "rdbrownsville[\"MajorCategory\"].value_counts()"
   ]
  },
  {
   "cell_type": "code",
   "execution_count": 7,
   "metadata": {},
   "outputs": [
    {
     "data": {
      "text/plain": [
       "Text(0.5, 0, 'Issue')"
      ]
     },
     "execution_count": 7,
     "metadata": {},
     "output_type": "execute_result"
    },
    {
     "data": {
      "image/png": "[encoded data removed]",
      "text/plain": [
       "<Figure size 432x288 with 1 Axes>"
      ]
     },
     "metadata": {
      "needs_background": "light"
     },
     "output_type": "display_data"
    }
   ],
   "source": [
    "majorcat_values = rdbrownsville[\"MajorCategory\"].value_counts().head(10)\n",
    "majorcat_values.plot(kind = \"bar\")\n",
    "plt.title(\"Top MajorCategory Complaints 2014-2021\")\n",
    "plt.ylabel(\"Number of Reports\")\n",
    "plt.xlabel(\"Issue\")"
   ]
  },
  {
   "cell_type": "markdown",
   "metadata": {},
   "source": [
    "After cleaning and ordering, the top categories in the MajorCategory column are \"HEAT/HOT WATER\", \"UNSANITARY CONDITION\", \"PAINT/PLATER\", \"PLUMBING\" and \"DOOR/WINDOW\". Some of these are vague or unclear, need to check those against the MinorCategory column.  Made a bar chart to show all major categories. "
   ]
  },
  {
   "cell_type": "markdown",
   "metadata": {},
   "source": [
    "--------------"
   ]
  },
  {
   "cell_type": "markdown",
   "metadata": {},
   "source": [
    "Checking the Minor Category column."
   ]
  },
  {
   "cell_type": "code",
   "execution_count": 8,
   "metadata": {},
   "outputs": [],
   "source": [
    "mincat = rdbrownsville.sort_values(by='MinorCategory').reset_index(drop=True)"
   ]
  },
  {
   "cell_type": "code",
   "execution_count": 9,
   "metadata": {},
   "outputs": [
    {
     "data": {
      "text/plain": [
       "ENTIRE BUILDING    22995\n",
       "APARTMENT ONLY     17546\n",
       "PESTS              12176\n",
       "WALL               7662 \n",
       "MOLD               7019 \n",
       "CEILING            6785 \n",
       "DOOR               6075 \n",
       "FLOOR              5987 \n",
       "BASIN/SINK         4441 \n",
       "HEAVY FLOW         4278 \n",
       "Name: MinorCategory, dtype: int64"
      ]
     },
     "execution_count": 9,
     "metadata": {},
     "output_type": "execute_result"
    }
   ],
   "source": [
    "rdbrownsville[\"MinorCategory\"].value_counts().head(10)"
   ]
  },
  {
   "cell_type": "code",
   "execution_count": 10,
   "metadata": {},
   "outputs": [
    {
     "data": {
      "text/plain": [
       "Text(0.5, 0, 'Issue Description')"
      ]
     },
     "execution_count": 10,
     "metadata": {},
     "output_type": "execute_result"
    },
    {
     "data": {
      "image/png": "[encoded data removed]",
      "text/plain": [
       "<Figure size 432x288 with 1 Axes>"
      ]
     },
     "metadata": {
      "needs_background": "light"
     },
     "output_type": "display_data"
    }
   ],
   "source": [
    "minorcat_values = rdbrownsville[\"MinorCategory\"].value_counts().head(10)\n",
    "minorcat_values.plot(kind = \"bar\")\n",
    "plt.title(\"Top MinorCategory Complaints 2014-2021\")\n",
    "plt.ylabel(\"Number of Reports\")\n",
    "plt.xlabel(\"Issue Description\")"
   ]
  },
  {
   "cell_type": "markdown",
   "metadata": {},
   "source": [
    "Checking the Minor Category, the top issues are \"ENTIRE BUILDING\", \"APARTMENT ONLY\", \"PESTS\", \"WALL\" and \"MOLD\". Some of these are unclear(\"ENTIRE BUILDING\", APARTMENT ONLY\"), need to clarify those. Made a bar chart with the top 10 categories, as doing all of them would make the chart hard to read."
   ]
  },
  {
   "cell_type": "markdown",
   "metadata": {},
   "source": [
    "------------------"
   ]
  },
  {
   "cell_type": "markdown",
   "metadata": {},
   "source": [
    "Checking building IDs to see which is the most frequently show in the dataset."
   ]
  },
  {
   "cell_type": "code",
   "execution_count": 11,
   "metadata": {},
   "outputs": [
    {
     "data": {
      "text/plain": [
       "808361    5152\n",
       "309623    1463\n",
       "329071    1426\n",
       "287185    1421\n",
       "334864    1324\n",
       "          ... \n",
       "992802    1   \n",
       "863414    1   \n",
       "349804    1   \n",
       "307281    1   \n",
       "362545    1   \n",
       "Name: BuildingID, Length: 4653, dtype: int64"
      ]
     },
     "execution_count": 11,
     "metadata": {},
     "output_type": "execute_result"
    }
   ],
   "source": [
    "rdbrownsville[\"BuildingID\"].value_counts()"
   ]
  },
  {
   "cell_type": "code",
   "execution_count": 12,
   "metadata": {},
   "outputs": [
    {
     "data": {
      "text/plain": [
       "Text(0.5, 0, 'Building ID')"
      ]
     },
     "execution_count": 12,
     "metadata": {},
     "output_type": "execute_result"
    },
    {
     "data": {
      "image/png": "[encoded data removed]",
      "text/plain": [
       "<Figure size 432x288 with 1 Axes>"
      ]
     },
     "metadata": {
      "needs_background": "light"
     },
     "output_type": "display_data"
    }
   ],
   "source": [
    "build_values = rdbrownsville[\"BuildingID\"].value_counts().head(10)\n",
    "build_values.plot(kind = \"bar\")\n",
    "plt.title(\"Top Buildings with Complaints Reported 2014-2021\")\n",
    "plt.ylabel(\"Number of Reports\")\n",
    "plt.xlabel(\"Building ID\")"
   ]
  },
  {
   "cell_type": "markdown",
   "metadata": {},
   "source": [
    "The building with the most complaints in this version of the dataset are:<br>\n",
    "808361 - 1711 Fulton Street<br>\n",
    "309623 - 7 Hegeman Avenue<br>\n",
    "329071 - 210 Lott Avenue<br>\n",
    "287185 - 1064 East New York Avenue<br>\n",
    "334864 - 706 MacDonough Street<br>\n",
    "362955 - 9401 Seaview Avenue<br>\n",
    "362959<br>\n",
    "282041<br>\n",
    "808943<br>\n",
    "808637<br>"
   ]
  },
  {
   "cell_type": "markdown",
   "metadata": {},
   "source": [
    "------------------------------------------"
   ]
  },
  {
   "cell_type": "markdown",
   "metadata": {},
   "source": [
    "Status descriptions will be analyzed here. "
   ]
  },
  {
   "cell_type": "code",
   "execution_count": 13,
   "metadata": {},
   "outputs": [
    {
     "data": {
      "text/plain": [
       "The Department of Housing Preservation and Development inspected the following conditions. No violations were issued. The complaint has been closed.                                                                                                                                                                                                                             48134\n",
       "The Department of Housing Preservation and Development inspected the following conditions. Violations were issued. Information about specific violations is available at www.nyc.gov/hpd.                                                                                                                                                                                        30587\n",
       "The Department of Housing Preservation and Development was not able to gain access to inspect the following conditions. The complaint has been closed. If the condition still exists, please file a new complaint.                                                                                                                                                               23654\n",
       "More than one complaint was received for this building-wide condition.This complaint status is for the initial complaint. The Department of Housing Preservation and Development contacted an occupant of the apartment and verified that the following conditions were corrected. The complaint has been closed. If the condition still exists, please file a new complaint.    9513 \n",
       "More than one complaint was received for this building-wide condition.This complaint status is for the initial complaint. The Department of Housing Preservation and Development contacted a tenant in the building and verified that the following conditions were corrected. The complaint has been closed. If the condition still exists, please file a new complaint.        8049 \n",
       "The Department of Housing Preservation and Development responded to a complaint of no heat or hot water and was advised by a tenant in the building that heat and hot water had been restored. If the condition still exists, please file a new complaint.                                                                                                                       7755 \n",
       "The Department of Housing Preservation and Development was not able to gain access to your apartment or others in the building to inspect for a lack of heat or hot water. The complaint has been closed. If the condition still exists, please file a new complaint.                                                                                                            7500 \n",
       "The Department of Housing Preservation and Development contacted an occupant of the apartment and verified that the following conditions were corrected. The complaint has been closed. If the condition still exists, please file a new complaint.                                                                                                                              3787 \n",
       "The Department of Housing Preservation and Development inspected the following conditions. Violations were previously issued for these conditions. Information about specific violations is available at www.nyc.gov/hpd.                                                                                                                                                        2223 \n",
       "The Department of Housing Preservation and Development was unable to access the rooms where the following conditions were reported. No violations were issued. The complaint has been closed.                                                                                                                                                                                    618  \n",
       "The Department of Housing Preservation and Development contacted a tenant in the building and verified that the following conditions were corrected. The complaint has been closed. If the condition still exists, please file a new complaint.                                                                                                                                  360  \n",
       "The Department of Housing Preservation and Development was not able to gain access to your apartment to inspect for a lack of heat or hot water. However, HPD was able to verify that heat or hot water was inadequate by inspecting another apartment and a violation was issued. Information about specific violations is available at www.nyc.gov/hpd.                        282  \n",
       "The following complaint conditions are still open. HPD may attempt to contact you to verify the correction of the condition or may conduct an inspection.                                                                                                                                                                                                                        167  \n",
       "The Department of Housing Preservation and Development was not able to gain access to inspect the conditions. If the conditions still exist and an inspection is required, please contact the borough office with your complaint number at                                                                                                                                       71   \n",
       "The Department of Housing Preservation and Development responded to a complaint of no heat or hot water. Heat was not required at the time of the inspection. No violations were issued. If the condition still exists, please file a new complaint.                                                                                                                             60   \n",
       "More than one complaint was received for this building-wide condition. This complaint status is for the initial complaint.The Department of Housing Preservation and Development contacted an occupant of the apartment and verified that the following conditions were corrected. The complaint has been closed. If the condition still exists, please file a new complaint.    50   \n",
       "More than one complaint was received for this building-wide condition. This complaint status is for the initial complaint.The Department of Housing Preservation and Development contacted a tenant in the building and verified that the following conditions were corrected. The complaint has been closed. If the condition still exists, please file a new complaint.        35   \n",
       "The Department of Housing Preservation and Development inspected the following conditions. A Section 8 Failure was issued. Both the tenant and the property owner will receive a notice in the mail regarding the details of the Failure and the resulting action by the Agency.                                                                                                 25   \n",
       "The Department of Housing Preservation and Development inspected the following conditions. Violations were issued. However, HPD also identified potential lead-based paint conditions and will attempt to contact you to schedule a follow-up inspection to test the paint for lead. Information about specific violations is available at www.nyc.gov/hpd.                      9    \n",
       "More than one complaint was received for this building-wide condition.This complaint status is for the initial complaint. The following complaint conditions are still open. HPD may attempt to contact you to verify the correction of the condition or may conduct an inspection.                                                                                              5    \n",
       "The Department of Housing Preservation and Development was unable to access the rooms where the following  conditions were reported. No violations were issued. The complaint has been closed.                                                                                                                                                                                   2    \n",
       "Name: StatusDescription, dtype: int64"
      ]
     },
     "execution_count": 13,
     "metadata": {},
     "output_type": "execute_result"
    }
   ],
   "source": [
    "rdbrownsville[\"StatusDescription\"].value_counts()"
   ]
  },
  {
   "cell_type": "markdown",
   "metadata": {},
   "source": [
    "There are 21 unique status description. The top description, with 48134 hits, is that the Department of Housing Preservation found no violations and the matter had been closed.<br>\n",
    "Second on the list at 30587 hits was that the DHP found violations and issued.<br>\n",
    "Third most common (23654) was that DHP was unable to gain access to the \"conditions\".<br>\n",
    "Fourth (9513) is that it is a building-wide issue that has been resolved. The next description (8049) had an almost identical text, apart from a few words. I'm going to count it together, which gives us a total of 17562.<br>\n",
    "Fifth (7755) is DHP recieved complaints of no heat/hot water, but had confirmed it had been restored and closed the matter. \n"
   ]
  },
  {
   "cell_type": "markdown",
   "metadata": {},
   "source": [
    "----------------------------"
   ]
  },
  {
   "cell_type": "markdown",
   "metadata": {},
   "source": [
    "In this section, I will show the top buildings with violations in this timeframe."
   ]
  },
  {
   "cell_type": "code",
   "execution_count": 14,
   "metadata": {},
   "outputs": [],
   "source": [
    "bv_buildstatus = rdbrownsville[[\"BuildingID\", \"StatusDescription\"]]"
   ]
  },
  {
   "cell_type": "code",
   "execution_count": 15,
   "metadata": {},
   "outputs": [],
   "source": [
    "bv_sd = bv_buildstatus[(bv_buildstatus.StatusDescription == 'The Department of Housing Preservation and Development inspected the following conditions. Violations were issued. Information about specific violations is available at www.nyc.gov/hpd.')]"
   ]
  },
  {
   "cell_type": "code",
   "execution_count": 16,
   "metadata": {},
   "outputs": [
    {
     "data": {
      "text/plain": [
       "Text(0.5, 0, 'Building ID')"
      ]
     },
     "execution_count": 16,
     "metadata": {},
     "output_type": "execute_result"
    },
    {
     "data": {
      "image/png": "[encoded data removed]",
      "text/plain": [
       "<Figure size 432x288 with 1 Axes>"
      ]
     },
     "metadata": {
      "needs_background": "light"
     },
     "output_type": "display_data"
    }
   ],
   "source": [
    "bv_sd_counts = bv_sd[\"BuildingID\"].value_counts().head(10)\n",
    "bv_sd_counts.plot(kind = \"bar\")\n",
    "plt.title(\"Top Buildings with Violations 2014-2021\")\n",
    "plt.ylabel(\"Number of Violations Reported\")\n",
    "plt.xlabel(\"Building ID\")"
   ]
  },
  {
   "cell_type": "markdown",
   "metadata": {},
   "source": [
    "The top buildings with code violations between the years of 2014 and 2021 are:<br>\n",
    "808361 - 1711 Fulton Street<br>\n",
    "329071 - 210 Lott Avenue<br>\n",
    "287185 - 1064 East New York Avenue<br>\n",
    "309623 - 7 Hegeman Avenue<br>\n",
    "283283<br>\n",
    "283278<br>\n",
    "283262<br>\n",
    "320625<br>\n",
    "808943<br>\n",
    "218950<br>"
   ]
  },
  {
   "cell_type": "markdown",
   "metadata": {},
   "source": [
    "------------"
   ]
  },
  {
   "cell_type": "code",
   "execution_count": null,
   "metadata": {},
   "outputs": [],
   "source": []
  },
  {
   "cell_type": "code",
   "execution_count": 17,
   "metadata": {},
   "outputs": [
    {
     "data": {
      "text/plain": [
       "December     17328\n",
       "January      15465\n",
       "November     15362\n",
       "February     15362\n",
       "March        13902\n",
       "October      12255\n",
       "August       10215\n",
       "April        10203\n",
       "September    9616 \n",
       "July         8274 \n",
       "May          7911 \n",
       "June         7785 \n",
       "Name: StatusDateMonth, dtype: int64"
      ]
     },
     "execution_count": 17,
     "metadata": {},
     "output_type": "execute_result"
    }
   ],
   "source": [
    "month = {\n",
    "    1: \"January\", \n",
    "    2: \"February\", \n",
    "    3: \"March\", \n",
    "    4: \"April\", \n",
    "    5: \"May\", \n",
    "    6: \"June\", \n",
    "    7: \"July\",\n",
    "    8: \"August\",\n",
    "    9: \"September\",\n",
    "    10: \"October\",\n",
    "    11: \"November\",\n",
    "    12: \"December\"\n",
    "}\n",
    "rdbrownsville['StatusDate'] = pd.to_datetime(rdbrownsville['StatusDate'])\n",
    "rdbrownsville[\"StatusDateMonth\"] = rdbrownsville[\"StatusDate\"].dt.month\n",
    "month_counts = rdbrownsville[\"StatusDateMonth\"].value_counts()\n",
    "month_counts.index = month_counts.index.map(month)\n",
    "month_counts"
   ]
  },
  {
   "cell_type": "code",
   "execution_count": 18,
   "metadata": {},
   "outputs": [
    {
     "data": {
      "text/plain": [
       "<matplotlib.axes._subplots.AxesSubplot at 0x278a8708580>"
      ]
     },
     "execution_count": 18,
     "metadata": {},
     "output_type": "execute_result"
    },
    {
     "data": {
      "image/png": "[encoded data removed]",
      "text/plain": [
       "<Figure size 432x288 with 1 Axes>"
      ]
     },
     "metadata": {
      "needs_background": "light"
     },
     "output_type": "display_data"
    }
   ],
   "source": [
    "month_counts.plot(kind = \"bar\")"
   ]
  },
  {
   "cell_type": "code",
   "execution_count": 19,
   "metadata": {},
   "outputs": [
    {
     "data": {
      "text/plain": [
       "<matplotlib.axes._subplots.AxesSubplot at 0x278a9b07a30>"
      ]
     },
     "execution_count": 19,
     "metadata": {},
     "output_type": "execute_result"
    },
    {
     "data": {
      "image/png": "[encoded data removed]",
      "text/plain": [
       "<Figure size 432x288 with 1 Axes>"
      ]
     },
     "metadata": {
      "needs_background": "light"
     },
     "output_type": "display_data"
    }
   ],
   "source": [
    "sns.lineplot(x = \"StatusDate\", y = \"ProblemID\", data = rdbrownsville, sort=False)"
   ]
  },
  {
   "cell_type": "markdown",
   "metadata": {},
   "source": [
    "------------------------"
   ]
  },
  {
   "cell_type": "code",
   "execution_count": 20,
   "metadata": {
    "scrolled": true
   },
   "outputs": [
    {
     "data": {
      "text/html": [
       "<div>\n",
       "<style scoped>\n",
       "    .dataframe tbody tr th:only-of-type {\n",
       "        vertical-align: middle;\n",
       "    }\n",
       "\n",
       "    .dataframe tbody tr th {\n",
       "        vertical-align: top;\n",
       "    }\n",
       "\n",
       "    .dataframe thead th {\n",
       "        text-align: right;\n",
       "    }\n",
       "</style>\n",
       "<table border=\"1\" class=\"dataframe\">\n",
       "  <thead>\n",
       "    <tr style=\"text-align: right;\">\n",
       "      <th></th>\n",
       "      <th>Zip</th>\n",
       "      <th>Borough</th>\n",
       "      <th>BoroughID</th>\n",
       "      <th>BuildingID</th>\n",
       "      <th>ProblemID</th>\n",
       "      <th>ComplaintID</th>\n",
       "      <th>UnitTypeID</th>\n",
       "      <th>UnitType</th>\n",
       "      <th>SpaceTypeID</th>\n",
       "      <th>SpaceType</th>\n",
       "      <th>...</th>\n",
       "      <th>MajorCategory</th>\n",
       "      <th>MinorCategoryID</th>\n",
       "      <th>MinorCategory</th>\n",
       "      <th>CodeID</th>\n",
       "      <th>Code</th>\n",
       "      <th>StatusID</th>\n",
       "      <th>Status</th>\n",
       "      <th>StatusDate</th>\n",
       "      <th>StatusDescription</th>\n",
       "      <th>StatusDateMonth</th>\n",
       "    </tr>\n",
       "  </thead>\n",
       "  <tbody>\n",
       "    <tr>\n",
       "      <th>0</th>\n",
       "      <td>11233</td>\n",
       "      <td>BROOKLYN</td>\n",
       "      <td>3</td>\n",
       "      <td>219263</td>\n",
       "      <td>14570531</td>\n",
       "      <td>6977738</td>\n",
       "      <td>91</td>\n",
       "      <td>APARTMENT</td>\n",
       "      <td>541</td>\n",
       "      <td>BATHROOM</td>\n",
       "      <td>...</td>\n",
       "      <td>WATER LEAK</td>\n",
       "      <td>380</td>\n",
       "      <td>HEAVY FLOW</td>\n",
       "      <td>2828</td>\n",
       "      <td>AT WALL OR CEILING</td>\n",
       "      <td>2</td>\n",
       "      <td>CLOSE</td>\n",
       "      <td>2014-07-31</td>\n",
       "      <td>The Department of Housing Preservation and Development inspected the following conditions. No violations were issued. The complaint has been closed.</td>\n",
       "      <td>7.0</td>\n",
       "    </tr>\n",
       "    <tr>\n",
       "      <th>1</th>\n",
       "      <td>11212</td>\n",
       "      <td>BROOKLYN</td>\n",
       "      <td>3</td>\n",
       "      <td>283890</td>\n",
       "      <td>14618845</td>\n",
       "      <td>6996145</td>\n",
       "      <td>91</td>\n",
       "      <td>APARTMENT</td>\n",
       "      <td>546</td>\n",
       "      <td>KITCHEN</td>\n",
       "      <td>...</td>\n",
       "      <td>PLUMBING</td>\n",
       "      <td>68</td>\n",
       "      <td>WATER SUPPLY</td>\n",
       "      <td>2564</td>\n",
       "      <td>NO WATER</td>\n",
       "      <td>2</td>\n",
       "      <td>CLOSE</td>\n",
       "      <td>2014-08-23</td>\n",
       "      <td>The Department of Housing Preservation and Development inspected the following conditions. Violations were issued. Information about specific violations is available at www.nyc.gov/hpd.</td>\n",
       "      <td>8.0</td>\n",
       "    </tr>\n",
       "    <tr>\n",
       "      <th>2</th>\n",
       "      <td>11212</td>\n",
       "      <td>BROOKLYN</td>\n",
       "      <td>3</td>\n",
       "      <td>283890</td>\n",
       "      <td>14618846</td>\n",
       "      <td>6996145</td>\n",
       "      <td>91</td>\n",
       "      <td>APARTMENT</td>\n",
       "      <td>545</td>\n",
       "      <td>ENTRANCE/FOYER</td>\n",
       "      <td>...</td>\n",
       "      <td>DOOR/WINDOW</td>\n",
       "      <td>333</td>\n",
       "      <td>DOOR</td>\n",
       "      <td>2664</td>\n",
       "      <td>BROKEN OR MISSING</td>\n",
       "      <td>2</td>\n",
       "      <td>CLOSE</td>\n",
       "      <td>2014-08-23</td>\n",
       "      <td>The Department of Housing Preservation and Development inspected the following conditions. Violations were issued. Information about specific violations is available at www.nyc.gov/hpd.</td>\n",
       "      <td>8.0</td>\n",
       "    </tr>\n",
       "    <tr>\n",
       "      <th>3</th>\n",
       "      <td>11212</td>\n",
       "      <td>BROOKLYN</td>\n",
       "      <td>3</td>\n",
       "      <td>283890</td>\n",
       "      <td>14618847</td>\n",
       "      <td>6996145</td>\n",
       "      <td>91</td>\n",
       "      <td>APARTMENT</td>\n",
       "      <td>542</td>\n",
       "      <td>BEDROOM</td>\n",
       "      <td>...</td>\n",
       "      <td>UNSANITARY CONDITION</td>\n",
       "      <td>375</td>\n",
       "      <td>MOLD</td>\n",
       "      <td>2817</td>\n",
       "      <td>NaN</td>\n",
       "      <td>2</td>\n",
       "      <td>CLOSE</td>\n",
       "      <td>2014-08-23</td>\n",
       "      <td>The Department of Housing Preservation and Development inspected the following conditions. No violations were issued. The complaint has been closed.</td>\n",
       "      <td>8.0</td>\n",
       "    </tr>\n",
       "    <tr>\n",
       "      <th>4</th>\n",
       "      <td>11233</td>\n",
       "      <td>BROOKLYN</td>\n",
       "      <td>3</td>\n",
       "      <td>330347</td>\n",
       "      <td>14585091</td>\n",
       "      <td>6982717</td>\n",
       "      <td>91</td>\n",
       "      <td>APARTMENT</td>\n",
       "      <td>543</td>\n",
       "      <td>ENTIRE APARTMENT</td>\n",
       "      <td>...</td>\n",
       "      <td>HEAT/HOT WATER</td>\n",
       "      <td>348</td>\n",
       "      <td>APARTMENT ONLY</td>\n",
       "      <td>2833</td>\n",
       "      <td>NO HEAT AND NO HOT WATER</td>\n",
       "      <td>2</td>\n",
       "      <td>CLOSE</td>\n",
       "      <td>2014-08-05</td>\n",
       "      <td>More than one complaint was received for this building-wide condition.This complaint status is for the initial complaint. The Department of Housing Preservation and Development contacted an occupant of the apartment and verified that the following conditions were corrected. The complaint has been closed. If the condition still exists, please file a new complaint.</td>\n",
       "      <td>8.0</td>\n",
       "    </tr>\n",
       "  </tbody>\n",
       "</table>\n",
       "<p>5 rows × 23 columns</p>\n",
       "</div>"
      ],
      "text/plain": [
       "     Zip   Borough  BoroughID  BuildingID  ProblemID  ComplaintID  UnitTypeID  \\\n",
       "0  11233  BROOKLYN  3          219263      14570531   6977738      91           \n",
       "1  11212  BROOKLYN  3          283890      14618845   6996145      91           \n",
       "2  11212  BROOKLYN  3          283890      14618846   6996145      91           \n",
       "3  11212  BROOKLYN  3          283890      14618847   6996145      91           \n",
       "4  11233  BROOKLYN  3          330347      14585091   6982717      91           \n",
       "\n",
       "    UnitType  SpaceTypeID         SpaceType  ...         MajorCategory  \\\n",
       "0  APARTMENT  541          BATHROOM          ...  WATER LEAK             \n",
       "1  APARTMENT  546          KITCHEN           ...  PLUMBING               \n",
       "2  APARTMENT  545          ENTRANCE/FOYER    ...  DOOR/WINDOW            \n",
       "3  APARTMENT  542          BEDROOM           ...  UNSANITARY CONDITION   \n",
       "4  APARTMENT  543          ENTIRE APARTMENT  ...  HEAT/HOT WATER         \n",
       "\n",
       "  MinorCategoryID   MinorCategory CodeID                      Code StatusID  \\\n",
       "0  380             HEAVY FLOW      2828   AT WALL OR CEILING        2         \n",
       "1  68              WATER SUPPLY    2564   NO WATER                  2         \n",
       "2  333             DOOR            2664   BROKEN OR MISSING         2         \n",
       "3  375             MOLD            2817   NaN                       2         \n",
       "4  348             APARTMENT ONLY  2833   NO HEAT AND NO HOT WATER  2         \n",
       "\n",
       "   Status StatusDate  \\\n",
       "0  CLOSE  2014-07-31   \n",
       "1  CLOSE  2014-08-23   \n",
       "2  CLOSE  2014-08-23   \n",
       "3  CLOSE  2014-08-23   \n",
       "4  CLOSE  2014-08-05   \n",
       "\n",
       "                                                                                                                                                                                                                                                                                                                                                               StatusDescription  \\\n",
       "0  The Department of Housing Preservation and Development inspected the following conditions. No violations were issued. The complaint has been closed.                                                                                                                                                                                                                            \n",
       "1  The Department of Housing Preservation and Development inspected the following conditions. Violations were issued. Information about specific violations is available at www.nyc.gov/hpd.                                                                                                                                                                                       \n",
       "2  The Department of Housing Preservation and Development inspected the following conditions. Violations were issued. Information about specific violations is available at www.nyc.gov/hpd.                                                                                                                                                                                       \n",
       "3  The Department of Housing Preservation and Development inspected the following conditions. No violations were issued. The complaint has been closed.                                                                                                                                                                                                                            \n",
       "4  More than one complaint was received for this building-wide condition.This complaint status is for the initial complaint. The Department of Housing Preservation and Development contacted an occupant of the apartment and verified that the following conditions were corrected. The complaint has been closed. If the condition still exists, please file a new complaint.   \n",
       "\n",
       "  StatusDateMonth  \n",
       "0  7.0             \n",
       "1  8.0             \n",
       "2  8.0             \n",
       "3  8.0             \n",
       "4  8.0             \n",
       "\n",
       "[5 rows x 23 columns]"
      ]
     },
     "execution_count": 20,
     "metadata": {},
     "output_type": "execute_result"
    }
   ],
   "source": [
    "rdbrownsville.head()"
   ]
  },
  {
   "cell_type": "code",
   "execution_count": null,
   "metadata": {},
   "outputs": [],
   "source": []
  },
  {
   "cell_type": "markdown",
   "metadata": {},
   "source": [
    "--------------------------"
   ]
  },
  {
   "cell_type": "markdown",
   "metadata": {},
   "source": [
    "## Part 2: 5 Year Analysis of Brownsville.csv, years 2016-2021"
   ]
  },
  {
   "cell_type": "markdown",
   "metadata": {},
   "source": [
    "Filtered the years down to a five year timeframe (between the years 2016 and 2021)."
   ]
  },
  {
   "cell_type": "code",
   "execution_count": 21,
   "metadata": {},
   "outputs": [],
   "source": [
    "bv_5years = rdbrownsville[(rdbrownsville['StatusDate'] > '2016-01-01') & (rdbrownsville['StatusDate'] < '2021-05-01')]"
   ]
  },
  {
   "cell_type": "markdown",
   "metadata": {},
   "source": [
    "-----------------"
   ]
  },
  {
   "cell_type": "markdown",
   "metadata": {},
   "source": [
    "Checking the Major Categories column, now for the 5 year timeframe."
   ]
  },
  {
   "cell_type": "code",
   "execution_count": 22,
   "metadata": {},
   "outputs": [
    {
     "data": {
      "text/plain": [
       "HEAT/HOT WATER          31056\n",
       "UNSANITARY CONDITION    16932\n",
       "PAINT/PLASTER           10974\n",
       "PLUMBING                10813\n",
       "DOOR/WINDOW             8912 \n",
       "WATER LEAK              6647 \n",
       "ELECTRIC                5891 \n",
       "GENERAL                 5169 \n",
       "FLOORING/STAIRS         4856 \n",
       "SAFETY                  3809 \n",
       "APPLIANCE               3502 \n",
       "OUTSIDE BUILDING        531  \n",
       "ELEVATOR                78   \n",
       "HEATING                 2    \n",
       "Name: MajorCategory, dtype: int64"
      ]
     },
     "execution_count": 22,
     "metadata": {},
     "output_type": "execute_result"
    }
   ],
   "source": [
    "bv_5years[\"MajorCategory\"].value_counts()"
   ]
  },
  {
   "cell_type": "code",
   "execution_count": 23,
   "metadata": {},
   "outputs": [
    {
     "data": {
      "text/plain": [
       "Text(0.5, 0, 'Issue')"
      ]
     },
     "execution_count": 23,
     "metadata": {},
     "output_type": "execute_result"
    },
    {
     "data": {
      "image/png": "[encoded data removed]",
      "text/plain": [
       "<Figure size 432x288 with 1 Axes>"
      ]
     },
     "metadata": {
      "needs_background": "light"
     },
     "output_type": "display_data"
    }
   ],
   "source": [
    "majorcat_values_5 = bv_5years[\"MajorCategory\"].value_counts().head(10)\n",
    "majorcat_values_5.plot(kind = \"bar\")\n",
    "plt.title(\"Top MajorCategory Complaints 2016-2021\")\n",
    "plt.ylabel(\"Number of Reports\")\n",
    "plt.xlabel(\"Issue\")"
   ]
  },
  {
   "cell_type": "markdown",
   "metadata": {},
   "source": [
    "The top 5 categories in the MajorCategory column in the last five years are \"HEAT/HOT WATER\", \"UNSANITARY CONDITION\", \"PAINT/PLATER\", \"PLUMBING\" and \"DOOR/WINDOW\".\n"
   ]
  },
  {
   "cell_type": "markdown",
   "metadata": {},
   "source": [
    "---------------------------"
   ]
  },
  {
   "cell_type": "markdown",
   "metadata": {},
   "source": [
    "Checking the Minor Category column for the five year timeframe."
   ]
  },
  {
   "cell_type": "code",
   "execution_count": 24,
   "metadata": {},
   "outputs": [],
   "source": [
    "mincat_5 = bv_5years.sort_values(by='MinorCategory').reset_index(drop=True)"
   ]
  },
  {
   "cell_type": "code",
   "execution_count": 25,
   "metadata": {},
   "outputs": [
    {
     "data": {
      "text/plain": [
       "ENTIRE BUILDING    17551\n",
       "APARTMENT ONLY     13505\n",
       "PESTS              9481 \n",
       "WALL               5608 \n",
       "MOLD               5193 \n",
       "CEILING            4883 \n",
       "DOOR               4780 \n",
       "FLOOR              4500 \n",
       "BASIN/SINK         3378 \n",
       "HEAVY FLOW         3097 \n",
       "Name: MinorCategory, dtype: int64"
      ]
     },
     "execution_count": 25,
     "metadata": {},
     "output_type": "execute_result"
    }
   ],
   "source": [
    "bv_5years[\"MinorCategory\"].value_counts().head(10)"
   ]
  },
  {
   "cell_type": "code",
   "execution_count": 26,
   "metadata": {},
   "outputs": [
    {
     "data": {
      "text/plain": [
       "Text(0.5, 0, 'Issue Description')"
      ]
     },
     "execution_count": 26,
     "metadata": {},
     "output_type": "execute_result"
    },
    {
     "data": {
      "image/png": "[encoded data removed]",
      "text/plain": [
       "<Figure size 432x288 with 1 Axes>"
      ]
     },
     "metadata": {
      "needs_background": "light"
     },
     "output_type": "display_data"
    }
   ],
   "source": [
    "minorcat_values_5 = bv_5years[\"MinorCategory\"].value_counts().head(10)\n",
    "minorcat_values_5.plot(kind = \"bar\")\n",
    "plt.title(\"Top MinorCategory Complaints 2016-2021\")\n",
    "plt.ylabel(\"Number of Reports\")\n",
    "plt.xlabel(\"Issue Description\")"
   ]
  },
  {
   "cell_type": "markdown",
   "metadata": {},
   "source": [
    "In the Minor Category column, the top issues in the last five years are \"ENTIRE BUILDING\", \"APARTMENT ONLY\", \"PESTS\", \"WALL\" and \"MOLD\"."
   ]
  },
  {
   "cell_type": "markdown",
   "metadata": {},
   "source": [
    "-------------------"
   ]
  },
  {
   "cell_type": "markdown",
   "metadata": {},
   "source": [
    "Checking building IDs to see which is the most frequently show in the last five years."
   ]
  },
  {
   "cell_type": "code",
   "execution_count": 27,
   "metadata": {},
   "outputs": [
    {
     "data": {
      "text/plain": [
       "808361    4392\n",
       "309623    1344\n",
       "329071    1331\n",
       "334864    912 \n",
       "287185    798 \n",
       "         ...  \n",
       "334662    1   \n",
       "198250    1   \n",
       "232276    1   \n",
       "284222    1   \n",
       "984704    1   \n",
       "Name: BuildingID, Length: 4042, dtype: int64"
      ]
     },
     "execution_count": 27,
     "metadata": {},
     "output_type": "execute_result"
    }
   ],
   "source": [
    "bv_5years[\"BuildingID\"].value_counts()"
   ]
  },
  {
   "cell_type": "code",
   "execution_count": 28,
   "metadata": {},
   "outputs": [
    {
     "data": {
      "text/plain": [
       "Text(0.5, 0, 'Building ID')"
      ]
     },
     "execution_count": 28,
     "metadata": {},
     "output_type": "execute_result"
    },
    {
     "data": {
      "image/png": "[encoded data removed]",
      "text/plain": [
       "<Figure size 432x288 with 1 Axes>"
      ]
     },
     "metadata": {
      "needs_background": "light"
     },
     "output_type": "display_data"
    }
   ],
   "source": [
    "build_values = bv_5years[\"BuildingID\"].value_counts().head(10)\n",
    "build_values.plot(kind = \"bar\")\n",
    "plt.title(\"Top Buildings with Complaints Reported 2016-2021\")\n",
    "plt.ylabel(\"Number of Reports\")\n",
    "plt.xlabel(\"Building ID\")"
   ]
  },
  {
   "cell_type": "markdown",
   "metadata": {},
   "source": [
    "The building with the most complaints in this version of the dataset are:<br>\n",
    "808361 - 1711 Fulton Street<br>\n",
    "309623 - 7 Hegeman Avenue<br>\n",
    "329071 - 210 Lott Avenue<br>\n",
    "334864 - 706 MacDonough Street<br>\n",
    "287185 - 1064 East New York Avenue<br>\n",
    "362955 - 9401 Seaview Avenue<br>\n",
    "808943<br>\n",
    "320626<br>\n",
    "363333<br>\n",
    "363119<br>"
   ]
  },
  {
   "cell_type": "markdown",
   "metadata": {},
   "source": [
    "-------------"
   ]
  },
  {
   "cell_type": "markdown",
   "metadata": {},
   "source": [
    "In this section, I will show the top buildings with violations in the 5 year timeframe."
   ]
  },
  {
   "cell_type": "code",
   "execution_count": 29,
   "metadata": {},
   "outputs": [],
   "source": [
    "bv_buildstatus5 = bv_5years[[\"BuildingID\", \"StatusDescription\"]]"
   ]
  },
  {
   "cell_type": "code",
   "execution_count": 30,
   "metadata": {},
   "outputs": [],
   "source": [
    "bv_sd5 = bv_buildstatus5[(bv_5years.StatusDescription == 'The Department of Housing Preservation and Development inspected the following conditions. Violations were issued. Information about specific violations is available at www.nyc.gov/hpd.')]"
   ]
  },
  {
   "cell_type": "code",
   "execution_count": 31,
   "metadata": {},
   "outputs": [
    {
     "data": {
      "text/plain": [
       "Text(0.5, 0, 'Building ID')"
      ]
     },
     "execution_count": 31,
     "metadata": {},
     "output_type": "execute_result"
    },
    {
     "data": {
      "image/png": "[encoded data removed]",
      "text/plain": [
       "<Figure size 432x288 with 1 Axes>"
      ]
     },
     "metadata": {
      "needs_background": "light"
     },
     "output_type": "display_data"
    }
   ],
   "source": [
    "bv_sd_counts5 = bv_sd5[\"BuildingID\"].value_counts().head(10)\n",
    "bv_sd_counts5.plot(kind = \"bar\")\n",
    "plt.title(\"Top Buildings with Violations 2016-2021\")\n",
    "plt.ylabel(\"Number of Violations Reported\")\n",
    "plt.xlabel(\"Building ID\")"
   ]
  },
  {
   "cell_type": "markdown",
   "metadata": {},
   "source": [
    "The top buildings with code violations between the years of 2016 and 2021 are:<br>\n",
    "329071 - 210 Lott Avenue<br>\n",
    "309623 - 7 Hegeman Avenue<br>\n",
    "808361 - 1711 Fulton Street<br>\n",
    "287185 - 1064 East New York Avenue<br>\n",
    "283262<br>\n",
    "808943<br>\n",
    "324031<br>\n",
    "283278<br>\n",
    "307290<br>\n",
    "320625<br>"
   ]
  },
  {
   "cell_type": "markdown",
   "metadata": {},
   "source": [
    "-----------------"
   ]
  },
  {
   "cell_type": "markdown",
   "metadata": {},
   "source": [
    "-----------------"
   ]
  },
  {
   "cell_type": "code",
   "execution_count": null,
   "metadata": {},
   "outputs": [],
   "source": []
  },
  {
   "cell_type": "code",
   "execution_count": 48,
   "metadata": {},
   "outputs": [
    {
     "name": "stderr",
     "output_type": "stream",
     "text": [
      "<ipython-input-48-2f05e8046cbd>:15: SettingWithCopyWarning: \n",
      "A value is trying to be set on a copy of a slice from a DataFrame.\n",
      "Try using .loc[row_indexer,col_indexer] = value instead\n",
      "\n",
      "See the caveats in the documentation: https://pandas.pydata.org/pandas-docs/stable/user_guide/indexing.html#returning-a-view-versus-a-copy\n",
      "  bv_5years['StatusDate'] = pd.to_datetime(bv_5years['StatusDate'])\n",
      "<ipython-input-48-2f05e8046cbd>:16: SettingWithCopyWarning: \n",
      "A value is trying to be set on a copy of a slice from a DataFrame.\n",
      "Try using .loc[row_indexer,col_indexer] = value instead\n",
      "\n",
      "See the caveats in the documentation: https://pandas.pydata.org/pandas-docs/stable/user_guide/indexing.html#returning-a-view-versus-a-copy\n",
      "  bv_5years[\"StatusDateMonth\"] = bv_5years[\"StatusDate\"].dt.month\n"
     ]
    },
    {
     "data": {
      "text/plain": [
       "January      12700\n",
       "December     12414\n",
       "February     12200\n",
       "March        11631\n",
       "November     10886\n",
       "October      8701 \n",
       "April        8184 \n",
       "August       6806 \n",
       "July         6626 \n",
       "June         6362 \n",
       "May          6332 \n",
       "September    6330 \n",
       "Name: StatusDateMonth, dtype: int64"
      ]
     },
     "execution_count": 48,
     "metadata": {},
     "output_type": "execute_result"
    }
   ],
   "source": [
    "month = {\n",
    "    1: \"January\", \n",
    "    2: \"February\", \n",
    "    3: \"March\", \n",
    "    4: \"April\", \n",
    "    5: \"May\", \n",
    "    6: \"June\", \n",
    "    7: \"July\",\n",
    "    8: \"August\",\n",
    "    9: \"September\",\n",
    "    10: \"October\",\n",
    "    11: \"November\",\n",
    "    12: \"December\"\n",
    "}\n",
    "bv_5years['StatusDate'] = pd.to_datetime(bv_5years['StatusDate'])\n",
    "bv_5years[\"StatusDateMonth\"] = bv_5years[\"StatusDate\"].dt.month\n",
    "month_counts5 = bv_5years[\"StatusDateMonth\"].value_counts()\n",
    "month_counts5.index = month_counts5.index.map(month)\n",
    "month_counts5"
   ]
  },
  {
   "cell_type": "code",
   "execution_count": 49,
   "metadata": {},
   "outputs": [
    {
     "data": {
      "text/plain": [
       "<matplotlib.axes._subplots.AxesSubplot at 0x278aa04e8b0>"
      ]
     },
     "execution_count": 49,
     "metadata": {},
     "output_type": "execute_result"
    },
    {
     "data": {
      "image/png": "[encoded data removed]",
      "text/plain": [
       "<Figure size 432x288 with 1 Axes>"
      ]
     },
     "metadata": {
      "needs_background": "light"
     },
     "output_type": "display_data"
    }
   ],
   "source": [
    "month_counts5.plot(kind = \"bar\")"
   ]
  },
  {
   "cell_type": "code",
   "execution_count": null,
   "metadata": {},
   "outputs": [],
   "source": []
  },
  {
   "cell_type": "code",
   "execution_count": null,
   "metadata": {},
   "outputs": [],
   "source": []
  },
  {
   "cell_type": "markdown",
   "metadata": {},
   "source": [
    "## Part 3: 2 Year Analysis of Brownsville.csv, years 2019-2021"
   ]
  },
  {
   "cell_type": "markdown",
   "metadata": {},
   "source": [
    "Filtered the years down to a five year timeframe (between the years 2019 and 2021)."
   ]
  },
  {
   "cell_type": "code",
   "execution_count": 33,
   "metadata": {},
   "outputs": [],
   "source": [
    "bv_2years = rdbrownsville[(rdbrownsville['StatusDate'] > '2019-01-01') & (rdbrownsville['StatusDate'] < '2021-05-01')]"
   ]
  },
  {
   "cell_type": "markdown",
   "metadata": {},
   "source": [
    "----------------"
   ]
  },
  {
   "cell_type": "markdown",
   "metadata": {},
   "source": [
    "Checking the Major Categories column, now for the 5 year timeframe."
   ]
  },
  {
   "cell_type": "code",
   "execution_count": 34,
   "metadata": {},
   "outputs": [
    {
     "data": {
      "text/plain": [
       "HEAT/HOT WATER          31056\n",
       "UNSANITARY CONDITION    16932\n",
       "PAINT/PLASTER           10974\n",
       "PLUMBING                10813\n",
       "DOOR/WINDOW             8912 \n",
       "WATER LEAK              6647 \n",
       "ELECTRIC                5891 \n",
       "GENERAL                 5169 \n",
       "FLOORING/STAIRS         4856 \n",
       "SAFETY                  3809 \n",
       "APPLIANCE               3502 \n",
       "OUTSIDE BUILDING        531  \n",
       "ELEVATOR                78   \n",
       "HEATING                 2    \n",
       "Name: MajorCategory, dtype: int64"
      ]
     },
     "execution_count": 34,
     "metadata": {},
     "output_type": "execute_result"
    }
   ],
   "source": [
    "bv_5years[\"MajorCategory\"].value_counts()"
   ]
  },
  {
   "cell_type": "code",
   "execution_count": 35,
   "metadata": {},
   "outputs": [
    {
     "data": {
      "text/plain": [
       "Text(0.5, 0, 'Issue')"
      ]
     },
     "execution_count": 35,
     "metadata": {},
     "output_type": "execute_result"
    },
    {
     "data": {
      "image/png": "[encoded data removed]",
      "text/plain": [
       "<Figure size 432x288 with 1 Axes>"
      ]
     },
     "metadata": {
      "needs_background": "light"
     },
     "output_type": "display_data"
    }
   ],
   "source": [
    "majorcat_values_5 = bv_5years[\"MajorCategory\"].value_counts().head(10)\n",
    "majorcat_values_5.plot(kind = \"bar\")\n",
    "plt.title(\"Top MajorCategory Complaints 2016-2021\")\n",
    "plt.ylabel(\"Number of Reports\")\n",
    "plt.xlabel(\"Issue\")"
   ]
  },
  {
   "cell_type": "markdown",
   "metadata": {},
   "source": [
    "The top 5 categories in the MajorCategory column in the last five years are \"HEAT/HOT WATER\", \"UNSANITARY CONDITION\", \"PAINT/PLATER\", \"PLUMBING\" and \"DOOR/WINDOW\"."
   ]
  },
  {
   "cell_type": "markdown",
   "metadata": {},
   "source": [
    "--------------"
   ]
  },
  {
   "cell_type": "markdown",
   "metadata": {},
   "source": [
    "Checking the Minor Category column for the two year timeframe."
   ]
  },
  {
   "cell_type": "code",
   "execution_count": 36,
   "metadata": {},
   "outputs": [],
   "source": [
    "mincat_2 = bv_2years.sort_values(by='MinorCategory').reset_index(drop=True)"
   ]
  },
  {
   "cell_type": "code",
   "execution_count": 37,
   "metadata": {},
   "outputs": [
    {
     "data": {
      "text/plain": [
       "ENTIRE BUILDING    7017\n",
       "APARTMENT ONLY     5581\n",
       "PESTS              4002\n",
       "MOLD               2055\n",
       "WALL               1918\n",
       "DOOR               1813\n",
       "CEILING            1688\n",
       "FLOOR              1450\n",
       "BASIN/SINK         1215\n",
       "HEAVY FLOW         1171\n",
       "Name: MinorCategory, dtype: int64"
      ]
     },
     "execution_count": 37,
     "metadata": {},
     "output_type": "execute_result"
    }
   ],
   "source": [
    "bv_2years[\"MinorCategory\"].value_counts().head(10)"
   ]
  },
  {
   "cell_type": "code",
   "execution_count": 38,
   "metadata": {},
   "outputs": [
    {
     "data": {
      "text/plain": [
       "Text(0.5, 0, 'Issue Description')"
      ]
     },
     "execution_count": 38,
     "metadata": {},
     "output_type": "execute_result"
    },
    {
     "data": {
      "image/png": "[encoded data removed]",
      "text/plain": [
       "<Figure size 432x288 with 1 Axes>"
      ]
     },
     "metadata": {
      "needs_background": "light"
     },
     "output_type": "display_data"
    }
   ],
   "source": [
    "minorcat_values = bv_2years[\"MinorCategory\"].value_counts().head(10)\n",
    "minorcat_values.plot(kind = \"bar\")\n",
    "plt.title(\"Top MinorCategory Complaints 2019-2021\")\n",
    "plt.ylabel(\"Number of Reports\")\n",
    "plt.xlabel(\"Issue Description\")"
   ]
  },
  {
   "cell_type": "markdown",
   "metadata": {},
   "source": [
    "In the Minor Category column, the top issues in the last two years are \"ENTIRE BUILDING\", \"APARTMENT ONLY\", \"PESTS\", \"WALL\" and \"MOLD\"."
   ]
  },
  {
   "cell_type": "markdown",
   "metadata": {},
   "source": [
    "---------------------------"
   ]
  },
  {
   "cell_type": "markdown",
   "metadata": {},
   "source": [
    "Checking building IDs to see which is the most frequently show in the last two years."
   ]
  },
  {
   "cell_type": "code",
   "execution_count": 39,
   "metadata": {},
   "outputs": [
    {
     "data": {
      "text/plain": [
       "808361    1614\n",
       "309623    665 \n",
       "329071    535 \n",
       "231212    411 \n",
       "362955    376 \n",
       "         ...  \n",
       "287645    1   \n",
       "377865    1   \n",
       "975290    1   \n",
       "306276    1   \n",
       "307178    1   \n",
       "Name: BuildingID, Length: 2584, dtype: int64"
      ]
     },
     "execution_count": 39,
     "metadata": {},
     "output_type": "execute_result"
    }
   ],
   "source": [
    "bv_2years[\"BuildingID\"].value_counts()"
   ]
  },
  {
   "cell_type": "code",
   "execution_count": 40,
   "metadata": {},
   "outputs": [
    {
     "data": {
      "text/plain": [
       "Text(0.5, 0, 'Building ID')"
      ]
     },
     "execution_count": 40,
     "metadata": {},
     "output_type": "execute_result"
    },
    {
     "data": {
      "image/png": "[encoded data removed]",
      "text/plain": [
       "<Figure size 432x288 with 1 Axes>"
      ]
     },
     "metadata": {
      "needs_background": "light"
     },
     "output_type": "display_data"
    }
   ],
   "source": [
    "build_values = bv_2years[\"BuildingID\"].value_counts().head(10)\n",
    "build_values.plot(kind = \"bar\")\n",
    "plt.title(\"Top Buildings with Complaints Reported 2019-2021\")\n",
    "plt.ylabel(\"Number of Reports\")\n",
    "plt.xlabel(\"Building ID\")"
   ]
  },
  {
   "cell_type": "markdown",
   "metadata": {},
   "source": [
    "The building with the most complaints in this version of the dataset are:<br>\n",
    "808361 - 1711 Fulton Street<br>\n",
    "309623 - 7 Hegeman Avenue<br>\n",
    "329071 - 210 Lott Avenue<br>\n",
    "231212<br>\n",
    "362955 - 9401 Seaview Avenue<br>\n",
    "363333<br>\n",
    "306283<br>\n",
    "363244<br>\n",
    "320626<br>\n",
    "808943<br>"
   ]
  },
  {
   "cell_type": "markdown",
   "metadata": {},
   "source": [
    "------------------"
   ]
  },
  {
   "cell_type": "markdown",
   "metadata": {},
   "source": [
    "In this section, I will show the top buildings with violations in the 2 year timeframe."
   ]
  },
  {
   "cell_type": "code",
   "execution_count": 41,
   "metadata": {},
   "outputs": [],
   "source": [
    "bv_buildstatus2 = bv_2years[[\"BuildingID\", \"StatusDescription\"]]"
   ]
  },
  {
   "cell_type": "code",
   "execution_count": 42,
   "metadata": {},
   "outputs": [
    {
     "name": "stderr",
     "output_type": "stream",
     "text": [
      "<ipython-input-42-a61094e89e5f>:1: UserWarning: Boolean Series key will be reindexed to match DataFrame index.\n",
      "  bv_sd2 = bv_buildstatus2[(bv_5years.StatusDescription == 'The Department of Housing Preservation and Development inspected the following conditions. Violations were issued. Information about specific violations is available at www.nyc.gov/hpd.')]\n"
     ]
    }
   ],
   "source": [
    "bv_sd2 = bv_buildstatus2[(bv_5years.StatusDescription == 'The Department of Housing Preservation and Development inspected the following conditions. Violations were issued. Information about specific violations is available at www.nyc.gov/hpd.')]"
   ]
  },
  {
   "cell_type": "code",
   "execution_count": 43,
   "metadata": {},
   "outputs": [
    {
     "data": {
      "text/plain": [
       "Text(0.5, 0, 'Building ID')"
      ]
     },
     "execution_count": 43,
     "metadata": {},
     "output_type": "execute_result"
    },
    {
     "data": {
      "image/png": "[encoded data removed]",
      "text/plain": [
       "<Figure size 432x288 with 1 Axes>"
      ]
     },
     "metadata": {
      "needs_background": "light"
     },
     "output_type": "display_data"
    }
   ],
   "source": [
    "bv_sd_counts2 = bv_sd2[\"BuildingID\"].value_counts().head(10)\n",
    "bv_sd_counts2.plot(kind = \"bar\")\n",
    "plt.title(\"Top Buildings with Violations 2019-2021\")\n",
    "plt.ylabel(\"Number of Violations Reported\")\n",
    "plt.xlabel(\"Building ID\")"
   ]
  },
  {
   "cell_type": "markdown",
   "metadata": {},
   "source": [
    "The top buildings with code violations between the years of 2014 and 2021 are:<br>\n",
    "329071 - 210 Lott Avenue<br>\n",
    "309623 - 7 Hegeman Avenue<br>\n",
    "809170<br>\n",
    "324031<br>\n",
    "306283<br>\n",
    "808943<br>\n",
    "362715<br>\n",
    "314798<br>\n",
    "307290<br>\n",
    "363029<br>"
   ]
  },
  {
   "cell_type": "markdown",
   "metadata": {},
   "source": [
    "---------------------"
   ]
  },
  {
   "cell_type": "code",
   "execution_count": null,
   "metadata": {},
   "outputs": [],
   "source": []
  },
  {
   "cell_type": "code",
   "execution_count": 50,
   "metadata": {},
   "outputs": [
    {
     "name": "stderr",
     "output_type": "stream",
     "text": [
      "<ipython-input-50-dd235c417909>:15: SettingWithCopyWarning: \n",
      "A value is trying to be set on a copy of a slice from a DataFrame.\n",
      "Try using .loc[row_indexer,col_indexer] = value instead\n",
      "\n",
      "See the caveats in the documentation: https://pandas.pydata.org/pandas-docs/stable/user_guide/indexing.html#returning-a-view-versus-a-copy\n",
      "  bv_2years['StatusDate'] = pd.to_datetime(bv_2years['StatusDate'])\n",
      "<ipython-input-50-dd235c417909>:16: SettingWithCopyWarning: \n",
      "A value is trying to be set on a copy of a slice from a DataFrame.\n",
      "Try using .loc[row_indexer,col_indexer] = value instead\n",
      "\n",
      "See the caveats in the documentation: https://pandas.pydata.org/pandas-docs/stable/user_guide/indexing.html#returning-a-view-versus-a-copy\n",
      "  bv_2years[\"StatusDateMonth\"] = bv_2years[\"StatusDate\"].dt.month\n"
     ]
    },
    {
     "data": {
      "text/plain": [
       "January      6001\n",
       "February     5026\n",
       "March        4719\n",
       "December     4380\n",
       "November     3931\n",
       "April        3400\n",
       "October      2831\n",
       "July         2258\n",
       "June         2186\n",
       "August       2178\n",
       "May          2096\n",
       "September    1975\n",
       "Name: StatusDateMonth, dtype: int64"
      ]
     },
     "execution_count": 50,
     "metadata": {},
     "output_type": "execute_result"
    }
   ],
   "source": [
    "month = {\n",
    "    1: \"January\", \n",
    "    2: \"February\", \n",
    "    3: \"March\", \n",
    "    4: \"April\", \n",
    "    5: \"May\", \n",
    "    6: \"June\", \n",
    "    7: \"July\",\n",
    "    8: \"August\",\n",
    "    9: \"September\",\n",
    "    10: \"October\",\n",
    "    11: \"November\",\n",
    "    12: \"December\"\n",
    "}\n",
    "bv_2years['StatusDate'] = pd.to_datetime(bv_2years['StatusDate'])\n",
    "bv_2years[\"StatusDateMonth\"] = bv_2years[\"StatusDate\"].dt.month\n",
    "month_counts2 = bv_2years[\"StatusDateMonth\"].value_counts()\n",
    "month_counts2.index = month_counts2.index.map(month)\n",
    "month_counts2"
   ]
  },
  {
   "cell_type": "code",
   "execution_count": 51,
   "metadata": {},
   "outputs": [
    {
     "data": {
      "text/plain": [
       "<matplotlib.axes._subplots.AxesSubplot at 0x278aa603850>"
      ]
     },
     "execution_count": 51,
     "metadata": {},
     "output_type": "execute_result"
    },
    {
     "data": {
      "image/png": "[encoded data removed]",
      "text/plain": [
       "<Figure size 432x288 with 1 Axes>"
      ]
     },
     "metadata": {
      "needs_background": "light"
     },
     "output_type": "display_data"
    }
   ],
   "source": [
    "month_counts2.plot(kind = \"bar\")"
   ]
  },
  {
   "cell_type": "code",
   "execution_count": null,
   "metadata": {},
   "outputs": [],
   "source": []
  }
 ],
 "metadata": {
  "kernelspec": {
   "display_name": "Python 3",
   "language": "python",
   "name": "python3"
  },
  "language_info": {
   "codemirror_mode": {
    "name": "ipython",
    "version": 3
   },
   "file_extension": ".py",
   "mimetype": "text/x-python",
   "name": "python",
   "nbconvert_exporter": "python",
   "pygments_lexer": "ipython3",
   "version": "3.8.3"
  }
 },
 "nbformat": 4,
 "nbformat_minor": 2
}
