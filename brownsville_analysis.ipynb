{
 "metadata": {
  "language_info": {
   "codemirror_mode": {
    "name": "ipython",
    "version": 3
   },
   "file_extension": ".py",
   "mimetype": "text/x-python",
   "name": "python",
   "nbconvert_exporter": "python",
   "pygments_lexer": "ipython3",
   "version": "3.8.1"
  },
  "orig_nbformat": 4,
  "kernelspec": {
   "name": "python3",
   "display_name": "Python 3.8.1 64-bit"
  },
  "interpreter": {
   "hash": "7d5c25a0dcd433e9174dbd40cc8162c4c651cca147fa234e40a811528338fdfd"
  }
 },
 "nbformat": 4,
 "nbformat_minor": 2,
 "cells": [
  {
   "source": [
    "# Brownsville Project - Analysis\n",
    "\n",
    "This codebook contains a brief analysis of the most "
   ],
   "cell_type": "markdown",
   "metadata": {}
  },
  {
   "cell_type": "code",
   "execution_count": 3,
   "metadata": {},
   "outputs": [],
   "source": [
    "import numpy as np \n",
    "import pandas as pd \n",
    "import matplotlib.pyplot as plt\n",
    "\n",
    "import datetime\n",
    "from collections import Counter\n",
    "from helpers import *"
   ]
  },
  {
   "cell_type": "code",
   "execution_count": 4,
   "metadata": {},
   "outputs": [
    {
     "output_type": "execute_result",
     "data": {
      "text/plain": [
       "     Zip   Borough  BoroughID  BuildingID  ProblemID  ComplaintID  UnitTypeID  \\\n",
       "0  11233  BROOKLYN          3      219263   14570531      6977738          91   \n",
       "1  11212  BROOKLYN          3      283890   14618845      6996145          91   \n",
       "2  11212  BROOKLYN          3      283890   14618846      6996145          91   \n",
       "3  11212  BROOKLYN          3      283890   14618847      6996145          91   \n",
       "4  11233  BROOKLYN          3      330347   14585091      6982717          91   \n",
       "\n",
       "    UnitType  SpaceTypeID         SpaceType  ...  MajorCategoryID  \\\n",
       "0  APARTMENT          541          BATHROOM  ...               65   \n",
       "1  APARTMENT          546           KITCHEN  ...                9   \n",
       "2  APARTMENT          545    ENTRANCE/FOYER  ...               56   \n",
       "3  APARTMENT          542           BEDROOM  ...               63   \n",
       "4  APARTMENT          543  ENTIRE APARTMENT  ...               59   \n",
       "\n",
       "          MajorCategory  MinorCategoryID   MinorCategory  CodeID  \\\n",
       "0            WATER LEAK              380      HEAVY FLOW    2828   \n",
       "1              PLUMBING               68    WATER SUPPLY    2564   \n",
       "2           DOOR/WINDOW              333            DOOR    2664   \n",
       "3  UNSANITARY CONDITION              375            MOLD    2817   \n",
       "4        HEAT/HOT WATER              348  APARTMENT ONLY    2833   \n",
       "\n",
       "                       Code  StatusID Status  StatusDate  \\\n",
       "0        AT WALL OR CEILING         2  CLOSE  07/31/2014   \n",
       "1                  NO WATER         2  CLOSE  08/23/2014   \n",
       "2         BROKEN OR MISSING         2  CLOSE  08/23/2014   \n",
       "3                       NaN         2  CLOSE  08/23/2014   \n",
       "4  NO HEAT AND NO HOT WATER         2  CLOSE  08/05/2014   \n",
       "\n",
       "                                   StatusDescription  \n",
       "0  The Department of Housing Preservation and Dev...  \n",
       "1  The Department of Housing Preservation and Dev...  \n",
       "2  The Department of Housing Preservation and Dev...  \n",
       "3  The Department of Housing Preservation and Dev...  \n",
       "4  More than one complaint was received for this ...  \n",
       "\n",
       "[5 rows x 22 columns]"
      ],
      "text/html": "<div>\n<style scoped>\n    .dataframe tbody tr th:only-of-type {\n        vertical-align: middle;\n    }\n\n    .dataframe tbody tr th {\n        vertical-align: top;\n    }\n\n    .dataframe thead th {\n        text-align: right;\n    }\n</style>\n<table border=\"1\" class=\"dataframe\">\n  <thead>\n    <tr style=\"text-align: right;\">\n      <th></th>\n      <th>Zip</th>\n      <th>Borough</th>\n      <th>BoroughID</th>\n      <th>BuildingID</th>\n      <th>ProblemID</th>\n      <th>ComplaintID</th>\n      <th>UnitTypeID</th>\n      <th>UnitType</th>\n      <th>SpaceTypeID</th>\n      <th>SpaceType</th>\n      <th>...</th>\n      <th>MajorCategoryID</th>\n      <th>MajorCategory</th>\n      <th>MinorCategoryID</th>\n      <th>MinorCategory</th>\n      <th>CodeID</th>\n      <th>Code</th>\n      <th>StatusID</th>\n      <th>Status</th>\n      <th>StatusDate</th>\n      <th>StatusDescription</th>\n    </tr>\n  </thead>\n  <tbody>\n    <tr>\n      <th>0</th>\n      <td>11233</td>\n      <td>BROOKLYN</td>\n      <td>3</td>\n      <td>219263</td>\n      <td>14570531</td>\n      <td>6977738</td>\n      <td>91</td>\n      <td>APARTMENT</td>\n      <td>541</td>\n      <td>BATHROOM</td>\n      <td>...</td>\n      <td>65</td>\n      <td>WATER LEAK</td>\n      <td>380</td>\n      <td>HEAVY FLOW</td>\n      <td>2828</td>\n      <td>AT WALL OR CEILING</td>\n      <td>2</td>\n      <td>CLOSE</td>\n      <td>07/31/2014</td>\n      <td>The Department of Housing Preservation and Dev...</td>\n    </tr>\n    <tr>\n      <th>1</th>\n      <td>11212</td>\n      <td>BROOKLYN</td>\n      <td>3</td>\n      <td>283890</td>\n      <td>14618845</td>\n      <td>6996145</td>\n      <td>91</td>\n      <td>APARTMENT</td>\n      <td>546</td>\n      <td>KITCHEN</td>\n      <td>...</td>\n      <td>9</td>\n      <td>PLUMBING</td>\n      <td>68</td>\n      <td>WATER SUPPLY</td>\n      <td>2564</td>\n      <td>NO WATER</td>\n      <td>2</td>\n      <td>CLOSE</td>\n      <td>08/23/2014</td>\n      <td>The Department of Housing Preservation and Dev...</td>\n    </tr>\n    <tr>\n      <th>2</th>\n      <td>11212</td>\n      <td>BROOKLYN</td>\n      <td>3</td>\n      <td>283890</td>\n      <td>14618846</td>\n      <td>6996145</td>\n      <td>91</td>\n      <td>APARTMENT</td>\n      <td>545</td>\n      <td>ENTRANCE/FOYER</td>\n      <td>...</td>\n      <td>56</td>\n      <td>DOOR/WINDOW</td>\n      <td>333</td>\n      <td>DOOR</td>\n      <td>2664</td>\n      <td>BROKEN OR MISSING</td>\n      <td>2</td>\n      <td>CLOSE</td>\n      <td>08/23/2014</td>\n      <td>The Department of Housing Preservation and Dev...</td>\n    </tr>\n    <tr>\n      <th>3</th>\n      <td>11212</td>\n      <td>BROOKLYN</td>\n      <td>3</td>\n      <td>283890</td>\n      <td>14618847</td>\n      <td>6996145</td>\n      <td>91</td>\n      <td>APARTMENT</td>\n      <td>542</td>\n      <td>BEDROOM</td>\n      <td>...</td>\n      <td>63</td>\n      <td>UNSANITARY CONDITION</td>\n      <td>375</td>\n      <td>MOLD</td>\n      <td>2817</td>\n      <td>NaN</td>\n      <td>2</td>\n      <td>CLOSE</td>\n      <td>08/23/2014</td>\n      <td>The Department of Housing Preservation and Dev...</td>\n    </tr>\n    <tr>\n      <th>4</th>\n      <td>11233</td>\n      <td>BROOKLYN</td>\n      <td>3</td>\n      <td>330347</td>\n      <td>14585091</td>\n      <td>6982717</td>\n      <td>91</td>\n      <td>APARTMENT</td>\n      <td>543</td>\n      <td>ENTIRE APARTMENT</td>\n      <td>...</td>\n      <td>59</td>\n      <td>HEAT/HOT WATER</td>\n      <td>348</td>\n      <td>APARTMENT ONLY</td>\n      <td>2833</td>\n      <td>NO HEAT AND NO HOT WATER</td>\n      <td>2</td>\n      <td>CLOSE</td>\n      <td>08/05/2014</td>\n      <td>More than one complaint was received for this ...</td>\n    </tr>\n  </tbody>\n</table>\n<p>5 rows × 22 columns</p>\n</div>"
     },
     "metadata": {},
     "execution_count": 4
    }
   ],
   "source": [
    "raw_data = pd.read_csv(\"brownsville.csv\", delimiter=',')\n",
    "raw_data.head()"
   ]
  },
  {
   "cell_type": "code",
   "execution_count": 5,
   "metadata": {},
   "outputs": [
    {
     "output_type": "execute_result",
     "data": {
      "text/plain": [
       "Monday       29894\n",
       "Thursday     27863\n",
       "Friday       23030\n",
       "Tuesday      21678\n",
       "Wednesday    21157\n",
       "Sunday       10812\n",
       "Saturday      9244\n",
       "Name: StatusDateWeekday, dtype: int64"
      ]
     },
     "metadata": {},
     "execution_count": 5
    }
   ],
   "source": [
    "day = {\n",
    "    0: \"Monday\", \n",
    "    1: \"Tuesday\", \n",
    "    2: \"Wednesday\", \n",
    "    3: \"Thursday\", \n",
    "    4: \"Friday\", \n",
    "    5: \"Saturday\", \n",
    "    6: \"Sunday\"\n",
    "}\n",
    "raw_data[\"StatusDate\"] = pd.to_datetime(raw_data[\"StatusDate\"])\n",
    "raw_data[\"StatusDateWeekday\"] = raw_data[\"StatusDate\"].dt.dayofweek\n",
    "days_reports = raw_data[\"StatusDateWeekday\"].value_counts()\n",
    "days_reports.index = days_reports.index.map(day)\n",
    "days_reports"
   ]
  },
  {
   "cell_type": "code",
   "execution_count": 6,
   "metadata": {},
   "outputs": [
    {
     "output_type": "execute_result",
     "data": {
      "text/plain": [
       "Type           MajorCategory         MinorCategory            \n",
       "EMERGENCY      WATER LEAK            HEAVY FLOW                   8\n",
       "               UNSANITARY CONDITION  MOLD                         6\n",
       "NON EMERGENCY  UNSANITARY CONDITION  PESTS                        4\n",
       "EMERGENCY      ELECTRIC              NO LIGHTING                  3\n",
       "NON EMERGENCY  WATER LEAK            SLOW LEAK                    3\n",
       "               FLOORING/STAIRS       FLOOR                        2\n",
       "               PAINT/PLASTER         WALL                         2\n",
       "               UNSANITARY CONDITION  GARBAGE/RECYCLING STORAGE    2\n",
       "EMERGENCY      DOOR/WINDOW           DOOR                         1\n",
       "               GENERAL               CABINET                      1\n",
       "dtype: int64"
      ]
     },
     "metadata": {},
     "execution_count": 6
    }
   ],
   "source": [
    "get_feature_occurrences_by_building(raw_data, 219263, by=[\"Type\", \"MajorCategory\", \"MinorCategory\"])"
   ]
  },
  {
   "cell_type": "code",
   "execution_count": 7,
   "metadata": {},
   "outputs": [],
   "source": [
    "building_common_complaints = []\n",
    "for _id in set(raw_data[\"BuildingID\"]):\n",
    "    common_complaints = get_feature_occurrences_by_building(\n",
    "                                                            raw_data,\n",
    "                                                            _id,\n",
    "                                                            by=[\"MajorCategory\", \"MinorCategory\"],\n",
    "                                                            find_all=True)\n",
    "\n",
    "    building_common_complaints.append((_id, common_complaints))"
   ]
  },
  {
   "cell_type": "code",
   "execution_count": 8,
   "metadata": {},
   "outputs": [
    {
     "output_type": "execute_result",
     "data": {
      "text/plain": [
       "46"
      ]
     },
     "metadata": {},
     "execution_count": 8
    }
   ],
   "source": [
    "building_common_complaints.sort(key=lambda e: e[1].values.sum(), reverse=True)\n",
    "len(building_common_complaints[0][1])"
   ]
  },
  {
   "cell_type": "code",
   "execution_count": null,
   "metadata": {},
   "outputs": [],
   "source": [
    "for building in building_common_complaints[:10]:\n",
    "    id_, complaints = building\n",
    "    major_category, minor_category = complaints.index[0]\n",
    "    num_complaints = complaints.values.sum()\n",
    "\n",
    "    print(\"Building ID:\", id_)\n",
    "    print(\"Most common major category:\", major_category)\n",
    "    print(\"Most common minor category:\", minor_category)\n",
    "    print(\"Number of complaints:\", num_complaints)\n",
    "\n",
    "    print()"
   ]
  },
  {
   "cell_type": "code",
   "execution_count": null,
   "metadata": {},
   "outputs": [],
   "source": [
    "groups = raw_data.groupby([\"BuildingID\"])[\"MajorCategory\"]\n"
   ]
  },
  {
   "cell_type": "code",
   "execution_count": null,
   "metadata": {},
   "outputs": [],
   "source": [
    "for _id in set(raw_data[\"BuildingID\"]):\n",
    "    pass"
   ]
  }
 ]
}