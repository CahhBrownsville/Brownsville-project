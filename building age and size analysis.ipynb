{
 "cells": [
  {
   "cell_type": "markdown",
   "metadata": {},
   "source": [
    "# Building Ages and Size Analysis"
   ]
  },
  {
   "cell_type": "markdown",
   "metadata": {},
   "source": [
    "In this notebook, we will take a look at information on building ages and sizes. We will compare and look for any paterns, while looking at other information avaliable in the dataset."
   ]
  },
  {
   "cell_type": "markdown",
   "metadata": {},
   "source": [
    "-------------"
   ]
  },
  {
   "cell_type": "markdown",
   "metadata": {},
   "source": [
    "-----------------"
   ]
  },
  {
   "cell_type": "markdown",
   "metadata": {},
   "source": [
    "The analysis in the next two sections is based on the PLUTO dataset, which consists of information on buildings in New York City\n",
    "(https://www1.nyc.gov/site/planning/data-maps/open-data/dwn-pluto-mappluto.page). A disclaimer on that page lets us know that dataset may not be 100% accurate and may have missing data, although it is as accurate as possible."
   ]
  },
  {
   "cell_type": "markdown",
   "metadata": {},
   "source": [
    "# NYC"
   ]
  },
  {
   "cell_type": "markdown",
   "metadata": {},
   "source": [
    "A short analysis of New York City buildings, looking at average age, size, number of floors and number of units. Buildings in NYC are not the central focus of this notebook, but it would be good to have an idea of this information to compare with buildings in the Brownsville area that are of interest. "
   ]
  },
  {
   "cell_type": "code",
   "execution_count": 1,
   "metadata": {},
   "outputs": [],
   "source": [
    "#loading up necesary libraries\n",
    "import matplotlib.pyplot as plt\n",
    "import pandas as pd\n",
    "import numpy as np\n",
    "import datetime as dt\n",
    "import seaborn as sns\n",
    "%matplotlib inline"
   ]
  },
  {
   "cell_type": "code",
   "execution_count": 2,
   "metadata": {
    "scrolled": true
   },
   "outputs": [
    {
     "name": "stderr",
     "output_type": "stream",
     "text": [
      "C:\\Users\\miss_\\anaconda3\\lib\\site-packages\\IPython\\core\\interactiveshell.py:3343: DtypeWarning: Columns (19,20,22,24,26,63,64) have mixed types.Specify dtype option on import or set low_memory=False.\n",
      "  exec(code_obj, self.user_global_ns, self.user_ns)\n"
     ]
    },
    {
     "data": {
      "text/html": [
       "<div>\n",
       "<style scoped>\n",
       "    .dataframe tbody tr th:only-of-type {\n",
       "        vertical-align: middle;\n",
       "    }\n",
       "\n",
       "    .dataframe tbody tr th {\n",
       "        vertical-align: top;\n",
       "    }\n",
       "\n",
       "    .dataframe thead th {\n",
       "        text-align: right;\n",
       "    }\n",
       "</style>\n",
       "<table border=\"1\" class=\"dataframe\">\n",
       "  <thead>\n",
       "    <tr style=\"text-align: right;\">\n",
       "      <th></th>\n",
       "      <th>borough</th>\n",
       "      <th>block</th>\n",
       "      <th>lot</th>\n",
       "      <th>cd</th>\n",
       "      <th>ct2010</th>\n",
       "      <th>cb2010</th>\n",
       "      <th>schooldist</th>\n",
       "      <th>council</th>\n",
       "      <th>zipcode</th>\n",
       "      <th>firecomp</th>\n",
       "      <th>...</th>\n",
       "      <th>appbbl</th>\n",
       "      <th>appdate</th>\n",
       "      <th>plutomapid</th>\n",
       "      <th>firm07_flag</th>\n",
       "      <th>pfirm15_flag</th>\n",
       "      <th>version</th>\n",
       "      <th>dcpedited</th>\n",
       "      <th>latitude</th>\n",
       "      <th>longitude</th>\n",
       "      <th>notes</th>\n",
       "    </tr>\n",
       "  </thead>\n",
       "  <tbody>\n",
       "    <tr>\n",
       "      <th>0</th>\n",
       "      <td>BX</td>\n",
       "      <td>4660</td>\n",
       "      <td>34</td>\n",
       "      <td>212.0</td>\n",
       "      <td>380.00</td>\n",
       "      <td>NaN</td>\n",
       "      <td>11.0</td>\n",
       "      <td>12.0</td>\n",
       "      <td>10467.0</td>\n",
       "      <td>E062</td>\n",
       "      <td>...</td>\n",
       "      <td>NaN</td>\n",
       "      <td>NaN</td>\n",
       "      <td>1</td>\n",
       "      <td>NaN</td>\n",
       "      <td>NaN</td>\n",
       "      <td>21v2</td>\n",
       "      <td>NaN</td>\n",
       "      <td>40.877873</td>\n",
       "      <td>-73.863604</td>\n",
       "      <td>NaN</td>\n",
       "    </tr>\n",
       "    <tr>\n",
       "      <th>1</th>\n",
       "      <td>MN</td>\n",
       "      <td>445</td>\n",
       "      <td>54</td>\n",
       "      <td>103.0</td>\n",
       "      <td>38.00</td>\n",
       "      <td>4000.0</td>\n",
       "      <td>1.0</td>\n",
       "      <td>2.0</td>\n",
       "      <td>10003.0</td>\n",
       "      <td>E028</td>\n",
       "      <td>...</td>\n",
       "      <td>NaN</td>\n",
       "      <td>NaN</td>\n",
       "      <td>1</td>\n",
       "      <td>NaN</td>\n",
       "      <td>NaN</td>\n",
       "      <td>21v2</td>\n",
       "      <td>NaN</td>\n",
       "      <td>40.725333</td>\n",
       "      <td>-73.988711</td>\n",
       "      <td>NaN</td>\n",
       "    </tr>\n",
       "    <tr>\n",
       "      <th>2</th>\n",
       "      <td>MN</td>\n",
       "      <td>467</td>\n",
       "      <td>55</td>\n",
       "      <td>103.0</td>\n",
       "      <td>40.00</td>\n",
       "      <td>2000.0</td>\n",
       "      <td>1.0</td>\n",
       "      <td>2.0</td>\n",
       "      <td>10003.0</td>\n",
       "      <td>L003</td>\n",
       "      <td>...</td>\n",
       "      <td>NaN</td>\n",
       "      <td>NaN</td>\n",
       "      <td>1</td>\n",
       "      <td>NaN</td>\n",
       "      <td>NaN</td>\n",
       "      <td>21v2</td>\n",
       "      <td>NaN</td>\n",
       "      <td>40.731190</td>\n",
       "      <td>-73.987722</td>\n",
       "      <td>NaN</td>\n",
       "    </tr>\n",
       "    <tr>\n",
       "      <th>3</th>\n",
       "      <td>BK</td>\n",
       "      <td>2621</td>\n",
       "      <td>7501</td>\n",
       "      <td>301.0</td>\n",
       "      <td>573.00</td>\n",
       "      <td>3003.0</td>\n",
       "      <td>14.0</td>\n",
       "      <td>33.0</td>\n",
       "      <td>11222.0</td>\n",
       "      <td>E238</td>\n",
       "      <td>...</td>\n",
       "      <td>3.026210e+09</td>\n",
       "      <td>1/23/2008</td>\n",
       "      <td>1</td>\n",
       "      <td>NaN</td>\n",
       "      <td>NaN</td>\n",
       "      <td>21v2</td>\n",
       "      <td>NaN</td>\n",
       "      <td>40.726484</td>\n",
       "      <td>-73.951001</td>\n",
       "      <td>NaN</td>\n",
       "    </tr>\n",
       "    <tr>\n",
       "      <th>4</th>\n",
       "      <td>MN</td>\n",
       "      <td>1970</td>\n",
       "      <td>58</td>\n",
       "      <td>109.0</td>\n",
       "      <td>213.03</td>\n",
       "      <td>1001.0</td>\n",
       "      <td>5.0</td>\n",
       "      <td>9.0</td>\n",
       "      <td>10027.0</td>\n",
       "      <td>E080</td>\n",
       "      <td>...</td>\n",
       "      <td>NaN</td>\n",
       "      <td>NaN</td>\n",
       "      <td>1</td>\n",
       "      <td>NaN</td>\n",
       "      <td>NaN</td>\n",
       "      <td>21v2</td>\n",
       "      <td>NaN</td>\n",
       "      <td>40.817053</td>\n",
       "      <td>-73.952741</td>\n",
       "      <td>NaN</td>\n",
       "    </tr>\n",
       "    <tr>\n",
       "      <th>...</th>\n",
       "      <td>...</td>\n",
       "      <td>...</td>\n",
       "      <td>...</td>\n",
       "      <td>...</td>\n",
       "      <td>...</td>\n",
       "      <td>...</td>\n",
       "      <td>...</td>\n",
       "      <td>...</td>\n",
       "      <td>...</td>\n",
       "      <td>...</td>\n",
       "      <td>...</td>\n",
       "      <td>...</td>\n",
       "      <td>...</td>\n",
       "      <td>...</td>\n",
       "      <td>...</td>\n",
       "      <td>...</td>\n",
       "      <td>...</td>\n",
       "      <td>...</td>\n",
       "      <td>...</td>\n",
       "      <td>...</td>\n",
       "      <td>...</td>\n",
       "    </tr>\n",
       "    <tr>\n",
       "      <th>858208</th>\n",
       "      <td>SI</td>\n",
       "      <td>5016</td>\n",
       "      <td>55</td>\n",
       "      <td>503.0</td>\n",
       "      <td>132.04</td>\n",
       "      <td>NaN</td>\n",
       "      <td>31.0</td>\n",
       "      <td>51.0</td>\n",
       "      <td>10306.0</td>\n",
       "      <td>E162</td>\n",
       "      <td>...</td>\n",
       "      <td>NaN</td>\n",
       "      <td>NaN</td>\n",
       "      <td>3</td>\n",
       "      <td>NaN</td>\n",
       "      <td>NaN</td>\n",
       "      <td>21v2</td>\n",
       "      <td>NaN</td>\n",
       "      <td>40.557440</td>\n",
       "      <td>-74.137239</td>\n",
       "      <td>NaN</td>\n",
       "    </tr>\n",
       "    <tr>\n",
       "      <th>858209</th>\n",
       "      <td>SI</td>\n",
       "      <td>3571</td>\n",
       "      <td>63</td>\n",
       "      <td>502.0</td>\n",
       "      <td>114.02</td>\n",
       "      <td>NaN</td>\n",
       "      <td>31.0</td>\n",
       "      <td>50.0</td>\n",
       "      <td>10306.0</td>\n",
       "      <td>E159</td>\n",
       "      <td>...</td>\n",
       "      <td>NaN</td>\n",
       "      <td>NaN</td>\n",
       "      <td>3</td>\n",
       "      <td>NaN</td>\n",
       "      <td>1.0</td>\n",
       "      <td>21v2</td>\n",
       "      <td>NaN</td>\n",
       "      <td>40.581080</td>\n",
       "      <td>-74.103509</td>\n",
       "      <td>NaN</td>\n",
       "    </tr>\n",
       "    <tr>\n",
       "      <th>858210</th>\n",
       "      <td>BK</td>\n",
       "      <td>7690</td>\n",
       "      <td>206</td>\n",
       "      <td>315.0</td>\n",
       "      <td>642.00</td>\n",
       "      <td>NaN</td>\n",
       "      <td>22.0</td>\n",
       "      <td>45.0</td>\n",
       "      <td>11229.0</td>\n",
       "      <td>E276</td>\n",
       "      <td>...</td>\n",
       "      <td>NaN</td>\n",
       "      <td>NaN</td>\n",
       "      <td>3</td>\n",
       "      <td>NaN</td>\n",
       "      <td>NaN</td>\n",
       "      <td>21v2</td>\n",
       "      <td>NaN</td>\n",
       "      <td>40.612185</td>\n",
       "      <td>-73.944649</td>\n",
       "      <td>NaN</td>\n",
       "    </tr>\n",
       "    <tr>\n",
       "      <th>858211</th>\n",
       "      <td>MN</td>\n",
       "      <td>2105</td>\n",
       "      <td>450</td>\n",
       "      <td>NaN</td>\n",
       "      <td>NaN</td>\n",
       "      <td>NaN</td>\n",
       "      <td>NaN</td>\n",
       "      <td>NaN</td>\n",
       "      <td>NaN</td>\n",
       "      <td>NaN</td>\n",
       "      <td>...</td>\n",
       "      <td>NaN</td>\n",
       "      <td>NaN</td>\n",
       "      <td>3</td>\n",
       "      <td>1.0</td>\n",
       "      <td>1.0</td>\n",
       "      <td>21v2</td>\n",
       "      <td>NaN</td>\n",
       "      <td>40.828169</td>\n",
       "      <td>-73.933870</td>\n",
       "      <td>NaN</td>\n",
       "    </tr>\n",
       "    <tr>\n",
       "      <th>858212</th>\n",
       "      <td>MN</td>\n",
       "      <td>2156</td>\n",
       "      <td>44</td>\n",
       "      <td>112.0</td>\n",
       "      <td>269.00</td>\n",
       "      <td>NaN</td>\n",
       "      <td>6.0</td>\n",
       "      <td>10.0</td>\n",
       "      <td>10033.0</td>\n",
       "      <td>L045</td>\n",
       "      <td>...</td>\n",
       "      <td>NaN</td>\n",
       "      <td>NaN</td>\n",
       "      <td>3</td>\n",
       "      <td>NaN</td>\n",
       "      <td>NaN</td>\n",
       "      <td>21v2</td>\n",
       "      <td>NaN</td>\n",
       "      <td>40.851227</td>\n",
       "      <td>-73.929597</td>\n",
       "      <td>NaN</td>\n",
       "    </tr>\n",
       "  </tbody>\n",
       "</table>\n",
       "<p>858213 rows × 90 columns</p>\n",
       "</div>"
      ],
      "text/plain": [
       "       borough  block   lot     cd  ct2010  cb2010  schooldist  council  \\\n",
       "0           BX   4660    34  212.0  380.00     NaN        11.0     12.0   \n",
       "1           MN    445    54  103.0   38.00  4000.0         1.0      2.0   \n",
       "2           MN    467    55  103.0   40.00  2000.0         1.0      2.0   \n",
       "3           BK   2621  7501  301.0  573.00  3003.0        14.0     33.0   \n",
       "4           MN   1970    58  109.0  213.03  1001.0         5.0      9.0   \n",
       "...        ...    ...   ...    ...     ...     ...         ...      ...   \n",
       "858208      SI   5016    55  503.0  132.04     NaN        31.0     51.0   \n",
       "858209      SI   3571    63  502.0  114.02     NaN        31.0     50.0   \n",
       "858210      BK   7690   206  315.0  642.00     NaN        22.0     45.0   \n",
       "858211      MN   2105   450    NaN     NaN     NaN         NaN      NaN   \n",
       "858212      MN   2156    44  112.0  269.00     NaN         6.0     10.0   \n",
       "\n",
       "        zipcode firecomp  ...        appbbl    appdate  plutomapid  \\\n",
       "0       10467.0     E062  ...           NaN        NaN           1   \n",
       "1       10003.0     E028  ...           NaN        NaN           1   \n",
       "2       10003.0     L003  ...           NaN        NaN           1   \n",
       "3       11222.0     E238  ...  3.026210e+09  1/23/2008           1   \n",
       "4       10027.0     E080  ...           NaN        NaN           1   \n",
       "...         ...      ...  ...           ...        ...         ...   \n",
       "858208  10306.0     E162  ...           NaN        NaN           3   \n",
       "858209  10306.0     E159  ...           NaN        NaN           3   \n",
       "858210  11229.0     E276  ...           NaN        NaN           3   \n",
       "858211      NaN      NaN  ...           NaN        NaN           3   \n",
       "858212  10033.0     L045  ...           NaN        NaN           3   \n",
       "\n",
       "        firm07_flag  pfirm15_flag version dcpedited   latitude  longitude  \\\n",
       "0               NaN           NaN    21v2       NaN  40.877873 -73.863604   \n",
       "1               NaN           NaN    21v2       NaN  40.725333 -73.988711   \n",
       "2               NaN           NaN    21v2       NaN  40.731190 -73.987722   \n",
       "3               NaN           NaN    21v2       NaN  40.726484 -73.951001   \n",
       "4               NaN           NaN    21v2       NaN  40.817053 -73.952741   \n",
       "...             ...           ...     ...       ...        ...        ...   \n",
       "858208          NaN           NaN    21v2       NaN  40.557440 -74.137239   \n",
       "858209          NaN           1.0    21v2       NaN  40.581080 -74.103509   \n",
       "858210          NaN           NaN    21v2       NaN  40.612185 -73.944649   \n",
       "858211          1.0           1.0    21v2       NaN  40.828169 -73.933870   \n",
       "858212          NaN           NaN    21v2       NaN  40.851227 -73.929597   \n",
       "\n",
       "       notes  \n",
       "0        NaN  \n",
       "1        NaN  \n",
       "2        NaN  \n",
       "3        NaN  \n",
       "4        NaN  \n",
       "...      ...  \n",
       "858208   NaN  \n",
       "858209   NaN  \n",
       "858210   NaN  \n",
       "858211   NaN  \n",
       "858212   NaN  \n",
       "\n",
       "[858213 rows x 90 columns]"
      ]
     },
     "execution_count": 2,
     "metadata": {},
     "output_type": "execute_result"
    }
   ],
   "source": [
    "#loading the dataset\n",
    "pluto = pd.read_csv(\"pluto_21v2.csv\")\n",
    "pluto"
   ]
  },
  {
   "cell_type": "code",
   "execution_count": 3,
   "metadata": {
    "scrolled": true
   },
   "outputs": [
    {
     "data": {
      "text/plain": [
       "<bound method DataFrame.isna of        borough  block   lot     cd  ct2010  cb2010  schooldist  council  \\\n",
       "0           BX   4660    34  212.0  380.00     NaN        11.0     12.0   \n",
       "1           MN    445    54  103.0   38.00  4000.0         1.0      2.0   \n",
       "2           MN    467    55  103.0   40.00  2000.0         1.0      2.0   \n",
       "3           BK   2621  7501  301.0  573.00  3003.0        14.0     33.0   \n",
       "4           MN   1970    58  109.0  213.03  1001.0         5.0      9.0   \n",
       "...        ...    ...   ...    ...     ...     ...         ...      ...   \n",
       "858208      SI   5016    55  503.0  132.04     NaN        31.0     51.0   \n",
       "858209      SI   3571    63  502.0  114.02     NaN        31.0     50.0   \n",
       "858210      BK   7690   206  315.0  642.00     NaN        22.0     45.0   \n",
       "858211      MN   2105   450    NaN     NaN     NaN         NaN      NaN   \n",
       "858212      MN   2156    44  112.0  269.00     NaN         6.0     10.0   \n",
       "\n",
       "        zipcode firecomp  ...        appbbl    appdate  plutomapid  \\\n",
       "0       10467.0     E062  ...           NaN        NaN           1   \n",
       "1       10003.0     E028  ...           NaN        NaN           1   \n",
       "2       10003.0     L003  ...           NaN        NaN           1   \n",
       "3       11222.0     E238  ...  3.026210e+09  1/23/2008           1   \n",
       "4       10027.0     E080  ...           NaN        NaN           1   \n",
       "...         ...      ...  ...           ...        ...         ...   \n",
       "858208  10306.0     E162  ...           NaN        NaN           3   \n",
       "858209  10306.0     E159  ...           NaN        NaN           3   \n",
       "858210  11229.0     E276  ...           NaN        NaN           3   \n",
       "858211      NaN      NaN  ...           NaN        NaN           3   \n",
       "858212  10033.0     L045  ...           NaN        NaN           3   \n",
       "\n",
       "        firm07_flag  pfirm15_flag version dcpedited   latitude  longitude  \\\n",
       "0               NaN           NaN    21v2       NaN  40.877873 -73.863604   \n",
       "1               NaN           NaN    21v2       NaN  40.725333 -73.988711   \n",
       "2               NaN           NaN    21v2       NaN  40.731190 -73.987722   \n",
       "3               NaN           NaN    21v2       NaN  40.726484 -73.951001   \n",
       "4               NaN           NaN    21v2       NaN  40.817053 -73.952741   \n",
       "...             ...           ...     ...       ...        ...        ...   \n",
       "858208          NaN           NaN    21v2       NaN  40.557440 -74.137239   \n",
       "858209          NaN           1.0    21v2       NaN  40.581080 -74.103509   \n",
       "858210          NaN           NaN    21v2       NaN  40.612185 -73.944649   \n",
       "858211          1.0           1.0    21v2       NaN  40.828169 -73.933870   \n",
       "858212          NaN           NaN    21v2       NaN  40.851227 -73.929597   \n",
       "\n",
       "       notes  \n",
       "0        NaN  \n",
       "1        NaN  \n",
       "2        NaN  \n",
       "3        NaN  \n",
       "4        NaN  \n",
       "...      ...  \n",
       "858208   NaN  \n",
       "858209   NaN  \n",
       "858210   NaN  \n",
       "858211   NaN  \n",
       "858212   NaN  \n",
       "\n",
       "[858213 rows x 90 columns]>"
      ]
     },
     "execution_count": 3,
     "metadata": {},
     "output_type": "execute_result"
    }
   ],
   "source": [
    "#detecting N/A values\n",
    "pluto.isna"
   ]
  },
  {
   "cell_type": "code",
   "execution_count": 4,
   "metadata": {},
   "outputs": [],
   "source": [
    "#filled N/A values with 0, as removing them entirely affected the datase in a way that left it unusable.\n",
    "pluto.fillna(value=0, inplace=True)"
   ]
  },
  {
   "cell_type": "markdown",
   "metadata": {},
   "source": [
    "I filled the NA values (with 0), because dropping them affected the data in a way that made analyzing dificult"
   ]
  },
  {
   "cell_type": "markdown",
   "metadata": {},
   "source": [
    "-------------"
   ]
  },
  {
   "cell_type": "markdown",
   "metadata": {},
   "source": [
    "Looking at the building square feet (\"bldgarea\" column)"
   ]
  },
  {
   "cell_type": "code",
   "execution_count": 5,
   "metadata": {},
   "outputs": [
    {
     "data": {
      "text/plain": [
       "6504.289891903292"
      ]
     },
     "execution_count": 5,
     "metadata": {},
     "output_type": "execute_result"
    }
   ],
   "source": [
    "pluto[\"bldgarea\"].mean()"
   ]
  },
  {
   "cell_type": "code",
   "execution_count": 6,
   "metadata": {},
   "outputs": [
    {
     "data": {
      "text/plain": [
       "2001.0"
      ]
     },
     "execution_count": 6,
     "metadata": {},
     "output_type": "execute_result"
    }
   ],
   "source": [
    "pluto[\"bldgarea\"].median()"
   ]
  },
  {
   "cell_type": "code",
   "execution_count": 7,
   "metadata": {},
   "outputs": [
    {
     "data": {
      "text/plain": [
       "0    0.0\n",
       "dtype: float64"
      ]
     },
     "execution_count": 7,
     "metadata": {},
     "output_type": "execute_result"
    }
   ],
   "source": [
    "pluto[\"bldgarea\"].mode()"
   ]
  },
  {
   "cell_type": "code",
   "execution_count": 79,
   "metadata": {},
   "outputs": [
    {
     "data": {
      "text/plain": [
       "Text(0.5, 0, 'Building Square Feet')"
      ]
     },
     "execution_count": 79,
     "metadata": {},
     "output_type": "execute_result"
    },
    {
     "data": {
      "image/png": "[encoded data removed]",
      "text/plain": [
       "<Figure size 432x288 with 1 Axes>"
      ]
     },
     "metadata": {
      "needs_background": "light"
     },
     "output_type": "display_data"
    }
   ],
   "source": [
    "pluto['bldgarea'].plot(kind='hist')\n",
    "plt.title(\"Building Square Feet in NYC\")\n",
    "plt.ylabel(\"Number of Buildings\")\n",
    "plt.xlabel(\"Building Square Feet\")"
   ]
  },
  {
   "cell_type": "markdown",
   "metadata": {},
   "source": [
    "-----------------"
   ]
  },
  {
   "cell_type": "markdown",
   "metadata": {},
   "source": [
    "Looking at the year the buildings were built (\"yearbuilt\" column)"
   ]
  },
  {
   "cell_type": "code",
   "execution_count": 9,
   "metadata": {},
   "outputs": [
    {
     "data": {
      "text/plain": [
       "1846.0182646965263"
      ]
     },
     "execution_count": 9,
     "metadata": {},
     "output_type": "execute_result"
    }
   ],
   "source": [
    "pluto[\"yearbuilt\"].mean()"
   ]
  },
  {
   "cell_type": "code",
   "execution_count": 10,
   "metadata": {},
   "outputs": [
    {
     "data": {
      "text/plain": [
       "1930.0"
      ]
     },
     "execution_count": 10,
     "metadata": {},
     "output_type": "execute_result"
    }
   ],
   "source": [
    "pluto[\"yearbuilt\"].median()"
   ]
  },
  {
   "cell_type": "code",
   "execution_count": 11,
   "metadata": {},
   "outputs": [
    {
     "data": {
      "text/plain": [
       "0    1920.0\n",
       "dtype: float64"
      ]
     },
     "execution_count": 11,
     "metadata": {},
     "output_type": "execute_result"
    }
   ],
   "source": [
    "pluto[\"yearbuilt\"].mode()"
   ]
  },
  {
   "cell_type": "markdown",
   "metadata": {},
   "source": [
    "This mean, median and mode of the years of buildings being built is interesting, as a search on Statista reveals that the average building age in NYC is 53 years old (as of 2014). "
   ]
  },
  {
   "cell_type": "code",
   "execution_count": 66,
   "metadata": {},
   "outputs": [
    {
     "data": {
      "text/plain": [
       "Text(0.5, 0, 'Years Built')"
      ]
     },
     "execution_count": 66,
     "metadata": {},
     "output_type": "execute_result"
    },
    {
     "data": {
      "image/png": "[encoded data removed]",
      "text/plain": [
       "<Figure size 432x288 with 1 Axes>"
      ]
     },
     "metadata": {
      "needs_background": "light"
     },
     "output_type": "display_data"
    }
   ],
   "source": [
    "pluto['yearbuilt'].plot(kind='hist',range=(1800,2021), bins=10)\n",
    "plt.title(\"Frequency of Years Buildings were Built in NYC\")\n",
    "plt.ylabel(\"Number of Buildings\")\n",
    "plt.xlabel(\"Years Built\")"
   ]
  },
  {
   "cell_type": "markdown",
   "metadata": {},
   "source": [
    "---------------------"
   ]
  },
  {
   "cell_type": "markdown",
   "metadata": {},
   "source": [
    "Looking at numbers of floors in buildings"
   ]
  },
  {
   "cell_type": "code",
   "execution_count": 12,
   "metadata": {},
   "outputs": [
    {
     "data": {
      "text/plain": [
       "2.3384276164540303"
      ]
     },
     "execution_count": 12,
     "metadata": {},
     "output_type": "execute_result"
    }
   ],
   "source": [
    "pluto[\"numfloors\"].mean()"
   ]
  },
  {
   "cell_type": "code",
   "execution_count": 13,
   "metadata": {},
   "outputs": [
    {
     "data": {
      "text/plain": [
       "2.0"
      ]
     },
     "execution_count": 13,
     "metadata": {},
     "output_type": "execute_result"
    }
   ],
   "source": [
    "pluto[\"numfloors\"].median()"
   ]
  },
  {
   "cell_type": "code",
   "execution_count": 14,
   "metadata": {},
   "outputs": [
    {
     "data": {
      "text/plain": [
       "0    2.0\n",
       "dtype: float64"
      ]
     },
     "execution_count": 14,
     "metadata": {},
     "output_type": "execute_result"
    }
   ],
   "source": [
    "pluto[\"numfloors\"].mode()"
   ]
  },
  {
   "cell_type": "code",
   "execution_count": 81,
   "metadata": {},
   "outputs": [
    {
     "data": {
      "text/plain": [
       "Text(0.5, 0, 'Number of Floors in Building')"
      ]
     },
     "execution_count": 81,
     "metadata": {},
     "output_type": "execute_result"
    },
    {
     "data": {
      "image/png": "[encoded data removed]",
      "text/plain": [
       "<Figure size 432x288 with 1 Axes>"
      ]
     },
     "metadata": {
      "needs_background": "light"
     },
     "output_type": "display_data"
    }
   ],
   "source": [
    "pluto['numfloors'].plot(kind='hist', bins = 20)\n",
    "plt.title(\"Number of Floors in Buildings in NYC\")\n",
    "plt.ylabel(\"Number of Buildings\")\n",
    "plt.xlabel(\"Number of Floors in Building\")"
   ]
  },
  {
   "cell_type": "markdown",
   "metadata": {},
   "source": [
    "-----------------------"
   ]
  },
  {
   "cell_type": "markdown",
   "metadata": {},
   "source": [
    "Number of residental units"
   ]
  },
  {
   "cell_type": "code",
   "execution_count": 15,
   "metadata": {},
   "outputs": [
    {
     "data": {
      "text/plain": [
       "4.188058209325657"
      ]
     },
     "execution_count": 15,
     "metadata": {},
     "output_type": "execute_result"
    }
   ],
   "source": [
    "pluto[\"unitsres\"].mean()"
   ]
  },
  {
   "cell_type": "code",
   "execution_count": 16,
   "metadata": {},
   "outputs": [
    {
     "data": {
      "text/plain": [
       "2.0"
      ]
     },
     "execution_count": 16,
     "metadata": {},
     "output_type": "execute_result"
    }
   ],
   "source": [
    "pluto[\"unitsres\"].median()"
   ]
  },
  {
   "cell_type": "code",
   "execution_count": 17,
   "metadata": {},
   "outputs": [
    {
     "data": {
      "text/plain": [
       "0    1.0\n",
       "dtype: float64"
      ]
     },
     "execution_count": 17,
     "metadata": {},
     "output_type": "execute_result"
    }
   ],
   "source": [
    "pluto[\"unitsres\"].mode()"
   ]
  },
  {
   "cell_type": "code",
   "execution_count": 77,
   "metadata": {},
   "outputs": [
    {
     "data": {
      "text/plain": [
       "Text(0.5, 0, 'Number of Residential Units')"
      ]
     },
     "execution_count": 77,
     "metadata": {},
     "output_type": "execute_result"
    },
    {
     "data": {
      "image/png": "[encoded data removed]",
      "text/plain": [
       "<Figure size 432x288 with 1 Axes>"
      ]
     },
     "metadata": {
      "needs_background": "light"
     },
     "output_type": "display_data"
    }
   ],
   "source": [
    "pluto['unitsres'].plot(kind='hist')\n",
    "plt.title(\"Number of Residential Units in Buildings in NYC\")\n",
    "plt.ylabel(\"Number of Buildings\")\n",
    "plt.xlabel(\"Number of Residential Units\")"
   ]
  },
  {
   "cell_type": "markdown",
   "metadata": {},
   "source": [
    "-----------------------"
   ]
  },
  {
   "cell_type": "markdown",
   "metadata": {},
   "source": [
    "So our information for NYC buildings is: <br>\n",
    "\n",
    "Average building area: 2001 sqr feet<br>\n",
    "\n",
    "Average year buildings were built: 1930<br>\n",
    "\n",
    "Average number of floors: 2.33 floors<br>\n",
    "\n",
    "Average number of residential units per building: 4.1 units"
   ]
  },
  {
   "cell_type": "markdown",
   "metadata": {},
   "source": [
    "--------------------------"
   ]
  },
  {
   "cell_type": "markdown",
   "metadata": {},
   "source": [
    "-----------------"
   ]
  },
  {
   "cell_type": "markdown",
   "metadata": {},
   "source": [
    "# Brownsville"
   ]
  },
  {
   "cell_type": "markdown",
   "metadata": {},
   "source": [
    "In this section, we'll be taking a look at building ages and sizes in the Brownsville area, using the PLUTO dataset."
   ]
  },
  {
   "cell_type": "code",
   "execution_count": 22,
   "metadata": {},
   "outputs": [
    {
     "name": "stderr",
     "output_type": "stream",
     "text": [
      "C:\\Users\\miss_\\anaconda3\\lib\\site-packages\\IPython\\core\\interactiveshell.py:3343: DtypeWarning: Columns (19,22) have mixed types.Specify dtype option on import or set low_memory=False.\n",
      "  exec(code_obj, self.user_global_ns, self.user_ns)\n"
     ]
    },
    {
     "data": {
      "text/html": [
       "<div>\n",
       "<style scoped>\n",
       "    .dataframe tbody tr th:only-of-type {\n",
       "        vertical-align: middle;\n",
       "    }\n",
       "\n",
       "    .dataframe tbody tr th {\n",
       "        vertical-align: top;\n",
       "    }\n",
       "\n",
       "    .dataframe thead th {\n",
       "        text-align: right;\n",
       "    }\n",
       "</style>\n",
       "<table border=\"1\" class=\"dataframe\">\n",
       "  <thead>\n",
       "    <tr style=\"text-align: right;\">\n",
       "      <th></th>\n",
       "      <th>borough</th>\n",
       "      <th>block</th>\n",
       "      <th>lot</th>\n",
       "      <th>cd</th>\n",
       "      <th>ct2010</th>\n",
       "      <th>cb2010</th>\n",
       "      <th>schooldist</th>\n",
       "      <th>council</th>\n",
       "      <th>zipcode</th>\n",
       "      <th>firecomp</th>\n",
       "      <th>...</th>\n",
       "      <th>appbbl</th>\n",
       "      <th>appdate</th>\n",
       "      <th>plutomapid</th>\n",
       "      <th>firm07_flag</th>\n",
       "      <th>pfirm15_flag</th>\n",
       "      <th>version</th>\n",
       "      <th>dcpedited</th>\n",
       "      <th>latitude</th>\n",
       "      <th>longitude</th>\n",
       "      <th>notes</th>\n",
       "    </tr>\n",
       "  </thead>\n",
       "  <tbody>\n",
       "    <tr>\n",
       "      <th>0</th>\n",
       "      <td>BK</td>\n",
       "      <td>1509</td>\n",
       "      <td>7501</td>\n",
       "      <td>303</td>\n",
       "      <td>379.0</td>\n",
       "      <td>1000.0</td>\n",
       "      <td>16</td>\n",
       "      <td>41</td>\n",
       "      <td>11233</td>\n",
       "      <td>E222</td>\n",
       "      <td>...</td>\n",
       "      <td>3.015090e+09</td>\n",
       "      <td>6/12/1993</td>\n",
       "      <td>1</td>\n",
       "      <td>NaN</td>\n",
       "      <td>NaN</td>\n",
       "      <td>21v2</td>\n",
       "      <td>NaN</td>\n",
       "      <td>40.682184</td>\n",
       "      <td>-73.917910</td>\n",
       "      <td>NaN</td>\n",
       "    </tr>\n",
       "    <tr>\n",
       "      <th>1</th>\n",
       "      <td>BK</td>\n",
       "      <td>1510</td>\n",
       "      <td>7501</td>\n",
       "      <td>316</td>\n",
       "      <td>373.0</td>\n",
       "      <td>3001.0</td>\n",
       "      <td>23</td>\n",
       "      <td>41</td>\n",
       "      <td>11233</td>\n",
       "      <td>E233</td>\n",
       "      <td>...</td>\n",
       "      <td>3.015100e+09</td>\n",
       "      <td>6/12/1993</td>\n",
       "      <td>1</td>\n",
       "      <td>NaN</td>\n",
       "      <td>NaN</td>\n",
       "      <td>21v2</td>\n",
       "      <td>t</td>\n",
       "      <td>40.682596</td>\n",
       "      <td>-73.914863</td>\n",
       "      <td>NaN</td>\n",
       "    </tr>\n",
       "    <tr>\n",
       "      <th>2</th>\n",
       "      <td>BK</td>\n",
       "      <td>3622</td>\n",
       "      <td>19</td>\n",
       "      <td>316</td>\n",
       "      <td>896.0</td>\n",
       "      <td>2003.0</td>\n",
       "      <td>23</td>\n",
       "      <td>42</td>\n",
       "      <td>11212</td>\n",
       "      <td>E257</td>\n",
       "      <td>...</td>\n",
       "      <td>3.036220e+09</td>\n",
       "      <td>9/20/2004</td>\n",
       "      <td>1</td>\n",
       "      <td>NaN</td>\n",
       "      <td>NaN</td>\n",
       "      <td>21v2</td>\n",
       "      <td>NaN</td>\n",
       "      <td>40.656548</td>\n",
       "      <td>-73.911000</td>\n",
       "      <td>NaN</td>\n",
       "    </tr>\n",
       "    <tr>\n",
       "      <th>3</th>\n",
       "      <td>BK</td>\n",
       "      <td>3621</td>\n",
       "      <td>49</td>\n",
       "      <td>316</td>\n",
       "      <td>896.0</td>\n",
       "      <td>2002.0</td>\n",
       "      <td>23</td>\n",
       "      <td>42</td>\n",
       "      <td>11212</td>\n",
       "      <td>E257</td>\n",
       "      <td>...</td>\n",
       "      <td>NaN</td>\n",
       "      <td>NaN</td>\n",
       "      <td>1</td>\n",
       "      <td>NaN</td>\n",
       "      <td>NaN</td>\n",
       "      <td>21v2</td>\n",
       "      <td>NaN</td>\n",
       "      <td>40.656466</td>\n",
       "      <td>-73.911537</td>\n",
       "      <td>NaN</td>\n",
       "    </tr>\n",
       "    <tr>\n",
       "      <th>4</th>\n",
       "      <td>BK</td>\n",
       "      <td>3557</td>\n",
       "      <td>8</td>\n",
       "      <td>316</td>\n",
       "      <td>898.0</td>\n",
       "      <td>1000.0</td>\n",
       "      <td>23</td>\n",
       "      <td>41</td>\n",
       "      <td>11212</td>\n",
       "      <td>L120</td>\n",
       "      <td>...</td>\n",
       "      <td>NaN</td>\n",
       "      <td>NaN</td>\n",
       "      <td>1</td>\n",
       "      <td>NaN</td>\n",
       "      <td>NaN</td>\n",
       "      <td>21v2</td>\n",
       "      <td>NaN</td>\n",
       "      <td>40.664122</td>\n",
       "      <td>-73.912947</td>\n",
       "      <td>NaN</td>\n",
       "    </tr>\n",
       "    <tr>\n",
       "      <th>...</th>\n",
       "      <td>...</td>\n",
       "      <td>...</td>\n",
       "      <td>...</td>\n",
       "      <td>...</td>\n",
       "      <td>...</td>\n",
       "      <td>...</td>\n",
       "      <td>...</td>\n",
       "      <td>...</td>\n",
       "      <td>...</td>\n",
       "      <td>...</td>\n",
       "      <td>...</td>\n",
       "      <td>...</td>\n",
       "      <td>...</td>\n",
       "      <td>...</td>\n",
       "      <td>...</td>\n",
       "      <td>...</td>\n",
       "      <td>...</td>\n",
       "      <td>...</td>\n",
       "      <td>...</td>\n",
       "      <td>...</td>\n",
       "      <td>...</td>\n",
       "    </tr>\n",
       "    <tr>\n",
       "      <th>14578</th>\n",
       "      <td>BK</td>\n",
       "      <td>4717</td>\n",
       "      <td>2</td>\n",
       "      <td>317</td>\n",
       "      <td>890.0</td>\n",
       "      <td>NaN</td>\n",
       "      <td>18</td>\n",
       "      <td>42</td>\n",
       "      <td>11212</td>\n",
       "      <td>E257</td>\n",
       "      <td>...</td>\n",
       "      <td>NaN</td>\n",
       "      <td>NaN</td>\n",
       "      <td>1</td>\n",
       "      <td>NaN</td>\n",
       "      <td>NaN</td>\n",
       "      <td>21v2</td>\n",
       "      <td>NaN</td>\n",
       "      <td>40.654439</td>\n",
       "      <td>-73.913111</td>\n",
       "      <td>NaN</td>\n",
       "    </tr>\n",
       "    <tr>\n",
       "      <th>14579</th>\n",
       "      <td>BK</td>\n",
       "      <td>4717</td>\n",
       "      <td>17</td>\n",
       "      <td>317</td>\n",
       "      <td>890.0</td>\n",
       "      <td>5000.0</td>\n",
       "      <td>18</td>\n",
       "      <td>42</td>\n",
       "      <td>11212</td>\n",
       "      <td>E257</td>\n",
       "      <td>...</td>\n",
       "      <td>NaN</td>\n",
       "      <td>NaN</td>\n",
       "      <td>1</td>\n",
       "      <td>NaN</td>\n",
       "      <td>NaN</td>\n",
       "      <td>21v2</td>\n",
       "      <td>NaN</td>\n",
       "      <td>40.654763</td>\n",
       "      <td>-73.914034</td>\n",
       "      <td>NaN</td>\n",
       "    </tr>\n",
       "    <tr>\n",
       "      <th>14580</th>\n",
       "      <td>BK</td>\n",
       "      <td>3565</td>\n",
       "      <td>1</td>\n",
       "      <td>316</td>\n",
       "      <td>892.0</td>\n",
       "      <td>NaN</td>\n",
       "      <td>23</td>\n",
       "      <td>41</td>\n",
       "      <td>11212</td>\n",
       "      <td>E283</td>\n",
       "      <td>...</td>\n",
       "      <td>NaN</td>\n",
       "      <td>NaN</td>\n",
       "      <td>1</td>\n",
       "      <td>NaN</td>\n",
       "      <td>NaN</td>\n",
       "      <td>21v2</td>\n",
       "      <td>t</td>\n",
       "      <td>40.661316</td>\n",
       "      <td>-73.918585</td>\n",
       "      <td>NaN</td>\n",
       "    </tr>\n",
       "    <tr>\n",
       "      <th>14581</th>\n",
       "      <td>BK</td>\n",
       "      <td>3520</td>\n",
       "      <td>82</td>\n",
       "      <td>316</td>\n",
       "      <td>924.0</td>\n",
       "      <td>NaN</td>\n",
       "      <td>23</td>\n",
       "      <td>41</td>\n",
       "      <td>11212</td>\n",
       "      <td>L120</td>\n",
       "      <td>...</td>\n",
       "      <td>NaN</td>\n",
       "      <td>NaN</td>\n",
       "      <td>3</td>\n",
       "      <td>NaN</td>\n",
       "      <td>NaN</td>\n",
       "      <td>21v2</td>\n",
       "      <td>NaN</td>\n",
       "      <td>40.667114</td>\n",
       "      <td>-73.911906</td>\n",
       "      <td>NaN</td>\n",
       "    </tr>\n",
       "    <tr>\n",
       "      <th>14582</th>\n",
       "      <td>BK</td>\n",
       "      <td>3862</td>\n",
       "      <td>1</td>\n",
       "      <td>316</td>\n",
       "      <td>920.0</td>\n",
       "      <td>NaN</td>\n",
       "      <td>23</td>\n",
       "      <td>42</td>\n",
       "      <td>11212</td>\n",
       "      <td>E257</td>\n",
       "      <td>...</td>\n",
       "      <td>NaN</td>\n",
       "      <td>NaN</td>\n",
       "      <td>3</td>\n",
       "      <td>NaN</td>\n",
       "      <td>NaN</td>\n",
       "      <td>21v2</td>\n",
       "      <td>NaN</td>\n",
       "      <td>40.657641</td>\n",
       "      <td>-73.901324</td>\n",
       "      <td>NaN</td>\n",
       "    </tr>\n",
       "  </tbody>\n",
       "</table>\n",
       "<p>14583 rows × 90 columns</p>\n",
       "</div>"
      ],
      "text/plain": [
       "      borough  block   lot   cd  ct2010  cb2010  schooldist  council  zipcode  \\\n",
       "0          BK   1509  7501  303   379.0  1000.0          16       41    11233   \n",
       "1          BK   1510  7501  316   373.0  3001.0          23       41    11233   \n",
       "2          BK   3622    19  316   896.0  2003.0          23       42    11212   \n",
       "3          BK   3621    49  316   896.0  2002.0          23       42    11212   \n",
       "4          BK   3557     8  316   898.0  1000.0          23       41    11212   \n",
       "...       ...    ...   ...  ...     ...     ...         ...      ...      ...   \n",
       "14578      BK   4717     2  317   890.0     NaN          18       42    11212   \n",
       "14579      BK   4717    17  317   890.0  5000.0          18       42    11212   \n",
       "14580      BK   3565     1  316   892.0     NaN          23       41    11212   \n",
       "14581      BK   3520    82  316   924.0     NaN          23       41    11212   \n",
       "14582      BK   3862     1  316   920.0     NaN          23       42    11212   \n",
       "\n",
       "      firecomp  ...        appbbl    appdate  plutomapid  firm07_flag  \\\n",
       "0         E222  ...  3.015090e+09  6/12/1993           1          NaN   \n",
       "1         E233  ...  3.015100e+09  6/12/1993           1          NaN   \n",
       "2         E257  ...  3.036220e+09  9/20/2004           1          NaN   \n",
       "3         E257  ...           NaN        NaN           1          NaN   \n",
       "4         L120  ...           NaN        NaN           1          NaN   \n",
       "...        ...  ...           ...        ...         ...          ...   \n",
       "14578     E257  ...           NaN        NaN           1          NaN   \n",
       "14579     E257  ...           NaN        NaN           1          NaN   \n",
       "14580     E283  ...           NaN        NaN           1          NaN   \n",
       "14581     L120  ...           NaN        NaN           3          NaN   \n",
       "14582     E257  ...           NaN        NaN           3          NaN   \n",
       "\n",
       "       pfirm15_flag version dcpedited   latitude  longitude notes  \n",
       "0               NaN    21v2       NaN  40.682184 -73.917910   NaN  \n",
       "1               NaN    21v2         t  40.682596 -73.914863   NaN  \n",
       "2               NaN    21v2       NaN  40.656548 -73.911000   NaN  \n",
       "3               NaN    21v2       NaN  40.656466 -73.911537   NaN  \n",
       "4               NaN    21v2       NaN  40.664122 -73.912947   NaN  \n",
       "...             ...     ...       ...        ...        ...   ...  \n",
       "14578           NaN    21v2       NaN  40.654439 -73.913111   NaN  \n",
       "14579           NaN    21v2       NaN  40.654763 -73.914034   NaN  \n",
       "14580           NaN    21v2         t  40.661316 -73.918585   NaN  \n",
       "14581           NaN    21v2       NaN  40.667114 -73.911906   NaN  \n",
       "14582           NaN    21v2       NaN  40.657641 -73.901324   NaN  \n",
       "\n",
       "[14583 rows x 90 columns]"
      ]
     },
     "execution_count": 22,
     "metadata": {},
     "output_type": "execute_result"
    }
   ],
   "source": [
    "pluto_bk16 = pd.read_csv(\"pluto_bk16.csv\")\n",
    "pluto_bk16"
   ]
  },
  {
   "cell_type": "code",
   "execution_count": 23,
   "metadata": {},
   "outputs": [],
   "source": [
    "pluto_bk16.fillna(value=0, inplace=True)"
   ]
  },
  {
   "cell_type": "markdown",
   "metadata": {},
   "source": [
    "--------------------"
   ]
  },
  {
   "cell_type": "markdown",
   "metadata": {},
   "source": [
    "Building area"
   ]
  },
  {
   "cell_type": "code",
   "execution_count": 24,
   "metadata": {},
   "outputs": [
    {
     "data": {
      "text/plain": [
       "5181.590070630185"
      ]
     },
     "execution_count": 24,
     "metadata": {},
     "output_type": "execute_result"
    }
   ],
   "source": [
    "pluto_bk16[\"bldgarea\"].mean()"
   ]
  },
  {
   "cell_type": "code",
   "execution_count": 25,
   "metadata": {},
   "outputs": [
    {
     "data": {
      "text/plain": [
       "2564.0"
      ]
     },
     "execution_count": 25,
     "metadata": {},
     "output_type": "execute_result"
    }
   ],
   "source": [
    "pluto_bk16[\"bldgarea\"].median()"
   ]
  },
  {
   "cell_type": "code",
   "execution_count": 26,
   "metadata": {},
   "outputs": [
    {
     "data": {
      "text/plain": [
       "0    0.0\n",
       "dtype: float64"
      ]
     },
     "execution_count": 26,
     "metadata": {},
     "output_type": "execute_result"
    }
   ],
   "source": [
    "pluto_bk16[\"bldgarea\"].mode()"
   ]
  },
  {
   "cell_type": "code",
   "execution_count": 80,
   "metadata": {},
   "outputs": [
    {
     "data": {
      "text/plain": [
       "Text(0.5, 0, 'Building Square Feet')"
      ]
     },
     "execution_count": 80,
     "metadata": {},
     "output_type": "execute_result"
    },
    {
     "data": {
      "image/png": "[encoded data removed]",
      "text/plain": [
       "<Figure size 432x288 with 1 Axes>"
      ]
     },
     "metadata": {
      "needs_background": "light"
     },
     "output_type": "display_data"
    }
   ],
   "source": [
    "pluto_bk16['bldgarea'].plot(kind='hist')\n",
    "plt.title(\"Building Square Feet in General Brownsville Area\")\n",
    "plt.ylabel(\"Number of Buildings\")\n",
    "plt.xlabel(\"Building Square Feet\")"
   ]
  },
  {
   "cell_type": "markdown",
   "metadata": {},
   "source": [
    "---------------------"
   ]
  },
  {
   "cell_type": "markdown",
   "metadata": {},
   "source": [
    "Year built"
   ]
  },
  {
   "cell_type": "code",
   "execution_count": 27,
   "metadata": {},
   "outputs": [
    {
     "data": {
      "text/plain": [
       "1809.399711993417"
      ]
     },
     "execution_count": 27,
     "metadata": {},
     "output_type": "execute_result"
    }
   ],
   "source": [
    "pluto_bk16[\"yearbuilt\"].mean()"
   ]
  },
  {
   "cell_type": "code",
   "execution_count": 28,
   "metadata": {},
   "outputs": [
    {
     "data": {
      "text/plain": [
       "1925.0"
      ]
     },
     "execution_count": 28,
     "metadata": {},
     "output_type": "execute_result"
    }
   ],
   "source": [
    "pluto_bk16[\"yearbuilt\"].median()"
   ]
  },
  {
   "cell_type": "code",
   "execution_count": 29,
   "metadata": {},
   "outputs": [
    {
     "data": {
      "text/plain": [
       "0    1930.0\n",
       "dtype: float64"
      ]
     },
     "execution_count": 29,
     "metadata": {},
     "output_type": "execute_result"
    }
   ],
   "source": [
    "pluto_bk16[\"yearbuilt\"].mode()"
   ]
  },
  {
   "cell_type": "code",
   "execution_count": 72,
   "metadata": {},
   "outputs": [
    {
     "data": {
      "text/plain": [
       "Text(0.5, 0, 'Years Built')"
      ]
     },
     "execution_count": 72,
     "metadata": {},
     "output_type": "execute_result"
    },
    {
     "data": {
      "image/png": "[encoded data removed]",
      "text/plain": [
       "<Figure size 432x288 with 1 Axes>"
      ]
     },
     "metadata": {
      "needs_background": "light"
     },
     "output_type": "display_data"
    }
   ],
   "source": [
    "pluto_bk16['yearbuilt'].plot(kind='hist',range=(1800,2021), bins=10)\n",
    "plt.title(\"Frequency of Years Buildings were Built in Brownsville\")\n",
    "plt.ylabel(\"Number of Buildings\")\n",
    "plt.xlabel(\"Years Built\")"
   ]
  },
  {
   "cell_type": "markdown",
   "metadata": {},
   "source": [
    "--------------------"
   ]
  },
  {
   "cell_type": "markdown",
   "metadata": {},
   "source": [
    "Number of floors"
   ]
  },
  {
   "cell_type": "code",
   "execution_count": 30,
   "metadata": {},
   "outputs": [
    {
     "data": {
      "text/plain": [
       "2.278555166975245"
      ]
     },
     "execution_count": 30,
     "metadata": {},
     "output_type": "execute_result"
    }
   ],
   "source": [
    "pluto_bk16[\"numfloors\"].mean()"
   ]
  },
  {
   "cell_type": "code",
   "execution_count": 31,
   "metadata": {},
   "outputs": [
    {
     "data": {
      "text/plain": [
       "2.0"
      ]
     },
     "execution_count": 31,
     "metadata": {},
     "output_type": "execute_result"
    }
   ],
   "source": [
    "pluto_bk16[\"numfloors\"].median()"
   ]
  },
  {
   "cell_type": "code",
   "execution_count": 32,
   "metadata": {},
   "outputs": [
    {
     "data": {
      "text/plain": [
       "0    2.0\n",
       "dtype: float64"
      ]
     },
     "execution_count": 32,
     "metadata": {},
     "output_type": "execute_result"
    }
   ],
   "source": [
    "pluto_bk16[\"numfloors\"].mode()"
   ]
  },
  {
   "cell_type": "code",
   "execution_count": 82,
   "metadata": {},
   "outputs": [
    {
     "data": {
      "text/plain": [
       "Text(0.5, 0, 'Number of Floors in Building')"
      ]
     },
     "execution_count": 82,
     "metadata": {},
     "output_type": "execute_result"
    },
    {
     "data": {
      "image/png": "[encoded data removed]",
      "text/plain": [
       "<Figure size 432x288 with 1 Axes>"
      ]
     },
     "metadata": {
      "needs_background": "light"
     },
     "output_type": "display_data"
    }
   ],
   "source": [
    "pluto_bk16['numfloors'].plot(kind='hist', bins = 20)\n",
    "plt.title(\"Number of Floors in Buildings in General Brownsville Area\")\n",
    "plt.ylabel(\"Number of Buildings\")\n",
    "plt.xlabel(\"Number of Floors in Building\")"
   ]
  },
  {
   "cell_type": "markdown",
   "metadata": {},
   "source": [
    "----------------------------"
   ]
  },
  {
   "cell_type": "markdown",
   "metadata": {},
   "source": [
    "Number of residential units"
   ]
  },
  {
   "cell_type": "code",
   "execution_count": 33,
   "metadata": {},
   "outputs": [
    {
     "data": {
      "text/plain": [
       "4.374957141877529"
      ]
     },
     "execution_count": 33,
     "metadata": {},
     "output_type": "execute_result"
    }
   ],
   "source": [
    "pluto_bk16[\"unitsres\"].mean()"
   ]
  },
  {
   "cell_type": "code",
   "execution_count": 34,
   "metadata": {},
   "outputs": [
    {
     "data": {
      "text/plain": [
       "2.0"
      ]
     },
     "execution_count": 34,
     "metadata": {},
     "output_type": "execute_result"
    }
   ],
   "source": [
    "pluto_bk16[\"unitsres\"].median()"
   ]
  },
  {
   "cell_type": "code",
   "execution_count": 35,
   "metadata": {},
   "outputs": [
    {
     "data": {
      "text/plain": [
       "0    2.0\n",
       "dtype: float64"
      ]
     },
     "execution_count": 35,
     "metadata": {},
     "output_type": "execute_result"
    }
   ],
   "source": [
    "pluto_bk16[\"unitsres\"].mode()"
   ]
  },
  {
   "cell_type": "code",
   "execution_count": 78,
   "metadata": {},
   "outputs": [
    {
     "data": {
      "text/plain": [
       "Text(0.5, 0, 'Number of Residential Units')"
      ]
     },
     "execution_count": 78,
     "metadata": {},
     "output_type": "execute_result"
    },
    {
     "data": {
      "image/png": "[encoded data removed]",
      "text/plain": [
       "<Figure size 432x288 with 1 Axes>"
      ]
     },
     "metadata": {
      "needs_background": "light"
     },
     "output_type": "display_data"
    }
   ],
   "source": [
    "pluto_bk16['unitsres'].plot(kind='hist', bins=20)\n",
    "plt.title(\"Number of Residential Units in Buildings in General Brownsville Area\")\n",
    "plt.ylabel(\"Number of Buildings\")\n",
    "plt.xlabel(\"Number of Residential Units\")"
   ]
  },
  {
   "cell_type": "markdown",
   "metadata": {},
   "source": [
    "------"
   ]
  },
  {
   "cell_type": "markdown",
   "metadata": {},
   "source": [
    "So our information for Brownsville buildings is: <br>\n",
    "\n",
    "Average building area: 2,564 sqr feet<br>\n",
    "\n",
    "Average year buildings were built: 1925<br>\n",
    "\n",
    "Average number of floors: 2 floors<br>\n",
    "\n",
    "Average number of residential units per building:  2 units"
   ]
  },
  {
   "cell_type": "markdown",
   "metadata": {},
   "source": [
    "-----------------"
   ]
  },
  {
   "cell_type": "markdown",
   "metadata": {},
   "source": [
    "---------------"
   ]
  },
  {
   "cell_type": "markdown",
   "metadata": {},
   "source": [
    "# Brownsville Complaints Buildings"
   ]
  },
  {
   "cell_type": "markdown",
   "metadata": {},
   "source": [
    "In this section we will be using the Brownsville API dataset, because it has both building size and age information, and also complaints information."
   ]
  },
  {
   "cell_type": "code",
   "execution_count": 40,
   "metadata": {
    "scrolled": true
   },
   "outputs": [
    {
     "data": {
      "text/html": [
       "<div>\n",
       "<style scoped>\n",
       "    .dataframe tbody tr th:only-of-type {\n",
       "        vertical-align: middle;\n",
       "    }\n",
       "\n",
       "    .dataframe tbody tr th {\n",
       "        vertical-align: top;\n",
       "    }\n",
       "\n",
       "    .dataframe thead th {\n",
       "        text-align: right;\n",
       "    }\n",
       "</style>\n",
       "<table border=\"1\" class=\"dataframe\">\n",
       "  <thead>\n",
       "    <tr style=\"text-align: right;\">\n",
       "      <th></th>\n",
       "      <th>Unnamed: 0</th>\n",
       "      <th>complaintid</th>\n",
       "      <th>buildingid</th>\n",
       "      <th>boroughid</th>\n",
       "      <th>borough</th>\n",
       "      <th>housenumber</th>\n",
       "      <th>streetname</th>\n",
       "      <th>zip</th>\n",
       "      <th>block</th>\n",
       "      <th>lot</th>\n",
       "      <th>apartment</th>\n",
       "      <th>communityboard</th>\n",
       "      <th>receiveddate</th>\n",
       "      <th>status</th>\n",
       "      <th>unittypeid</th>\n",
       "      <th>spacetypeid</th>\n",
       "      <th>typeid</th>\n",
       "      <th>majorcategoryid</th>\n",
       "      <th>minorcategoryid</th>\n",
       "      <th>codeid</th>\n",
       "      <th>statusdate</th>\n",
       "      <th>statusdescription</th>\n",
       "      <th>address</th>\n",
       "      <th>latitude</th>\n",
       "      <th>longitude</th>\n",
       "      <th>bbl</th>\n",
       "      <th>bldgclass</th>\n",
       "      <th>bldgarea</th>\n",
       "      <th>numbldgs</th>\n",
       "      <th>numfloors</th>\n",
       "      <th>unitsres</th>\n",
       "      <th>unitstotal</th>\n",
       "      <th>landuse</th>\n",
       "      <th>ownername</th>\n",
       "      <th>yearbuilt</th>\n",
       "      <th>yearalter1</th>\n",
       "      <th>yearalter2</th>\n",
       "      <th>ownertype</th>\n",
       "      <th>ownertypelong</th>\n",
       "      <th>unittype</th>\n",
       "      <th>spacetype</th>\n",
       "      <th>type</th>\n",
       "      <th>code</th>\n",
       "      <th>majorcategory</th>\n",
       "      <th>minorcategory</th>\n",
       "      <th>statusdescriptionshort</th>\n",
       "    </tr>\n",
       "  </thead>\n",
       "  <tbody>\n",
       "    <tr>\n",
       "      <th>0</th>\n",
       "      <td>0</td>\n",
       "      <td>7419258</td>\n",
       "      <td>314794</td>\n",
       "      <td>3</td>\n",
       "      <td>BROOKLYN</td>\n",
       "      <td>214</td>\n",
       "      <td>HULL STREET</td>\n",
       "      <td>11233</td>\n",
       "      <td>1540</td>\n",
       "      <td>23</td>\n",
       "      <td>3L</td>\n",
       "      <td>16</td>\n",
       "      <td>2015-04-01</td>\n",
       "      <td>CLOSE</td>\n",
       "      <td>92</td>\n",
       "      <td>550</td>\n",
       "      <td>1</td>\n",
       "      <td>59</td>\n",
       "      <td>349</td>\n",
       "      <td>2715</td>\n",
       "      <td>2015-04-06</td>\n",
       "      <td>The Department of Housing Preservation and Dev...</td>\n",
       "      <td>214 HULL STREET</td>\n",
       "      <td>40.679984</td>\n",
       "      <td>-73.907031</td>\n",
       "      <td>3015400023</td>\n",
       "      <td>C1</td>\n",
       "      <td>7600.0</td>\n",
       "      <td>1</td>\n",
       "      <td>4.0</td>\n",
       "      <td>8</td>\n",
       "      <td>8</td>\n",
       "      <td>2.0</td>\n",
       "      <td>HULL STREET ASSOCIATES , LLC</td>\n",
       "      <td>1910</td>\n",
       "      <td>0</td>\n",
       "      <td>0</td>\n",
       "      <td>NaN</td>\n",
       "      <td>UNKNOWN (USUALLY PRIVATE OWNERSHIP)</td>\n",
       "      <td>BUILDING-WIDE</td>\n",
       "      <td>BUILDING-WIDE</td>\n",
       "      <td>EMERGENCY</td>\n",
       "      <td>NO HEAT</td>\n",
       "      <td>HEAT/HOT WATER</td>\n",
       "      <td>ENTIRE BUILDING</td>\n",
       "      <td>Single complaint; tenant confirmed resolved</td>\n",
       "    </tr>\n",
       "    <tr>\n",
       "      <th>1</th>\n",
       "      <td>1</td>\n",
       "      <td>7419264</td>\n",
       "      <td>311915</td>\n",
       "      <td>3</td>\n",
       "      <td>BROOKLYN</td>\n",
       "      <td>530</td>\n",
       "      <td>HERZL STREET</td>\n",
       "      <td>11212</td>\n",
       "      <td>3620</td>\n",
       "      <td>38</td>\n",
       "      <td>B6</td>\n",
       "      <td>16</td>\n",
       "      <td>2015-04-01</td>\n",
       "      <td>CLOSE</td>\n",
       "      <td>91</td>\n",
       "      <td>543</td>\n",
       "      <td>1</td>\n",
       "      <td>59</td>\n",
       "      <td>348</td>\n",
       "      <td>2713</td>\n",
       "      <td>2015-04-07</td>\n",
       "      <td>The Department of Housing Preservation and Dev...</td>\n",
       "      <td>530 HERZL STREET</td>\n",
       "      <td>40.656544</td>\n",
       "      <td>-73.912252</td>\n",
       "      <td>3036200038</td>\n",
       "      <td>C1</td>\n",
       "      <td>40000.0</td>\n",
       "      <td>1</td>\n",
       "      <td>4.0</td>\n",
       "      <td>46</td>\n",
       "      <td>46</td>\n",
       "      <td>2.0</td>\n",
       "      <td>530 HERZL</td>\n",
       "      <td>1930</td>\n",
       "      <td>0</td>\n",
       "      <td>0</td>\n",
       "      <td>NaN</td>\n",
       "      <td>UNKNOWN (USUALLY PRIVATE OWNERSHIP)</td>\n",
       "      <td>APARTMENT</td>\n",
       "      <td>ENTIRE APARTMENT</td>\n",
       "      <td>EMERGENCY</td>\n",
       "      <td>NO HEAT</td>\n",
       "      <td>HEAT/HOT WATER</td>\n",
       "      <td>APARTMENT ONLY</td>\n",
       "      <td>Inspected; no violations issued</td>\n",
       "    </tr>\n",
       "    <tr>\n",
       "      <th>2</th>\n",
       "      <td>2</td>\n",
       "      <td>7419438</td>\n",
       "      <td>873260</td>\n",
       "      <td>3</td>\n",
       "      <td>BROOKLYN</td>\n",
       "      <td>2313</td>\n",
       "      <td>PACIFIC STREET</td>\n",
       "      <td>11233</td>\n",
       "      <td>1435</td>\n",
       "      <td>54</td>\n",
       "      <td>1</td>\n",
       "      <td>16</td>\n",
       "      <td>2015-04-01</td>\n",
       "      <td>CLOSE</td>\n",
       "      <td>91</td>\n",
       "      <td>543</td>\n",
       "      <td>1</td>\n",
       "      <td>56</td>\n",
       "      <td>337</td>\n",
       "      <td>2836</td>\n",
       "      <td>2015-04-14</td>\n",
       "      <td>The Department of Housing Preservation and Dev...</td>\n",
       "      <td>2313 PACIFIC STREET</td>\n",
       "      <td>40.675423</td>\n",
       "      <td>-73.908974</td>\n",
       "      <td>3014350054</td>\n",
       "      <td>B1</td>\n",
       "      <td>2130.0</td>\n",
       "      <td>1</td>\n",
       "      <td>3.0</td>\n",
       "      <td>2</td>\n",
       "      <td>2</td>\n",
       "      <td>1.0</td>\n",
       "      <td>OSOFISAN, OLATUNDE</td>\n",
       "      <td>2005</td>\n",
       "      <td>0</td>\n",
       "      <td>0</td>\n",
       "      <td>NaN</td>\n",
       "      <td>UNKNOWN (USUALLY PRIVATE OWNERSHIP)</td>\n",
       "      <td>APARTMENT</td>\n",
       "      <td>ENTIRE APARTMENT</td>\n",
       "      <td>EMERGENCY</td>\n",
       "      <td>NaN</td>\n",
       "      <td>DOOR/WINDOW</td>\n",
       "      <td>WINDOW FRAME</td>\n",
       "      <td>Inspected; violations issued</td>\n",
       "    </tr>\n",
       "    <tr>\n",
       "      <th>3</th>\n",
       "      <td>3</td>\n",
       "      <td>7419438</td>\n",
       "      <td>873260</td>\n",
       "      <td>3</td>\n",
       "      <td>BROOKLYN</td>\n",
       "      <td>2313</td>\n",
       "      <td>PACIFIC STREET</td>\n",
       "      <td>11233</td>\n",
       "      <td>1435</td>\n",
       "      <td>54</td>\n",
       "      <td>1</td>\n",
       "      <td>16</td>\n",
       "      <td>2015-04-01</td>\n",
       "      <td>CLOSE</td>\n",
       "      <td>91</td>\n",
       "      <td>548</td>\n",
       "      <td>3</td>\n",
       "      <td>28</td>\n",
       "      <td>198</td>\n",
       "      <td>1364</td>\n",
       "      <td>2015-04-14</td>\n",
       "      <td>The Department of Housing Preservation and Dev...</td>\n",
       "      <td>2313 PACIFIC STREET</td>\n",
       "      <td>40.675423</td>\n",
       "      <td>-73.908974</td>\n",
       "      <td>3014350054</td>\n",
       "      <td>B1</td>\n",
       "      <td>2130.0</td>\n",
       "      <td>1</td>\n",
       "      <td>3.0</td>\n",
       "      <td>2</td>\n",
       "      <td>2</td>\n",
       "      <td>1.0</td>\n",
       "      <td>OSOFISAN, OLATUNDE</td>\n",
       "      <td>2005</td>\n",
       "      <td>0</td>\n",
       "      <td>0</td>\n",
       "      <td>NaN</td>\n",
       "      <td>UNKNOWN (USUALLY PRIVATE OWNERSHIP)</td>\n",
       "      <td>APARTMENT</td>\n",
       "      <td>OTHER ROOM/AREA</td>\n",
       "      <td>NON EMERGENCY</td>\n",
       "      <td>BULGING/HOLE/CRACKED</td>\n",
       "      <td>PLASTER PAINT/PLASTER</td>\n",
       "      <td>WALLS WALL</td>\n",
       "      <td>Inspected; no violations issued</td>\n",
       "    </tr>\n",
       "    <tr>\n",
       "      <th>4</th>\n",
       "      <td>4</td>\n",
       "      <td>7419438</td>\n",
       "      <td>873260</td>\n",
       "      <td>3</td>\n",
       "      <td>BROOKLYN</td>\n",
       "      <td>2313</td>\n",
       "      <td>PACIFIC STREET</td>\n",
       "      <td>11233</td>\n",
       "      <td>1435</td>\n",
       "      <td>54</td>\n",
       "      <td>1</td>\n",
       "      <td>16</td>\n",
       "      <td>2015-04-01</td>\n",
       "      <td>CLOSE</td>\n",
       "      <td>91</td>\n",
       "      <td>547</td>\n",
       "      <td>3</td>\n",
       "      <td>28</td>\n",
       "      <td>198</td>\n",
       "      <td>1364</td>\n",
       "      <td>2015-04-14</td>\n",
       "      <td>The Department of Housing Preservation and Dev...</td>\n",
       "      <td>2313 PACIFIC STREET</td>\n",
       "      <td>40.675423</td>\n",
       "      <td>-73.908974</td>\n",
       "      <td>3014350054</td>\n",
       "      <td>B1</td>\n",
       "      <td>2130.0</td>\n",
       "      <td>1</td>\n",
       "      <td>3.0</td>\n",
       "      <td>2</td>\n",
       "      <td>2</td>\n",
       "      <td>1.0</td>\n",
       "      <td>OSOFISAN, OLATUNDE</td>\n",
       "      <td>2005</td>\n",
       "      <td>0</td>\n",
       "      <td>0</td>\n",
       "      <td>NaN</td>\n",
       "      <td>UNKNOWN (USUALLY PRIVATE OWNERSHIP)</td>\n",
       "      <td>APARTMENT</td>\n",
       "      <td>LIVING ROOM</td>\n",
       "      <td>NON EMERGENCY</td>\n",
       "      <td>BULGING/HOLE/CRACKED</td>\n",
       "      <td>PLASTER PAINT/PLASTER</td>\n",
       "      <td>WALLS WALL</td>\n",
       "      <td>Inspected; violations issued</td>\n",
       "    </tr>\n",
       "  </tbody>\n",
       "</table>\n",
       "</div>"
      ],
      "text/plain": [
       "   Unnamed: 0  complaintid  buildingid  boroughid   borough housenumber  \\\n",
       "0           0      7419258      314794          3  BROOKLYN         214   \n",
       "1           1      7419264      311915          3  BROOKLYN         530   \n",
       "2           2      7419438      873260          3  BROOKLYN        2313   \n",
       "3           3      7419438      873260          3  BROOKLYN        2313   \n",
       "4           4      7419438      873260          3  BROOKLYN        2313   \n",
       "\n",
       "       streetname    zip  block  lot apartment  communityboard receiveddate  \\\n",
       "0     HULL STREET  11233   1540   23        3L              16   2015-04-01   \n",
       "1    HERZL STREET  11212   3620   38        B6              16   2015-04-01   \n",
       "2  PACIFIC STREET  11233   1435   54         1              16   2015-04-01   \n",
       "3  PACIFIC STREET  11233   1435   54         1              16   2015-04-01   \n",
       "4  PACIFIC STREET  11233   1435   54         1              16   2015-04-01   \n",
       "\n",
       "  status  unittypeid  spacetypeid  typeid  majorcategoryid  minorcategoryid  \\\n",
       "0  CLOSE          92          550       1               59              349   \n",
       "1  CLOSE          91          543       1               59              348   \n",
       "2  CLOSE          91          543       1               56              337   \n",
       "3  CLOSE          91          548       3               28              198   \n",
       "4  CLOSE          91          547       3               28              198   \n",
       "\n",
       "   codeid statusdate                                  statusdescription  \\\n",
       "0    2715 2015-04-06  The Department of Housing Preservation and Dev...   \n",
       "1    2713 2015-04-07  The Department of Housing Preservation and Dev...   \n",
       "2    2836 2015-04-14  The Department of Housing Preservation and Dev...   \n",
       "3    1364 2015-04-14  The Department of Housing Preservation and Dev...   \n",
       "4    1364 2015-04-14  The Department of Housing Preservation and Dev...   \n",
       "\n",
       "               address   latitude  longitude         bbl bldgclass  bldgarea  \\\n",
       "0      214 HULL STREET  40.679984 -73.907031  3015400023        C1    7600.0   \n",
       "1     530 HERZL STREET  40.656544 -73.912252  3036200038        C1   40000.0   \n",
       "2  2313 PACIFIC STREET  40.675423 -73.908974  3014350054        B1    2130.0   \n",
       "3  2313 PACIFIC STREET  40.675423 -73.908974  3014350054        B1    2130.0   \n",
       "4  2313 PACIFIC STREET  40.675423 -73.908974  3014350054        B1    2130.0   \n",
       "\n",
       "   numbldgs  numfloors  unitsres  unitstotal  landuse  \\\n",
       "0         1        4.0         8           8      2.0   \n",
       "1         1        4.0        46          46      2.0   \n",
       "2         1        3.0         2           2      1.0   \n",
       "3         1        3.0         2           2      1.0   \n",
       "4         1        3.0         2           2      1.0   \n",
       "\n",
       "                      ownername  yearbuilt  yearalter1  yearalter2 ownertype  \\\n",
       "0  HULL STREET ASSOCIATES , LLC       1910           0           0       NaN   \n",
       "1                     530 HERZL       1930           0           0       NaN   \n",
       "2            OSOFISAN, OLATUNDE       2005           0           0       NaN   \n",
       "3            OSOFISAN, OLATUNDE       2005           0           0       NaN   \n",
       "4            OSOFISAN, OLATUNDE       2005           0           0       NaN   \n",
       "\n",
       "                         ownertypelong       unittype         spacetype  \\\n",
       "0  UNKNOWN (USUALLY PRIVATE OWNERSHIP)  BUILDING-WIDE     BUILDING-WIDE   \n",
       "1  UNKNOWN (USUALLY PRIVATE OWNERSHIP)      APARTMENT  ENTIRE APARTMENT   \n",
       "2  UNKNOWN (USUALLY PRIVATE OWNERSHIP)      APARTMENT  ENTIRE APARTMENT   \n",
       "3  UNKNOWN (USUALLY PRIVATE OWNERSHIP)      APARTMENT   OTHER ROOM/AREA   \n",
       "4  UNKNOWN (USUALLY PRIVATE OWNERSHIP)      APARTMENT       LIVING ROOM   \n",
       "\n",
       "            type                  code          majorcategory  \\\n",
       "0      EMERGENCY               NO HEAT         HEAT/HOT WATER   \n",
       "1      EMERGENCY               NO HEAT         HEAT/HOT WATER   \n",
       "2      EMERGENCY                   NaN            DOOR/WINDOW   \n",
       "3  NON EMERGENCY  BULGING/HOLE/CRACKED  PLASTER PAINT/PLASTER   \n",
       "4  NON EMERGENCY  BULGING/HOLE/CRACKED  PLASTER PAINT/PLASTER   \n",
       "\n",
       "     minorcategory                       statusdescriptionshort  \n",
       "0  ENTIRE BUILDING  Single complaint; tenant confirmed resolved  \n",
       "1   APARTMENT ONLY              Inspected; no violations issued  \n",
       "2     WINDOW FRAME                 Inspected; violations issued  \n",
       "3       WALLS WALL              Inspected; no violations issued  \n",
       "4       WALLS WALL                 Inspected; violations issued  "
      ]
     },
     "execution_count": 40,
     "metadata": {},
     "output_type": "execute_result"
    }
   ],
   "source": [
    "#leading the API dataset\n",
    "brownsville = pd.read_csv(\"brownsville.txt\", parse_dates=[\"statusdate\"])\n",
    "\n",
    "#setting an option to show all columns, since this dataset has many of them and python truncated it originally.\n",
    "pd.set_option('display.max_columns', None)\n",
    "\n",
    "\n",
    "brownsville.head()"
   ]
  },
  {
   "cell_type": "markdown",
   "metadata": {},
   "source": [
    "------------------------"
   ]
  },
  {
   "cell_type": "markdown",
   "metadata": {},
   "source": [
    "Building Area"
   ]
  },
  {
   "cell_type": "code",
   "execution_count": 41,
   "metadata": {},
   "outputs": [
    {
     "data": {
      "text/plain": [
       "34937.97297456343"
      ]
     },
     "execution_count": 41,
     "metadata": {},
     "output_type": "execute_result"
    }
   ],
   "source": [
    "brownsville[\"bldgarea\"].mean()"
   ]
  },
  {
   "cell_type": "code",
   "execution_count": 42,
   "metadata": {},
   "outputs": [
    {
     "data": {
      "text/plain": [
       "5850.0"
      ]
     },
     "execution_count": 42,
     "metadata": {},
     "output_type": "execute_result"
    }
   ],
   "source": [
    "brownsville[\"bldgarea\"].median()"
   ]
  },
  {
   "cell_type": "code",
   "execution_count": 43,
   "metadata": {
    "scrolled": true
   },
   "outputs": [
    {
     "data": {
      "text/plain": [
       "0    245538.0\n",
       "dtype: float64"
      ]
     },
     "execution_count": 43,
     "metadata": {},
     "output_type": "execute_result"
    }
   ],
   "source": [
    "brownsville[\"bldgarea\"].mode()"
   ]
  },
  {
   "cell_type": "code",
   "execution_count": 74,
   "metadata": {},
   "outputs": [
    {
     "data": {
      "text/plain": [
       "Text(0.5, 0, 'Building Square Feet')"
      ]
     },
     "execution_count": 74,
     "metadata": {},
     "output_type": "execute_result"
    },
    {
     "data": {
      "image/png": "[encoded data removed]",
      "text/plain": [
       "<Figure size 432x288 with 1 Axes>"
      ]
     },
     "metadata": {
      "needs_background": "light"
     },
     "output_type": "display_data"
    }
   ],
   "source": [
    "brownsville['bldgarea'].plot(kind='hist')\n",
    "plt.title(\"Building Square Feet in Brownsville\")\n",
    "plt.ylabel(\"Number of Buildings\")\n",
    "plt.xlabel(\"Building Square Feet\")"
   ]
  },
  {
   "cell_type": "markdown",
   "metadata": {},
   "source": [
    "-------------------"
   ]
  },
  {
   "cell_type": "markdown",
   "metadata": {},
   "source": [
    "Year built"
   ]
  },
  {
   "cell_type": "code",
   "execution_count": 44,
   "metadata": {},
   "outputs": [
    {
     "data": {
      "text/plain": [
       "1924.421941052137"
      ]
     },
     "execution_count": 44,
     "metadata": {},
     "output_type": "execute_result"
    }
   ],
   "source": [
    "brownsville[\"yearbuilt\"].mean()"
   ]
  },
  {
   "cell_type": "code",
   "execution_count": 45,
   "metadata": {},
   "outputs": [
    {
     "data": {
      "text/plain": [
       "1929.0"
      ]
     },
     "execution_count": 45,
     "metadata": {},
     "output_type": "execute_result"
    }
   ],
   "source": [
    "brownsville[\"yearbuilt\"].median()"
   ]
  },
  {
   "cell_type": "code",
   "execution_count": 46,
   "metadata": {},
   "outputs": [
    {
     "data": {
      "text/plain": [
       "0    1930\n",
       "dtype: int64"
      ]
     },
     "execution_count": 46,
     "metadata": {},
     "output_type": "execute_result"
    }
   ],
   "source": [
    "brownsville[\"yearbuilt\"].mode()"
   ]
  },
  {
   "cell_type": "code",
   "execution_count": 73,
   "metadata": {},
   "outputs": [
    {
     "data": {
      "text/plain": [
       "Text(0.5, 0, 'Years Built')"
      ]
     },
     "execution_count": 73,
     "metadata": {},
     "output_type": "execute_result"
    },
    {
     "data": {
      "image/png": "[encoded data removed]",
      "text/plain": [
       "<Figure size 432x288 with 1 Axes>"
      ]
     },
     "metadata": {
      "needs_background": "light"
     },
     "output_type": "display_data"
    }
   ],
   "source": [
    "brownsville['yearbuilt'].plot(kind='hist',range=(1800,2021))\n",
    "plt.title(\"Frequency of Years Buildings were Built in Brownsville\")\n",
    "plt.ylabel(\"Number of Buildings\")\n",
    "plt.xlabel(\"Years Built\")"
   ]
  },
  {
   "cell_type": "markdown",
   "metadata": {},
   "source": [
    "--------------------"
   ]
  },
  {
   "cell_type": "markdown",
   "metadata": {},
   "source": [
    "Number of floors"
   ]
  },
  {
   "cell_type": "code",
   "execution_count": 47,
   "metadata": {},
   "outputs": [
    {
     "data": {
      "text/plain": [
       "3.9534846171911697"
      ]
     },
     "execution_count": 47,
     "metadata": {},
     "output_type": "execute_result"
    }
   ],
   "source": [
    "brownsville[\"numfloors\"].mean()"
   ]
  },
  {
   "cell_type": "code",
   "execution_count": 48,
   "metadata": {},
   "outputs": [
    {
     "data": {
      "text/plain": [
       "3.0"
      ]
     },
     "execution_count": 48,
     "metadata": {},
     "output_type": "execute_result"
    }
   ],
   "source": [
    "brownsville[\"numfloors\"].median()"
   ]
  },
  {
   "cell_type": "code",
   "execution_count": 49,
   "metadata": {},
   "outputs": [
    {
     "data": {
      "text/plain": [
       "0    3.0\n",
       "dtype: float64"
      ]
     },
     "execution_count": 49,
     "metadata": {},
     "output_type": "execute_result"
    }
   ],
   "source": [
    "brownsville[\"numfloors\"].mode()"
   ]
  },
  {
   "cell_type": "code",
   "execution_count": 75,
   "metadata": {},
   "outputs": [
    {
     "data": {
      "text/plain": [
       "Text(0.5, 0, 'Number of Floors in Building')"
      ]
     },
     "execution_count": 75,
     "metadata": {},
     "output_type": "execute_result"
    },
    {
     "data": {
      "image/png": "[encoded data removed]",
      "text/plain": [
       "<Figure size 432x288 with 1 Axes>"
      ]
     },
     "metadata": {
      "needs_background": "light"
     },
     "output_type": "display_data"
    }
   ],
   "source": [
    "brownsville['numfloors'].plot(kind='hist')\n",
    "plt.title(\"Number of Floors in Buildings in Brownsville\")\n",
    "plt.ylabel(\"Number of Buildings\")\n",
    "plt.xlabel(\"Number of Floors in Building\")"
   ]
  },
  {
   "cell_type": "markdown",
   "metadata": {},
   "source": [
    "-----------------------"
   ]
  },
  {
   "cell_type": "markdown",
   "metadata": {},
   "source": [
    "Number of Residential Units"
   ]
  },
  {
   "cell_type": "code",
   "execution_count": 50,
   "metadata": {},
   "outputs": [
    {
     "data": {
      "text/plain": [
       "44.50610615312353"
      ]
     },
     "execution_count": 50,
     "metadata": {},
     "output_type": "execute_result"
    }
   ],
   "source": [
    "brownsville[\"unitsres\"].mean()"
   ]
  },
  {
   "cell_type": "code",
   "execution_count": 51,
   "metadata": {},
   "outputs": [
    {
     "data": {
      "text/plain": [
       "6.0"
      ]
     },
     "execution_count": 51,
     "metadata": {},
     "output_type": "execute_result"
    }
   ],
   "source": [
    "brownsville[\"unitsres\"].median()"
   ]
  },
  {
   "cell_type": "code",
   "execution_count": 52,
   "metadata": {},
   "outputs": [
    {
     "data": {
      "text/plain": [
       "0    3\n",
       "dtype: int64"
      ]
     },
     "execution_count": 52,
     "metadata": {},
     "output_type": "execute_result"
    }
   ],
   "source": [
    "brownsville[\"unitsres\"].mode()"
   ]
  },
  {
   "cell_type": "code",
   "execution_count": 76,
   "metadata": {},
   "outputs": [
    {
     "data": {
      "text/plain": [
       "Text(0.5, 0, 'Number of Residential Units')"
      ]
     },
     "execution_count": 76,
     "metadata": {},
     "output_type": "execute_result"
    },
    {
     "data": {
      "image/png": "[encoded data removed]",
      "text/plain": [
       "<Figure size 432x288 with 1 Axes>"
      ]
     },
     "metadata": {
      "needs_background": "light"
     },
     "output_type": "display_data"
    }
   ],
   "source": [
    "brownsville['unitsres'].plot(kind='hist')\n",
    "plt.title(\"Number of Residential Units in Buildings in Brownsville\")\n",
    "plt.ylabel(\"Number of Buildings\")\n",
    "plt.xlabel(\"Number of Residential Units\")"
   ]
  },
  {
   "cell_type": "markdown",
   "metadata": {},
   "source": [
    "------------------------"
   ]
  },
  {
   "cell_type": "markdown",
   "metadata": {},
   "source": [
    "Information for the top buildings in Brownsville with complaints/violations is: <br>\n",
    "\n",
    "Average building area:  34,937 sqr feet<br>\n",
    "\n",
    "Average year buildings were built: 1929<br>\n",
    "\n",
    "Average number of floors:  3 floors<br>\n",
    "\n",
    "Average number of residential units per building:  6 units"
   ]
  },
  {
   "cell_type": "markdown",
   "metadata": {},
   "source": [
    "----------------------------"
   ]
  },
  {
   "cell_type": "markdown",
   "metadata": {},
   "source": [
    "Here, we will check the names of owning companies of buildings that come up most frequently  in the data."
   ]
  },
  {
   "cell_type": "code",
   "execution_count": 57,
   "metadata": {},
   "outputs": [
    {
     "data": {
      "text/plain": [
       "PLAZA RESIDENCES, LP                                   2292\n",
       "HP MARCUS GARVEY PRESERVATION HOUSING CO MPANY, INC    1514\n",
       "505 ROCKAWAY LLC                                       1472\n",
       "HOWARD AVENUE ASSOCIATES                                988\n",
       "LIVONIA HOUSING DEVELOPMENT FUND COMPANY , INC          965\n",
       "351 RESIDENCE LLC                                       794\n",
       "MHANY MOTHER GASTON HOUSING DEVELOPMENT  FUND CORPO     686\n",
       "RIVERDALE RESIDENCE LLC                                 685\n",
       "PARK MONROE II REHAB HOUSING DEVELOPMENT  FUND CORP     680\n",
       "PITKIN APARTMENTS LLC                                   637\n",
       "Name: ownername, dtype: int64"
      ]
     },
     "execution_count": 57,
     "metadata": {},
     "output_type": "execute_result"
    }
   ],
   "source": [
    "brownsville[\"ownername\"].value_counts().head(10)"
   ]
  },
  {
   "cell_type": "code",
   "execution_count": 83,
   "metadata": {},
   "outputs": [
    {
     "data": {
      "text/plain": [
       "Text(0.5, 0, 'Number of Reports')"
      ]
     },
     "execution_count": 83,
     "metadata": {},
     "output_type": "execute_result"
    },
    {
     "data": {
      "image/png": "[encoded data removed]",
      "text/plain": [
       "<Figure size 432x288 with 1 Axes>"
      ]
     },
     "metadata": {
      "needs_background": "light"
     },
     "output_type": "display_data"
    }
   ],
   "source": [
    "owner_values = brownsville[\"ownername\"].value_counts().head(10)\n",
    "owner_values.plot(kind = \"barh\")\n",
    "plt.title(\"Top Building Owners\")\n",
    "plt.ylabel(\"Owner Names\")\n",
    "plt.xlabel(\"Number of Reports\")"
   ]
  },
  {
   "cell_type": "markdown",
   "metadata": {},
   "source": [
    "The owners that come up most frequently are:<br>\n",
    "1. Plaza Residences, LP<br>\n",
    "2. Hp Marcus Garvey Preservation Housing Company, Inc<br>\n",
    "3. 505 Rockaway LLC<br>\n",
    "4. Howard Avenue Associates<br>\n",
    "5. Livonia Housing Development Fund Company, Inc<br>\n",
    "6. 35 Residence LLC<br>\n",
    "7. Mhany Mother Gaston Housing Development Fund Corporation<br>\n",
    "8. Riverdale Residence LLC<br>\n",
    "9. Park Monroe II Rehad Housing Development Fund Corp.<br>\n",
    "10. Pitkin Apartments LLC<br>"
   ]
  },
  {
   "cell_type": "markdown",
   "metadata": {},
   "source": [
    "-----------------------"
   ]
  },
  {
   "cell_type": "markdown",
   "metadata": {},
   "source": [
    "Here we'll take a look at complaints and their relationship with the building's age."
   ]
  },
  {
   "cell_type": "code",
   "execution_count": 59,
   "metadata": {},
   "outputs": [],
   "source": [
    "brownsville[\"complaints\"] = brownsville[\"code\"] + \"-\" + brownsville[\"majorcategory\"] + \"-\" + brownsville[\"minorcategory\"]"
   ]
  },
  {
   "cell_type": "code",
   "execution_count": 60,
   "metadata": {},
   "outputs": [
    {
     "data": {
      "text/html": [
       "<div>\n",
       "<style scoped>\n",
       "    .dataframe tbody tr th:only-of-type {\n",
       "        vertical-align: middle;\n",
       "    }\n",
       "\n",
       "    .dataframe tbody tr th {\n",
       "        vertical-align: top;\n",
       "    }\n",
       "\n",
       "    .dataframe thead th {\n",
       "        text-align: right;\n",
       "    }\n",
       "</style>\n",
       "<table border=\"1\" class=\"dataframe\">\n",
       "  <thead>\n",
       "    <tr style=\"text-align: right;\">\n",
       "      <th></th>\n",
       "      <th>yearbuilt</th>\n",
       "      <th>complaints</th>\n",
       "    </tr>\n",
       "  </thead>\n",
       "  <tbody>\n",
       "    <tr>\n",
       "      <th>0</th>\n",
       "      <td>1910</td>\n",
       "      <td>NO HEAT-HEAT/HOT WATER-ENTIRE BUILDING</td>\n",
       "    </tr>\n",
       "    <tr>\n",
       "      <th>1</th>\n",
       "      <td>1930</td>\n",
       "      <td>NO HEAT-HEAT/HOT WATER-APARTMENT ONLY</td>\n",
       "    </tr>\n",
       "    <tr>\n",
       "      <th>2</th>\n",
       "      <td>2005</td>\n",
       "      <td>NaN</td>\n",
       "    </tr>\n",
       "    <tr>\n",
       "      <th>3</th>\n",
       "      <td>2005</td>\n",
       "      <td>BULGING/HOLE/CRACKED-PLASTER PAINT/PLASTER-WAL...</td>\n",
       "    </tr>\n",
       "    <tr>\n",
       "      <th>4</th>\n",
       "      <td>2005</td>\n",
       "      <td>BULGING/HOLE/CRACKED-PLASTER PAINT/PLASTER-WAL...</td>\n",
       "    </tr>\n",
       "    <tr>\n",
       "      <th>...</th>\n",
       "      <td>...</td>\n",
       "      <td>...</td>\n",
       "    </tr>\n",
       "    <tr>\n",
       "      <th>68123</th>\n",
       "      <td>1968</td>\n",
       "      <td>DIRTY OR UNSANITARY-PLASTER PAINT/PLASTER-WALL...</td>\n",
       "    </tr>\n",
       "    <tr>\n",
       "      <th>68124</th>\n",
       "      <td>1968</td>\n",
       "      <td>BROKEN OR DEFECTIVE-FLOORING/STAIRS-FLOOR</td>\n",
       "    </tr>\n",
       "    <tr>\n",
       "      <th>68125</th>\n",
       "      <td>1969</td>\n",
       "      <td>NaN</td>\n",
       "    </tr>\n",
       "    <tr>\n",
       "      <th>68126</th>\n",
       "      <td>1969</td>\n",
       "      <td>MICE-UNSANITARY CONDITION-PESTS</td>\n",
       "    </tr>\n",
       "    <tr>\n",
       "      <th>68127</th>\n",
       "      <td>1969</td>\n",
       "      <td>ROACHES-UNSANITARY CONDITION-PESTS</td>\n",
       "    </tr>\n",
       "  </tbody>\n",
       "</table>\n",
       "<p>68128 rows × 2 columns</p>\n",
       "</div>"
      ],
      "text/plain": [
       "       yearbuilt                                         complaints\n",
       "0           1910             NO HEAT-HEAT/HOT WATER-ENTIRE BUILDING\n",
       "1           1930              NO HEAT-HEAT/HOT WATER-APARTMENT ONLY\n",
       "2           2005                                                NaN\n",
       "3           2005  BULGING/HOLE/CRACKED-PLASTER PAINT/PLASTER-WAL...\n",
       "4           2005  BULGING/HOLE/CRACKED-PLASTER PAINT/PLASTER-WAL...\n",
       "...          ...                                                ...\n",
       "68123       1968  DIRTY OR UNSANITARY-PLASTER PAINT/PLASTER-WALL...\n",
       "68124       1968          BROKEN OR DEFECTIVE-FLOORING/STAIRS-FLOOR\n",
       "68125       1969                                                NaN\n",
       "68126       1969                    MICE-UNSANITARY CONDITION-PESTS\n",
       "68127       1969                 ROACHES-UNSANITARY CONDITION-PESTS\n",
       "\n",
       "[68128 rows x 2 columns]"
      ]
     },
     "execution_count": 60,
     "metadata": {},
     "output_type": "execute_result"
    }
   ],
   "source": [
    "bv_com = brownsville[[\"yearbuilt\", \"complaints\"]]\n",
    "bv_com"
   ]
  },
  {
   "cell_type": "code",
   "execution_count": 61,
   "metadata": {},
   "outputs": [
    {
     "data": {
      "text/plain": [
       "yearbuilt  complaints                                             \n",
       "1930       NO HEAT-HEAT/HOT WATER-APARTMENT ONLY                      1600\n",
       "           NO HEAT-HEAT/HOT WATER-ENTIRE BUILDING                     1388\n",
       "1910       NO HEAT-HEAT/HOT WATER-ENTIRE BUILDING                     1264\n",
       "           NO HEAT-HEAT/HOT WATER-APARTMENT ONLY                      1230\n",
       "1930       MICE-UNSANITARY CONDITION-PESTS                             798\n",
       "1910       NO HEAT AND NO HOT WATER-HEAT/HOT WATER-ENTIRE BUILDING     703\n",
       "1930       AT WALL OR CEILING-WATER LEAK-HEAVY FLOW                    568\n",
       "           NO HEAT AND NO HOT WATER-HEAT/HOT WATER-ENTIRE BUILDING     559\n",
       "1910       MICE-UNSANITARY CONDITION-PESTS                             554\n",
       "           AT WALL OR CEILING-WATER LEAK-HEAVY FLOW                    541\n",
       "1930       ROACHES-UNSANITARY CONDITION-PESTS                          483\n",
       "           AT WALL OR CEILING-WATER LEAK-SLOW LEAK                     467\n",
       "           NO HEAT AND NO HOT WATER-HEAT/HOT WATER-APARTMENT ONLY      441\n",
       "           MISSING BROKEN OR MISSING-DOOR/WINDOW-DOOR                  440\n",
       "1910       NO HEAT AND NO HOT WATER-HEAT/HOT WATER-APARTMENT ONLY      418\n",
       "dtype: int64"
      ]
     },
     "execution_count": 61,
     "metadata": {},
     "output_type": "execute_result"
    }
   ],
   "source": [
    "bv_com.value_counts().head(15)"
   ]
  },
  {
   "cell_type": "code",
   "execution_count": 84,
   "metadata": {},
   "outputs": [
    {
     "data": {
      "text/plain": [
       "Text(0.5, 0, 'Number of Reports')"
      ]
     },
     "execution_count": 84,
     "metadata": {},
     "output_type": "execute_result"
    },
    {
     "data": {
      "image/png": "[encoded data removed]",
      "text/plain": [
       "<Figure size 432x288 with 1 Axes>"
      ]
     },
     "metadata": {
      "needs_background": "light"
     },
     "output_type": "display_data"
    }
   ],
   "source": [
    "bv_com_values = bv_com.value_counts().head(10)\n",
    "bv_com_values.plot(kind = \"barh\")\n",
    "plt.title(\"Top Complaints in Relation to Building Age\")\n",
    "plt.ylabel(\"Complaints and Year Building was Built\")\n",
    "plt.xlabel(\"Number of Reports\")"
   ]
  },
  {
   "cell_type": "markdown",
   "metadata": {},
   "source": [
    "----------------------------"
   ]
  }
 ],
 "metadata": {
  "kernelspec": {
   "display_name": "Python 3",
   "language": "python",
   "name": "python3"
  },
  "language_info": {
   "codemirror_mode": {
    "name": "ipython",
    "version": 3
   },
   "file_extension": ".py",
   "mimetype": "text/x-python",
   "name": "python",
   "nbconvert_exporter": "python",
   "pygments_lexer": "ipython3",
   "version": "3.8.3"
  }
 },
 "nbformat": 4,
 "nbformat_minor": 4
}
