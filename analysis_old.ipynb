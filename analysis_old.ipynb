{
 "metadata": {
  "language_info": {
   "codemirror_mode": {
    "name": "ipython",
    "version": 3
   },
   "file_extension": ".py",
   "mimetype": "text/x-python",
   "name": "python",
   "nbconvert_exporter": "python",
   "pygments_lexer": "ipython3",
   "version": "3.8.1"
  },
  "orig_nbformat": 4,
  "kernelspec": {
   "name": "python3",
   "display_name": "Python 3.8.1 64-bit"
  },
  "interpreter": {
   "hash": "7d5c25a0dcd433e9174dbd40cc8162c4c651cca147fa234e40a811528338fdfd"
  }
 },
 "nbformat": 4,
 "nbformat_minor": 2,
 "cells": [
  {
   "cell_type": "code",
   "execution_count": null,
   "metadata": {},
   "outputs": [],
   "source": [
    "import numpy as np\n",
    "import pandas as pd \n",
    "import yaml\n",
    "\n",
    "import data_api\n",
    "import helpers\n",
    "import BrownsvilleAPI"
   ]
  },
  {
   "source": [
    "## 1. Loading the datasets"
   ],
   "cell_type": "markdown",
   "metadata": {}
  },
  {
   "cell_type": "code",
   "execution_count": null,
   "metadata": {},
   "outputs": [],
   "source": [
    "# Load the configuration files with all the credentials for the Socrata API\n",
    "with open(\"./config.yaml\", 'r') as f:\n",
    "    config = yaml.load(f, Loader=yaml.FullLoader)\n",
    "    app_token, username, password = config[\"sodapy\"].values()"
   ]
  },
  {
   "cell_type": "code",
   "execution_count": null,
   "metadata": {},
   "outputs": [],
   "source": [
    "# Create the data_api client and set the number of records to be returned\n",
    "\n",
    "client = data_api.Client(\n",
    "    app_token=app_token,\n",
    "    username=username,\n",
    "    password=password\n",
    ")\n",
    "num_records = 100\n",
    "\n",
    "# Note: since we are not providing an api token to the client, it is best to keep the number \n",
    "# of records returned low"
   ]
  },
  {
   "source": [
    "## 311 Service Requests from 2010 to Present"
   ],
   "cell_type": "markdown",
   "metadata": {}
  },
  {
   "cell_type": "code",
   "execution_count": null,
   "metadata": {},
   "outputs": [],
   "source": [
    "df_311 = client.load_311(\n",
    "    fetch_all=True, \n",
    "    select=\"created_date, closed_date, complaint_type, descriptor, x_coordinate_state_plane,    \\\n",
    "                status, due_date, bbl, y_coordinate_state_plane, latitude, longitude\", \n",
    "    where=\n",
    "        \"agency IN ('DOB', 'HPD') AND incident_zip IN ('11212', '11233')\"\n",
    ")\n",
    "df_311"
   ]
  },
  {
   "cell_type": "code",
   "execution_count": null,
   "metadata": {},
   "outputs": [],
   "source": [
    "df_311.shape"
   ]
  },
  {
   "cell_type": "code",
   "execution_count": null,
   "metadata": {},
   "outputs": [],
   "source": [
    "df_complaint_problems = client.load_complaint_problems(\n",
    "    fetch_all=True, \n",
    "    where=\"unittypeid=92\"\n",
    ")\n",
    "df_complaint_problems.head()"
   ]
  },
  {
   "cell_type": "code",
   "execution_count": null,
   "metadata": {},
   "outputs": [],
   "source": [
    "df_complaint_problems.shape"
   ]
  },
  {
   "cell_type": "code",
   "execution_count": null,
   "metadata": {},
   "outputs": [],
   "source": [
    "# NOTE: the DOB Complaints Received dataset zip_code column has extra spaces appended to the string, so we are using the starts_with function from the SoQL API to filter the results.\n",
    "\n",
    "# starts_with documentation: https://dev.socrata.com/docs/functions/starts_with.html\n",
    "\n",
    "df_dob_complaints = client.load_dob_complaints(\n",
    "    fetch_all=True,\n",
    "    select=\n",
    "        \"complaint_number, date_entered, house_number, house_street,            \\\n",
    "            bin, complaint_category, unit, disposition_date, disposition_code,  \\\n",
    "            inspection_date, dobrundate\",\n",
    "    where=\n",
    "        \"starts_with(zip_code, '11212') OR                                      \\\n",
    "            starts_with(zip_code, '11233')\"\n",
    ") \n",
    "df_dob_complaints.head()"
   ]
  },
  {
   "cell_type": "code",
   "execution_count": null,
   "metadata": {},
   "outputs": [],
   "source": []
  },
  {
   "cell_type": "code",
   "execution_count": null,
   "metadata": {},
   "outputs": [],
   "source": [
    "df_dob_complaints.shape"
   ]
  },
  {
   "cell_type": "code",
   "execution_count": null,
   "metadata": {},
   "outputs": [],
   "source": [
    "print(min(df_dob_complaints[\"date_entered\"]), max(df_dob_complaints[\"date_entered\"]))"
   ]
  },
  {
   "cell_type": "code",
   "execution_count": null,
   "metadata": {},
   "outputs": [],
   "source": [
    "df_311 = client.load_311(fetch_all=True, select=[\"Created Date\"])\n",
    "# df_complaint_problems = client.load_complaint_problems(limit=num_records)\n",
    "# df_dob_omplaints = client.load_dob_complaints(limit=num_records)"
   ]
  },
  {
   "cell_type": "code",
   "execution_count": null,
   "metadata": {},
   "outputs": [],
   "source": [
    "df_311.head()"
   ]
  },
  {
   "cell_type": "code",
   "execution_count": null,
   "metadata": {},
   "outputs": [],
   "source": [
    "df_complaint_problems.head()"
   ]
  },
  {
   "cell_type": "code",
   "execution_count": null,
   "metadata": {},
   "outputs": [],
   "source": [
    "df_dob_complaints.head()"
   ]
  },
  {
   "cell_type": "code",
   "execution_count": null,
   "metadata": {},
   "outputs": [],
   "source": [
    "df_brownsville = pd.read_csv('./data/brownsville.csv')\n",
    "df_brownsville.head()"
   ]
  },
  {
   "cell_type": "code",
   "execution_count": null,
   "metadata": {},
   "outputs": [],
   "source": [
    "\n",
    "dates = pd.DatetimeIndex(df_brownsville[\"StatusDate\"]).month.astype(\"Int64\")\n",
    "date_counts = dates.value_counts()\n",
    "\n",
    "print(f\"Winter: {date_counts.loc[[12, 1, 2]].sum()}\")\n",
    "print(f\"Spring: {date_counts.loc[[3,  4, 5]].sum()}\")\n",
    "print(f\"Summer: {date_counts.loc[[6,  7, 8]].sum()}\")\n",
    "print(f\"Autumn: {date_counts.loc[[9, 10, 11]].sum()}\")\n"
   ]
  },
  {
   "cell_type": "code",
   "execution_count": null,
   "metadata": {},
   "outputs": [],
   "source": [
    "n = input('type something here: ')\n",
    "print(n)"
   ]
  },
  {
   "cell_type": "code",
   "execution_count": null,
   "metadata": {},
   "outputs": [],
   "source": [
    "date_counts.sort_index()"
   ]
  },
  {
   "cell_type": "code",
   "execution_count": null,
   "metadata": {},
   "outputs": [],
   "source": [
    "dates =  pd.to_datetime(df_brownsville[\"StatusDate\"])\n",
    "dates.head()\n",
    "df_dates = (df.assign(date=dates)\n",
    "        .groupby(['user_id', pd.Grouper(key='date', freq='3D')])\n",
    "        .sum()\n",
    "        .reset_index())\n",
    "# print(df_dates)"
   ]
  },
  {
   "source": [
    "## 2. Extracting useful columns"
   ],
   "cell_type": "markdown",
   "metadata": {}
  },
  {
   "cell_type": "code",
   "execution_count": null,
   "metadata": {},
   "outputs": [],
   "source": [
    "records= client._client.get(\"uwyv-629c\", where=\"zip='11212' OR zip='11233'\", limit=10000, offset=2000)\n",
    "df_hc = pd.DataFrame.from_records(records)\n",
    "# df_hc[\"complaintid\"] = df_hc[\"complaintid\"].astype(\"int64\")\n",
    "df_hc.head()"
   ]
  },
  {
   "cell_type": "code",
   "execution_count": null,
   "metadata": {},
   "outputs": [],
   "source": [
    "records= client._client.get(\"a2nx-4u46\", limit=10000, offset=28000)\n",
    "df_cp = pd.DataFrame.from_records(records)\n",
    "# df_cp[\"complaintid\"] = df_cp[\"complaintid\"].astype(\"int64\")\n",
    "df_cp.head()"
   ]
  },
  {
   "cell_type": "code",
   "execution_count": null,
   "metadata": {},
   "outputs": [],
   "source": [
    "brownsville = pd.merge(df_hc, df_cp, on=[\"complaintid\", \"statusid\", \"status\", \"statusdate\"])\n",
    "brownsville = brownsville[[\"zip\", \"borough\", \"boroughid\", \"block\", \"lot\",  \"buildingid\", \"housenumber\", \"streetname\", \"apartment\", \"problemid\", \"complaintid\", \"unittypeid\", \"unittype\", \"spacetypeid\", \"spacetype\", \"typeid\", \"type\", \"majorcategoryid\", \"majorcategory\", \"minorcategoryid\", \"minorcategory\", \"codeid\", \"code\", \"statusid\", \"status\", \"receiveddate\", \"statusdate\", \"statusdescription\" ]]\n",
    "brownsville.head()"
   ]
  },
  {
   "cell_type": "code",
   "execution_count": null,
   "metadata": {},
   "outputs": [],
   "source": [
    "print(brownsville.shape, brownsville.columns, sep='\\n')\n"
   ]
  },
  {
   "cell_type": "code",
   "execution_count": null,
   "metadata": {},
   "outputs": [],
   "source": [
    "print(brownsville.shape, brownsville.columns, sep='\\n')"
   ]
  },
  {
   "cell_type": "code",
   "execution_count": null,
   "metadata": {},
   "outputs": [],
   "source": [
    "brownsville[['statusid_y', 'status_y', 'statusdate_y','statusid_x', 'status_x', 'statusdate_x']]\n",
    "x = brownsville[['statusid_x', 'status_x', 'statusdate_x']]\n",
    "y = brownsville[['statusid_y', 'status_y', 'statusdate_y']]\n"
   ]
  },
  {
   "cell_type": "code",
   "execution_count": null,
   "metadata": {},
   "outputs": [],
   "source": [
    "housing_problems = pd.read_csv(\"./data/housing-maintenance-code-complaints-raw.csv\")\n",
    "complaint_problems = pd.read_csv(\"./data/complaint-problems-raw.csv\")\n"
   ]
  },
  {
   "cell_type": "code",
   "execution_count": null,
   "metadata": {},
   "outputs": [],
   "source": [
    "housing_problems.head()"
   ]
  },
  {
   "cell_type": "code",
   "execution_count": null,
   "metadata": {},
   "outputs": [],
   "source": [
    "complaint_problems.head()\n"
   ]
  },
  {
   "cell_type": "code",
   "execution_count": null,
   "metadata": {},
   "outputs": [],
   "source": [
    "complaint_problems.head()"
   ]
  },
  {
   "cell_type": "code",
   "execution_count": null,
   "metadata": {},
   "outputs": [],
   "source": [
    "print(housing_problems.shape, complaint_problems.shape)"
   ]
  },
  {
   "cell_type": "code",
   "execution_count": null,
   "metadata": {},
   "outputs": [],
   "source": [
    "df = pd.merge(housing_problems, complaint_problems, on=[\"complaintid\"])\n",
    "df.head()"
   ]
  },
  {
   "cell_type": "code",
   "execution_count": null,
   "metadata": {},
   "outputs": [],
   "source": [
    "df.columns"
   ]
  },
  {
   "cell_type": "code",
   "execution_count": null,
   "metadata": {},
   "outputs": [],
   "source": [
    "df.to_csv(\"./data/brownsville-raw.csv\")"
   ]
  },
  {
   "cell_type": "code",
   "execution_count": null,
   "metadata": {},
   "outputs": [],
   "source": [
    "bv.head()"
   ]
  },
  {
   "cell_type": "code",
   "execution_count": null,
   "metadata": {},
   "outputs": [],
   "source": [
    "client.close()"
   ]
  },
  {
   "cell_type": "code",
   "execution_count": null,
   "metadata": {},
   "outputs": [],
   "source": [
    "import BrownsvilleAPI\n",
    "b = BrownsvilleAPI.Brownsville()"
   ]
  },
  {
   "cell_type": "code",
   "execution_count": null,
   "metadata": {},
   "outputs": [],
   "source": [
    "b.data.head()"
   ]
  },
  {
   "cell_type": "code",
   "execution_count": null,
   "metadata": {},
   "outputs": [],
   "source": [
    "b.get_feature_occurrences_by_building()"
   ]
  },
  {
   "cell_type": "code",
   "execution_count": null,
   "metadata": {},
   "outputs": [],
   "source": [
    "building_common_complaints = []\n",
    "for _id in set(b.data[\"buildingid\"]):\n",
    "    common_complaints = b.get_feature_occurrences_by_building(\n",
    "                                                            _id,\n",
    "                                                            by=[\"majorcategory\", \"minorcategory\"],\n",
    "                                                            find_all=True)\n",
    "\n",
    "    building_common_complaints.append((_id, common_complaints))\n",
    "building_common_complaints.sort(key=lambda e: e[1].values.sum(), reverse=True)"
   ]
  },
  {
   "cell_type": "code",
   "execution_count": null,
   "metadata": {},
   "outputs": [],
   "source": [
    "for building in building_common_complaints[:10]:\n",
    "    id_, complaints = building\n",
    "    major_category, minor_category = complaints.index[0]\n",
    "    num_complaints = complaints.values.sum()\n",
    "\n",
    "    print(\"Building ID:\", id_)\n",
    "    print(\"Most common major category:\", major_category)\n",
    "    print(\"Most common minor category:\", minor_category)\n",
    "    print(\"Number of complaints:\", num_complaints)\n",
    "\n",
    "    print()"
   ]
  },
  {
   "cell_type": "code",
   "execution_count": null,
   "metadata": {},
   "outputs": [],
   "source": [
    "b.data.shape"
   ]
  },
  {
   "cell_type": "code",
   "execution_count": null,
   "metadata": {},
   "outputs": [],
   "source": [
    "b.data.head()"
   ]
  },
  {
   "cell_type": "code",
   "execution_count": null,
   "metadata": {},
   "outputs": [],
   "source": [
    "b.data.dtypes"
   ]
  },
  {
   "cell_type": "code",
   "execution_count": null,
   "metadata": {},
   "outputs": [],
   "source": [
    "b.data[\"unittypeid\"].value_counts()"
   ]
  }
 ]
}