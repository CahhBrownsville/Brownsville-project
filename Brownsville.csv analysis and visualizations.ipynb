{
 "cells": [
  {
   "cell_type": "markdown",
   "metadata": {},
   "source": [
    "# Part 1: Analysis of Brownsville.csv, years 2014-2021"
   ]
  },
  {
   "cell_type": "markdown",
   "metadata": {},
   "source": [
    "The first step is to load up the necessary libraries and the Brownsville.csv dataset. Data cleaning will be done, which will consist of removing duplicates that may interfere with the data analysis and removing N/A rows if necessary."
   ]
  },
  {
   "cell_type": "code",
   "execution_count": 1,
   "metadata": {},
   "outputs": [],
   "source": [
    "import matplotlib.pyplot as plt\n",
    "import pandas as pd\n",
    "import numpy as np\n",
    "import datetime as dt\n",
    "import seaborn as sns\n",
    "%matplotlib inline"
   ]
  },
  {
   "cell_type": "code",
   "execution_count": 2,
   "metadata": {
    "scrolled": true
   },
   "outputs": [
    {
     "name": "stderr",
     "output_type": "stream",
     "text": [
      "<ipython-input-2-14a50b077031>:2: FutureWarning: Passing a negative integer is deprecated in version 1.0 and will not be supported in future version. Instead, use None to not limit the column width.\n",
      "  pd.set_option('display.max_colwidth', -1)\n"
     ]
    },
    {
     "data": {
      "text/html": [
       "<div>\n",
       "<style scoped>\n",
       "    .dataframe tbody tr th:only-of-type {\n",
       "        vertical-align: middle;\n",
       "    }\n",
       "\n",
       "    .dataframe tbody tr th {\n",
       "        vertical-align: top;\n",
       "    }\n",
       "\n",
       "    .dataframe thead th {\n",
       "        text-align: right;\n",
       "    }\n",
       "</style>\n",
       "<table border=\"1\" class=\"dataframe\">\n",
       "  <thead>\n",
       "    <tr style=\"text-align: right;\">\n",
       "      <th></th>\n",
       "      <th>Zip</th>\n",
       "      <th>Borough</th>\n",
       "      <th>BoroughID</th>\n",
       "      <th>BuildingID</th>\n",
       "      <th>ProblemID</th>\n",
       "      <th>ComplaintID</th>\n",
       "      <th>UnitTypeID</th>\n",
       "      <th>UnitType</th>\n",
       "      <th>SpaceTypeID</th>\n",
       "      <th>SpaceType</th>\n",
       "      <th>...</th>\n",
       "      <th>MajorCategoryID</th>\n",
       "      <th>MajorCategory</th>\n",
       "      <th>MinorCategoryID</th>\n",
       "      <th>MinorCategory</th>\n",
       "      <th>CodeID</th>\n",
       "      <th>Code</th>\n",
       "      <th>StatusID</th>\n",
       "      <th>Status</th>\n",
       "      <th>StatusDate</th>\n",
       "      <th>StatusDescription</th>\n",
       "    </tr>\n",
       "  </thead>\n",
       "  <tbody>\n",
       "    <tr>\n",
       "      <th>0</th>\n",
       "      <td>11233</td>\n",
       "      <td>BROOKLYN</td>\n",
       "      <td>3</td>\n",
       "      <td>219263</td>\n",
       "      <td>14570531</td>\n",
       "      <td>6977738</td>\n",
       "      <td>91</td>\n",
       "      <td>APARTMENT</td>\n",
       "      <td>541</td>\n",
       "      <td>BATHROOM</td>\n",
       "      <td>...</td>\n",
       "      <td>65</td>\n",
       "      <td>WATER LEAK</td>\n",
       "      <td>380</td>\n",
       "      <td>HEAVY FLOW</td>\n",
       "      <td>2828</td>\n",
       "      <td>AT WALL OR CEILING</td>\n",
       "      <td>2</td>\n",
       "      <td>CLOSE</td>\n",
       "      <td>2014-07-31</td>\n",
       "      <td>The Department of Housing Preservation and Development inspected the following conditions. No violations were issued. The complaint has been closed.</td>\n",
       "    </tr>\n",
       "    <tr>\n",
       "      <th>1</th>\n",
       "      <td>11212</td>\n",
       "      <td>BROOKLYN</td>\n",
       "      <td>3</td>\n",
       "      <td>283890</td>\n",
       "      <td>14618845</td>\n",
       "      <td>6996145</td>\n",
       "      <td>91</td>\n",
       "      <td>APARTMENT</td>\n",
       "      <td>546</td>\n",
       "      <td>KITCHEN</td>\n",
       "      <td>...</td>\n",
       "      <td>9</td>\n",
       "      <td>PLUMBING</td>\n",
       "      <td>68</td>\n",
       "      <td>WATER SUPPLY</td>\n",
       "      <td>2564</td>\n",
       "      <td>NO WATER</td>\n",
       "      <td>2</td>\n",
       "      <td>CLOSE</td>\n",
       "      <td>2014-08-23</td>\n",
       "      <td>The Department of Housing Preservation and Development inspected the following conditions. Violations were issued. Information about specific violations is available at www.nyc.gov/hpd.</td>\n",
       "    </tr>\n",
       "    <tr>\n",
       "      <th>2</th>\n",
       "      <td>11212</td>\n",
       "      <td>BROOKLYN</td>\n",
       "      <td>3</td>\n",
       "      <td>283890</td>\n",
       "      <td>14618846</td>\n",
       "      <td>6996145</td>\n",
       "      <td>91</td>\n",
       "      <td>APARTMENT</td>\n",
       "      <td>545</td>\n",
       "      <td>ENTRANCE/FOYER</td>\n",
       "      <td>...</td>\n",
       "      <td>56</td>\n",
       "      <td>DOOR/WINDOW</td>\n",
       "      <td>333</td>\n",
       "      <td>DOOR</td>\n",
       "      <td>2664</td>\n",
       "      <td>BROKEN OR MISSING</td>\n",
       "      <td>2</td>\n",
       "      <td>CLOSE</td>\n",
       "      <td>2014-08-23</td>\n",
       "      <td>The Department of Housing Preservation and Development inspected the following conditions. Violations were issued. Information about specific violations is available at www.nyc.gov/hpd.</td>\n",
       "    </tr>\n",
       "    <tr>\n",
       "      <th>3</th>\n",
       "      <td>11212</td>\n",
       "      <td>BROOKLYN</td>\n",
       "      <td>3</td>\n",
       "      <td>283890</td>\n",
       "      <td>14618847</td>\n",
       "      <td>6996145</td>\n",
       "      <td>91</td>\n",
       "      <td>APARTMENT</td>\n",
       "      <td>542</td>\n",
       "      <td>BEDROOM</td>\n",
       "      <td>...</td>\n",
       "      <td>63</td>\n",
       "      <td>UNSANITARY CONDITION</td>\n",
       "      <td>375</td>\n",
       "      <td>MOLD</td>\n",
       "      <td>2817</td>\n",
       "      <td>NaN</td>\n",
       "      <td>2</td>\n",
       "      <td>CLOSE</td>\n",
       "      <td>2014-08-23</td>\n",
       "      <td>The Department of Housing Preservation and Development inspected the following conditions. No violations were issued. The complaint has been closed.</td>\n",
       "    </tr>\n",
       "    <tr>\n",
       "      <th>4</th>\n",
       "      <td>11233</td>\n",
       "      <td>BROOKLYN</td>\n",
       "      <td>3</td>\n",
       "      <td>330347</td>\n",
       "      <td>14585091</td>\n",
       "      <td>6982717</td>\n",
       "      <td>91</td>\n",
       "      <td>APARTMENT</td>\n",
       "      <td>543</td>\n",
       "      <td>ENTIRE APARTMENT</td>\n",
       "      <td>...</td>\n",
       "      <td>59</td>\n",
       "      <td>HEAT/HOT WATER</td>\n",
       "      <td>348</td>\n",
       "      <td>APARTMENT ONLY</td>\n",
       "      <td>2833</td>\n",
       "      <td>NO HEAT AND NO HOT WATER</td>\n",
       "      <td>2</td>\n",
       "      <td>CLOSE</td>\n",
       "      <td>2014-08-05</td>\n",
       "      <td>More than one complaint was received for this building-wide condition.This complaint status is for the initial complaint. The Department of Housing Preservation and Development contacted an occupant of the apartment and verified that the following conditions were corrected. The complaint has been closed. If the condition still exists, please file a new complaint.</td>\n",
       "    </tr>\n",
       "    <tr>\n",
       "      <th>...</th>\n",
       "      <td>...</td>\n",
       "      <td>...</td>\n",
       "      <td>...</td>\n",
       "      <td>...</td>\n",
       "      <td>...</td>\n",
       "      <td>...</td>\n",
       "      <td>...</td>\n",
       "      <td>...</td>\n",
       "      <td>...</td>\n",
       "      <td>...</td>\n",
       "      <td>...</td>\n",
       "      <td>...</td>\n",
       "      <td>...</td>\n",
       "      <td>...</td>\n",
       "      <td>...</td>\n",
       "      <td>...</td>\n",
       "      <td>...</td>\n",
       "      <td>...</td>\n",
       "      <td>...</td>\n",
       "      <td>...</td>\n",
       "      <td>...</td>\n",
       "    </tr>\n",
       "    <tr>\n",
       "      <th>143682</th>\n",
       "      <td>11212</td>\n",
       "      <td>BROOKLYN</td>\n",
       "      <td>3</td>\n",
       "      <td>309623</td>\n",
       "      <td>21541551</td>\n",
       "      <td>10701702</td>\n",
       "      <td>91</td>\n",
       "      <td>APARTMENT</td>\n",
       "      <td>546</td>\n",
       "      <td>KITCHEN</td>\n",
       "      <td>...</td>\n",
       "      <td>8</td>\n",
       "      <td>APPLIANCE</td>\n",
       "      <td>61</td>\n",
       "      <td>REFRIGERATOR</td>\n",
       "      <td>2622</td>\n",
       "      <td>BROKEN DOOR SEAL</td>\n",
       "      <td>1</td>\n",
       "      <td>OPEN</td>\n",
       "      <td>2021-04-30</td>\n",
       "      <td>The following complaint conditions are still open. HPD may attempt to contact you to verify the correction of the condition or may conduct an inspection.</td>\n",
       "    </tr>\n",
       "    <tr>\n",
       "      <th>143683</th>\n",
       "      <td>11212</td>\n",
       "      <td>BROOKLYN</td>\n",
       "      <td>3</td>\n",
       "      <td>309623</td>\n",
       "      <td>21541552</td>\n",
       "      <td>10701702</td>\n",
       "      <td>91</td>\n",
       "      <td>APARTMENT</td>\n",
       "      <td>543</td>\n",
       "      <td>ENTIRE APARTMENT</td>\n",
       "      <td>...</td>\n",
       "      <td>65</td>\n",
       "      <td>WATER LEAK</td>\n",
       "      <td>381</td>\n",
       "      <td>SLOW LEAK</td>\n",
       "      <td>2831</td>\n",
       "      <td>AT WALL OR CEILING</td>\n",
       "      <td>1</td>\n",
       "      <td>OPEN</td>\n",
       "      <td>2021-04-30</td>\n",
       "      <td>The following complaint conditions are still open. HPD may attempt to contact you to verify the correction of the condition or may conduct an inspection.</td>\n",
       "    </tr>\n",
       "    <tr>\n",
       "      <th>143684</th>\n",
       "      <td>11212</td>\n",
       "      <td>BROOKLYN</td>\n",
       "      <td>3</td>\n",
       "      <td>309623</td>\n",
       "      <td>21541553</td>\n",
       "      <td>10701702</td>\n",
       "      <td>91</td>\n",
       "      <td>APARTMENT</td>\n",
       "      <td>543</td>\n",
       "      <td>ENTIRE APARTMENT</td>\n",
       "      <td>...</td>\n",
       "      <td>28</td>\n",
       "      <td>PAINT/PLASTER</td>\n",
       "      <td>198</td>\n",
       "      <td>WALL</td>\n",
       "      <td>1364</td>\n",
       "      <td>BULGING/HOLE/CRACKED</td>\n",
       "      <td>1</td>\n",
       "      <td>OPEN</td>\n",
       "      <td>2021-04-30</td>\n",
       "      <td>The following complaint conditions are still open. HPD may attempt to contact you to verify the correction of the condition or may conduct an inspection.</td>\n",
       "    </tr>\n",
       "    <tr>\n",
       "      <th>143685</th>\n",
       "      <td>11233</td>\n",
       "      <td>BROOKLYN</td>\n",
       "      <td>3</td>\n",
       "      <td>364106</td>\n",
       "      <td>21541604</td>\n",
       "      <td>10701726</td>\n",
       "      <td>92</td>\n",
       "      <td>BUILDING-WIDE</td>\n",
       "      <td>550</td>\n",
       "      <td>BUILDING-WIDE</td>\n",
       "      <td>...</td>\n",
       "      <td>63</td>\n",
       "      <td>UNSANITARY CONDITION</td>\n",
       "      <td>374</td>\n",
       "      <td>GARBAGE/RECYCLING STORAGE</td>\n",
       "      <td>2816</td>\n",
       "      <td>MISSING OR INADEQUATE CANS/LID</td>\n",
       "      <td>1</td>\n",
       "      <td>OPEN</td>\n",
       "      <td>2021-04-30</td>\n",
       "      <td>The following complaint conditions are still open. HPD may attempt to contact you to verify the correction of the condition or may conduct an inspection.</td>\n",
       "    </tr>\n",
       "    <tr>\n",
       "      <th>143686</th>\n",
       "      <td>11233</td>\n",
       "      <td>BROOKLYN</td>\n",
       "      <td>3</td>\n",
       "      <td>349937</td>\n",
       "      <td>21542153</td>\n",
       "      <td>10701883</td>\n",
       "      <td>93</td>\n",
       "      <td>PUBLIC AREA</td>\n",
       "      <td>569</td>\n",
       "      <td>LOBBY</td>\n",
       "      <td>...</td>\n",
       "      <td>63</td>\n",
       "      <td>UNSANITARY CONDITION</td>\n",
       "      <td>374</td>\n",
       "      <td>GARBAGE/RECYCLING STORAGE</td>\n",
       "      <td>2813</td>\n",
       "      <td>ACCUMULATION</td>\n",
       "      <td>1</td>\n",
       "      <td>OPEN</td>\n",
       "      <td>2021-04-30</td>\n",
       "      <td>The following complaint conditions are still open. HPD may attempt to contact you to verify the correction of the condition or may conduct an inspection.</td>\n",
       "    </tr>\n",
       "  </tbody>\n",
       "</table>\n",
       "<p>143687 rows × 22 columns</p>\n",
       "</div>"
      ],
      "text/plain": [
       "          Zip   Borough  BoroughID  BuildingID  ProblemID  ComplaintID  \\\n",
       "0       11233  BROOKLYN  3          219263      14570531   6977738       \n",
       "1       11212  BROOKLYN  3          283890      14618845   6996145       \n",
       "2       11212  BROOKLYN  3          283890      14618846   6996145       \n",
       "3       11212  BROOKLYN  3          283890      14618847   6996145       \n",
       "4       11233  BROOKLYN  3          330347      14585091   6982717       \n",
       "...       ...       ... ..             ...           ...       ...       \n",
       "143682  11212  BROOKLYN  3          309623      21541551   10701702      \n",
       "143683  11212  BROOKLYN  3          309623      21541552   10701702      \n",
       "143684  11212  BROOKLYN  3          309623      21541553   10701702      \n",
       "143685  11233  BROOKLYN  3          364106      21541604   10701726      \n",
       "143686  11233  BROOKLYN  3          349937      21542153   10701883      \n",
       "\n",
       "        UnitTypeID       UnitType  SpaceTypeID         SpaceType  ...  \\\n",
       "0       91          APARTMENT      541          BATHROOM          ...   \n",
       "1       91          APARTMENT      546          KITCHEN           ...   \n",
       "2       91          APARTMENT      545          ENTRANCE/FOYER    ...   \n",
       "3       91          APARTMENT      542          BEDROOM           ...   \n",
       "4       91          APARTMENT      543          ENTIRE APARTMENT  ...   \n",
       "...     ..                ...      ...                       ...  ...   \n",
       "143682  91          APARTMENT      546          KITCHEN           ...   \n",
       "143683  91          APARTMENT      543          ENTIRE APARTMENT  ...   \n",
       "143684  91          APARTMENT      543          ENTIRE APARTMENT  ...   \n",
       "143685  92          BUILDING-WIDE  550          BUILDING-WIDE     ...   \n",
       "143686  93          PUBLIC AREA    569          LOBBY             ...   \n",
       "\n",
       "        MajorCategoryID         MajorCategory  MinorCategoryID  \\\n",
       "0       65               WATER LEAK            380               \n",
       "1       9                PLUMBING              68                \n",
       "2       56               DOOR/WINDOW           333               \n",
       "3       63               UNSANITARY CONDITION  375               \n",
       "4       59               HEAT/HOT WATER        348               \n",
       "...     ..                          ...        ...               \n",
       "143682  8                APPLIANCE             61                \n",
       "143683  65               WATER LEAK            381               \n",
       "143684  28               PAINT/PLASTER         198               \n",
       "143685  63               UNSANITARY CONDITION  374               \n",
       "143686  63               UNSANITARY CONDITION  374               \n",
       "\n",
       "                    MinorCategory  CodeID                            Code  \\\n",
       "0       HEAVY FLOW                 2828    AT WALL OR CEILING               \n",
       "1       WATER SUPPLY               2564    NO WATER                         \n",
       "2       DOOR                       2664    BROKEN OR MISSING                \n",
       "3       MOLD                       2817    NaN                              \n",
       "4       APARTMENT ONLY             2833    NO HEAT AND NO HOT WATER         \n",
       "...                ...              ...                         ...         \n",
       "143682  REFRIGERATOR               2622    BROKEN DOOR SEAL                 \n",
       "143683  SLOW LEAK                  2831    AT WALL OR CEILING               \n",
       "143684  WALL                       1364    BULGING/HOLE/CRACKED             \n",
       "143685  GARBAGE/RECYCLING STORAGE  2816    MISSING OR INADEQUATE CANS/LID   \n",
       "143686  GARBAGE/RECYCLING STORAGE  2813    ACCUMULATION                     \n",
       "\n",
       "        StatusID Status  StatusDate  \\\n",
       "0       2         CLOSE 2014-07-31    \n",
       "1       2         CLOSE 2014-08-23    \n",
       "2       2         CLOSE 2014-08-23    \n",
       "3       2         CLOSE 2014-08-23    \n",
       "4       2         CLOSE 2014-08-05    \n",
       "...    ..           ...        ...    \n",
       "143682  1         OPEN  2021-04-30    \n",
       "143683  1         OPEN  2021-04-30    \n",
       "143684  1         OPEN  2021-04-30    \n",
       "143685  1         OPEN  2021-04-30    \n",
       "143686  1         OPEN  2021-04-30    \n",
       "\n",
       "                                                                                                                                                                                                                                                                                                                                                                    StatusDescription  \n",
       "0       The Department of Housing Preservation and Development inspected the following conditions. No violations were issued. The complaint has been closed.                                                                                                                                                                                                                           \n",
       "1       The Department of Housing Preservation and Development inspected the following conditions. Violations were issued. Information about specific violations is available at www.nyc.gov/hpd.                                                                                                                                                                                      \n",
       "2       The Department of Housing Preservation and Development inspected the following conditions. Violations were issued. Information about specific violations is available at www.nyc.gov/hpd.                                                                                                                                                                                      \n",
       "3       The Department of Housing Preservation and Development inspected the following conditions. No violations were issued. The complaint has been closed.                                                                                                                                                                                                                           \n",
       "4       More than one complaint was received for this building-wide condition.This complaint status is for the initial complaint. The Department of Housing Preservation and Development contacted an occupant of the apartment and verified that the following conditions were corrected. The complaint has been closed. If the condition still exists, please file a new complaint.  \n",
       "...                                                                                                                                                                                                                                                                                                                                                                               ...  \n",
       "143682  The following complaint conditions are still open. HPD may attempt to contact you to verify the correction of the condition or may conduct an inspection.                                                                                                                                                                                                                      \n",
       "143683  The following complaint conditions are still open. HPD may attempt to contact you to verify the correction of the condition or may conduct an inspection.                                                                                                                                                                                                                      \n",
       "143684  The following complaint conditions are still open. HPD may attempt to contact you to verify the correction of the condition or may conduct an inspection.                                                                                                                                                                                                                      \n",
       "143685  The following complaint conditions are still open. HPD may attempt to contact you to verify the correction of the condition or may conduct an inspection.                                                                                                                                                                                                                      \n",
       "143686  The following complaint conditions are still open. HPD may attempt to contact you to verify the correction of the condition or may conduct an inspection.                                                                                                                                                                                                                      \n",
       "\n",
       "[143687 rows x 22 columns]"
      ]
     },
     "execution_count": 2,
     "metadata": {},
     "output_type": "execute_result"
    }
   ],
   "source": [
    "brownsville = pd.read_csv(\"brownsville.csv\", parse_dates=[\"StatusDate\"])\n",
    "pd.set_option('display.max_colwidth', -1)\n",
    "brownsville"
   ]
  },
  {
   "cell_type": "code",
   "execution_count": 3,
   "metadata": {
    "scrolled": true
   },
   "outputs": [],
   "source": [
    "rd = brownsville.drop_duplicates(subset=[\"ComplaintID\"], keep='first', inplace=False)"
   ]
  },
  {
   "cell_type": "code",
   "execution_count": 4,
   "metadata": {},
   "outputs": [
    {
     "data": {
      "text/plain": [
       "3756"
      ]
     },
     "execution_count": 4,
     "metadata": {},
     "output_type": "execute_result"
    }
   ],
   "source": [
    "rd.isna().sum().sum()"
   ]
  },
  {
   "cell_type": "code",
   "execution_count": 5,
   "metadata": {
    "scrolled": true
   },
   "outputs": [],
   "source": [
    "rdbrownsville = rd.dropna()"
   ]
  },
  {
   "cell_type": "markdown",
   "metadata": {},
   "source": [
    "Duplicate ComplaintIDs were removed because there were multiple values that repeated. The ProblemIds paired up with the complaint IDs, but they were all unique. N/A values were also dropped, out of 143687 rows total, 3756 were N/A values. "
   ]
  },
  {
   "cell_type": "markdown",
   "metadata": {},
   "source": [
    "-----------------------"
   ]
  },
  {
   "cell_type": "markdown",
   "metadata": {},
   "source": [
    "Here, the MajorCategory column will be analyzed to see which is highest in reports.  "
   ]
  },
  {
   "cell_type": "code",
   "execution_count": 6,
   "metadata": {},
   "outputs": [
    {
     "data": {
      "text/plain": [
       "HEAT/HOT WATER          38181\n",
       "PLUMBING                5396 \n",
       "UNSANITARY CONDITION    5189 \n",
       "DOOR/WINDOW             4156 \n",
       "WATER LEAK              3656 \n",
       "PAINT/PLASTER           3522 \n",
       "ELECTRIC                3177 \n",
       "GENERAL                 2282 \n",
       "SAFETY                  1815 \n",
       "APPLIANCE               1520 \n",
       "FLOORING/STAIRS         1130 \n",
       "OUTSIDE BUILDING        249  \n",
       "HEATING                 70   \n",
       "ELEVATOR                68   \n",
       "NONCONST                2    \n",
       "CONSTRUCTION            1    \n",
       "Name: MajorCategory, dtype: int64"
      ]
     },
     "execution_count": 6,
     "metadata": {},
     "output_type": "execute_result"
    }
   ],
   "source": [
    "rdbrownsville[\"MajorCategory\"].value_counts()"
   ]
  },
  {
   "cell_type": "code",
   "execution_count": 7,
   "metadata": {},
   "outputs": [],
   "source": [
    "sorted_cat = rdbrownsville.sort_values(\"MajorCategory\", ascending = True)"
   ]
  },
  {
   "cell_type": "code",
   "execution_count": 8,
   "metadata": {},
   "outputs": [
    {
     "data": {
      "text/plain": [
       "Text(0.5, 0, 'Issue')"
      ]
     },
     "execution_count": 8,
     "metadata": {},
     "output_type": "execute_result"
    },
    {
     "data": {
      "image/png": "[encoded data removed]",
      "text/plain": [
       "<Figure size 432x288 with 1 Axes>"
      ]
     },
     "metadata": {
      "needs_background": "light"
     },
     "output_type": "display_data"
    }
   ],
   "source": [
    "majorcat_values = rdbrownsville[\"MajorCategory\"].value_counts().head(10)\n",
    "majorcat_values.plot(kind = \"bar\")\n",
    "plt.title(\"Top MajorCategory Complaints 2014-2021\")\n",
    "plt.ylabel(\"Number of Reports\")\n",
    "plt.xlabel(\"Issue\")"
   ]
  },
  {
   "cell_type": "markdown",
   "metadata": {},
   "source": [
    "After cleaning and ordering, the top categories in the MajorCategory column are \"HEAT/HOT WATER\", \"PLUMBING\", \"UNSANITARY CONDITION\", \"DOOR/WINDOW\" and \"WATER LEAK\". Created a bar chart to show the top 10 major categories. "
   ]
  },
  {
   "cell_type": "markdown",
   "metadata": {},
   "source": [
    "--------------"
   ]
  },
  {
   "cell_type": "markdown",
   "metadata": {},
   "source": [
    "In this section, the MinorCategory column will be analyzed to see which has the highest amount of reports."
   ]
  },
  {
   "cell_type": "code",
   "execution_count": 9,
   "metadata": {},
   "outputs": [
    {
     "data": {
      "text/plain": [
       "ENTIRE BUILDING              22291\n",
       "APARTMENT ONLY               15890\n",
       "PESTS                        3641 \n",
       "DOOR                         2699 \n",
       "CEILING                      2452 \n",
       "HEAVY FLOW                   2317 \n",
       "WATER SUPPLY                 1789 \n",
       "POWER OUTAGE                 1308 \n",
       "GARBAGE/RECYCLING STORAGE    1262 \n",
       "BASIN/SINK                   1222 \n",
       "Name: MinorCategory, dtype: int64"
      ]
     },
     "execution_count": 9,
     "metadata": {},
     "output_type": "execute_result"
    }
   ],
   "source": [
    "rdbrownsville[\"MinorCategory\"].value_counts().head(10)"
   ]
  },
  {
   "cell_type": "code",
   "execution_count": 10,
   "metadata": {},
   "outputs": [],
   "source": [
    "mincat = rdbrownsville.sort_values(by='MinorCategory').reset_index(drop=True)"
   ]
  },
  {
   "cell_type": "code",
   "execution_count": 11,
   "metadata": {},
   "outputs": [
    {
     "data": {
      "text/plain": [
       "Text(0.5, 0, 'Issue Description')"
      ]
     },
     "execution_count": 11,
     "metadata": {},
     "output_type": "execute_result"
    },
    {
     "data": {
      "image/png": "[encoded data removed]",
      "text/plain": [
       "<Figure size 432x288 with 1 Axes>"
      ]
     },
     "metadata": {
      "needs_background": "light"
     },
     "output_type": "display_data"
    }
   ],
   "source": [
    "minorcat_values = rdbrownsville[\"MinorCategory\"].value_counts().head(10)\n",
    "minorcat_values.plot(kind = \"bar\")\n",
    "plt.title(\"Top MinorCategory Complaints 2014-2021\")\n",
    "plt.ylabel(\"Number of Reports\")\n",
    "plt.xlabel(\"Issue Description\")"
   ]
  },
  {
   "cell_type": "markdown",
   "metadata": {},
   "source": [
    "Checking the Minor Category, the top issues are \"ENTIRE BUILDING\", \"APARTMENT ONLY\", \"PESTS\", \"DOOR\", and \"CEILING\". Created a bar chart with the top 10 minor categories. "
   ]
  },
  {
   "cell_type": "markdown",
   "metadata": {},
   "source": [
    "------------------"
   ]
  },
  {
   "cell_type": "markdown",
   "metadata": {},
   "source": [
    "Checking building IDs to see which is the most frequently shown in the dataset."
   ]
  },
  {
   "cell_type": "code",
   "execution_count": 12,
   "metadata": {},
   "outputs": [
    {
     "data": {
      "text/plain": [
       "808361    3764\n",
       "309623    798 \n",
       "362955    767 \n",
       "362959    700 \n",
       "363119    557 \n",
       "         ...  \n",
       "306293    1   \n",
       "314809    1   \n",
       "966199    1   \n",
       "984704    1   \n",
       "232130    1   \n",
       "Name: BuildingID, Length: 4537, dtype: int64"
      ]
     },
     "execution_count": 12,
     "metadata": {},
     "output_type": "execute_result"
    }
   ],
   "source": [
    "rdbrownsville[\"BuildingID\"].value_counts()"
   ]
  },
  {
   "cell_type": "code",
   "execution_count": 13,
   "metadata": {},
   "outputs": [
    {
     "data": {
      "text/plain": [
       "Text(0.5, 0, 'Building ID')"
      ]
     },
     "execution_count": 13,
     "metadata": {},
     "output_type": "execute_result"
    },
    {
     "data": {
      "image/png": "[encoded data removed]",
      "text/plain": [
       "<Figure size 432x288 with 1 Axes>"
      ]
     },
     "metadata": {
      "needs_background": "light"
     },
     "output_type": "display_data"
    }
   ],
   "source": [
    "build_values = rdbrownsville[\"BuildingID\"].value_counts().head(10)\n",
    "build_values.plot(kind = \"bar\")\n",
    "plt.title(\"Top Buildings with Complaints Reported 2014-2021\")\n",
    "plt.ylabel(\"Number of Reports\")\n",
    "plt.xlabel(\"Building ID\")"
   ]
  },
  {
   "cell_type": "markdown",
   "metadata": {},
   "source": [
    "The building with the most complaints in this version of the dataset are:<br>\n",
    "808361 - 1711 Fulton Street<br>\n",
    "309623 - 7 Hegeman Avenue<br>\n",
    "362955 - 165 Rockaway Parkway<br>\n",
    "362959 - 166 Rockaway Parkway<br>\n",
    "363119 - 214 Rockaway Parkway<br>\n",
    "314098 - 351 Howard Avenue<br>\n",
    "363333 - 92 Rockaway Parkway<br>\n",
    "363013 - 178 Rockaway Parkway<br>\n",
    "329071 - 210 Lott Avenue<br>\n",
    "282041 - 327 East 92 Street<br>"
   ]
  },
  {
   "cell_type": "markdown",
   "metadata": {},
   "source": [
    "------------------------------------------"
   ]
  },
  {
   "cell_type": "markdown",
   "metadata": {},
   "source": [
    "Status descriptions will be analyzed here. These describe what the Department of Housing Preservation and Development has done about the complaints they have received. This section will see which messages come up the most frequently. "
   ]
  },
  {
   "cell_type": "code",
   "execution_count": 14,
   "metadata": {},
   "outputs": [
    {
     "data": {
      "text/plain": [
       "The Department of Housing Preservation and Development inspected the following conditions. No violations were issued. The complaint has been closed.                                                                                                                                                                                                                             17934\n",
       "The Department of Housing Preservation and Development inspected the following conditions. Violations were issued. Information about specific violations is available at www.nyc.gov/hpd.                                                                                                                                                                                        10269\n",
       "More than one complaint was received for this building-wide condition.This complaint status is for the initial complaint. The Department of Housing Preservation and Development contacted an occupant of the apartment and verified that the following conditions were corrected. The complaint has been closed. If the condition still exists, please file a new complaint.    8619 \n",
       "More than one complaint was received for this building-wide condition.This complaint status is for the initial complaint. The Department of Housing Preservation and Development contacted a tenant in the building and verified that the following conditions were corrected. The complaint has been closed. If the condition still exists, please file a new complaint.        7972 \n",
       "The Department of Housing Preservation and Development responded to a complaint of no heat or hot water and was advised by a tenant in the building that heat and hot water had been restored. If the condition still exists, please file a new complaint.                                                                                                                       7581 \n",
       "The Department of Housing Preservation and Development was not able to gain access to inspect the following conditions. The complaint has been closed. If the condition still exists, please file a new complaint.                                                                                                                                                               7277 \n",
       "The Department of Housing Preservation and Development was not able to gain access to your apartment or others in the building to inspect for a lack of heat or hot water. The complaint has been closed. If the condition still exists, please file a new complaint.                                                                                                            6930 \n",
       "The Department of Housing Preservation and Development contacted an occupant of the apartment and verified that the following conditions were corrected. The complaint has been closed. If the condition still exists, please file a new complaint.                                                                                                                              2351 \n",
       "The Department of Housing Preservation and Development inspected the following conditions. Violations were previously issued for these conditions. Information about specific violations is available at www.nyc.gov/hpd.                                                                                                                                                        524  \n",
       "The Department of Housing Preservation and Development contacted a tenant in the building and verified that the following conditions were corrected. The complaint has been closed. If the condition still exists, please file a new complaint.                                                                                                                                  335  \n",
       "The Department of Housing Preservation and Development was not able to gain access to your apartment to inspect for a lack of heat or hot water. However, HPD was able to verify that heat or hot water was inadequate by inspecting another apartment and a violation was issued. Information about specific violations is available at www.nyc.gov/hpd.                        241  \n",
       "The Department of Housing Preservation and Development was unable to access the rooms where the following conditions were reported. No violations were issued. The complaint has been closed.                                                                                                                                                                                    138  \n",
       "The following complaint conditions are still open. HPD may attempt to contact you to verify the correction of the condition or may conduct an inspection.                                                                                                                                                                                                                        70   \n",
       "The Department of Housing Preservation and Development responded to a complaint of no heat or hot water. Heat was not required at the time of the inspection. No violations were issued. If the condition still exists, please file a new complaint.                                                                                                                             48   \n",
       "More than one complaint was received for this building-wide condition. This complaint status is for the initial complaint.The Department of Housing Preservation and Development contacted an occupant of the apartment and verified that the following conditions were corrected. The complaint has been closed. If the condition still exists, please file a new complaint.    45   \n",
       "More than one complaint was received for this building-wide condition. This complaint status is for the initial complaint.The Department of Housing Preservation and Development contacted a tenant in the building and verified that the following conditions were corrected. The complaint has been closed. If the condition still exists, please file a new complaint.        35   \n",
       "The Department of Housing Preservation and Development was not able to gain access to inspect the conditions. If the conditions still exist and an inspection is required, please contact the borough office with your complaint number at                                                                                                                                       29   \n",
       "The Department of Housing Preservation and Development inspected the following conditions. A Section 8 Failure was issued. Both the tenant and the property owner will receive a notice in the mail regarding the details of the Failure and the resulting action by the Agency.                                                                                                 11   \n",
       "The Department of Housing Preservation and Development inspected the following conditions. Violations were issued. However, HPD also identified potential lead-based paint conditions and will attempt to contact you to schedule a follow-up inspection to test the paint for lead. Information about specific violations is available at www.nyc.gov/hpd.                      3    \n",
       "More than one complaint was received for this building-wide condition.This complaint status is for the initial complaint. The following complaint conditions are still open. HPD may attempt to contact you to verify the correction of the condition or may conduct an inspection.                                                                                              2    \n",
       "Name: StatusDescription, dtype: int64"
      ]
     },
     "execution_count": 14,
     "metadata": {},
     "output_type": "execute_result"
    }
   ],
   "source": [
    "rdbrownsville[\"StatusDescription\"].value_counts()"
   ]
  },
  {
   "cell_type": "markdown",
   "metadata": {},
   "source": [
    "There are 21 unique status descriptions when we look at it in its original form, however this version is not ideal for what we want to look at. These messages are long and some are repetative, saying almost the same thing but with only a few different words, so next I will shorten them and sort them to make this column easier to read and code with in the future. \n"
   ]
  },
  {
   "cell_type": "code",
   "execution_count": 15,
   "metadata": {},
   "outputs": [
    {
     "name": "stderr",
     "output_type": "stream",
     "text": [
      "C:\\Users\\miss_\\anaconda3\\lib\\site-packages\\pandas\\core\\frame.py:4166: SettingWithCopyWarning: \n",
      "A value is trying to be set on a copy of a slice from a DataFrame\n",
      "\n",
      "See the caveats in the documentation: https://pandas.pydata.org/pandas-docs/stable/user_guide/indexing.html#returning-a-view-versus-a-copy\n",
      "  return super().replace(\n"
     ]
    }
   ],
   "source": [
    "rdbrownsville.replace(\"The Department of Housing Preservation and Development inspected the following conditions. No violations were issued. The complaint has been closed.\",\n",
    "                      \"Inspected; no violations issued\",\n",
    "                      inplace=True)\n",
    "rdbrownsville.replace(\"The Department of Housing Preservation and Development inspected the following conditions. Violations were issued. Information about specific violations is available at www.nyc.gov/hpd.\", \n",
    "           \"Inspected; violations issued\", \n",
    "           inplace=True)\n",
    "rdbrownsville.replace(\"The Department of Housing Preservation and Development was not able to gain access to inspect the following conditions. The complaint has been closed. If the condition still exists, please file a new complaint.\", \n",
    "           \"Unable to gain access\", \n",
    "           inplace=True)\n",
    "rdbrownsville.replace(\"More than one complaint was received for this building-wide condition.This complaint status is for the initial complaint. The Department of Housing Preservation and Development contacted an occupant of the apartment and verified that the following conditions were corrected. The complaint has been closed. If the condition still exists, please file a new complaint.\", \n",
    "           \"Multiple complaints; tennant confirmed resolved\", \n",
    "           inplace=True)\n",
    "rdbrownsville.replace(\"More than one complaint was received for this building-wide condition.This complaint status is for the initial complaint. The Department of Housing Preservation and Development contacted a tenant in the building and verified that the following conditions were corrected. The complaint has been closed. If the condition still exists, please file a new complaint.\", \n",
    "           \"Multiple complaints; tennant confirmed resolved\", \n",
    "           inplace=True)\n",
    "rdbrownsville.replace(\"The Department of Housing Preservation and Development responded to a complaint of no heat or hot water and was advised by a tenant in the building that heat and hot water had been restored. If the condition still exists, please file a new complaint.\", \n",
    "           \"Single Complaint; tennant confirmed resolved\", \n",
    "           inplace=True)\n",
    "rdbrownsville.replace(\"The Department of Housing Preservation and Development was not able to gain access to your apartment or others in the building to inspect for a lack of heat or hot water. The complaint has been closed. If the condition still exists, please file a new complaint.\",\n",
    "                      \"Unable to gain access\",\n",
    "                      inplace=True)\n",
    "rdbrownsville.replace(\"The Department of Housing Preservation and Development contacted an occupant of the apartment and verified that the following conditions were corrected. The complaint has been closed. If the condition still exists, please file a new complaint.\",\n",
    "                     \"Inspected; no violations issued\",\n",
    "                     inplace=True)\n",
    "rdbrownsville.replace(\"The Department of Housing Preservation and Development inspected the following conditions. Violations were previously issued for these conditions. Information about specific violations is available at www.nyc.gov/hpd.\",\n",
    "                     \"Inspected; violations previously issued\",\n",
    "                     inplace=True)\n",
    "rdbrownsville.replace(\"The Department of Housing Preservation and Development was unable to access the rooms where the following conditions were reported. No violations were issued. The complaint has been closed.\",\n",
    "                     \"Unable to gain access\",\n",
    "                     inplace=True)\n",
    "rdbrownsville.replace(\"The Department of Housing Preservation and Development contacted a tenant in the building and verified that the following conditions were corrected. The complaint has been closed. If the condition still exists, please file a new complaint.\",\n",
    "                     \"Single Complaint; tennant confirmed resolved\",\n",
    "                      inplace=True)\n",
    "rdbrownsville.replace(\"The Department of Housing Preservation and Development was not able to gain access to your apartment to inspect for a lack of heat or hot water. However, HPD was able to verify that heat or hot water was inadequate by inspecting another apartment and a violation was issued. Information about specific violations is available at www.nyc.gov/hpd.\",\n",
    "                     \"Unable to gain access; violation issued\",\n",
    "                     inplace=True)\n",
    "rdbrownsville.replace(\"The following complaint conditions are still open. HPD may attempt to contact you to verify the correction of the condition or may conduct an inspection.\",\n",
    "                     \"Complaint remains open\",\n",
    "                     inplace=True)\n",
    "rdbrownsville.replace(\"The Department of Housing Preservation and Development was not able to gain access to inspect the conditions. If the conditions still exist and an inspection is required, please contact the borough office with your complaint number at\",\n",
    "                     \"Unable to gain access\",\n",
    "                     inplace=True)\n",
    "rdbrownsville.replace(\"The Department of Housing Preservation and Development responded to a complaint of no heat or hot water. Heat was not required at the time of the inspection. No violations were issued. If the condition still exists, please file a new complaint.\",\n",
    "                     \"Inspected; no violations issued\",\n",
    "                     inplace=True)\n",
    "rdbrownsville.replace(\"More than one complaint was received for this building-wide condition. This complaint status is for the initial complaint.The Department of Housing Preservation and Development contacted an occupant of the apartment and verified that the following conditions were corrected. The complaint has been closed. If the condition still exists, please file a new complaint.\",\n",
    "                     \"Multiple complaints; tennant confirmed resolved\",\n",
    "                     inplace=True)\n",
    "rdbrownsville.replace(\"More than one complaint was received for this building-wide condition. This complaint status is for the initial complaint.The Department of Housing Preservation and Development contacted a tenant in the building and verified that the following conditions were corrected. The complaint has been closed. If the condition still exists, please file a new complaint.\",\n",
    "                     \"Multiple complaints; tennant confirmed resolved\",\n",
    "                     inplace=True)\n",
    "rdbrownsville.replace(\"The Department of Housing Preservation and Development inspected the following conditions. Violations were issued. However, HPD also identified potential lead-based paint conditions and will attempt to contact you to schedule a follow-up inspection to test the paint for lead. Information about specific violations is available at www.nyc.gov/hpd.\",\n",
    "                     \"Inspected; violations issued\",\n",
    "                     inplace=True)\n",
    "rdbrownsville.replace(\"More than one complaint was received for this building-wide condition.This complaint status is for the initial complaint. The following complaint conditions are still open. HPD may attempt to contact you to verify the correction of the condition or may conduct an inspection.\",\n",
    "                     \"Complaint remains open\",\n",
    "                     inplace=True)\n",
    "rdbrownsville.replace(\"The Department of Housing Preservation and Development was unable to access the rooms where the following  conditions were reported. No violations were issued. The complaint has been closed.\",\n",
    "                     \"Unable to gain access\",\n",
    "                     inplace=True)\n",
    "rdbrownsville.replace(\"The Department of Housing Preservation and Development inspected the following conditions. A Section 8 Failure was issued. Both the tenant and the property owner will receive a notice in the mail regarding the details of the Failure and the resulting action by the Agency.\",\n",
    "                     \"Inspected; violations issued\",\n",
    "                     inplace=True)"
   ]
  },
  {
   "cell_type": "code",
   "execution_count": 16,
   "metadata": {},
   "outputs": [
    {
     "data": {
      "text/plain": [
       "Inspected; no violations issued                    20333\n",
       "Multiple complaints; tennant confirmed resolved    16671\n",
       "Unable to gain access                              14374\n",
       "Inspected; violations issued                       10283\n",
       "Single Complaint; tennant confirmed resolved       7916 \n",
       "Inspected; violations previously issued            524  \n",
       "Unable to gain access; violation issued            241  \n",
       "Complaint remains open                             72   \n",
       "Name: StatusDescription, dtype: int64"
      ]
     },
     "execution_count": 16,
     "metadata": {},
     "output_type": "execute_result"
    }
   ],
   "source": [
    "rdbrownsville[\"StatusDescription\"].value_counts()"
   ]
  },
  {
   "cell_type": "markdown",
   "metadata": {},
   "source": [
    "After completing this step, there are 8 message types. This will make it easier to analyze going forward. "
   ]
  },
  {
   "cell_type": "markdown",
   "metadata": {},
   "source": [
    "----------------------------"
   ]
  },
  {
   "cell_type": "markdown",
   "metadata": {},
   "source": [
    "In this section, I will show the top buildings with violations in this timeframe."
   ]
  },
  {
   "cell_type": "code",
   "execution_count": 17,
   "metadata": {},
   "outputs": [],
   "source": [
    "bv_buildstatus = rdbrownsville[[\"BuildingID\", \"StatusDescription\"]]"
   ]
  },
  {
   "cell_type": "code",
   "execution_count": 18,
   "metadata": {},
   "outputs": [],
   "source": [
    "bv_sd_violation = bv_buildstatus[(bv_buildstatus.StatusDescription == 'Inspected; violations issued')]"
   ]
  },
  {
   "cell_type": "code",
   "execution_count": 19,
   "metadata": {},
   "outputs": [
    {
     "data": {
      "text/plain": [
       "Text(0.5, 0, 'Building ID')"
      ]
     },
     "execution_count": 19,
     "metadata": {},
     "output_type": "execute_result"
    },
    {
     "data": {
      "image/png": "[encoded data removed]",
      "text/plain": [
       "<Figure size 432x288 with 1 Axes>"
      ]
     },
     "metadata": {
      "needs_background": "light"
     },
     "output_type": "display_data"
    }
   ],
   "source": [
    "bv_sd_violation_counts = bv_sd_violation[\"BuildingID\"].value_counts().head(10)\n",
    "bv_sd_violation_counts.plot(kind = \"bar\")\n",
    "plt.title(\"Top Buildings with Violations 2014-2021\")\n",
    "plt.ylabel(\"Number of Violations Reported\")\n",
    "plt.xlabel(\"Building ID\")"
   ]
  },
  {
   "cell_type": "markdown",
   "metadata": {},
   "source": [
    "The top buildings with code violations between the years of 2014 and 2021 are:<br>\n",
    "808361 - 1711 Fulton Street<br>\n",
    "329071 - 210 Lott Avenue<br>\n",
    "309623 - 7 Hegeman Avenue<br>\n",
    "324031 - 1087 Lenox Road<br>\n",
    "283283 - 491 East 94 Street<br>\n",
    "283278 - 480 East 94 Street<br>\n",
    "323953 - 351 Legion Street<br>\n",
    "808943 - 37 New Lots Avenue<br>\n",
    "287185 - 1064 East New York Avenue<br>\n",
    "282041 - 327 East 92 Street<br>"
   ]
  },
  {
   "cell_type": "markdown",
   "metadata": {},
   "source": [
    "--------------"
   ]
  },
  {
   "cell_type": "markdown",
   "metadata": {},
   "source": [
    "Checking the top buildings that could not be accessed after complaints were made."
   ]
  },
  {
   "cell_type": "code",
   "execution_count": 20,
   "metadata": {},
   "outputs": [],
   "source": [
    "bv_sd_noaccess = bv_buildstatus[(bv_buildstatus.StatusDescription == \"Unable to gain access\")]"
   ]
  },
  {
   "cell_type": "code",
   "execution_count": 21,
   "metadata": {},
   "outputs": [
    {
     "data": {
      "text/plain": [
       "Text(0.5, 0, 'Building ID')"
      ]
     },
     "execution_count": 21,
     "metadata": {},
     "output_type": "execute_result"
    },
    {
     "data": {
      "image/png": "[encoded data removed]",
      "text/plain": [
       "<Figure size 432x288 with 1 Axes>"
      ]
     },
     "metadata": {
      "needs_background": "light"
     },
     "output_type": "display_data"
    }
   ],
   "source": [
    "bv_sd_noaccess_counts = bv_sd_noaccess[\"BuildingID\"].value_counts().head(10)\n",
    "bv_sd_noaccess_counts.plot(kind = \"bar\")\n",
    "plt.title(\"Top Buildings That Could Not Be Accessed 2014-2021\")\n",
    "plt.ylabel(\"Number of NoAccess Reported\")\n",
    "plt.xlabel(\"Building ID\")"
   ]
  },
  {
   "cell_type": "markdown",
   "metadata": {},
   "source": [
    "The top buildings that could not be accessed after complaints were made between the years of 2014 and 2021 are:<br>\n",
    "808361 - 1711 Fulton Street<br>\n",
    "362959 - 166 Rockaway Parkway<br>\n",
    "329071 - 210 Lott Avenue<br>\n",
    "309623 - 7 Hegeman Avenue<br>\n",
    "287185 - 1064 East New York Avenue<br>\n",
    "362955 - 165 Rockaway Parkway<br>\n",
    "363013 - 178 Rockaway Parkway<br>\n",
    "282041 - 327 East 92 Street<br>\n",
    "808943 - 37 New Lots Avenue<br>\n",
    "323953 - 351 Legion Street<br>"
   ]
  },
  {
   "cell_type": "markdown",
   "metadata": {},
   "source": [
    "-------------------"
   ]
  },
  {
   "cell_type": "markdown",
   "metadata": {},
   "source": [
    "Here we will look at which major category complaints is most commonly associated with complaints that lead to issued violations. "
   ]
  },
  {
   "cell_type": "code",
   "execution_count": 22,
   "metadata": {},
   "outputs": [],
   "source": [
    "bv_majorstatus = rdbrownsville[[\"MajorCategory\", \"StatusDescription\"]]"
   ]
  },
  {
   "cell_type": "code",
   "execution_count": 23,
   "metadata": {},
   "outputs": [],
   "source": [
    "bv_sd_majviolation = bv_majorstatus[(bv_buildstatus.StatusDescription == 'Inspected; violations issued')]"
   ]
  },
  {
   "cell_type": "code",
   "execution_count": 24,
   "metadata": {},
   "outputs": [
    {
     "data": {
      "text/plain": [
       "Text(0.5, 0, 'Major Categories')"
      ]
     },
     "execution_count": 24,
     "metadata": {},
     "output_type": "execute_result"
    },
    {
     "data": {
      "image/png": "[encoded data removed]",
      "text/plain": [
       "<Figure size 432x288 with 1 Axes>"
      ]
     },
     "metadata": {
      "needs_background": "light"
     },
     "output_type": "display_data"
    }
   ],
   "source": [
    "bv_sd_majviolation_counts = bv_sd_majviolation[\"MajorCategory\"].value_counts().head(10)\n",
    "bv_sd_majviolation_counts.plot(kind = \"bar\")\n",
    "plt.title(\"Major Categories Most Often Associated with Violations\")\n",
    "plt.ylabel(\"Number of Violations Reported\")\n",
    "plt.xlabel(\"Major Categories\")"
   ]
  },
  {
   "cell_type": "markdown",
   "metadata": {},
   "source": [
    "The most common complaints (MajorCategory column) which lead to a violation being issued are \"HEAT/HOT WATER\", \"UNSANITARY CONDITION\", \"PAINT/PLATER\", \"DOOR/WINDOW\" AND \"WATER LEAK\". "
   ]
  },
  {
   "cell_type": "markdown",
   "metadata": {},
   "source": [
    "------------------------"
   ]
  },
  {
   "cell_type": "markdown",
   "metadata": {},
   "source": [
    "Here we will look at which minor category complaints is most commonly associated with complaints that lead to issued violations. "
   ]
  },
  {
   "cell_type": "code",
   "execution_count": 25,
   "metadata": {},
   "outputs": [],
   "source": [
    "bv_minorstatus = rdbrownsville[[\"MinorCategory\", \"StatusDescription\"]]"
   ]
  },
  {
   "cell_type": "code",
   "execution_count": 26,
   "metadata": {},
   "outputs": [],
   "source": [
    "bv_sd_minviolation = bv_minorstatus[(bv_buildstatus.StatusDescription == 'Inspected; violations issued')]"
   ]
  },
  {
   "cell_type": "code",
   "execution_count": 27,
   "metadata": {},
   "outputs": [
    {
     "data": {
      "text/plain": [
       "Text(0.5, 0, 'Minor Categories')"
      ]
     },
     "execution_count": 27,
     "metadata": {},
     "output_type": "execute_result"
    },
    {
     "data": {
      "image/png": "[encoded data removed]",
      "text/plain": [
       "<Figure size 432x288 with 1 Axes>"
      ]
     },
     "metadata": {
      "needs_background": "light"
     },
     "output_type": "display_data"
    }
   ],
   "source": [
    "bv_sd_minviolation_counts = bv_sd_minviolation[\"MinorCategory\"].value_counts().head(10)\n",
    "bv_sd_minviolation_counts.plot(kind = \"bar\")\n",
    "plt.title(\"Minor Categories Most Often Associated with Violations\")\n",
    "plt.ylabel(\"Number of Violations Reported\")\n",
    "plt.xlabel(\"Minor Categories\")"
   ]
  },
  {
   "cell_type": "markdown",
   "metadata": {},
   "source": [
    "The most common complaints (MinorCategory column) which lead to a violation being issued are \"PEST\", \"CEILING\", \"APARTMENT ONLY\", \"ENTIRE BUILDING\" AND \"DOOR\". "
   ]
  },
  {
   "cell_type": "markdown",
   "metadata": {},
   "source": [
    "------------"
   ]
  },
  {
   "cell_type": "markdown",
   "metadata": {},
   "source": [
    "In this section, the dates need a little tweaking to make it possible to track the amount of complaints made each month of the year in this dataset."
   ]
  },
  {
   "cell_type": "code",
   "execution_count": 28,
   "metadata": {},
   "outputs": [
    {
     "name": "stderr",
     "output_type": "stream",
     "text": [
      "<ipython-input-28-ed05e655f48d>:15: SettingWithCopyWarning: \n",
      "A value is trying to be set on a copy of a slice from a DataFrame.\n",
      "Try using .loc[row_indexer,col_indexer] = value instead\n",
      "\n",
      "See the caveats in the documentation: https://pandas.pydata.org/pandas-docs/stable/user_guide/indexing.html#returning-a-view-versus-a-copy\n",
      "  rdbrownsville['StatusDate'] = pd.to_datetime(rdbrownsville['StatusDate'])\n",
      "<ipython-input-28-ed05e655f48d>:16: SettingWithCopyWarning: \n",
      "A value is trying to be set on a copy of a slice from a DataFrame.\n",
      "Try using .loc[row_indexer,col_indexer] = value instead\n",
      "\n",
      "See the caveats in the documentation: https://pandas.pydata.org/pandas-docs/stable/user_guide/indexing.html#returning-a-view-versus-a-copy\n",
      "  rdbrownsville[\"StatusDateMonth\"] = rdbrownsville[\"StatusDate\"].dt.month\n"
     ]
    },
    {
     "data": {
      "text/plain": [
       "December     9777\n",
       "January      9250\n",
       "November     8995\n",
       "February     8720\n",
       "March        7029\n",
       "October      5915\n",
       "April        4405\n",
       "August       3654\n",
       "September    3508\n",
       "May          3282\n",
       "July         3098\n",
       "June         2781\n",
       "Name: StatusDateMonth, dtype: int64"
      ]
     },
     "execution_count": 28,
     "metadata": {},
     "output_type": "execute_result"
    }
   ],
   "source": [
    "month = {\n",
    "    1: \"January\", \n",
    "    2: \"February\", \n",
    "    3: \"March\", \n",
    "    4: \"April\", \n",
    "    5: \"May\", \n",
    "    6: \"June\", \n",
    "    7: \"July\",\n",
    "    8: \"August\",\n",
    "    9: \"September\",\n",
    "    10: \"October\",\n",
    "    11: \"November\",\n",
    "    12: \"December\"\n",
    "}\n",
    "rdbrownsville['StatusDate'] = pd.to_datetime(rdbrownsville['StatusDate'])\n",
    "rdbrownsville[\"StatusDateMonth\"] = rdbrownsville[\"StatusDate\"].dt.month\n",
    "month_counts = rdbrownsville[\"StatusDateMonth\"].value_counts()\n",
    "month_counts.index = month_counts.index.map(month)\n",
    "month_counts"
   ]
  },
  {
   "cell_type": "code",
   "execution_count": 29,
   "metadata": {},
   "outputs": [
    {
     "data": {
      "text/plain": [
       "Text(0.5, 0, 'Months of the Year')"
      ]
     },
     "execution_count": 29,
     "metadata": {},
     "output_type": "execute_result"
    },
    {
     "data": {
      "image/png": "[encoded data removed]",
      "text/plain": [
       "<Figure size 432x288 with 1 Axes>"
      ]
     },
     "metadata": {
      "needs_background": "light"
     },
     "output_type": "display_data"
    }
   ],
   "source": [
    "month_counts.plot(kind = \"bar\")\n",
    "plt.title(\"Amount of Complaints Made Per Month: 2014-2021\")\n",
    "plt.ylabel(\"Number of Violations Reported\")\n",
    "plt.xlabel(\"Months of the Year\")"
   ]
  },
  {
   "cell_type": "markdown",
   "metadata": {},
   "source": [
    "In this timeframe, the winter months are the ones in which the most complaints are made. "
   ]
  },
  {
   "cell_type": "markdown",
   "metadata": {},
   "source": [
    "--------------------"
   ]
  },
  {
   "cell_type": "markdown",
   "metadata": {},
   "source": [
    "--------------------------"
   ]
  },
  {
   "cell_type": "markdown",
   "metadata": {},
   "source": [
    "## Part 2: 5 Year Analysis of Brownsville.csv, years 2016-2021"
   ]
  },
  {
   "cell_type": "markdown",
   "metadata": {},
   "source": [
    "Here, I filtered the years down to a five year timeframe (between the years 2016 and 2021) to see what differences there are from the full timeframe of the dataset. "
   ]
  },
  {
   "cell_type": "code",
   "execution_count": 30,
   "metadata": {},
   "outputs": [],
   "source": [
    "bv_5years = rdbrownsville[(rdbrownsville['StatusDate'] > '2016-01-01') & (rdbrownsville['StatusDate'] < '2021-05-01')]"
   ]
  },
  {
   "cell_type": "markdown",
   "metadata": {},
   "source": [
    "-----------------"
   ]
  },
  {
   "cell_type": "markdown",
   "metadata": {},
   "source": [
    "Here, the MajorCategory column in this 5 year timeframe will be analyzed to see which has the highest amount of reports.  "
   ]
  },
  {
   "cell_type": "code",
   "execution_count": 31,
   "metadata": {},
   "outputs": [
    {
     "data": {
      "text/plain": [
       "HEAT/HOT WATER          29357\n",
       "PLUMBING                4124 \n",
       "UNSANITARY CONDITION    4029 \n",
       "DOOR/WINDOW             3336 \n",
       "WATER LEAK              2809 \n",
       "PAINT/PLASTER           2630 \n",
       "ELECTRIC                2369 \n",
       "GENERAL                 1805 \n",
       "SAFETY                  1364 \n",
       "APPLIANCE               1312 \n",
       "FLOORING/STAIRS         876  \n",
       "OUTSIDE BUILDING        189  \n",
       "ELEVATOR                57   \n",
       "HEATING                 2    \n",
       "Name: MajorCategory, dtype: int64"
      ]
     },
     "execution_count": 31,
     "metadata": {},
     "output_type": "execute_result"
    }
   ],
   "source": [
    "bv_5years[\"MajorCategory\"].value_counts()"
   ]
  },
  {
   "cell_type": "code",
   "execution_count": 32,
   "metadata": {},
   "outputs": [
    {
     "data": {
      "text/plain": [
       "Text(0.5, 0, 'Complaint')"
      ]
     },
     "execution_count": 32,
     "metadata": {},
     "output_type": "execute_result"
    },
    {
     "data": {
      "image/png": "[encoded data removed]",
      "text/plain": [
       "<Figure size 432x288 with 1 Axes>"
      ]
     },
     "metadata": {
      "needs_background": "light"
     },
     "output_type": "display_data"
    }
   ],
   "source": [
    "majorcat_values_5 = bv_5years[\"MajorCategory\"].value_counts().head(10)\n",
    "majorcat_values_5.plot(kind = \"bar\")\n",
    "plt.title(\"Top MajorCategory Complaints 2016-2021\")\n",
    "plt.ylabel(\"Number of Reports\")\n",
    "plt.xlabel(\"Complaint\")"
   ]
  },
  {
   "cell_type": "markdown",
   "metadata": {},
   "source": [
    "The top 5 categories in the MajorCategory column in the last five years are \"HEAT/HOT WATER\", \"PLUMBING\", \"UNSANITARY CONDITION\", \"DOOR/WINDOW\" and \"WATER LEAK\"."
   ]
  },
  {
   "cell_type": "markdown",
   "metadata": {},
   "source": [
    "---------------------------"
   ]
  },
  {
   "cell_type": "markdown",
   "metadata": {},
   "source": [
    "Here, the MinorCategory column in this time frame will be analyzed to see which has the highest amount of reports."
   ]
  },
  {
   "cell_type": "code",
   "execution_count": 33,
   "metadata": {},
   "outputs": [],
   "source": [
    "mincat_5 = bv_5years.sort_values(by='MinorCategory').reset_index(drop=True)"
   ]
  },
  {
   "cell_type": "code",
   "execution_count": 34,
   "metadata": {},
   "outputs": [
    {
     "data": {
      "text/plain": [
       "ENTIRE BUILDING              17074\n",
       "APARTMENT ONLY               12283\n",
       "PESTS                        2854 \n",
       "DOOR                         2154 \n",
       "CEILING                      1786 \n",
       "HEAVY FLOW                   1764 \n",
       "WATER SUPPLY                 1356 \n",
       "GARBAGE/RECYCLING STORAGE    956  \n",
       "POWER OUTAGE                 952  \n",
       "BASIN/SINK                   930  \n",
       "Name: MinorCategory, dtype: int64"
      ]
     },
     "execution_count": 34,
     "metadata": {},
     "output_type": "execute_result"
    }
   ],
   "source": [
    "bv_5years[\"MinorCategory\"].value_counts().head(10)"
   ]
  },
  {
   "cell_type": "code",
   "execution_count": 35,
   "metadata": {},
   "outputs": [
    {
     "data": {
      "text/plain": [
       "Text(0.5, 0, 'Issue Description')"
      ]
     },
     "execution_count": 35,
     "metadata": {},
     "output_type": "execute_result"
    },
    {
     "data": {
      "image/png": "[encoded data removed]",
      "text/plain": [
       "<Figure size 432x288 with 1 Axes>"
      ]
     },
     "metadata": {
      "needs_background": "light"
     },
     "output_type": "display_data"
    }
   ],
   "source": [
    "minorcat_values_5 = bv_5years[\"MinorCategory\"].value_counts().head(10)\n",
    "minorcat_values_5.plot(kind = \"bar\")\n",
    "plt.title(\"Top MinorCategory Complaints 2016-2021\")\n",
    "plt.ylabel(\"Number of Reports\")\n",
    "plt.xlabel(\"Issue Description\")"
   ]
  },
  {
   "cell_type": "markdown",
   "metadata": {},
   "source": [
    "In the Minor Category column, the top issues in the last five years are \"ENTIRE BUILDING\", \"APARTMENT ONLY\", \"PESTS\", \"WALL\" and \"MOLD\"."
   ]
  },
  {
   "cell_type": "markdown",
   "metadata": {},
   "source": [
    "-------------------"
   ]
  },
  {
   "cell_type": "markdown",
   "metadata": {},
   "source": [
    "Checking building IDs to see which is the most frequently show in the last five years."
   ]
  },
  {
   "cell_type": "code",
   "execution_count": 36,
   "metadata": {},
   "outputs": [
    {
     "data": {
      "text/plain": [
       "808361    3494\n",
       "309623    716 \n",
       "362955    606 \n",
       "363119    484 \n",
       "363333    425 \n",
       "         ...  \n",
       "858828    1   \n",
       "314070    1   \n",
       "948960    1   \n",
       "297726    1   \n",
       "232130    1   \n",
       "Name: BuildingID, Length: 3933, dtype: int64"
      ]
     },
     "execution_count": 36,
     "metadata": {},
     "output_type": "execute_result"
    }
   ],
   "source": [
    "bv_5years[\"BuildingID\"].value_counts()"
   ]
  },
  {
   "cell_type": "code",
   "execution_count": 37,
   "metadata": {},
   "outputs": [
    {
     "data": {
      "text/plain": [
       "Text(0.5, 0, 'Building ID')"
      ]
     },
     "execution_count": 37,
     "metadata": {},
     "output_type": "execute_result"
    },
    {
     "data": {
      "image/png": "[encoded data removed]",
      "text/plain": [
       "<Figure size 432x288 with 1 Axes>"
      ]
     },
     "metadata": {
      "needs_background": "light"
     },
     "output_type": "display_data"
    }
   ],
   "source": [
    "build_values5 = bv_5years[\"BuildingID\"].value_counts().head(10)\n",
    "build_values5.plot(kind = \"bar\")\n",
    "plt.title(\"Top Buildings with Complaints Reported 2016-2021\")\n",
    "plt.ylabel(\"Number of Reports\")\n",
    "plt.xlabel(\"Building ID\")"
   ]
  },
  {
   "cell_type": "markdown",
   "metadata": {},
   "source": [
    "The building with the most complaints in this version of the dataset are:<br>\n",
    "808361 - 1711 Fulton Street<br>\n",
    "309623 - 7 Hegeman Avenue<br>\n",
    "362955 - 165 Rockaway Parkway<br>\n",
    "363119 - 214 Rockaway Parkway<br>\n",
    "363333 - 92 Rockaway Parkway<br>\n",
    "329071 - 210 Lott Avenue<br>\n",
    "320626 - 9325 Kings Highway<br>\n",
    "362959 - 166 Rockaway Parkway<br>\n",
    "314098 - 351 Howard Avenue<br>\n",
    "363013 - 178 Rockaway Parkway<br>"
   ]
  },
  {
   "cell_type": "markdown",
   "metadata": {},
   "source": [
    "-------------"
   ]
  },
  {
   "cell_type": "markdown",
   "metadata": {},
   "source": [
    "In this section, I will show the top buildings with violations in the 5 year timeframe."
   ]
  },
  {
   "cell_type": "code",
   "execution_count": 38,
   "metadata": {},
   "outputs": [],
   "source": [
    "bv_buildstatus5 = bv_5years[[\"BuildingID\", \"StatusDescription\"]]"
   ]
  },
  {
   "cell_type": "code",
   "execution_count": 39,
   "metadata": {},
   "outputs": [],
   "source": [
    "bv_sd5 = bv_buildstatus5[(bv_5years.StatusDescription == 'Inspected; violations issued')]"
   ]
  },
  {
   "cell_type": "code",
   "execution_count": 40,
   "metadata": {},
   "outputs": [
    {
     "data": {
      "text/plain": [
       "Text(0.5, 0, 'Building ID')"
      ]
     },
     "execution_count": 40,
     "metadata": {},
     "output_type": "execute_result"
    },
    {
     "data": {
      "image/png": "[encoded data removed]",
      "text/plain": [
       "<Figure size 432x288 with 1 Axes>"
      ]
     },
     "metadata": {
      "needs_background": "light"
     },
     "output_type": "display_data"
    }
   ],
   "source": [
    "bv_sd_counts5 = bv_sd5[\"BuildingID\"].value_counts().head(10)\n",
    "bv_sd_counts5.plot(kind = \"bar\")\n",
    "plt.title(\"Top Buildings with Violations 2016-2021\")\n",
    "plt.ylabel(\"Number of Violations Reported\")\n",
    "plt.xlabel(\"Building ID\")"
   ]
  },
  {
   "cell_type": "markdown",
   "metadata": {},
   "source": [
    "The top buildings with code violations between the years of 2016 and 2021 are:<br>\n",
    "329071 - 210 Lott Avenue<br>\n",
    "309623 - 7 Hegeman Avenue<br>\n",
    "324031 - 1087 Lenox Road<br>\n",
    "808943 - 37 New Lots Avenue<br>\n",
    "808361 - 1711 Fulton Street<br>\n",
    "283278 - 480 East 94 Street<br>\n",
    "197917 - 221 Bainbridge Street<br>\n",
    "323953 - 351 Legion Street<br>\n",
    "307290 - 668 Hancock Street<br>\n",
    "378273 - 2327 Strauss Street<br>"
   ]
  },
  {
   "cell_type": "markdown",
   "metadata": {},
   "source": [
    "------------"
   ]
  },
  {
   "cell_type": "markdown",
   "metadata": {},
   "source": [
    "Checking the amounts of buildings that could not be accessed after complaints were made for this time frame."
   ]
  },
  {
   "cell_type": "code",
   "execution_count": 41,
   "metadata": {},
   "outputs": [],
   "source": [
    "bv_sd_noaccess5 = bv_buildstatus5[(bv_buildstatus5.StatusDescription == \"Unable to gain access\")]"
   ]
  },
  {
   "cell_type": "code",
   "execution_count": 42,
   "metadata": {},
   "outputs": [
    {
     "data": {
      "text/plain": [
       "Text(0.5, 0, 'Building ID')"
      ]
     },
     "execution_count": 42,
     "metadata": {},
     "output_type": "execute_result"
    },
    {
     "data": {
      "image/png": "[encoded data removed]",
      "text/plain": [
       "<Figure size 432x288 with 1 Axes>"
      ]
     },
     "metadata": {
      "needs_background": "light"
     },
     "output_type": "display_data"
    }
   ],
   "source": [
    "bv_sd_noaccess5_counts = bv_sd_noaccess5[\"BuildingID\"].value_counts().head(10)\n",
    "bv_sd_noaccess5_counts.plot(kind = \"bar\")\n",
    "plt.title(\"Top Buildings That Could Not Be Accessed 2016-2021\")\n",
    "plt.ylabel(\"Number of NoAccess Reported\")\n",
    "plt.xlabel(\"Building ID\")"
   ]
  },
  {
   "cell_type": "markdown",
   "metadata": {},
   "source": [
    "The top buildings that could not be accessed after complaints were made between the years of 2016 and 2021 are:<br>\n",
    "808361 - 1711 Fulton Street<br>\n",
    "329071 - 210 Lott Avenue<br>\n",
    "309623 - 7 Hegeman Avenue<br>\n",
    "362959 - 166 Rockaway Parkway<br>\n",
    "362955 - 165 Rockaway Parkway<br>\n",
    "363013 - 178 Rockaway Parkway<br>\n",
    "329997 - 437 Macon Street\n",
    "808943 - 37 New Lots Avenue<br>\n",
    "287185 - 1064 East New York Avenue<br>\n",
    "323953 - 351 Legion Street<br>"
   ]
  },
  {
   "cell_type": "markdown",
   "metadata": {},
   "source": [
    "-------------"
   ]
  },
  {
   "cell_type": "markdown",
   "metadata": {},
   "source": [
    "Looking at the amounts of complaints made each month between the years of 2016 to 2021. "
   ]
  },
  {
   "cell_type": "code",
   "execution_count": 43,
   "metadata": {},
   "outputs": [
    {
     "name": "stderr",
     "output_type": "stream",
     "text": [
      "<ipython-input-43-2f05e8046cbd>:15: SettingWithCopyWarning: \n",
      "A value is trying to be set on a copy of a slice from a DataFrame.\n",
      "Try using .loc[row_indexer,col_indexer] = value instead\n",
      "\n",
      "See the caveats in the documentation: https://pandas.pydata.org/pandas-docs/stable/user_guide/indexing.html#returning-a-view-versus-a-copy\n",
      "  bv_5years['StatusDate'] = pd.to_datetime(bv_5years['StatusDate'])\n",
      "<ipython-input-43-2f05e8046cbd>:16: SettingWithCopyWarning: \n",
      "A value is trying to be set on a copy of a slice from a DataFrame.\n",
      "Try using .loc[row_indexer,col_indexer] = value instead\n",
      "\n",
      "See the caveats in the documentation: https://pandas.pydata.org/pandas-docs/stable/user_guide/indexing.html#returning-a-view-versus-a-copy\n",
      "  bv_5years[\"StatusDateMonth\"] = bv_5years[\"StatusDate\"].dt.month\n"
     ]
    },
    {
     "data": {
      "text/plain": [
       "January      7561\n",
       "December     7220\n",
       "February     6774\n",
       "November     6332\n",
       "March        5913\n",
       "October      4284\n",
       "April        3612\n",
       "May          2728\n",
       "July         2580\n",
       "August       2545\n",
       "September    2398\n",
       "June         2312\n",
       "Name: StatusDateMonth, dtype: int64"
      ]
     },
     "execution_count": 43,
     "metadata": {},
     "output_type": "execute_result"
    }
   ],
   "source": [
    "month = {\n",
    "    1: \"January\", \n",
    "    2: \"February\", \n",
    "    3: \"March\", \n",
    "    4: \"April\", \n",
    "    5: \"May\", \n",
    "    6: \"June\", \n",
    "    7: \"July\",\n",
    "    8: \"August\",\n",
    "    9: \"September\",\n",
    "    10: \"October\",\n",
    "    11: \"November\",\n",
    "    12: \"December\"\n",
    "}\n",
    "bv_5years['StatusDate'] = pd.to_datetime(bv_5years['StatusDate'])\n",
    "bv_5years[\"StatusDateMonth\"] = bv_5years[\"StatusDate\"].dt.month\n",
    "month_counts5 = bv_5years[\"StatusDateMonth\"].value_counts()\n",
    "month_counts5.index = month_counts5.index.map(month)\n",
    "month_counts5"
   ]
  },
  {
   "cell_type": "code",
   "execution_count": 44,
   "metadata": {},
   "outputs": [
    {
     "data": {
      "text/plain": [
       "<matplotlib.axes._subplots.AxesSubplot at 0x1fef8a927f0>"
      ]
     },
     "execution_count": 44,
     "metadata": {},
     "output_type": "execute_result"
    },
    {
     "data": {
      "image/png": "[encoded data removed]",
      "text/plain": [
       "<Figure size 432x288 with 1 Axes>"
      ]
     },
     "metadata": {
      "needs_background": "light"
     },
     "output_type": "display_data"
    }
   ],
   "source": [
    "month_counts5.plot(kind = \"bar\")"
   ]
  },
  {
   "cell_type": "markdown",
   "metadata": {},
   "source": [
    "As with the overall dataset time frame, the winter months are the ones with the highest amounts of complaints."
   ]
  },
  {
   "cell_type": "markdown",
   "metadata": {},
   "source": [
    "--------------------"
   ]
  },
  {
   "cell_type": "markdown",
   "metadata": {},
   "source": [
    "Here we will look at which major category complaintsare most commonly associated with complaints that lead to issued violations during 2016-2021. "
   ]
  },
  {
   "cell_type": "code",
   "execution_count": 67,
   "metadata": {},
   "outputs": [],
   "source": [
    "bv_majorstatus5 = bv_5years[[\"MajorCategory\", \"StatusDescription\"]]"
   ]
  },
  {
   "cell_type": "code",
   "execution_count": 68,
   "metadata": {},
   "outputs": [],
   "source": [
    "bv_sd_majviolation5 = bv_majorstatus5[(bv_buildstatus5.StatusDescription == 'Inspected; violations issued')]"
   ]
  },
  {
   "cell_type": "code",
   "execution_count": 69,
   "metadata": {},
   "outputs": [
    {
     "data": {
      "text/plain": [
       "Text(0.5, 0, 'Major Categories')"
      ]
     },
     "execution_count": 69,
     "metadata": {},
     "output_type": "execute_result"
    },
    {
     "data": {
      "image/png": "[encoded data removed]",
      "text/plain": [
       "<Figure size 432x288 with 1 Axes>"
      ]
     },
     "metadata": {
      "needs_background": "light"
     },
     "output_type": "display_data"
    }
   ],
   "source": [
    "bv_sd_majviolation_counts5 = bv_sd_majviolation5[\"MajorCategory\"].value_counts().head(10)\n",
    "bv_sd_majviolation_counts5.plot(kind = \"bar\")\n",
    "plt.title(\"Major Categories Most Often Associated with Violations: 2016-2021\")\n",
    "plt.ylabel(\"Number of Violations Reported\")\n",
    "plt.xlabel(\"Major Categories\")"
   ]
  },
  {
   "cell_type": "markdown",
   "metadata": {},
   "source": [
    "The most common complaints (MajorCategory column) which lead to a violation being issued are \"HEAT/HOT WATER\", \"UNSANITARY CONDITION\", \"PAINT/PLATER\", \"DOOR/WINDOW\" AND \"WATER LEAK\". The top five are exactly the same as the overall time frame. "
   ]
  },
  {
   "cell_type": "markdown",
   "metadata": {},
   "source": [
    "-------------"
   ]
  },
  {
   "cell_type": "markdown",
   "metadata": {},
   "source": [
    "Here we will look at which minor category complaints is most commonly associated with complaints that lead to issued violations during 2016-2021. "
   ]
  },
  {
   "cell_type": "code",
   "execution_count": 70,
   "metadata": {},
   "outputs": [],
   "source": [
    "bv_minorstatus5 = bv_5years[[\"MinorCategory\", \"StatusDescription\"]]"
   ]
  },
  {
   "cell_type": "code",
   "execution_count": 71,
   "metadata": {},
   "outputs": [],
   "source": [
    "bv_sd_minviolation5 = bv_minorstatus5[(bv_buildstatus5.StatusDescription == 'Inspected; violations issued')]"
   ]
  },
  {
   "cell_type": "code",
   "execution_count": 72,
   "metadata": {},
   "outputs": [
    {
     "data": {
      "text/plain": [
       "Text(0.5, 0, 'Minor Categories')"
      ]
     },
     "execution_count": 72,
     "metadata": {},
     "output_type": "execute_result"
    },
    {
     "data": {
      "image/png": "[encoded data removed]",
      "text/plain": [
       "<Figure size 432x288 with 1 Axes>"
      ]
     },
     "metadata": {
      "needs_background": "light"
     },
     "output_type": "display_data"
    }
   ],
   "source": [
    "bv_sd_minviolation_counts5 = bv_sd_minviolation5[\"MinorCategory\"].value_counts().head(10)\n",
    "bv_sd_minviolation_counts5.plot(kind = \"bar\")\n",
    "plt.title(\"Minor Categories Most Often Associated with Violations: 2016-2021\")\n",
    "plt.ylabel(\"Number of Violations Reported\")\n",
    "plt.xlabel(\"Minor Categories\")"
   ]
  },
  {
   "cell_type": "markdown",
   "metadata": {},
   "source": [
    "The most common complaints (MinorCategory column) which lead to a violation being issued are \"PEST\", \"APARTMENT ONLY\", \"CEILING\", \"ENTIRE BUILDING\" and \"DOOR\"."
   ]
  },
  {
   "cell_type": "markdown",
   "metadata": {},
   "source": [
    "--------------"
   ]
  },
  {
   "cell_type": "markdown",
   "metadata": {},
   "source": [
    "-------------"
   ]
  },
  {
   "cell_type": "markdown",
   "metadata": {},
   "source": [
    "## Part 3: 2 Year Analysis of Brownsville.csv, years 2019-2021"
   ]
  },
  {
   "cell_type": "markdown",
   "metadata": {},
   "source": [
    "Filtered the years down to a two year time frame (between the years 2019 and 2021)."
   ]
  },
  {
   "cell_type": "code",
   "execution_count": 45,
   "metadata": {},
   "outputs": [],
   "source": [
    "bv_2years = rdbrownsville[(rdbrownsville['StatusDate'] > '2019-01-01') & (rdbrownsville['StatusDate'] < '2021-05-01')]"
   ]
  },
  {
   "cell_type": "markdown",
   "metadata": {},
   "source": [
    "----------------"
   ]
  },
  {
   "cell_type": "markdown",
   "metadata": {},
   "source": [
    "Checking the Major Categories column, now for the 5 year timeframe."
   ]
  },
  {
   "cell_type": "code",
   "execution_count": 46,
   "metadata": {},
   "outputs": [
    {
     "data": {
      "text/plain": [
       "HEAT/HOT WATER          11944\n",
       "UNSANITARY CONDITION    1897 \n",
       "PLUMBING                1544 \n",
       "DOOR/WINDOW             1270 \n",
       "WATER LEAK              1258 \n",
       "PAINT/PLASTER           971  \n",
       "ELECTRIC                848  \n",
       "APPLIANCE               655  \n",
       "GENERAL                 647  \n",
       "SAFETY                  401  \n",
       "FLOORING/STAIRS         302  \n",
       "OUTSIDE BUILDING        59   \n",
       "ELEVATOR                25   \n",
       "Name: MajorCategory, dtype: int64"
      ]
     },
     "execution_count": 46,
     "metadata": {},
     "output_type": "execute_result"
    }
   ],
   "source": [
    "bv_2years[\"MajorCategory\"].value_counts()"
   ]
  },
  {
   "cell_type": "code",
   "execution_count": 47,
   "metadata": {},
   "outputs": [
    {
     "data": {
      "text/plain": [
       "Text(0.5, 0, 'Issue')"
      ]
     },
     "execution_count": 47,
     "metadata": {},
     "output_type": "execute_result"
    },
    {
     "data": {
      "image/png": "[encoded data removed]",
      "text/plain": [
       "<Figure size 432x288 with 1 Axes>"
      ]
     },
     "metadata": {
      "needs_background": "light"
     },
     "output_type": "display_data"
    }
   ],
   "source": [
    "majorcat_values_2 = bv_2years[\"MajorCategory\"].value_counts().head(10)\n",
    "majorcat_values_2.plot(kind = \"bar\")\n",
    "plt.title(\"Top MajorCategory Complaints 2019-2021\")\n",
    "plt.ylabel(\"Number of Reports\")\n",
    "plt.xlabel(\"Issue\")"
   ]
  },
  {
   "cell_type": "markdown",
   "metadata": {},
   "source": [
    "The top 5 categories in the MajorCategory column in the last five years are \"HEAT/HOT WATER\", \"UNSANITARY CONDITION\", \"PLUMBING\", \"DOOR/WINDOW\" and \"WATER LEAK\"."
   ]
  },
  {
   "cell_type": "markdown",
   "metadata": {},
   "source": [
    "--------------"
   ]
  },
  {
   "cell_type": "markdown",
   "metadata": {},
   "source": [
    "Checking the Minor Category column for the two year timeframe."
   ]
  },
  {
   "cell_type": "code",
   "execution_count": 48,
   "metadata": {},
   "outputs": [],
   "source": [
    "mincat_2 = bv_2years.sort_values(by='MinorCategory').reset_index(drop=True)"
   ]
  },
  {
   "cell_type": "code",
   "execution_count": 49,
   "metadata": {},
   "outputs": [
    {
     "data": {
      "text/plain": [
       "ENTIRE BUILDING              6850\n",
       "APARTMENT ONLY               5094\n",
       "PESTS                        1381\n",
       "DOOR                         855 \n",
       "HEAVY FLOW                   782 \n",
       "CEILING                      614 \n",
       "WATER SUPPLY                 513 \n",
       "GARBAGE/RECYCLING STORAGE    423 \n",
       "SLOW LEAK                    388 \n",
       "ELECTRIC/GAS RANGE           378 \n",
       "Name: MinorCategory, dtype: int64"
      ]
     },
     "execution_count": 49,
     "metadata": {},
     "output_type": "execute_result"
    }
   ],
   "source": [
    "bv_2years[\"MinorCategory\"].value_counts().head(10)"
   ]
  },
  {
   "cell_type": "code",
   "execution_count": 50,
   "metadata": {},
   "outputs": [
    {
     "data": {
      "text/plain": [
       "Text(0.5, 0, 'Issue Description')"
      ]
     },
     "execution_count": 50,
     "metadata": {},
     "output_type": "execute_result"
    },
    {
     "data": {
      "image/png": "[encoded data removed]",
      "text/plain": [
       "<Figure size 432x288 with 1 Axes>"
      ]
     },
     "metadata": {
      "needs_background": "light"
     },
     "output_type": "display_data"
    }
   ],
   "source": [
    "minorcat_values2 = bv_2years[\"MinorCategory\"].value_counts().head(10)\n",
    "minorcat_values2.plot(kind = \"bar\")\n",
    "plt.title(\"Top MinorCategory Complaints 2019-2021\")\n",
    "plt.ylabel(\"Number of Reports\")\n",
    "plt.xlabel(\"Issue Description\")"
   ]
  },
  {
   "cell_type": "markdown",
   "metadata": {},
   "source": [
    "In the Minor Category column, the top issues in the last two years are \"ENTIRE BUILDING\", \"APARTMENT ONLY\", \"PESTS\", \"DOOR\" and \"HEAVY FLOW\"."
   ]
  },
  {
   "cell_type": "markdown",
   "metadata": {},
   "source": [
    "---------------------------"
   ]
  },
  {
   "cell_type": "markdown",
   "metadata": {},
   "source": [
    "Checking building IDs to see which is the most frequently show in the last two years."
   ]
  },
  {
   "cell_type": "code",
   "execution_count": 51,
   "metadata": {},
   "outputs": [
    {
     "data": {
      "text/plain": [
       "808361    1460\n",
       "309623    398 \n",
       "362955    331 \n",
       "363333    239 \n",
       "363244    215 \n",
       "         ...  \n",
       "344466    1   \n",
       "944647    1   \n",
       "360113    1   \n",
       "356884    1   \n",
       "364618    1   \n",
       "Name: BuildingID, Length: 2504, dtype: int64"
      ]
     },
     "execution_count": 51,
     "metadata": {},
     "output_type": "execute_result"
    }
   ],
   "source": [
    "bv_2years[\"BuildingID\"].value_counts()"
   ]
  },
  {
   "cell_type": "code",
   "execution_count": 52,
   "metadata": {},
   "outputs": [
    {
     "data": {
      "text/plain": [
       "Text(0.5, 0, 'Building ID')"
      ]
     },
     "execution_count": 52,
     "metadata": {},
     "output_type": "execute_result"
    },
    {
     "data": {
      "image/png": "[encoded data removed]",
      "text/plain": [
       "<Figure size 432x288 with 1 Axes>"
      ]
     },
     "metadata": {
      "needs_background": "light"
     },
     "output_type": "display_data"
    }
   ],
   "source": [
    "build_values2 = bv_2years[\"BuildingID\"].value_counts().head(10)\n",
    "build_values2.plot(kind = \"bar\")\n",
    "plt.title(\"Top Buildings with Complaints Reported 2019-2021\")\n",
    "plt.ylabel(\"Number of Reports\")\n",
    "plt.xlabel(\"Building ID\")"
   ]
  },
  {
   "cell_type": "markdown",
   "metadata": {},
   "source": [
    "The building with the most complaints in this version of the dataset are:<br>\n",
    "808361 - 1711 Fulton Street<br>\n",
    "309623 - 7 Hegeman Avenue<br>\n",
    "362955 - 165 Rockaway Parkway<br>\n",
    "363333 - 178 Rockaway Parkway<br>\n",
    "363244 - 56 Rockaway Parkway<br>\n",
    "329997 - 437 Macon Street<br>\n",
    "329071 - 210 Lott Avenue<br>\n",
    "314098 - 351 Howard Avenue<br>\n",
    "362959 - 166 Rockaway Parkway<br>\n",
    "320626 - 9325 Kings Highway<br>"
   ]
  },
  {
   "cell_type": "markdown",
   "metadata": {},
   "source": [
    "------------------"
   ]
  },
  {
   "cell_type": "markdown",
   "metadata": {},
   "source": [
    "In this section, I will show the top buildings with violations in the 2 year timeframe."
   ]
  },
  {
   "cell_type": "code",
   "execution_count": 53,
   "metadata": {},
   "outputs": [],
   "source": [
    "bv_buildstatus2 = bv_2years[[\"BuildingID\", \"StatusDescription\"]]"
   ]
  },
  {
   "cell_type": "code",
   "execution_count": 54,
   "metadata": {},
   "outputs": [],
   "source": [
    "bv_sd2 = bv_buildstatus2[(bv_2years.StatusDescription == 'Inspected; violations issued')]"
   ]
  },
  {
   "cell_type": "code",
   "execution_count": 55,
   "metadata": {},
   "outputs": [
    {
     "data": {
      "text/plain": [
       "Text(0.5, 0, 'Building ID')"
      ]
     },
     "execution_count": 55,
     "metadata": {},
     "output_type": "execute_result"
    },
    {
     "data": {
      "image/png": "[encoded data removed]",
      "text/plain": [
       "<Figure size 432x288 with 1 Axes>"
      ]
     },
     "metadata": {
      "needs_background": "light"
     },
     "output_type": "display_data"
    }
   ],
   "source": [
    "bv_sd_counts2 = bv_sd2[\"BuildingID\"].value_counts().head(10)\n",
    "bv_sd_counts2.plot(kind = \"bar\")\n",
    "plt.title(\"Top Buildings with Violations 2019-2021\")\n",
    "plt.ylabel(\"Number of Violations Reported\")\n",
    "plt.xlabel(\"Building ID\")"
   ]
  },
  {
   "cell_type": "markdown",
   "metadata": {},
   "source": [
    "The top buildings with code violations between the years of 2014 and 2021 are:<br>\n",
    "309623 - 7 Hegeman Avenue<br>\n",
    "329071 - 210 Lott Avenue<br>\n",
    "808943 - 37 New Lots Avenue<br>\n",
    "324031 - 1087 Lenox Road<br>\n",
    "306283 - 829 Halsey Street<br>\n",
    "363333 - 92 Rockaway Parkway<br>\n",
    "362715 - 694 Rockaway Avenue<br>\n",
    "307290 - 668 Hancock Street<br>\n",
    "323953 - 351 Legion Street<br>\n",
    "363029 - 181 Rockaway Parkway <br>"
   ]
  },
  {
   "cell_type": "markdown",
   "metadata": {},
   "source": [
    "---------------------"
   ]
  },
  {
   "cell_type": "markdown",
   "metadata": {},
   "source": [
    "Looking at the amount of buildings that could not be accessed after complaints were received."
   ]
  },
  {
   "cell_type": "code",
   "execution_count": 58,
   "metadata": {},
   "outputs": [],
   "source": [
    "bv_sd_noaccess2 = bv_buildstatus2[(bv_buildstatus2.StatusDescription == \"Unable to gain access\")]"
   ]
  },
  {
   "cell_type": "code",
   "execution_count": 59,
   "metadata": {},
   "outputs": [
    {
     "data": {
      "text/plain": [
       "Text(0.5, 0, 'Building ID')"
      ]
     },
     "execution_count": 59,
     "metadata": {},
     "output_type": "execute_result"
    },
    {
     "data": {
      "image/png": "[encoded data removed]",
      "text/plain": [
       "<Figure size 432x288 with 1 Axes>"
      ]
     },
     "metadata": {
      "needs_background": "light"
     },
     "output_type": "display_data"
    }
   ],
   "source": [
    "bv_sd_noaccess2_counts = bv_sd_noaccess2[\"BuildingID\"].value_counts().head(10)\n",
    "bv_sd_noaccess2_counts.plot(kind = \"bar\")\n",
    "plt.title(\"Top Buildings That Could Not Be Accessed 2019-2021\")\n",
    "plt.ylabel(\"Number of NoAccess Reported\")\n",
    "plt.xlabel(\"Building ID\")"
   ]
  },
  {
   "cell_type": "markdown",
   "metadata": {},
   "source": [
    "The top buildings that could not be accessed after complaints were made between the years of 2019 and 2021 are:<br>\n",
    "329071 - 210 Lott Avenue<br>\n",
    "309623 - 7 Hegeman Avenue<br>\n",
    "231212 - 2411 Dean Street<br>\n",
    "329997 - 437 Macon Street<br>\n",
    "362959 - 166 Rockaway Parkway<br>\n",
    "808361 - 1711 Fulton Street<br>\n",
    "362955 - 165 Rockaway Parkway<br>\n",
    "363013 - 178 Rockaway Parkway<br>\n",
    "808943 - 37 New Lots Avenue<br>\n",
    "297651 - 1933 Fulton Street<br>"
   ]
  },
  {
   "cell_type": "markdown",
   "metadata": {},
   "source": [
    "----------------"
   ]
  },
  {
   "cell_type": "markdown",
   "metadata": {},
   "source": [
    "Looking at the amounts of complaints made per month. "
   ]
  },
  {
   "cell_type": "code",
   "execution_count": 60,
   "metadata": {},
   "outputs": [
    {
     "name": "stderr",
     "output_type": "stream",
     "text": [
      "<ipython-input-60-dd235c417909>:15: SettingWithCopyWarning: \n",
      "A value is trying to be set on a copy of a slice from a DataFrame.\n",
      "Try using .loc[row_indexer,col_indexer] = value instead\n",
      "\n",
      "See the caveats in the documentation: https://pandas.pydata.org/pandas-docs/stable/user_guide/indexing.html#returning-a-view-versus-a-copy\n",
      "  bv_2years['StatusDate'] = pd.to_datetime(bv_2years['StatusDate'])\n",
      "<ipython-input-60-dd235c417909>:16: SettingWithCopyWarning: \n",
      "A value is trying to be set on a copy of a slice from a DataFrame.\n",
      "Try using .loc[row_indexer,col_indexer] = value instead\n",
      "\n",
      "See the caveats in the documentation: https://pandas.pydata.org/pandas-docs/stable/user_guide/indexing.html#returning-a-view-versus-a-copy\n",
      "  bv_2years[\"StatusDateMonth\"] = bv_2years[\"StatusDate\"].dt.month\n"
     ]
    },
    {
     "data": {
      "text/plain": [
       "January      3582\n",
       "February     2937\n",
       "December     2730\n",
       "March        2682\n",
       "November     2411\n",
       "April        1615\n",
       "October      1421\n",
       "July         994 \n",
       "August       955 \n",
       "September    871 \n",
       "May          834 \n",
       "June         789 \n",
       "Name: StatusDateMonth, dtype: int64"
      ]
     },
     "execution_count": 60,
     "metadata": {},
     "output_type": "execute_result"
    }
   ],
   "source": [
    "month = {\n",
    "    1: \"January\", \n",
    "    2: \"February\", \n",
    "    3: \"March\", \n",
    "    4: \"April\", \n",
    "    5: \"May\", \n",
    "    6: \"June\", \n",
    "    7: \"July\",\n",
    "    8: \"August\",\n",
    "    9: \"September\",\n",
    "    10: \"October\",\n",
    "    11: \"November\",\n",
    "    12: \"December\"\n",
    "}\n",
    "bv_2years['StatusDate'] = pd.to_datetime(bv_2years['StatusDate'])\n",
    "bv_2years[\"StatusDateMonth\"] = bv_2years[\"StatusDate\"].dt.month\n",
    "month_counts2 = bv_2years[\"StatusDateMonth\"].value_counts()\n",
    "month_counts2.index = month_counts2.index.map(month)\n",
    "month_counts2"
   ]
  },
  {
   "cell_type": "code",
   "execution_count": 61,
   "metadata": {},
   "outputs": [
    {
     "data": {
      "text/plain": [
       "<matplotlib.axes._subplots.AxesSubplot at 0x1fefb28edc0>"
      ]
     },
     "execution_count": 61,
     "metadata": {},
     "output_type": "execute_result"
    },
    {
     "data": {
      "image/png": "[encoded data removed]",
      "text/plain": [
       "<Figure size 432x288 with 1 Axes>"
      ]
     },
     "metadata": {
      "needs_background": "light"
     },
     "output_type": "display_data"
    }
   ],
   "source": [
    "month_counts2.plot(kind = \"bar\")"
   ]
  },
  {
   "cell_type": "markdown",
   "metadata": {},
   "source": [
    "Consistent with what has been shown in the rest of the analysis, the winter months are the ones with the most complaints."
   ]
  },
  {
   "cell_type": "markdown",
   "metadata": {},
   "source": [
    "----------------"
   ]
  },
  {
   "cell_type": "markdown",
   "metadata": {},
   "source": [
    "Here we will look at which major category complaints is most commonly associated with complaints that lead to issued violations during 2019-2021. "
   ]
  },
  {
   "cell_type": "code",
   "execution_count": 73,
   "metadata": {},
   "outputs": [],
   "source": [
    "bv_majorstatus2 = bv_2years[[\"MajorCategory\", \"StatusDescription\"]]"
   ]
  },
  {
   "cell_type": "code",
   "execution_count": 74,
   "metadata": {},
   "outputs": [],
   "source": [
    "bv_sd_majviolation2 = bv_majorstatus2[(bv_buildstatus2.StatusDescription == 'Inspected; violations issued')]"
   ]
  },
  {
   "cell_type": "code",
   "execution_count": 75,
   "metadata": {},
   "outputs": [
    {
     "data": {
      "text/plain": [
       "Text(0.5, 0, 'Major Categories')"
      ]
     },
     "execution_count": 75,
     "metadata": {},
     "output_type": "execute_result"
    },
    {
     "data": {
      "image/png": "[encoded data removed]",
      "text/plain": [
       "<Figure size 432x288 with 1 Axes>"
      ]
     },
     "metadata": {
      "needs_background": "light"
     },
     "output_type": "display_data"
    }
   ],
   "source": [
    "bv_sd_majviolation_counts2 = bv_sd_majviolation2[\"MajorCategory\"].value_counts().head(10)\n",
    "bv_sd_majviolation_counts2.plot(kind = \"bar\")\n",
    "plt.title(\"Major Categories Most Often Associated with Violations: 2019-2021\")\n",
    "plt.ylabel(\"Number of Violations Reported\")\n",
    "plt.xlabel(\"Major Categories\")"
   ]
  },
  {
   "cell_type": "markdown",
   "metadata": {},
   "source": [
    "The most common complaints (MajorCategory column) which lead to a violation being issued are \"HEAT/HOT WATER\", \"UNSANITARY CONDITION\", \"PAINT/PLATER\", \"DOOR/WINDOW\" AND \"WATER LEAK\". As with the 5 year section, the top 5 remain the same as the overall timeframe. "
   ]
  },
  {
   "cell_type": "markdown",
   "metadata": {},
   "source": [
    "------------------"
   ]
  },
  {
   "cell_type": "markdown",
   "metadata": {},
   "source": [
    "Here we will look at which minor category complaints is most commonly associated with complaints that lead to issued violations between 2019-2021. "
   ]
  },
  {
   "cell_type": "code",
   "execution_count": 76,
   "metadata": {},
   "outputs": [],
   "source": [
    "bv_minorstatus2 = bv_2years[[\"MinorCategory\", \"StatusDescription\"]]"
   ]
  },
  {
   "cell_type": "code",
   "execution_count": 77,
   "metadata": {},
   "outputs": [],
   "source": [
    "bv_sd_minviolation2 = bv_minorstatus2[(bv_buildstatus2.StatusDescription == 'Inspected; violations issued')]"
   ]
  },
  {
   "cell_type": "code",
   "execution_count": 79,
   "metadata": {},
   "outputs": [
    {
     "data": {
      "text/plain": [
       "Text(0.5, 0, 'Minor Categories')"
      ]
     },
     "execution_count": 79,
     "metadata": {},
     "output_type": "execute_result"
    },
    {
     "data": {
      "image/png": "[encoded data removed]",
      "text/plain": [
       "<Figure size 432x288 with 1 Axes>"
      ]
     },
     "metadata": {
      "needs_background": "light"
     },
     "output_type": "display_data"
    }
   ],
   "source": [
    "bv_sd_minviolation_counts2 = bv_sd_minviolation2[\"MinorCategory\"].value_counts().head(10)\n",
    "bv_sd_minviolation_counts2.plot(kind = \"bar\")\n",
    "plt.title(\"Minor Categories Most Often Associated with Violations: 2019-2021\")\n",
    "plt.ylabel(\"Number of Violations Reported\")\n",
    "plt.xlabel(\"Minor Categories\")"
   ]
  },
  {
   "cell_type": "markdown",
   "metadata": {},
   "source": [
    "The most common complaints (MinorCategory column) which lead to a violation being issued are \"PEST\", \"APARTMENT ONLY\", \"ENTIRE BUILDING\", \"CEILING\" AND \"DOOR\". "
   ]
  }
 ],
 "metadata": {
  "kernelspec": {
   "display_name": "Python 3",
   "language": "python",
   "name": "python3"
  },
  "language_info": {
   "codemirror_mode": {
    "name": "ipython",
    "version": 3
   },
   "file_extension": ".py",
   "mimetype": "text/x-python",
   "name": "python",
   "nbconvert_exporter": "python",
   "pygments_lexer": "ipython3",
   "version": "3.8.3"
  }
 },
 "nbformat": 4,
 "nbformat_minor": 2
}
