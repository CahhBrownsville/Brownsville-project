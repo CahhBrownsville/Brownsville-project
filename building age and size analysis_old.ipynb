{
 "cells": [
  {
   "cell_type": "markdown",
   "metadata": {},
   "source": [
    "# Building Ages and Size Analysis"
   ]
  },
  {
   "cell_type": "markdown",
   "metadata": {},
   "source": [
    "The analysis in this notebook is based on the PLUTO dataset, which consists of information on buildings in New York City\n",
    "(https://www1.nyc.gov/site/planning/data-maps/open-data/dwn-pluto-mappluto.page). A disclaimer on that page lets us know that dataset may not be 100% accurate and may have missing data, although it is close. I double checked some of the Brownsville addresses for accuracy and to check if alternate addresses were used in the PLUTO dataset, doing Google searches and using a few property sites as a reference (propertyshark, addressreport, zillow, etc). "
   ]
  },
  {
   "cell_type": "markdown",
   "metadata": {},
   "source": [
    "-------------"
   ]
  },
  {
   "cell_type": "markdown",
   "metadata": {},
   "source": [
    "# NYC"
   ]
  },
  {
   "cell_type": "markdown",
   "metadata": {},
   "source": [
    "A short analysis of New York City buildings, looking at average age, size, number of floors and number of units. Buildings in NYC are not the central focus of this notebook, but it would be good to have an idea of this information to compare with buildings in the Brownsville area that are of interest. "
   ]
  },
  {
   "cell_type": "code",
   "execution_count": 1,
   "metadata": {},
   "outputs": [],
   "source": [
    "#loading up necesary libraries\n",
    "import matplotlib.pyplot as plt\n",
    "import pandas as pd\n",
    "import numpy as np\n",
    "import datetime as dt\n",
    "import seaborn as sns\n",
    "%matplotlib inline"
   ]
  },
  {
   "cell_type": "code",
   "execution_count": 2,
   "metadata": {
    "scrolled": true
   },
   "outputs": [
    {
     "name": "stderr",
     "output_type": "stream",
     "text": [
      "C:\\Users\\miss_\\anaconda3\\lib\\site-packages\\IPython\\core\\interactiveshell.py:3343: DtypeWarning: Columns (19,20,22,24,26,63,64) have mixed types.Specify dtype option on import or set low_memory=False.\n",
      "  exec(code_obj, self.user_global_ns, self.user_ns)\n"
     ]
    },
    {
     "data": {
      "text/html": [
       "<div>\n",
       "<style scoped>\n",
       "    .dataframe tbody tr th:only-of-type {\n",
       "        vertical-align: middle;\n",
       "    }\n",
       "\n",
       "    .dataframe tbody tr th {\n",
       "        vertical-align: top;\n",
       "    }\n",
       "\n",
       "    .dataframe thead th {\n",
       "        text-align: right;\n",
       "    }\n",
       "</style>\n",
       "<table border=\"1\" class=\"dataframe\">\n",
       "  <thead>\n",
       "    <tr style=\"text-align: right;\">\n",
       "      <th></th>\n",
       "      <th>borough</th>\n",
       "      <th>block</th>\n",
       "      <th>lot</th>\n",
       "      <th>cd</th>\n",
       "      <th>ct2010</th>\n",
       "      <th>cb2010</th>\n",
       "      <th>schooldist</th>\n",
       "      <th>council</th>\n",
       "      <th>zipcode</th>\n",
       "      <th>firecomp</th>\n",
       "      <th>...</th>\n",
       "      <th>appbbl</th>\n",
       "      <th>appdate</th>\n",
       "      <th>plutomapid</th>\n",
       "      <th>firm07_flag</th>\n",
       "      <th>pfirm15_flag</th>\n",
       "      <th>version</th>\n",
       "      <th>dcpedited</th>\n",
       "      <th>latitude</th>\n",
       "      <th>longitude</th>\n",
       "      <th>notes</th>\n",
       "    </tr>\n",
       "  </thead>\n",
       "  <tbody>\n",
       "    <tr>\n",
       "      <th>0</th>\n",
       "      <td>BX</td>\n",
       "      <td>4660</td>\n",
       "      <td>34</td>\n",
       "      <td>212.0</td>\n",
       "      <td>380.00</td>\n",
       "      <td>NaN</td>\n",
       "      <td>11.0</td>\n",
       "      <td>12.0</td>\n",
       "      <td>10467.0</td>\n",
       "      <td>E062</td>\n",
       "      <td>...</td>\n",
       "      <td>NaN</td>\n",
       "      <td>NaN</td>\n",
       "      <td>1</td>\n",
       "      <td>NaN</td>\n",
       "      <td>NaN</td>\n",
       "      <td>21v2</td>\n",
       "      <td>NaN</td>\n",
       "      <td>40.877873</td>\n",
       "      <td>-73.863604</td>\n",
       "      <td>NaN</td>\n",
       "    </tr>\n",
       "    <tr>\n",
       "      <th>1</th>\n",
       "      <td>MN</td>\n",
       "      <td>445</td>\n",
       "      <td>54</td>\n",
       "      <td>103.0</td>\n",
       "      <td>38.00</td>\n",
       "      <td>4000.0</td>\n",
       "      <td>1.0</td>\n",
       "      <td>2.0</td>\n",
       "      <td>10003.0</td>\n",
       "      <td>E028</td>\n",
       "      <td>...</td>\n",
       "      <td>NaN</td>\n",
       "      <td>NaN</td>\n",
       "      <td>1</td>\n",
       "      <td>NaN</td>\n",
       "      <td>NaN</td>\n",
       "      <td>21v2</td>\n",
       "      <td>NaN</td>\n",
       "      <td>40.725333</td>\n",
       "      <td>-73.988711</td>\n",
       "      <td>NaN</td>\n",
       "    </tr>\n",
       "    <tr>\n",
       "      <th>2</th>\n",
       "      <td>MN</td>\n",
       "      <td>467</td>\n",
       "      <td>55</td>\n",
       "      <td>103.0</td>\n",
       "      <td>40.00</td>\n",
       "      <td>2000.0</td>\n",
       "      <td>1.0</td>\n",
       "      <td>2.0</td>\n",
       "      <td>10003.0</td>\n",
       "      <td>L003</td>\n",
       "      <td>...</td>\n",
       "      <td>NaN</td>\n",
       "      <td>NaN</td>\n",
       "      <td>1</td>\n",
       "      <td>NaN</td>\n",
       "      <td>NaN</td>\n",
       "      <td>21v2</td>\n",
       "      <td>NaN</td>\n",
       "      <td>40.731190</td>\n",
       "      <td>-73.987722</td>\n",
       "      <td>NaN</td>\n",
       "    </tr>\n",
       "    <tr>\n",
       "      <th>3</th>\n",
       "      <td>BK</td>\n",
       "      <td>2621</td>\n",
       "      <td>7501</td>\n",
       "      <td>301.0</td>\n",
       "      <td>573.00</td>\n",
       "      <td>3003.0</td>\n",
       "      <td>14.0</td>\n",
       "      <td>33.0</td>\n",
       "      <td>11222.0</td>\n",
       "      <td>E238</td>\n",
       "      <td>...</td>\n",
       "      <td>3.026210e+09</td>\n",
       "      <td>1/23/2008</td>\n",
       "      <td>1</td>\n",
       "      <td>NaN</td>\n",
       "      <td>NaN</td>\n",
       "      <td>21v2</td>\n",
       "      <td>NaN</td>\n",
       "      <td>40.726484</td>\n",
       "      <td>-73.951001</td>\n",
       "      <td>NaN</td>\n",
       "    </tr>\n",
       "    <tr>\n",
       "      <th>4</th>\n",
       "      <td>MN</td>\n",
       "      <td>1970</td>\n",
       "      <td>58</td>\n",
       "      <td>109.0</td>\n",
       "      <td>213.03</td>\n",
       "      <td>1001.0</td>\n",
       "      <td>5.0</td>\n",
       "      <td>9.0</td>\n",
       "      <td>10027.0</td>\n",
       "      <td>E080</td>\n",
       "      <td>...</td>\n",
       "      <td>NaN</td>\n",
       "      <td>NaN</td>\n",
       "      <td>1</td>\n",
       "      <td>NaN</td>\n",
       "      <td>NaN</td>\n",
       "      <td>21v2</td>\n",
       "      <td>NaN</td>\n",
       "      <td>40.817053</td>\n",
       "      <td>-73.952741</td>\n",
       "      <td>NaN</td>\n",
       "    </tr>\n",
       "    <tr>\n",
       "      <th>...</th>\n",
       "      <td>...</td>\n",
       "      <td>...</td>\n",
       "      <td>...</td>\n",
       "      <td>...</td>\n",
       "      <td>...</td>\n",
       "      <td>...</td>\n",
       "      <td>...</td>\n",
       "      <td>...</td>\n",
       "      <td>...</td>\n",
       "      <td>...</td>\n",
       "      <td>...</td>\n",
       "      <td>...</td>\n",
       "      <td>...</td>\n",
       "      <td>...</td>\n",
       "      <td>...</td>\n",
       "      <td>...</td>\n",
       "      <td>...</td>\n",
       "      <td>...</td>\n",
       "      <td>...</td>\n",
       "      <td>...</td>\n",
       "      <td>...</td>\n",
       "    </tr>\n",
       "    <tr>\n",
       "      <th>858208</th>\n",
       "      <td>SI</td>\n",
       "      <td>5016</td>\n",
       "      <td>55</td>\n",
       "      <td>503.0</td>\n",
       "      <td>132.04</td>\n",
       "      <td>NaN</td>\n",
       "      <td>31.0</td>\n",
       "      <td>51.0</td>\n",
       "      <td>10306.0</td>\n",
       "      <td>E162</td>\n",
       "      <td>...</td>\n",
       "      <td>NaN</td>\n",
       "      <td>NaN</td>\n",
       "      <td>3</td>\n",
       "      <td>NaN</td>\n",
       "      <td>NaN</td>\n",
       "      <td>21v2</td>\n",
       "      <td>NaN</td>\n",
       "      <td>40.557440</td>\n",
       "      <td>-74.137239</td>\n",
       "      <td>NaN</td>\n",
       "    </tr>\n",
       "    <tr>\n",
       "      <th>858209</th>\n",
       "      <td>SI</td>\n",
       "      <td>3571</td>\n",
       "      <td>63</td>\n",
       "      <td>502.0</td>\n",
       "      <td>114.02</td>\n",
       "      <td>NaN</td>\n",
       "      <td>31.0</td>\n",
       "      <td>50.0</td>\n",
       "      <td>10306.0</td>\n",
       "      <td>E159</td>\n",
       "      <td>...</td>\n",
       "      <td>NaN</td>\n",
       "      <td>NaN</td>\n",
       "      <td>3</td>\n",
       "      <td>NaN</td>\n",
       "      <td>1.0</td>\n",
       "      <td>21v2</td>\n",
       "      <td>NaN</td>\n",
       "      <td>40.581080</td>\n",
       "      <td>-74.103509</td>\n",
       "      <td>NaN</td>\n",
       "    </tr>\n",
       "    <tr>\n",
       "      <th>858210</th>\n",
       "      <td>BK</td>\n",
       "      <td>7690</td>\n",
       "      <td>206</td>\n",
       "      <td>315.0</td>\n",
       "      <td>642.00</td>\n",
       "      <td>NaN</td>\n",
       "      <td>22.0</td>\n",
       "      <td>45.0</td>\n",
       "      <td>11229.0</td>\n",
       "      <td>E276</td>\n",
       "      <td>...</td>\n",
       "      <td>NaN</td>\n",
       "      <td>NaN</td>\n",
       "      <td>3</td>\n",
       "      <td>NaN</td>\n",
       "      <td>NaN</td>\n",
       "      <td>21v2</td>\n",
       "      <td>NaN</td>\n",
       "      <td>40.612185</td>\n",
       "      <td>-73.944649</td>\n",
       "      <td>NaN</td>\n",
       "    </tr>\n",
       "    <tr>\n",
       "      <th>858211</th>\n",
       "      <td>MN</td>\n",
       "      <td>2105</td>\n",
       "      <td>450</td>\n",
       "      <td>NaN</td>\n",
       "      <td>NaN</td>\n",
       "      <td>NaN</td>\n",
       "      <td>NaN</td>\n",
       "      <td>NaN</td>\n",
       "      <td>NaN</td>\n",
       "      <td>NaN</td>\n",
       "      <td>...</td>\n",
       "      <td>NaN</td>\n",
       "      <td>NaN</td>\n",
       "      <td>3</td>\n",
       "      <td>1.0</td>\n",
       "      <td>1.0</td>\n",
       "      <td>21v2</td>\n",
       "      <td>NaN</td>\n",
       "      <td>40.828169</td>\n",
       "      <td>-73.933870</td>\n",
       "      <td>NaN</td>\n",
       "    </tr>\n",
       "    <tr>\n",
       "      <th>858212</th>\n",
       "      <td>MN</td>\n",
       "      <td>2156</td>\n",
       "      <td>44</td>\n",
       "      <td>112.0</td>\n",
       "      <td>269.00</td>\n",
       "      <td>NaN</td>\n",
       "      <td>6.0</td>\n",
       "      <td>10.0</td>\n",
       "      <td>10033.0</td>\n",
       "      <td>L045</td>\n",
       "      <td>...</td>\n",
       "      <td>NaN</td>\n",
       "      <td>NaN</td>\n",
       "      <td>3</td>\n",
       "      <td>NaN</td>\n",
       "      <td>NaN</td>\n",
       "      <td>21v2</td>\n",
       "      <td>NaN</td>\n",
       "      <td>40.851227</td>\n",
       "      <td>-73.929597</td>\n",
       "      <td>NaN</td>\n",
       "    </tr>\n",
       "  </tbody>\n",
       "</table>\n",
       "<p>858213 rows × 90 columns</p>\n",
       "</div>"
      ],
      "text/plain": [
       "       borough  block   lot     cd  ct2010  cb2010  schooldist  council  \\\n",
       "0           BX   4660    34  212.0  380.00     NaN        11.0     12.0   \n",
       "1           MN    445    54  103.0   38.00  4000.0         1.0      2.0   \n",
       "2           MN    467    55  103.0   40.00  2000.0         1.0      2.0   \n",
       "3           BK   2621  7501  301.0  573.00  3003.0        14.0     33.0   \n",
       "4           MN   1970    58  109.0  213.03  1001.0         5.0      9.0   \n",
       "...        ...    ...   ...    ...     ...     ...         ...      ...   \n",
       "858208      SI   5016    55  503.0  132.04     NaN        31.0     51.0   \n",
       "858209      SI   3571    63  502.0  114.02     NaN        31.0     50.0   \n",
       "858210      BK   7690   206  315.0  642.00     NaN        22.0     45.0   \n",
       "858211      MN   2105   450    NaN     NaN     NaN         NaN      NaN   \n",
       "858212      MN   2156    44  112.0  269.00     NaN         6.0     10.0   \n",
       "\n",
       "        zipcode firecomp  ...        appbbl    appdate  plutomapid  \\\n",
       "0       10467.0     E062  ...           NaN        NaN           1   \n",
       "1       10003.0     E028  ...           NaN        NaN           1   \n",
       "2       10003.0     L003  ...           NaN        NaN           1   \n",
       "3       11222.0     E238  ...  3.026210e+09  1/23/2008           1   \n",
       "4       10027.0     E080  ...           NaN        NaN           1   \n",
       "...         ...      ...  ...           ...        ...         ...   \n",
       "858208  10306.0     E162  ...           NaN        NaN           3   \n",
       "858209  10306.0     E159  ...           NaN        NaN           3   \n",
       "858210  11229.0     E276  ...           NaN        NaN           3   \n",
       "858211      NaN      NaN  ...           NaN        NaN           3   \n",
       "858212  10033.0     L045  ...           NaN        NaN           3   \n",
       "\n",
       "        firm07_flag  pfirm15_flag version dcpedited   latitude  longitude  \\\n",
       "0               NaN           NaN    21v2       NaN  40.877873 -73.863604   \n",
       "1               NaN           NaN    21v2       NaN  40.725333 -73.988711   \n",
       "2               NaN           NaN    21v2       NaN  40.731190 -73.987722   \n",
       "3               NaN           NaN    21v2       NaN  40.726484 -73.951001   \n",
       "4               NaN           NaN    21v2       NaN  40.817053 -73.952741   \n",
       "...             ...           ...     ...       ...        ...        ...   \n",
       "858208          NaN           NaN    21v2       NaN  40.557440 -74.137239   \n",
       "858209          NaN           1.0    21v2       NaN  40.581080 -74.103509   \n",
       "858210          NaN           NaN    21v2       NaN  40.612185 -73.944649   \n",
       "858211          1.0           1.0    21v2       NaN  40.828169 -73.933870   \n",
       "858212          NaN           NaN    21v2       NaN  40.851227 -73.929597   \n",
       "\n",
       "       notes  \n",
       "0        NaN  \n",
       "1        NaN  \n",
       "2        NaN  \n",
       "3        NaN  \n",
       "4        NaN  \n",
       "...      ...  \n",
       "858208   NaN  \n",
       "858209   NaN  \n",
       "858210   NaN  \n",
       "858211   NaN  \n",
       "858212   NaN  \n",
       "\n",
       "[858213 rows x 90 columns]"
      ]
     },
     "execution_count": 2,
     "metadata": {},
     "output_type": "execute_result"
    }
   ],
   "source": [
    "#loading the dataset\n",
    "pluto = pd.read_csv(\"pluto_21v2.csv\")\n",
    "pluto"
   ]
  },
  {
   "cell_type": "code",
   "execution_count": 3,
   "metadata": {},
   "outputs": [
    {
     "data": {
      "text/plain": [
       "858213"
      ]
     },
     "execution_count": 3,
     "metadata": {},
     "output_type": "execute_result"
    }
   ],
   "source": [
    "len(pluto)"
   ]
  },
  {
   "cell_type": "code",
   "execution_count": 4,
   "metadata": {
    "scrolled": true
   },
   "outputs": [
    {
     "data": {
      "text/plain": [
       "<bound method DataFrame.isna of        borough  block   lot     cd  ct2010  cb2010  schooldist  council  \\\n",
       "0           BX   4660    34  212.0  380.00     NaN        11.0     12.0   \n",
       "1           MN    445    54  103.0   38.00  4000.0         1.0      2.0   \n",
       "2           MN    467    55  103.0   40.00  2000.0         1.0      2.0   \n",
       "3           BK   2621  7501  301.0  573.00  3003.0        14.0     33.0   \n",
       "4           MN   1970    58  109.0  213.03  1001.0         5.0      9.0   \n",
       "...        ...    ...   ...    ...     ...     ...         ...      ...   \n",
       "858208      SI   5016    55  503.0  132.04     NaN        31.0     51.0   \n",
       "858209      SI   3571    63  502.0  114.02     NaN        31.0     50.0   \n",
       "858210      BK   7690   206  315.0  642.00     NaN        22.0     45.0   \n",
       "858211      MN   2105   450    NaN     NaN     NaN         NaN      NaN   \n",
       "858212      MN   2156    44  112.0  269.00     NaN         6.0     10.0   \n",
       "\n",
       "        zipcode firecomp  ...        appbbl    appdate  plutomapid  \\\n",
       "0       10467.0     E062  ...           NaN        NaN           1   \n",
       "1       10003.0     E028  ...           NaN        NaN           1   \n",
       "2       10003.0     L003  ...           NaN        NaN           1   \n",
       "3       11222.0     E238  ...  3.026210e+09  1/23/2008           1   \n",
       "4       10027.0     E080  ...           NaN        NaN           1   \n",
       "...         ...      ...  ...           ...        ...         ...   \n",
       "858208  10306.0     E162  ...           NaN        NaN           3   \n",
       "858209  10306.0     E159  ...           NaN        NaN           3   \n",
       "858210  11229.0     E276  ...           NaN        NaN           3   \n",
       "858211      NaN      NaN  ...           NaN        NaN           3   \n",
       "858212  10033.0     L045  ...           NaN        NaN           3   \n",
       "\n",
       "        firm07_flag  pfirm15_flag version dcpedited   latitude  longitude  \\\n",
       "0               NaN           NaN    21v2       NaN  40.877873 -73.863604   \n",
       "1               NaN           NaN    21v2       NaN  40.725333 -73.988711   \n",
       "2               NaN           NaN    21v2       NaN  40.731190 -73.987722   \n",
       "3               NaN           NaN    21v2       NaN  40.726484 -73.951001   \n",
       "4               NaN           NaN    21v2       NaN  40.817053 -73.952741   \n",
       "...             ...           ...     ...       ...        ...        ...   \n",
       "858208          NaN           NaN    21v2       NaN  40.557440 -74.137239   \n",
       "858209          NaN           1.0    21v2       NaN  40.581080 -74.103509   \n",
       "858210          NaN           NaN    21v2       NaN  40.612185 -73.944649   \n",
       "858211          1.0           1.0    21v2       NaN  40.828169 -73.933870   \n",
       "858212          NaN           NaN    21v2       NaN  40.851227 -73.929597   \n",
       "\n",
       "       notes  \n",
       "0        NaN  \n",
       "1        NaN  \n",
       "2        NaN  \n",
       "3        NaN  \n",
       "4        NaN  \n",
       "...      ...  \n",
       "858208   NaN  \n",
       "858209   NaN  \n",
       "858210   NaN  \n",
       "858211   NaN  \n",
       "858212   NaN  \n",
       "\n",
       "[858213 rows x 90 columns]>"
      ]
     },
     "execution_count": 4,
     "metadata": {},
     "output_type": "execute_result"
    }
   ],
   "source": [
    "pluto.isna"
   ]
  },
  {
   "cell_type": "code",
   "execution_count": 5,
   "metadata": {},
   "outputs": [],
   "source": [
    "pluto.fillna(value=0, inplace=True)"
   ]
  },
  {
   "cell_type": "markdown",
   "metadata": {},
   "source": [
    "I filled the NA values (with 0), because dropping them affected the data in a way that made analyzing dificult"
   ]
  },
  {
   "cell_type": "code",
   "execution_count": 6,
   "metadata": {},
   "outputs": [
    {
     "data": {
      "text/plain": [
       "6504.289891903292"
      ]
     },
     "execution_count": 6,
     "metadata": {},
     "output_type": "execute_result"
    }
   ],
   "source": [
    "pluto[\"bldgarea\"].mean()"
   ]
  },
  {
   "cell_type": "code",
   "execution_count": 7,
   "metadata": {},
   "outputs": [
    {
     "data": {
      "text/plain": [
       "1846.0182646965263"
      ]
     },
     "execution_count": 7,
     "metadata": {},
     "output_type": "execute_result"
    }
   ],
   "source": [
    "pluto[\"yearbuilt\"].mean()"
   ]
  },
  {
   "cell_type": "markdown",
   "metadata": {},
   "source": [
    "This mean year of buildings being built is interesting, as a search on Statista reveals that the average building age in NYC is 53 years old (as of 2014). "
   ]
  },
  {
   "cell_type": "code",
   "execution_count": 8,
   "metadata": {},
   "outputs": [
    {
     "data": {
      "text/plain": [
       "0            0.0\n",
       "1         1999.0\n",
       "2         1920.0\n",
       "3         2007.0\n",
       "4         1901.0\n",
       "           ...  \n",
       "858208       0.0\n",
       "858209       0.0\n",
       "858210       0.0\n",
       "858211       0.0\n",
       "858212       0.0\n",
       "Name: yearbuilt, Length: 858213, dtype: float64"
      ]
     },
     "execution_count": 8,
     "metadata": {},
     "output_type": "execute_result"
    }
   ],
   "source": [
    "pluto[\"yearbuilt\"]"
   ]
  },
  {
   "cell_type": "code",
   "execution_count": 9,
   "metadata": {},
   "outputs": [
    {
     "data": {
      "text/plain": [
       "2.3384276164540303"
      ]
     },
     "execution_count": 9,
     "metadata": {},
     "output_type": "execute_result"
    }
   ],
   "source": [
    "pluto[\"numfloors\"].mean()"
   ]
  },
  {
   "cell_type": "code",
   "execution_count": 10,
   "metadata": {},
   "outputs": [
    {
     "data": {
      "text/plain": [
       "4.188058209325657"
      ]
     },
     "execution_count": 10,
     "metadata": {},
     "output_type": "execute_result"
    }
   ],
   "source": [
    "pluto[\"unitsres\"].mean()"
   ]
  },
  {
   "cell_type": "markdown",
   "metadata": {},
   "source": [
    "So our information for NYC buildings is: <br>\n",
    "\n",
    "Average building area: 6504 sqr feet<br>\n",
    "\n",
    "Average year buildings were built: 1846<br>\n",
    "\n",
    "Average number of floors: 2.33 floors<br>\n",
    "\n",
    "Average number of residential units per building: 4.1 units"
   ]
  },
  {
   "cell_type": "code",
   "execution_count": 11,
   "metadata": {},
   "outputs": [
    {
     "data": {
      "text/plain": [
       "Text(0.5, 0, 'Years Built')"
      ]
     },
     "execution_count": 11,
     "metadata": {},
     "output_type": "execute_result"
    },
    {
     "data": {
      "image/png": "[encoded data removed]",
      "text/plain": [
       "<Figure size 432x288 with 1 Axes>"
      ]
     },
     "metadata": {
      "needs_background": "light"
     },
     "output_type": "display_data"
    }
   ],
   "source": [
    "pluto['yearbuilt'].plot(kind='hist',range=(1800,2021), bins=10)\n",
    "plt.title(\"Frequency of Years Buildings were Built in NYC\")\n",
    "plt.ylabel(\"Number of Buildings\")\n",
    "plt.xlabel(\"Years Built\")"
   ]
  },
  {
   "cell_type": "code",
   "execution_count": 12,
   "metadata": {},
   "outputs": [
    {
     "data": {
      "text/plain": [
       "<matplotlib.axes._subplots.AxesSubplot at 0x174b1aeed60>"
      ]
     },
     "execution_count": 12,
     "metadata": {},
     "output_type": "execute_result"
    },
    {
     "data": {
      "image/png": "[encoded data removed]",
      "text/plain": [
       "<Figure size 432x288 with 1 Axes>"
      ]
     },
     "metadata": {
      "needs_background": "light"
     },
     "output_type": "display_data"
    }
   ],
   "source": [
    "pluto['bldgarea'].plot(kind='hist')"
   ]
  },
  {
   "cell_type": "code",
   "execution_count": 13,
   "metadata": {},
   "outputs": [
    {
     "data": {
      "text/plain": [
       "<matplotlib.axes._subplots.AxesSubplot at 0x174b221a5e0>"
      ]
     },
     "execution_count": 13,
     "metadata": {},
     "output_type": "execute_result"
    },
    {
     "data": {
      "image/png": "[encoded data removed]",
      "text/plain": [
       "<Figure size 432x288 with 1 Axes>"
      ]
     },
     "metadata": {
      "needs_background": "light"
     },
     "output_type": "display_data"
    }
   ],
   "source": [
    "pluto['numfloors'].plot(kind='hist', bins = 20)"
   ]
  },
  {
   "cell_type": "code",
   "execution_count": 14,
   "metadata": {},
   "outputs": [
    {
     "data": {
      "text/plain": [
       "<matplotlib.axes._subplots.AxesSubplot at 0x174b227d8b0>"
      ]
     },
     "execution_count": 14,
     "metadata": {},
     "output_type": "execute_result"
    },
    {
     "data": {
      "image/png": "[encoded data removed]",
      "text/plain": [
       "<Figure size 432x288 with 1 Axes>"
      ]
     },
     "metadata": {
      "needs_background": "light"
     },
     "output_type": "display_data"
    }
   ],
   "source": [
    "pluto['unitsres'].plot(kind='hist')"
   ]
  },
  {
   "cell_type": "markdown",
   "metadata": {},
   "source": [
    "-----------------"
   ]
  },
  {
   "cell_type": "markdown",
   "metadata": {},
   "source": [
    "----------------"
   ]
  },
  {
   "cell_type": "markdown",
   "metadata": {},
   "source": [
    "# Brownsville Complaints Buildings"
   ]
  },
  {
   "cell_type": "markdown",
   "metadata": {},
   "source": [
    "In this section, I will look at the ages and sizes of buildings in Brownsville. These buildings are the ones with the most complaints, violations and \"No Access\" status descriptions, as seen in my other analysis (Brownsville.csv analysis and visualizations). There are 26 total addresses that are in this version of the data.<br>\n",
    "<br>\n",
    "While searching for these addresses in the dataset, I ran into some issues. First is that a few of these (1711 Fulton Avenue and 210 Lott Avenue) are on the PLUTO data set, but under diffrent addresses due to them being part of complexes. There are two more addresses (351 Legion Street and 37 Lots New Avenue) that don't appear in the dataset at all.<br>\n",
    "<br>\n",
    "Alternate Addresses:<br>\n",
    "1711 Fulton Avenue - 88 Chauncey Street<br>\n",
    "210 Lott Avenue - 187 Hegeman Avenue\n"
   ]
  },
  {
   "cell_type": "code",
   "execution_count": 15,
   "metadata": {
    "scrolled": true
   },
   "outputs": [
    {
     "data": {
      "text/html": [
       "<div>\n",
       "<style scoped>\n",
       "    .dataframe tbody tr th:only-of-type {\n",
       "        vertical-align: middle;\n",
       "    }\n",
       "\n",
       "    .dataframe tbody tr th {\n",
       "        vertical-align: top;\n",
       "    }\n",
       "\n",
       "    .dataframe thead th {\n",
       "        text-align: right;\n",
       "    }\n",
       "</style>\n",
       "<table border=\"1\" class=\"dataframe\">\n",
       "  <thead>\n",
       "    <tr style=\"text-align: right;\">\n",
       "      <th></th>\n",
       "      <th>borough</th>\n",
       "      <th>block</th>\n",
       "      <th>lot</th>\n",
       "      <th>cd</th>\n",
       "      <th>ct2010</th>\n",
       "      <th>cb2010</th>\n",
       "      <th>schooldist</th>\n",
       "      <th>council</th>\n",
       "      <th>zipcode</th>\n",
       "      <th>firecomp</th>\n",
       "      <th>...</th>\n",
       "      <th>edesignum</th>\n",
       "      <th>appbbl</th>\n",
       "      <th>appdate</th>\n",
       "      <th>plutomapid</th>\n",
       "      <th>firm07_flag</th>\n",
       "      <th>pfirm15_flag</th>\n",
       "      <th>version</th>\n",
       "      <th>dcpedited</th>\n",
       "      <th>latitude</th>\n",
       "      <th>longitude</th>\n",
       "    </tr>\n",
       "  </thead>\n",
       "  <tbody>\n",
       "    <tr>\n",
       "      <th>0</th>\n",
       "      <td>BK</td>\n",
       "      <td>1691</td>\n",
       "      <td>12</td>\n",
       "      <td>303</td>\n",
       "      <td>297.00</td>\n",
       "      <td>2003</td>\n",
       "      <td>16</td>\n",
       "      <td>36</td>\n",
       "      <td>11233</td>\n",
       "      <td>L111</td>\n",
       "      <td>...</td>\n",
       "      <td>NaN</td>\n",
       "      <td>NaN</td>\n",
       "      <td>NaN</td>\n",
       "      <td>1</td>\n",
       "      <td>NaN</td>\n",
       "      <td>NaN</td>\n",
       "      <td>21v2</td>\n",
       "      <td>NaN</td>\n",
       "      <td>40.679861</td>\n",
       "      <td>-73.929717</td>\n",
       "    </tr>\n",
       "    <tr>\n",
       "      <th>1</th>\n",
       "      <td>BK</td>\n",
       "      <td>3621</td>\n",
       "      <td>1</td>\n",
       "      <td>316</td>\n",
       "      <td>896.00</td>\n",
       "      <td>2002</td>\n",
       "      <td>23</td>\n",
       "      <td>42</td>\n",
       "      <td>11212</td>\n",
       "      <td>E257</td>\n",
       "      <td>...</td>\n",
       "      <td>NaN</td>\n",
       "      <td>NaN</td>\n",
       "      <td>NaN</td>\n",
       "      <td>1</td>\n",
       "      <td>NaN</td>\n",
       "      <td>NaN</td>\n",
       "      <td>21v2</td>\n",
       "      <td>NaN</td>\n",
       "      <td>40.656021</td>\n",
       "      <td>-73.911614</td>\n",
       "    </tr>\n",
       "    <tr>\n",
       "      <th>2</th>\n",
       "      <td>BK</td>\n",
       "      <td>1568</td>\n",
       "      <td>12</td>\n",
       "      <td>316</td>\n",
       "      <td>369.00</td>\n",
       "      <td>2002</td>\n",
       "      <td>23</td>\n",
       "      <td>37</td>\n",
       "      <td>11233</td>\n",
       "      <td>L176</td>\n",
       "      <td>...</td>\n",
       "      <td>NaN</td>\n",
       "      <td>NaN</td>\n",
       "      <td>NaN</td>\n",
       "      <td>1</td>\n",
       "      <td>NaN</td>\n",
       "      <td>NaN</td>\n",
       "      <td>21v2</td>\n",
       "      <td>NaN</td>\n",
       "      <td>40.677032</td>\n",
       "      <td>-73.910562</td>\n",
       "    </tr>\n",
       "    <tr>\n",
       "      <th>3</th>\n",
       "      <td>BK</td>\n",
       "      <td>4632</td>\n",
       "      <td>6</td>\n",
       "      <td>317</td>\n",
       "      <td>892.00</td>\n",
       "      <td>3001</td>\n",
       "      <td>18</td>\n",
       "      <td>41</td>\n",
       "      <td>11212</td>\n",
       "      <td>E283</td>\n",
       "      <td>...</td>\n",
       "      <td>NaN</td>\n",
       "      <td>NaN</td>\n",
       "      <td>NaN</td>\n",
       "      <td>1</td>\n",
       "      <td>NaN</td>\n",
       "      <td>NaN</td>\n",
       "      <td>21v2</td>\n",
       "      <td>NaN</td>\n",
       "      <td>40.662364</td>\n",
       "      <td>-73.922015</td>\n",
       "    </tr>\n",
       "    <tr>\n",
       "      <th>4</th>\n",
       "      <td>BK</td>\n",
       "      <td>4632</td>\n",
       "      <td>25</td>\n",
       "      <td>317</td>\n",
       "      <td>892.00</td>\n",
       "      <td>3001</td>\n",
       "      <td>18</td>\n",
       "      <td>41</td>\n",
       "      <td>11212</td>\n",
       "      <td>E283</td>\n",
       "      <td>...</td>\n",
       "      <td>NaN</td>\n",
       "      <td>NaN</td>\n",
       "      <td>NaN</td>\n",
       "      <td>1</td>\n",
       "      <td>NaN</td>\n",
       "      <td>NaN</td>\n",
       "      <td>21v2</td>\n",
       "      <td>NaN</td>\n",
       "      <td>40.661493</td>\n",
       "      <td>-73.921043</td>\n",
       "    </tr>\n",
       "    <tr>\n",
       "      <th>5</th>\n",
       "      <td>BK</td>\n",
       "      <td>1439</td>\n",
       "      <td>4</td>\n",
       "      <td>316</td>\n",
       "      <td>303.00</td>\n",
       "      <td>3001</td>\n",
       "      <td>16</td>\n",
       "      <td>41</td>\n",
       "      <td>11233</td>\n",
       "      <td>L176</td>\n",
       "      <td>...</td>\n",
       "      <td>NaN</td>\n",
       "      <td>NaN</td>\n",
       "      <td>NaN</td>\n",
       "      <td>1</td>\n",
       "      <td>NaN</td>\n",
       "      <td>NaN</td>\n",
       "      <td>21v2</td>\n",
       "      <td>NaN</td>\n",
       "      <td>40.675509</td>\n",
       "      <td>-73.919058</td>\n",
       "    </tr>\n",
       "    <tr>\n",
       "      <th>6</th>\n",
       "      <td>BK</td>\n",
       "      <td>4615</td>\n",
       "      <td>6</td>\n",
       "      <td>317</td>\n",
       "      <td>892.00</td>\n",
       "      <td>2001</td>\n",
       "      <td>17</td>\n",
       "      <td>41</td>\n",
       "      <td>11212</td>\n",
       "      <td>E283</td>\n",
       "      <td>...</td>\n",
       "      <td>NaN</td>\n",
       "      <td>NaN</td>\n",
       "      <td>NaN</td>\n",
       "      <td>1</td>\n",
       "      <td>NaN</td>\n",
       "      <td>NaN</td>\n",
       "      <td>21v2</td>\n",
       "      <td>NaN</td>\n",
       "      <td>40.664004</td>\n",
       "      <td>-73.923833</td>\n",
       "    </tr>\n",
       "    <tr>\n",
       "      <th>7</th>\n",
       "      <td>BK</td>\n",
       "      <td>4632</td>\n",
       "      <td>11</td>\n",
       "      <td>317</td>\n",
       "      <td>892.00</td>\n",
       "      <td>3001</td>\n",
       "      <td>18</td>\n",
       "      <td>41</td>\n",
       "      <td>11212</td>\n",
       "      <td>E283</td>\n",
       "      <td>...</td>\n",
       "      <td>NaN</td>\n",
       "      <td>NaN</td>\n",
       "      <td>NaN</td>\n",
       "      <td>1</td>\n",
       "      <td>NaN</td>\n",
       "      <td>NaN</td>\n",
       "      <td>21v2</td>\n",
       "      <td>NaN</td>\n",
       "      <td>40.662108</td>\n",
       "      <td>-73.921730</td>\n",
       "    </tr>\n",
       "    <tr>\n",
       "      <th>8</th>\n",
       "      <td>BK</td>\n",
       "      <td>3628</td>\n",
       "      <td>1</td>\n",
       "      <td>316</td>\n",
       "      <td>920.00</td>\n",
       "      <td>2002</td>\n",
       "      <td>23</td>\n",
       "      <td>42</td>\n",
       "      <td>11212</td>\n",
       "      <td>E257</td>\n",
       "      <td>...</td>\n",
       "      <td>NaN</td>\n",
       "      <td>NaN</td>\n",
       "      <td>NaN</td>\n",
       "      <td>1</td>\n",
       "      <td>NaN</td>\n",
       "      <td>NaN</td>\n",
       "      <td>21v2</td>\n",
       "      <td>NaN</td>\n",
       "      <td>40.657616</td>\n",
       "      <td>-73.904645</td>\n",
       "    </tr>\n",
       "    <tr>\n",
       "      <th>9</th>\n",
       "      <td>BK</td>\n",
       "      <td>4648</td>\n",
       "      <td>59</td>\n",
       "      <td>317</td>\n",
       "      <td>886.00</td>\n",
       "      <td>1002</td>\n",
       "      <td>18</td>\n",
       "      <td>41</td>\n",
       "      <td>11212</td>\n",
       "      <td>L174</td>\n",
       "      <td>...</td>\n",
       "      <td>NaN</td>\n",
       "      <td>NaN</td>\n",
       "      <td>NaN</td>\n",
       "      <td>1</td>\n",
       "      <td>NaN</td>\n",
       "      <td>NaN</td>\n",
       "      <td>21v2</td>\n",
       "      <td>NaN</td>\n",
       "      <td>40.658115</td>\n",
       "      <td>-73.921739</td>\n",
       "    </tr>\n",
       "    <tr>\n",
       "      <th>10</th>\n",
       "      <td>BK</td>\n",
       "      <td>4598</td>\n",
       "      <td>1</td>\n",
       "      <td>317</td>\n",
       "      <td>884.00</td>\n",
       "      <td>1000</td>\n",
       "      <td>17</td>\n",
       "      <td>41</td>\n",
       "      <td>11212</td>\n",
       "      <td>E283</td>\n",
       "      <td>...</td>\n",
       "      <td>NaN</td>\n",
       "      <td>NaN</td>\n",
       "      <td>NaN</td>\n",
       "      <td>1</td>\n",
       "      <td>NaN</td>\n",
       "      <td>NaN</td>\n",
       "      <td>21v2</td>\n",
       "      <td>NaN</td>\n",
       "      <td>40.665021</td>\n",
       "      <td>-73.926838</td>\n",
       "    </tr>\n",
       "    <tr>\n",
       "      <th>11</th>\n",
       "      <td>BK</td>\n",
       "      <td>4648</td>\n",
       "      <td>33</td>\n",
       "      <td>317</td>\n",
       "      <td>886.00</td>\n",
       "      <td>1002</td>\n",
       "      <td>18</td>\n",
       "      <td>41</td>\n",
       "      <td>11212</td>\n",
       "      <td>L174</td>\n",
       "      <td>...</td>\n",
       "      <td>NaN</td>\n",
       "      <td>NaN</td>\n",
       "      <td>NaN</td>\n",
       "      <td>1</td>\n",
       "      <td>NaN</td>\n",
       "      <td>NaN</td>\n",
       "      <td>21v2</td>\n",
       "      <td>NaN</td>\n",
       "      <td>40.657969</td>\n",
       "      <td>-73.921328</td>\n",
       "    </tr>\n",
       "    <tr>\n",
       "      <th>12</th>\n",
       "      <td>BK</td>\n",
       "      <td>4650</td>\n",
       "      <td>52</td>\n",
       "      <td>317</td>\n",
       "      <td>886.00</td>\n",
       "      <td>2000</td>\n",
       "      <td>18</td>\n",
       "      <td>41</td>\n",
       "      <td>11212</td>\n",
       "      <td>E283</td>\n",
       "      <td>...</td>\n",
       "      <td>NaN</td>\n",
       "      <td>NaN</td>\n",
       "      <td>NaN</td>\n",
       "      <td>1</td>\n",
       "      <td>NaN</td>\n",
       "      <td>NaN</td>\n",
       "      <td>21v2</td>\n",
       "      <td>NaN</td>\n",
       "      <td>40.658830</td>\n",
       "      <td>-73.919936</td>\n",
       "    </tr>\n",
       "    <tr>\n",
       "      <th>13</th>\n",
       "      <td>BK</td>\n",
       "      <td>4690</td>\n",
       "      <td>61</td>\n",
       "      <td>317</td>\n",
       "      <td>888.00</td>\n",
       "      <td>1001</td>\n",
       "      <td>18</td>\n",
       "      <td>42</td>\n",
       "      <td>11212</td>\n",
       "      <td>L174</td>\n",
       "      <td>...</td>\n",
       "      <td>NaN</td>\n",
       "      <td>NaN</td>\n",
       "      <td>NaN</td>\n",
       "      <td>1</td>\n",
       "      <td>NaN</td>\n",
       "      <td>NaN</td>\n",
       "      <td>21v2</td>\n",
       "      <td>NaN</td>\n",
       "      <td>40.655321</td>\n",
       "      <td>-73.918145</td>\n",
       "    </tr>\n",
       "    <tr>\n",
       "      <th>14</th>\n",
       "      <td>BK</td>\n",
       "      <td>1682</td>\n",
       "      <td>79</td>\n",
       "      <td>303</td>\n",
       "      <td>381.00</td>\n",
       "      <td>4001</td>\n",
       "      <td>16</td>\n",
       "      <td>36</td>\n",
       "      <td>11233</td>\n",
       "      <td>L111</td>\n",
       "      <td>...</td>\n",
       "      <td>NaN</td>\n",
       "      <td>NaN</td>\n",
       "      <td>NaN</td>\n",
       "      <td>1</td>\n",
       "      <td>NaN</td>\n",
       "      <td>NaN</td>\n",
       "      <td>21v2</td>\n",
       "      <td>NaN</td>\n",
       "      <td>40.681518</td>\n",
       "      <td>-73.928266</td>\n",
       "    </tr>\n",
       "    <tr>\n",
       "      <th>15</th>\n",
       "      <td>BK</td>\n",
       "      <td>1662</td>\n",
       "      <td>12</td>\n",
       "      <td>303</td>\n",
       "      <td>383.00</td>\n",
       "      <td>2001</td>\n",
       "      <td>16</td>\n",
       "      <td>36</td>\n",
       "      <td>11233</td>\n",
       "      <td>L111</td>\n",
       "      <td>...</td>\n",
       "      <td>NaN</td>\n",
       "      <td>NaN</td>\n",
       "      <td>NaN</td>\n",
       "      <td>1</td>\n",
       "      <td>NaN</td>\n",
       "      <td>NaN</td>\n",
       "      <td>21v2</td>\n",
       "      <td>NaN</td>\n",
       "      <td>40.684744</td>\n",
       "      <td>-73.928749</td>\n",
       "    </tr>\n",
       "    <tr>\n",
       "      <th>16</th>\n",
       "      <td>BK</td>\n",
       "      <td>3620</td>\n",
       "      <td>24</td>\n",
       "      <td>316</td>\n",
       "      <td>896.00</td>\n",
       "      <td>3004</td>\n",
       "      <td>23</td>\n",
       "      <td>42</td>\n",
       "      <td>11212</td>\n",
       "      <td>E257</td>\n",
       "      <td>...</td>\n",
       "      <td>NaN</td>\n",
       "      <td>NaN</td>\n",
       "      <td>NaN</td>\n",
       "      <td>1</td>\n",
       "      <td>NaN</td>\n",
       "      <td>NaN</td>\n",
       "      <td>21v2</td>\n",
       "      <td>NaN</td>\n",
       "      <td>40.656832</td>\n",
       "      <td>-73.913000</td>\n",
       "    </tr>\n",
       "    <tr>\n",
       "      <th>17</th>\n",
       "      <td>BK</td>\n",
       "      <td>1665</td>\n",
       "      <td>78</td>\n",
       "      <td>303</td>\n",
       "      <td>295.00</td>\n",
       "      <td>3001</td>\n",
       "      <td>16</td>\n",
       "      <td>36</td>\n",
       "      <td>11233</td>\n",
       "      <td>L111</td>\n",
       "      <td>...</td>\n",
       "      <td>NaN</td>\n",
       "      <td>NaN</td>\n",
       "      <td>NaN</td>\n",
       "      <td>1</td>\n",
       "      <td>NaN</td>\n",
       "      <td>NaN</td>\n",
       "      <td>21v2</td>\n",
       "      <td>t</td>\n",
       "      <td>40.683086</td>\n",
       "      <td>-73.934217</td>\n",
       "    </tr>\n",
       "    <tr>\n",
       "      <th>18</th>\n",
       "      <td>BK</td>\n",
       "      <td>4599</td>\n",
       "      <td>33</td>\n",
       "      <td>317</td>\n",
       "      <td>892.00</td>\n",
       "      <td>1001</td>\n",
       "      <td>17</td>\n",
       "      <td>41</td>\n",
       "      <td>11212</td>\n",
       "      <td>E283</td>\n",
       "      <td>...</td>\n",
       "      <td>NaN</td>\n",
       "      <td>NaN</td>\n",
       "      <td>NaN</td>\n",
       "      <td>1</td>\n",
       "      <td>NaN</td>\n",
       "      <td>NaN</td>\n",
       "      <td>21v2</td>\n",
       "      <td>NaN</td>\n",
       "      <td>40.664589</td>\n",
       "      <td>-73.924488</td>\n",
       "    </tr>\n",
       "    <tr>\n",
       "      <th>19</th>\n",
       "      <td>BK</td>\n",
       "      <td>1491</td>\n",
       "      <td>55</td>\n",
       "      <td>303</td>\n",
       "      <td>377.00</td>\n",
       "      <td>1000</td>\n",
       "      <td>16</td>\n",
       "      <td>41</td>\n",
       "      <td>11233</td>\n",
       "      <td>E222</td>\n",
       "      <td>...</td>\n",
       "      <td>NaN</td>\n",
       "      <td>NaN</td>\n",
       "      <td>NaN</td>\n",
       "      <td>1</td>\n",
       "      <td>NaN</td>\n",
       "      <td>NaN</td>\n",
       "      <td>21v2</td>\n",
       "      <td>NaN</td>\n",
       "      <td>40.685528</td>\n",
       "      <td>-73.919424</td>\n",
       "    </tr>\n",
       "    <tr>\n",
       "      <th>20</th>\n",
       "      <td>BK</td>\n",
       "      <td>3575</td>\n",
       "      <td>55</td>\n",
       "      <td>316</td>\n",
       "      <td>924.00</td>\n",
       "      <td>2006</td>\n",
       "      <td>23</td>\n",
       "      <td>41</td>\n",
       "      <td>11212</td>\n",
       "      <td>E231</td>\n",
       "      <td>...</td>\n",
       "      <td>NaN</td>\n",
       "      <td>NaN</td>\n",
       "      <td>NaN</td>\n",
       "      <td>1</td>\n",
       "      <td>NaN</td>\n",
       "      <td>NaN</td>\n",
       "      <td>21v2</td>\n",
       "      <td>NaN</td>\n",
       "      <td>40.662939</td>\n",
       "      <td>-73.909323</td>\n",
       "    </tr>\n",
       "    <tr>\n",
       "      <th>21</th>\n",
       "      <td>BK</td>\n",
       "      <td>4633</td>\n",
       "      <td>65</td>\n",
       "      <td>317</td>\n",
       "      <td>892.00</td>\n",
       "      <td>3000</td>\n",
       "      <td>18</td>\n",
       "      <td>41</td>\n",
       "      <td>11212</td>\n",
       "      <td>E283</td>\n",
       "      <td>...</td>\n",
       "      <td>NaN</td>\n",
       "      <td>NaN</td>\n",
       "      <td>NaN</td>\n",
       "      <td>1</td>\n",
       "      <td>NaN</td>\n",
       "      <td>NaN</td>\n",
       "      <td>21v2</td>\n",
       "      <td>NaN</td>\n",
       "      <td>40.662432</td>\n",
       "      <td>-73.921070</td>\n",
       "    </tr>\n",
       "    <tr>\n",
       "      <th>22</th>\n",
       "      <td>BK</td>\n",
       "      <td>1443</td>\n",
       "      <td>51</td>\n",
       "      <td>316</td>\n",
       "      <td>365.02</td>\n",
       "      <td>1003</td>\n",
       "      <td>23</td>\n",
       "      <td>37</td>\n",
       "      <td>11233</td>\n",
       "      <td>L176</td>\n",
       "      <td>...</td>\n",
       "      <td>NaN</td>\n",
       "      <td>NaN</td>\n",
       "      <td>NaN</td>\n",
       "      <td>1</td>\n",
       "      <td>NaN</td>\n",
       "      <td>NaN</td>\n",
       "      <td>21v2</td>\n",
       "      <td>NaN</td>\n",
       "      <td>40.674792</td>\n",
       "      <td>-73.907403</td>\n",
       "    </tr>\n",
       "    <tr>\n",
       "      <th>23</th>\n",
       "      <td>BK</td>\n",
       "      <td>1531</td>\n",
       "      <td>67</td>\n",
       "      <td>303</td>\n",
       "      <td>379.00</td>\n",
       "      <td>3002</td>\n",
       "      <td>16</td>\n",
       "      <td>41</td>\n",
       "      <td>11233</td>\n",
       "      <td>E222</td>\n",
       "      <td>...</td>\n",
       "      <td>NaN</td>\n",
       "      <td>NaN</td>\n",
       "      <td>NaN</td>\n",
       "      <td>1</td>\n",
       "      <td>NaN</td>\n",
       "      <td>NaN</td>\n",
       "      <td>21v2</td>\n",
       "      <td>NaN</td>\n",
       "      <td>40.678940</td>\n",
       "      <td>-73.918686</td>\n",
       "    </tr>\n",
       "  </tbody>\n",
       "</table>\n",
       "<p>24 rows × 89 columns</p>\n",
       "</div>"
      ],
      "text/plain": [
       "   borough  block  lot   cd  ct2010  cb2010  schooldist  council  zipcode  \\\n",
       "0       BK   1691   12  303  297.00    2003          16       36    11233   \n",
       "1       BK   3621    1  316  896.00    2002          23       42    11212   \n",
       "2       BK   1568   12  316  369.00    2002          23       37    11233   \n",
       "3       BK   4632    6  317  892.00    3001          18       41    11212   \n",
       "4       BK   4632   25  317  892.00    3001          18       41    11212   \n",
       "5       BK   1439    4  316  303.00    3001          16       41    11233   \n",
       "6       BK   4615    6  317  892.00    2001          17       41    11212   \n",
       "7       BK   4632   11  317  892.00    3001          18       41    11212   \n",
       "8       BK   3628    1  316  920.00    2002          23       42    11212   \n",
       "9       BK   4648   59  317  886.00    1002          18       41    11212   \n",
       "10      BK   4598    1  317  884.00    1000          17       41    11212   \n",
       "11      BK   4648   33  317  886.00    1002          18       41    11212   \n",
       "12      BK   4650   52  317  886.00    2000          18       41    11212   \n",
       "13      BK   4690   61  317  888.00    1001          18       42    11212   \n",
       "14      BK   1682   79  303  381.00    4001          16       36    11233   \n",
       "15      BK   1662   12  303  383.00    2001          16       36    11233   \n",
       "16      BK   3620   24  316  896.00    3004          23       42    11212   \n",
       "17      BK   1665   78  303  295.00    3001          16       36    11233   \n",
       "18      BK   4599   33  317  892.00    1001          17       41    11212   \n",
       "19      BK   1491   55  303  377.00    1000          16       41    11233   \n",
       "20      BK   3575   55  316  924.00    2006          23       41    11212   \n",
       "21      BK   4633   65  317  892.00    3000          18       41    11212   \n",
       "22      BK   1443   51  316  365.02    1003          23       37    11233   \n",
       "23      BK   1531   67  303  379.00    3002          16       41    11233   \n",
       "\n",
       "   firecomp  ...  edesignum  appbbl  appdate  plutomapid  firm07_flag  \\\n",
       "0      L111  ...        NaN     NaN      NaN           1          NaN   \n",
       "1      E257  ...        NaN     NaN      NaN           1          NaN   \n",
       "2      L176  ...        NaN     NaN      NaN           1          NaN   \n",
       "3      E283  ...        NaN     NaN      NaN           1          NaN   \n",
       "4      E283  ...        NaN     NaN      NaN           1          NaN   \n",
       "5      L176  ...        NaN     NaN      NaN           1          NaN   \n",
       "6      E283  ...        NaN     NaN      NaN           1          NaN   \n",
       "7      E283  ...        NaN     NaN      NaN           1          NaN   \n",
       "8      E257  ...        NaN     NaN      NaN           1          NaN   \n",
       "9      L174  ...        NaN     NaN      NaN           1          NaN   \n",
       "10     E283  ...        NaN     NaN      NaN           1          NaN   \n",
       "11     L174  ...        NaN     NaN      NaN           1          NaN   \n",
       "12     E283  ...        NaN     NaN      NaN           1          NaN   \n",
       "13     L174  ...        NaN     NaN      NaN           1          NaN   \n",
       "14     L111  ...        NaN     NaN      NaN           1          NaN   \n",
       "15     L111  ...        NaN     NaN      NaN           1          NaN   \n",
       "16     E257  ...        NaN     NaN      NaN           1          NaN   \n",
       "17     L111  ...        NaN     NaN      NaN           1          NaN   \n",
       "18     E283  ...        NaN     NaN      NaN           1          NaN   \n",
       "19     E222  ...        NaN     NaN      NaN           1          NaN   \n",
       "20     E231  ...        NaN     NaN      NaN           1          NaN   \n",
       "21     E283  ...        NaN     NaN      NaN           1          NaN   \n",
       "22     L176  ...        NaN     NaN      NaN           1          NaN   \n",
       "23     E222  ...        NaN     NaN      NaN           1          NaN   \n",
       "\n",
       "   pfirm15_flag version dcpedited   latitude  longitude  \n",
       "0           NaN    21v2       NaN  40.679861 -73.929717  \n",
       "1           NaN    21v2       NaN  40.656021 -73.911614  \n",
       "2           NaN    21v2       NaN  40.677032 -73.910562  \n",
       "3           NaN    21v2       NaN  40.662364 -73.922015  \n",
       "4           NaN    21v2       NaN  40.661493 -73.921043  \n",
       "5           NaN    21v2       NaN  40.675509 -73.919058  \n",
       "6           NaN    21v2       NaN  40.664004 -73.923833  \n",
       "7           NaN    21v2       NaN  40.662108 -73.921730  \n",
       "8           NaN    21v2       NaN  40.657616 -73.904645  \n",
       "9           NaN    21v2       NaN  40.658115 -73.921739  \n",
       "10          NaN    21v2       NaN  40.665021 -73.926838  \n",
       "11          NaN    21v2       NaN  40.657969 -73.921328  \n",
       "12          NaN    21v2       NaN  40.658830 -73.919936  \n",
       "13          NaN    21v2       NaN  40.655321 -73.918145  \n",
       "14          NaN    21v2       NaN  40.681518 -73.928266  \n",
       "15          NaN    21v2       NaN  40.684744 -73.928749  \n",
       "16          NaN    21v2       NaN  40.656832 -73.913000  \n",
       "17          NaN    21v2         t  40.683086 -73.934217  \n",
       "18          NaN    21v2       NaN  40.664589 -73.924488  \n",
       "19          NaN    21v2       NaN  40.685528 -73.919424  \n",
       "20          NaN    21v2       NaN  40.662939 -73.909323  \n",
       "21          NaN    21v2       NaN  40.662432 -73.921070  \n",
       "22          NaN    21v2       NaN  40.674792 -73.907403  \n",
       "23          NaN    21v2       NaN  40.678940 -73.918686  \n",
       "\n",
       "[24 rows x 89 columns]"
      ]
     },
     "execution_count": 15,
     "metadata": {},
     "output_type": "execute_result"
    }
   ],
   "source": [
    "pluto_topbk16 = pd.read_csv(\"pluto_brownsvilleanalysis.csv\")\n",
    "pluto_topbk16"
   ]
  },
  {
   "cell_type": "code",
   "execution_count": 16,
   "metadata": {},
   "outputs": [],
   "source": [
    "pluto_topbk16.fillna(value=0, inplace=True)"
   ]
  },
  {
   "cell_type": "code",
   "execution_count": 17,
   "metadata": {},
   "outputs": [
    {
     "data": {
      "text/plain": [
       "55437.416666666664"
      ]
     },
     "execution_count": 17,
     "metadata": {},
     "output_type": "execute_result"
    }
   ],
   "source": [
    "pluto_topbk16[\"bldgarea\"].mean()"
   ]
  },
  {
   "cell_type": "code",
   "execution_count": 18,
   "metadata": {},
   "outputs": [
    {
     "data": {
      "text/plain": [
       "1929.0416666666667"
      ]
     },
     "execution_count": 18,
     "metadata": {},
     "output_type": "execute_result"
    }
   ],
   "source": [
    "pluto_topbk16[\"yearbuilt\"].mean()"
   ]
  },
  {
   "cell_type": "code",
   "execution_count": 19,
   "metadata": {
    "scrolled": true
   },
   "outputs": [
    {
     "data": {
      "text/plain": [
       "0     1974\n",
       "1     1948\n",
       "2     1924\n",
       "3     1927\n",
       "4     1929\n",
       "5     1910\n",
       "6     1926\n",
       "7     1929\n",
       "8     1969\n",
       "9     1931\n",
       "10    1956\n",
       "11    1949\n",
       "12    1927\n",
       "13    1930\n",
       "14    1910\n",
       "15    1930\n",
       "16    1930\n",
       "17    1891\n",
       "18    1930\n",
       "19    1910\n",
       "20    1930\n",
       "21    1928\n",
       "22    1910\n",
       "23    1899\n",
       "Name: yearbuilt, dtype: int64"
      ]
     },
     "execution_count": 19,
     "metadata": {},
     "output_type": "execute_result"
    }
   ],
   "source": [
    "pluto_topbk16[\"yearbuilt\"]"
   ]
  },
  {
   "cell_type": "code",
   "execution_count": 20,
   "metadata": {},
   "outputs": [
    {
     "data": {
      "text/plain": [
       "4.916666666666667"
      ]
     },
     "execution_count": 20,
     "metadata": {},
     "output_type": "execute_result"
    }
   ],
   "source": [
    "pluto_topbk16[\"numfloors\"].mean()"
   ]
  },
  {
   "cell_type": "code",
   "execution_count": 21,
   "metadata": {},
   "outputs": [
    {
     "data": {
      "text/plain": [
       "67.08333333333333"
      ]
     },
     "execution_count": 21,
     "metadata": {},
     "output_type": "execute_result"
    }
   ],
   "source": [
    "pluto_topbk16[\"unitsres\"].mean()"
   ]
  },
  {
   "cell_type": "markdown",
   "metadata": {},
   "source": [
    "So our information for NYC buildings is: <br>\n",
    "\n",
    "Average building area: 55,437 sqr feet<br>\n",
    "\n",
    "Average year buildings were built: 1929<br>\n",
    "\n",
    "Average number of floors: 4.9 floors<br>\n",
    "\n",
    "Average number of residential units per building: 67 units"
   ]
  },
  {
   "cell_type": "code",
   "execution_count": 22,
   "metadata": {},
   "outputs": [
    {
     "data": {
      "text/plain": [
       "Text(0.5, 0, 'Years Built')"
      ]
     },
     "execution_count": 22,
     "metadata": {},
     "output_type": "execute_result"
    },
    {
     "data": {
      "image/png": "[encoded data removed]",
      "text/plain": [
       "<Figure size 432x288 with 1 Axes>"
      ]
     },
     "metadata": {
      "needs_background": "light"
     },
     "output_type": "display_data"
    }
   ],
   "source": [
    "pluto_topbk16['yearbuilt'].plot(kind='hist',range=(1800,2021))\n",
    "plt.title(\"Frequency of Years Buildings were Built in Brownsville\")\n",
    "plt.ylabel(\"Number of Buildings\")\n",
    "plt.xlabel(\"Years Built\")"
   ]
  },
  {
   "cell_type": "code",
   "execution_count": 23,
   "metadata": {},
   "outputs": [
    {
     "data": {
      "text/plain": [
       "Text(0.5, 0, 'Building Square Feet')"
      ]
     },
     "execution_count": 23,
     "metadata": {},
     "output_type": "execute_result"
    },
    {
     "data": {
      "image/png": "[encoded data removed]",
      "text/plain": [
       "<Figure size 432x288 with 1 Axes>"
      ]
     },
     "metadata": {
      "needs_background": "light"
     },
     "output_type": "display_data"
    }
   ],
   "source": [
    "pluto_topbk16['bldgarea'].plot(kind='hist')\n",
    "plt.title(\"Building Square Feet in Brownsville\")\n",
    "plt.ylabel(\"Number of Buildings\")\n",
    "plt.xlabel(\"Building Square Feet\")"
   ]
  },
  {
   "cell_type": "code",
   "execution_count": 24,
   "metadata": {},
   "outputs": [
    {
     "data": {
      "text/plain": [
       "Text(0.5, 0, 'Number of Floors in Building')"
      ]
     },
     "execution_count": 24,
     "metadata": {},
     "output_type": "execute_result"
    },
    {
     "data": {
      "image/png": "[encoded data removed]",
      "text/plain": [
       "<Figure size 432x288 with 1 Axes>"
      ]
     },
     "metadata": {
      "needs_background": "light"
     },
     "output_type": "display_data"
    }
   ],
   "source": [
    "pluto_topbk16['numfloors'].plot(kind='hist')\n",
    "plt.title(\"Number of floors in brownsville\")\n",
    "plt.ylabel(\"Number of Buildings\")\n",
    "plt.xlabel(\"Number of Floors in Building\")"
   ]
  },
  {
   "cell_type": "code",
   "execution_count": 25,
   "metadata": {},
   "outputs": [
    {
     "data": {
      "text/plain": [
       "Text(0.5, 0, 'Number of Residential Units')"
      ]
     },
     "execution_count": 25,
     "metadata": {},
     "output_type": "execute_result"
    },
    {
     "data": {
      "image/png": "[encoded data removed]",
      "text/plain": [
       "<Figure size 432x288 with 1 Axes>"
      ]
     },
     "metadata": {
      "needs_background": "light"
     },
     "output_type": "display_data"
    }
   ],
   "source": [
    "pluto_topbk16['unitsres'].plot(kind='hist')\n",
    "plt.title(\"Number of Residential Units in Brownsville\")\n",
    "plt.ylabel(\"Number of Buildings\")\n",
    "plt.xlabel(\"Number of Residential Units\")"
   ]
  },
  {
   "cell_type": "markdown",
   "metadata": {},
   "source": [
    "So far, my findings are:<br>\n",
    "-The building with the latest year built is 88 Chauncey Street (aka 1711 Fulton Avenue), which was built in 1974. This address happens to be the one that is most commonly in the top spot in complaints/violations/no access within the three time frames explored. <br>\n",
    "-The oldest building is 437 Macon Street, which was built in 1891. This building is also one of the smallest in the data, comprised of only 1 building, 3 floors and 2 residential units.<br>\n",
    "-"
   ]
  },
  {
   "cell_type": "code",
   "execution_count": null,
   "metadata": {},
   "outputs": [],
   "source": []
  }
 ],
 "metadata": {
  "kernelspec": {
   "display_name": "Python 3",
   "language": "python",
   "name": "python3"
  },
  "language_info": {
   "codemirror_mode": {
    "name": "ipython",
    "version": 3
   },
   "file_extension": ".py",
   "mimetype": "text/x-python",
   "name": "python",
   "nbconvert_exporter": "python",
   "pygments_lexer": "ipython3",
   "version": "3.8.3"
  }
 },
 "nbformat": 4,
 "nbformat_minor": 4
}
