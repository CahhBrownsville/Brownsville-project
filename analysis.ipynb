{
 "metadata": {
  "language_info": {
   "codemirror_mode": {
    "name": "ipython",
    "version": 3
   },
   "file_extension": ".py",
   "mimetype": "text/x-python",
   "name": "python",
   "nbconvert_exporter": "python",
   "pygments_lexer": "ipython3",
   "version": "3.8.1"
  },
  "orig_nbformat": 4,
  "kernelspec": {
   "name": "python3",
   "display_name": "Python 3.8.1 64-bit"
  },
  "interpreter": {
   "hash": "7d5c25a0dcd433e9174dbd40cc8162c4c651cca147fa234e40a811528338fdfd"
  }
 },
 "nbformat": 4,
 "nbformat_minor": 2,
 "cells": [
  {
   "cell_type": "code",
   "execution_count": 1,
   "metadata": {},
   "outputs": [],
   "source": [
    "import BrownsvilleAPI\n",
    "import numpy as np\n",
    "import pandas as pd \n",
    "import matplotlib.pyplot as plt"
   ]
  },
  {
   "source": [
    "# Brownsville Analysis\n",
    "\n",
    "This analysis uses the Brownsville API to perform a prelimanry analysis on the dataset. It explores the most common types of complaints over the years and identifies trends in the number of complaints reported over the years."
   ],
   "cell_type": "markdown",
   "metadata": {}
  },
  {
   "cell_type": "code",
   "execution_count": null,
   "metadata": {},
   "outputs": [],
   "source": [
    "# brownsville = BrownsvilleAPI.Brownsville(force_load=True)\n",
    "brownsville = BrownsvilleAPI.Brownsville()"
   ]
  },
  {
   "cell_type": "code",
   "execution_count": null,
   "metadata": {},
   "outputs": [],
   "source": [
    "brownsville.data.head()"
   ]
  },
  {
   "source": [
    "## Building Coverage"
   ],
   "cell_type": "markdown",
   "metadata": {}
  },
  {
   "cell_type": "code",
   "execution_count": null,
   "metadata": {},
   "outputs": [],
   "source": [
    "print(f\"Building coverage: {len(brownsville.buildings)}\")"
   ]
  },
  {
   "source": [
    "## Complaint types"
   ],
   "cell_type": "markdown",
   "metadata": {}
  },
  {
   "cell_type": "code",
   "execution_count": null,
   "metadata": {},
   "outputs": [],
   "source": [
    "building_common_complaints = []\n",
    "for _id in brownsville.buildings:\n",
    "    common_complaints = brownsville.get_feature_occurrences_by_building(\n",
    "                                                            _id,\n",
    "                                                            by=[\"majorcategory\", \"minorcategory\"],\n",
    "                                                            find_all=True)\n",
    "\n",
    "    building_common_complaints.append((_id, common_complaints))\n",
    "building_common_complaints.sort(key=lambda e: e[1].values.sum(), reverse=True)"
   ]
  },
  {
   "cell_type": "code",
   "execution_count": null,
   "metadata": {},
   "outputs": [],
   "source": [
    "for building in building_common_complaints[:10]:\n",
    "    id_, complaints = building\n",
    "    major_category, minor_category = complaints.index[0]\n",
    "    num_complaints = complaints.values.sum()\n",
    "\n",
    "    print(\"Building ID:\", id_)\n",
    "    print(\"Most common major category:\", major_category)\n",
    "    print(\"Most common minor category:\", minor_category)\n",
    "    print(\"Number of complaints:\", num_complaints)\n",
    "\n",
    "    print()"
   ]
  },
  {
   "source": [
    "## Complaints over time"
   ],
   "cell_type": "markdown",
   "metadata": {}
  },
  {
   "cell_type": "code",
   "execution_count": null,
   "metadata": {},
   "outputs": [],
   "source": [
    "complaints_by_month = brownsville.records_by_date(period=\"year\")\n",
    "x, y = complaints_by_month.index, complaints_by_month.values\n",
    "plt.bar(x, y)"
   ]
  },
  {
   "cell_type": "code",
   "execution_count": null,
   "metadata": {},
   "outputs": [],
   "source": [
    "x, y = brownsville.records_by_season()\n",
    "plt.bar(x, y)\n",
    "plt.title(\"Number of complaints by season\")\n",
    "plt.show()"
   ]
  },
  {
   "cell_type": "code",
   "execution_count": null,
   "metadata": {},
   "outputs": [],
   "source": [
    "complaints_by_month = brownsville.records_by_date()\n",
    "x, y = complaints_by_month.index, complaints_by_month.values\n",
    "plt.bar(x, y)\n",
    "plt.title(\"Number of complaints by month\")\n",
    "plt.show()"
   ]
  },
  {
   "cell_type": "code",
   "execution_count": null,
   "metadata": {},
   "outputs": [],
   "source": [
    "steps = 4\n",
    "years = brownsville.records_by_date(period=\"year\", num_years=8, step=steps)\n",
    "\n",
    "for year in years:\n",
    "\n",
    "    x = list(year.index.values)\n",
    "    y = list(year.values)\n",
    "    label = f\"{year.index[0]} to {year.index[-1]}\"\n",
    "\n",
    "    plt.plot(np.arange(0, steps), y, label=label)\n",
    "    \n",
    "plt.xlabel(\"Number of years\")\n",
    "plt.ylabel(\"Complaints reported\")\n",
    "plt.title(\"Number of complaints over a period of 8 years on 4 year intervals\")\n",
    "plt.legend()\n",
    "plt.show()"
   ]
  }
 ]
}