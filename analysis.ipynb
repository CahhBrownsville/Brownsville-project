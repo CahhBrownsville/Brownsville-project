{
 "metadata": {
  "language_info": {
   "codemirror_mode": {
    "name": "ipython",
    "version": 3
   },
   "file_extension": ".py",
   "mimetype": "text/x-python",
   "name": "python",
   "nbconvert_exporter": "python",
   "pygments_lexer": "ipython3",
   "version": "3.8.1"
  },
  "orig_nbformat": 4,
  "kernelspec": {
   "name": "python3",
   "display_name": "Python 3.8.1 64-bit"
  },
  "interpreter": {
   "hash": "7d5c25a0dcd433e9174dbd40cc8162c4c651cca147fa234e40a811528338fdfd"
  }
 },
 "nbformat": 4,
 "nbformat_minor": 2,
 "cells": [
  {
   "cell_type": "code",
   "execution_count": 1,
   "metadata": {},
   "outputs": [],
   "source": [
    "from Brownsville import BrownsvilleAPI\n",
    "import pandas as pd \n",
    "import matplotlib.pyplot as plt"
   ]
  },
  {
   "source": [
    "# Brownsville Analysis\n",
    "\n",
    "This analysis uses the Brownsville API to perform a prelimanry analysis on the dataset. It explores the most common types of complaints over the years and identifies trends in the number of complaints reported over the years."
   ],
   "cell_type": "markdown",
   "metadata": {}
  },
  {
   "cell_type": "code",
   "execution_count": 2,
   "metadata": {
    "tags": []
   },
   "outputs": [
    {
     "output_type": "stream",
     "name": "stdout",
     "text": [
      "Loading cached dataset...\n"
     ]
    }
   ],
   "source": [
    "# brownsville = BrownsvilleAPI.Brownsville(force_load=True)\n",
    "# brownsville = BrownsvilleAPI.Brownsville(force_load=True, update_map=False)\n",
    "brownsville = BrownsvilleAPI.Brownsville()"
   ]
  },
  {
   "cell_type": "code",
   "execution_count": null,
   "metadata": {},
   "outputs": [],
   "source": []
  },
  {
   "cell_type": "code",
   "execution_count": null,
   "metadata": {},
   "outputs": [],
   "source": [
    "brownsville.data[\"unitsres\"].value_counts().sort_index()"
   ]
  },
  {
   "source": [
    "## Building Coverage"
   ],
   "cell_type": "markdown",
   "metadata": {}
  },
  {
   "cell_type": "code",
   "execution_count": null,
   "metadata": {},
   "outputs": [],
   "source": [
    "print(f\"Building coverage: {len(brownsville.buildings)}\")"
   ]
  },
  {
   "source": [
    "## Complaint types"
   ],
   "cell_type": "markdown",
   "metadata": {}
  },
  {
   "cell_type": "code",
   "execution_count": null,
   "metadata": {},
   "outputs": [],
   "source": [
    "building_common_complaints = []\n",
    "for _id in brownsville.buildings:\n",
    "    common_complaints = brownsville.get_feature_occurrences_by_building(\n",
    "                                                            _id,\n",
    "                                                            by=[\"majorcategory\", \"minorcategory\"],\n",
    "                                                            find_all=True)\n",
    "\n",
    "    building_common_complaints.append((_id, common_complaints))\n",
    "building_common_complaints.sort(key=lambda e: e[1].values.sum(), reverse=True)"
   ]
  },
  {
   "cell_type": "code",
   "execution_count": null,
   "metadata": {},
   "outputs": [],
   "source": [
    "for building in building_common_complaints[:10]:\n",
    "    id_, complaints = building\n",
    "    major_category, minor_category = complaints.index[0]\n",
    "    num_complaints = complaints.values.sum()\n",
    "\n",
    "    print(\"Building ID:\", id_)\n",
    "    print(\"Most common major category:\", major_category)\n",
    "    print(\"Most common minor category:\", minor_category)\n",
    "    print(\"Number of complaints:\", num_complaints)\n",
    "\n",
    "    print()"
   ]
  },
  {
   "source": [
    "## Complaints over time"
   ],
   "cell_type": "markdown",
   "metadata": {}
  },
  {
   "cell_type": "code",
   "execution_count": null,
   "metadata": {},
   "outputs": [],
   "source": [
    "complaints_by_month = brownsville.records_by_date(period=\"year\")\n",
    "x, y = complaints_by_month.index, complaints_by_month.values\n",
    "plt.bar(x, y)"
   ]
  },
  {
   "cell_type": "code",
   "execution_count": null,
   "metadata": {},
   "outputs": [],
   "source": [
    "x, y = brownsville.records_by_season()\n",
    "plt.bar(x, y)\n",
    "plt.title(\"Number of complaints by season\")\n",
    "plt.show()"
   ]
  },
  {
   "cell_type": "code",
   "execution_count": null,
   "metadata": {},
   "outputs": [],
   "source": [
    "complaints_by_month = brownsville.records_by_date()\n",
    "x, y = complaints_by_month.index, complaints_by_month.values\n",
    "plt.bar(x, y)\n",
    "plt.title(\"Number of complaints by month\")\n",
    "plt.show()"
   ]
  },
  {
   "cell_type": "code",
   "execution_count": null,
   "metadata": {},
   "outputs": [],
   "source": [
    "steps = 4\n",
    "years = brownsville.records_by_date(period=\"year\", num_years=8, step=steps)\n",
    "\n",
    "for year in years:\n",
    "\n",
    "    x = list(year.index.values)\n",
    "    y = list(year.values)\n",
    "    label = f\"{year.index[0]} to {year.index[-1]}\"\n",
    "\n",
    "    plt.plot(np.arange(0, steps), y, label=label)\n",
    "    \n",
    "plt.xlabel(\"Number of years\")\n",
    "plt.ylabel(\"Complaints reported\")\n",
    "plt.title(\"Number of complaints over a period of 8 years on 4 year intervals\")\n",
    "plt.legend()\n",
    "plt.show()"
   ]
  },
  {
   "cell_type": "code",
   "execution_count": null,
   "metadata": {},
   "outputs": [],
   "source": [
    "brownsville.get_date_range(\"received\")"
   ]
  },
  {
   "cell_type": "code",
   "execution_count": null,
   "metadata": {},
   "outputs": [],
   "source": [
    "len(brownsville.data[\"address\"].unique())"
   ]
  },
  {
   "cell_type": "code",
   "execution_count": null,
   "metadata": {},
   "outputs": [],
   "source": [
    "brownsville.display_map()"
   ]
  },
  {
   "cell_type": "code",
   "execution_count": null,
   "metadata": {},
   "outputs": [],
   "source": [
    "brownsville.data[\"block\"].astype(str).apply(str.zfill, args=(5,))\n",
    "brownsville.data[\"lot\"].astype(str).apply(str.zfill, args=(4,))"
   ]
  },
  {
   "cell_type": "code",
   "execution_count": null,
   "metadata": {},
   "outputs": [],
   "source": [
    "bbl = brownsville.data[\"boroughid\"].astype(str) + brownsville.data[\"block\"].astype(str) + brownsville.data[\"lot\"].astype(str)\n",
    "brownsville[.data]\"bbl\" = bbl\n",
    "brbrownsville.data[\"bbl\"]"
   ]
  },
  {
   "cell_type": "code",
   "execution_count": null,
   "metadata": {},
   "outputs": [],
   "source": []
  },
  {
   "cell_type": "code",
   "execution_count": null,
   "metadata": {},
   "outputs": [],
   "source": [
    "from Brownsville.data_api import Client\n",
    "with Client(data_path=\"./data/old\") as c:\n",
    "    df_pluto = c.load_pluto(\n",
    "        fetch_all=True,\n",
    "        select=\"bbl, bldgclass, bldgarea, numbldgs, numfloors, unitsres, unitstotal,\"\n",
    "            + \"landuse, ownertype, ownername, yearbuilt, yearalter1, yearalter2\",\n",
    "        where=\"cd=316\"\n",
    "    )\n",
    "    brownsville.data = pd.merge(\n",
    "        brownsville.data,\n",
    "        df_pluto,\n",
    "        on=\"bbl\",\n",
    "        how=\"left\"\n",
    "    )"
   ]
  },
  {
   "cell_type": "code",
   "execution_count": null,
   "metadata": {},
   "outputs": [],
   "source": [
    "brownsville.data.columns"
   ]
  },
  {
   "cell_type": "code",
   "execution_count": null,
   "metadata": {},
   "outputs": [],
   "source": [
    "brownsville.data.dtypes"
   ]
  },
  {
   "cell_type": "code",
   "execution_count": null,
   "metadata": {},
   "outputs": [],
   "source": [
    "import pandas as pd \n",
    "# cdata = pd.read_csv(\"data\\\\brownsville_test\\\\complaint-problems-raw.csv\", index_col=0)\n",
    "cdata_2 = pd.read_csv(\"data\\\\Complaint_Problems.csv\")\n",
    "# hmain = pd.read_csv(\"data\\\\brownsville_test\\\\housing-maintenance-code-complaints-raw.csv\", index_col=0)\n"
   ]
  },
  {
   "cell_type": "code",
   "execution_count": null,
   "metadata": {},
   "outputs": [],
   "source": [
    "cdata_2.shape"
   ]
  },
  {
   "cell_type": "code",
   "execution_count": null,
   "metadata": {},
   "outputs": [],
   "source": [
    "cdata_cid_unique = cdata[\"complaintid\"].unique()\n",
    "cdata_2_cid_unique = cdata_2[\"ComplaintID\"].unique()\n",
    "hmain_cid_unique = hmain[\"complaintid\"].unique()"
   ]
  },
  {
   "cell_type": "code",
   "execution_count": null,
   "metadata": {},
   "outputs": [],
   "source": [
    "filter_1 = pd.Series([n in hmain_cid_unique for n in cdata[\"complaintid\"]])\n",
    "filter_3 = pd.Series([n in hmain_cid_unique for n in cdata_2[\"ComplaintID\"]])\n",
    "filter_2 = pd.Series([n in cdata_cid_unique for n in hmain[\"complaintid\"]])"
   ]
  },
  {
   "cell_type": "code",
   "execution_count": null,
   "metadata": {},
   "outputs": [],
   "source": [
    "df_1 = cdata[filter_1]\n",
    "df_2 = hmain[filter_2]\n",
    "df_3 = hmain[filter_3]"
   ]
  },
  {
   "cell_type": "code",
   "execution_count": null,
   "metadata": {},
   "outputs": [],
   "source": [
    "print(filter_1.sum())\n",
    "print(filter_2.sum())\n",
    "print(filter_3.sum())"
   ]
  },
  {
   "cell_type": "code",
   "execution_count": null,
   "metadata": {},
   "outputs": [],
   "source": [
    "print(df_1[\"complaintid\"].value_counts().sort_index())\n"
   ]
  },
  {
   "cell_type": "code",
   "execution_count": null,
   "metadata": {},
   "outputs": [],
   "source": [
    "print(df_1.shape)"
   ]
  },
  {
   "cell_type": "code",
   "execution_count": null,
   "metadata": {},
   "outputs": [],
   "source": [
    "print(df_2[\"complaintid\"].value_counts().sort_index())\n"
   ]
  },
  {
   "cell_type": "code",
   "execution_count": null,
   "metadata": {},
   "outputs": [],
   "source": [
    "print(df_2.shape)"
   ]
  },
  {
   "cell_type": "code",
   "execution_count": null,
   "metadata": {},
   "outputs": [],
   "source": [
    " \n",
    " merge_data = pd.merge(\n",
    "    cdata,\n",
    "    hmain,\n",
    "    on=\"complaintid\",\n",
    "    how=\"inner\",\n",
    ")\n",
    "merge_data = merge_data[\n",
    "            [\"complaintid\", \"buildingid\", \"boroughid\", \"borough\", \"housenumber\",\n",
    "             \"streetname\", \"zip\", \"block\", \"lot\", \"apartment\", \"communityboard\",\n",
    "             \"receiveddate\", \"status\", \"unittypeid\", \"spacetypeid\",\n",
    "             \"typeid\", \"majorcategoryid\", \"minorcategoryid\", \"codeid\",\n",
    "             \"statusdescription\"]\n",
    "        ]"
   ]
  },
  {
   "cell_type": "code",
   "execution_count": null,
   "metadata": {},
   "outputs": [],
   "source": [
    "merge_data.shape"
   ]
  },
  {
   "cell_type": "code",
   "execution_count": null,
   "metadata": {},
   "outputs": [],
   "source": [
    "# values = [str(c).lower() for c in cdata_2.columns.values]\n",
    "dcolumn_translations = {str(c).lower():str(c).lower().rstrip() for c in column_translations.keys()}\n",
    "ccolumn_translations"
   ]
  },
  {
   "cell_type": "code",
   "execution_count": null,
   "metadata": {},
   "outputs": [],
   "source": [
    "cdata_2.rename(columns=column_translations, inplace=True)\n"
   ]
  },
  {
   "cell_type": "code",
   "execution_count": null,
   "metadata": {},
   "outputs": [],
   "source": [
    "cdata_2.shape"
   ]
  },
  {
   "cell_type": "code",
   "execution_count": null,
   "metadata": {},
   "outputs": [],
   "source": [
    "columns = [\"complaintid\", \"unittypeid\", \"spacetypeid\" ,\"typeid\", \"majorcategoryid\", \"minorcategoryid\", \"codeid\",\"statusid\", \"statusdate\", \"statusdescription\"]\n",
    "\n",
    "cdata_2 = cdata_2[columns]"
   ]
  },
  {
   "cell_type": "code",
   "execution_count": null,
   "metadata": {},
   "outputs": [],
   "source": [
    "cdata_2.to_csv(\"data\\\\brownsville\\\\complaint-problems-raw.csv\")"
   ]
  },
  {
   "cell_type": "code",
   "execution_count": null,
   "metadata": {},
   "outputs": [],
   "source": [
    "cd = pd.read_csv(\"data\\\\combined_data.csv\")"
   ]
  },
  {
   "cell_type": "code",
   "execution_count": null,
   "metadata": {},
   "outputs": [],
   "source": [
    "cd.isna().sum()"
   ]
  }
 ]
}