{
 "metadata": {
  "language_info": {
   "codemirror_mode": {
    "name": "ipython",
    "version": 3
   },
   "file_extension": ".py",
   "mimetype": "text/x-python",
   "name": "python",
   "nbconvert_exporter": "python",
   "pygments_lexer": "ipython3",
   "version": "3.8.1"
  },
  "orig_nbformat": 4,
  "kernelspec": {
   "name": "python3",
   "display_name": "Python 3.8.1 64-bit"
  },
  "interpreter": {
   "hash": "7d5c25a0dcd433e9174dbd40cc8162c4c651cca147fa234e40a811528338fdfd"
  }
 },
 "nbformat": 4,
 "nbformat_minor": 2,
 "cells": [
  {
   "cell_type": "code",
   "execution_count": null,
   "metadata": {},
   "outputs": [],
   "source": [
    "import numpy as np\n",
    "import pandas as pd \n",
    "\n",
    "import data_api\n",
    "import helpers"
   ]
  },
  {
   "source": [
    "## 1. Loading the datasets"
   ],
   "cell_type": "markdown",
   "metadata": {}
  },
  {
   "cell_type": "code",
   "execution_count": null,
   "metadata": {},
   "outputs": [],
   "source": [
    "# Create the data_api client and set the number of records to be returned\n",
    "client = data_api.Client()\n",
    "num_records = 100\n",
    "\n",
    "# Note: since we are not providing an api token to the client, it is best to keep the number \n",
    "# of records returned low"
   ]
  },
  {
   "source": [
    "## 311 Service Requests from 2010 to Present"
   ],
   "cell_type": "markdown",
   "metadata": {}
  },
  {
   "cell_type": "code",
   "execution_count": null,
   "metadata": {},
   "outputs": [],
   "source": [
    "df_311 = client.load_311(\r\n",
    "    fetch_all=True, \r\n",
    "    select=\"created_date, closed_date, complaint_type, descriptor, x_coordinate_state_plane,    \\\r\n",
    "                status, due_date, bbl, y_coordinate_state_plane, latitude, longitude\", \r\n",
    "    where=\r\n",
    "        \"agency IN ('DOB', 'HPD') AND incident_zip IN ('11212', '11233')\"\r\n",
    ")\r\n",
    "df_311"
   ]
  },
  {
   "cell_type": "code",
   "execution_count": null,
   "metadata": {},
   "outputs": [],
   "source": [
    "df_complaint_problems = client.load_complaint_problems(\n",
    "    fetch_all=True, \n",
    "    where=\"unittypeid=92\"\n",
    ")\n",
    "df_complaint_problems.head()"
   ]
  },
  {
   "cell_type": "code",
   "execution_count": null,
   "metadata": {},
   "outputs": [],
   "source": [
    "# NOTE: the DOB Complaints Received dataset zip_code column has extra spaces appended to the string, so we are using the starts_with function from the SoQL API to filter the results.\n",
    "\n",
    "# starts_with documentation: https://dev.socrata.com/docs/functions/starts_with.html\n",
    "\n",
    "df_dob_complaints = client.load_dob_complaints(\n",
    "    fetch_all=True,\n",
    "    select=\n",
    "        \"complaint_number, date_entered, house_number, house_street,            \\\n",
    "            bin, complaint_category, unit, disposition_date, disposition_code,  \\\n",
    "            inspection_date, dobrundate\",\n",
    "    where=\n",
    "        \"starts_with(zip_code, '11212') OR                                      \\\n",
    "            starts_with(zip_code, '11233')\"\n",
    ") \n",
    "df_dob_complaints.head()"
   ]
  },
  {
   "cell_type": "code",
   "execution_count": null,
   "metadata": {},
   "outputs": [],
   "source": [
    "print(min(df_dob_complaints[\"date_entered\"]), max(df_dob_complaints[\"date_entered\"]))"
   ]
  },
  {
   "cell_type": "code",
   "execution_count": null,
   "metadata": {},
   "outputs": [],
   "source": [
    "df_311 = client.load_311(fetch_all=True, select=[\"Created Date\"])\n",
    "# df_complaint_problems = client.load_complaint_problems(limit=num_records)\n",
    "# df_dob_omplaints = client.load_dob_complaints(limit=num_records)"
   ]
  },
  {
   "cell_type": "code",
   "execution_count": null,
   "metadata": {},
   "outputs": [],
   "source": [
    "df_311.head()"
   ]
  },
  {
   "cell_type": "code",
   "execution_count": null,
   "metadata": {},
   "outputs": [],
   "source": [
    "df_complaint_problems.head()"
   ]
  },
  {
   "cell_type": "code",
   "execution_count": null,
   "metadata": {},
   "outputs": [],
   "source": [
    "df_dob_omplaints.head()"
   ]
  },
  {
   "source": [
    "## 2. Extracting useful columns"
   ],
   "cell_type": "markdown",
   "metadata": {}
  }
 ]
}