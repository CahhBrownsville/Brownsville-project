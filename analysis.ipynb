{
 "metadata": {
  "language_info": {
   "codemirror_mode": {
    "name": "ipython",
    "version": 3
   },
   "file_extension": ".py",
   "mimetype": "text/x-python",
   "name": "python",
   "nbconvert_exporter": "python",
   "pygments_lexer": "ipython3",
   "version": "3.8.1"
  },
  "orig_nbformat": 4,
  "kernelspec": {
   "name": "python3",
   "display_name": "Python 3.8.1 64-bit"
  },
  "interpreter": {
   "hash": "7d5c25a0dcd433e9174dbd40cc8162c4c651cca147fa234e40a811528338fdfd"
  }
 },
 "nbformat": 4,
 "nbformat_minor": 2,
 "cells": [
  {
   "cell_type": "code",
   "execution_count": 3,
   "metadata": {},
   "outputs": [],
   "source": [
    "import numpy as np\n",
    "import pandas as pd \n",
    "\n",
    "import data_api\n",
    "import helpers"
   ]
  },
  {
   "source": [
    "## 1. Loading the datasets"
   ],
   "cell_type": "markdown",
   "metadata": {}
  },
  {
   "cell_type": "code",
   "execution_count": 9,
   "metadata": {},
   "outputs": [
    {
     "output_type": "stream",
     "name": "stderr",
     "text": [
      "WARNING:root:Requests made without an app_token will be subject to strict throttling limits.\n"
     ]
    }
   ],
   "source": [
    "# Create the data_api client and set the number of records to be returned\n",
    "client = data_api.Client()\n",
    "num_records = 100\n",
    "\n",
    "# Note: since we are not providing an api token to the client, it is best to keep the number \n",
    "# of records returned low"
   ]
  },
  {
   "cell_type": "code",
   "execution_count": 5,
   "metadata": {},
   "outputs": [
    {
     "output_type": "stream",
     "name": "stderr",
     "text": [
      "WARNING:root:Requests made without an app_token will be subject to strict throttling limits.\n"
     ]
    }
   ],
   "source": [
    "df_311 = client.load_311(limit=num_records)\n",
    "df_complaint_problems = client.load_complaint_problems(limit=num_records)\n",
    "df_dob_omplaints = client.load_dob_complaints(limit=num_records)"
   ]
  },
  {
   "cell_type": "code",
   "execution_count": 6,
   "metadata": {},
   "outputs": [
    {
     "output_type": "execute_result",
     "data": {
      "text/plain": [
       "  unique_key             created_date agency                      agency_name  \\\n",
       "0   50939912  2021-06-20T02:08:04.000   NYPD  New York City Police Department   \n",
       "1   50932349  2021-06-20T02:07:52.000   NYPD  New York City Police Department   \n",
       "2   50932392  2021-06-20T02:07:52.000   NYPD  New York City Police Department   \n",
       "3   50936403  2021-06-20T02:07:34.000   NYPD  New York City Police Department   \n",
       "4   50939185  2021-06-20T02:07:28.000   NYPD  New York City Police Department   \n",
       "\n",
       "            complaint_type        descriptor               location_type  \\\n",
       "0      Noise - Residential  Loud Music/Party  Residential Building/House   \n",
       "1      Noise - Residential  Loud Music/Party  Residential Building/House   \n",
       "2  Noise - Street/Sidewalk      Loud Talking             Street/Sidewalk   \n",
       "3  Noise - Street/Sidewalk  Loud Music/Party             Street/Sidewalk   \n",
       "4       Noise - Commercial   Car/Truck Music            Store/Commercial   \n",
       "\n",
       "  incident_zip             incident_address              street_name  ...  \\\n",
       "0        11211        186 NORTH    6 STREET        NORTH    6 STREET  ...   \n",
       "1        10456         735 EAST  163 STREET         EAST  163 STREET  ...   \n",
       "2        11233  173 THOMAS S BOYLAND STREET  THOMAS S BOYLAND STREET  ...   \n",
       "3        10452               40 MARCY PLACE              MARCY PLACE  ...   \n",
       "4        10452           1552 JEROME AVENUE            JEROME AVENUE  ...   \n",
       "\n",
       "            longitude                                           location  \\\n",
       "0   -73.9575630010249  {'latitude': '40.71680296321391', 'longitude':...   \n",
       "1  -73.90319411682076  {'latitude': '40.82271708791926', 'longitude':...   \n",
       "2  -73.91361695887984  {'latitude': '40.67872765229688', 'longitude':...   \n",
       "3  -73.91767022044058  {'latitude': '40.83861748382105', 'longitude':...   \n",
       "4  -73.91523885071975  {'latitude': '40.84363854126145', 'longitude':...   \n",
       "\n",
       "  :@computed_region_efsh_h5xi :@computed_region_f5dn_yrer  \\\n",
       "0                       17613                          36   \n",
       "1                       10934                          34   \n",
       "2                       13516                          55   \n",
       "3                       10930                          50   \n",
       "4                       10930                          50   \n",
       "\n",
       "  :@computed_region_yeji_bk3q :@computed_region_92fq_4b7q  \\\n",
       "0                           2                          38   \n",
       "1                           5                          42   \n",
       "2                           2                          17   \n",
       "3                           5                          42   \n",
       "4                           5                          29   \n",
       "\n",
       "  :@computed_region_sbqj_enih closed_date resolution_description  \\\n",
       "0                          57         NaN                    NaN   \n",
       "1                          25         NaN                    NaN   \n",
       "2                          46         NaN                    NaN   \n",
       "3                          27         NaN                    NaN   \n",
       "4                          27         NaN                    NaN   \n",
       "\n",
       "  resolution_action_updated_date  \n",
       "0                            NaN  \n",
       "1                            NaN  \n",
       "2                            NaN  \n",
       "3                            NaN  \n",
       "4                            NaN  \n",
       "\n",
       "[5 rows x 36 columns]"
      ],
      "text/html": "<div>\n<style scoped>\n    .dataframe tbody tr th:only-of-type {\n        vertical-align: middle;\n    }\n\n    .dataframe tbody tr th {\n        vertical-align: top;\n    }\n\n    .dataframe thead th {\n        text-align: right;\n    }\n</style>\n<table border=\"1\" class=\"dataframe\">\n  <thead>\n    <tr style=\"text-align: right;\">\n      <th></th>\n      <th>unique_key</th>\n      <th>created_date</th>\n      <th>agency</th>\n      <th>agency_name</th>\n      <th>complaint_type</th>\n      <th>descriptor</th>\n      <th>location_type</th>\n      <th>incident_zip</th>\n      <th>incident_address</th>\n      <th>street_name</th>\n      <th>...</th>\n      <th>longitude</th>\n      <th>location</th>\n      <th>:@computed_region_efsh_h5xi</th>\n      <th>:@computed_region_f5dn_yrer</th>\n      <th>:@computed_region_yeji_bk3q</th>\n      <th>:@computed_region_92fq_4b7q</th>\n      <th>:@computed_region_sbqj_enih</th>\n      <th>closed_date</th>\n      <th>resolution_description</th>\n      <th>resolution_action_updated_date</th>\n    </tr>\n  </thead>\n  <tbody>\n    <tr>\n      <th>0</th>\n      <td>50939912</td>\n      <td>2021-06-20T02:08:04.000</td>\n      <td>NYPD</td>\n      <td>New York City Police Department</td>\n      <td>Noise - Residential</td>\n      <td>Loud Music/Party</td>\n      <td>Residential Building/House</td>\n      <td>11211</td>\n      <td>186 NORTH    6 STREET</td>\n      <td>NORTH    6 STREET</td>\n      <td>...</td>\n      <td>-73.9575630010249</td>\n      <td>{'latitude': '40.71680296321391', 'longitude':...</td>\n      <td>17613</td>\n      <td>36</td>\n      <td>2</td>\n      <td>38</td>\n      <td>57</td>\n      <td>NaN</td>\n      <td>NaN</td>\n      <td>NaN</td>\n    </tr>\n    <tr>\n      <th>1</th>\n      <td>50932349</td>\n      <td>2021-06-20T02:07:52.000</td>\n      <td>NYPD</td>\n      <td>New York City Police Department</td>\n      <td>Noise - Residential</td>\n      <td>Loud Music/Party</td>\n      <td>Residential Building/House</td>\n      <td>10456</td>\n      <td>735 EAST  163 STREET</td>\n      <td>EAST  163 STREET</td>\n      <td>...</td>\n      <td>-73.90319411682076</td>\n      <td>{'latitude': '40.82271708791926', 'longitude':...</td>\n      <td>10934</td>\n      <td>34</td>\n      <td>5</td>\n      <td>42</td>\n      <td>25</td>\n      <td>NaN</td>\n      <td>NaN</td>\n      <td>NaN</td>\n    </tr>\n    <tr>\n      <th>2</th>\n      <td>50932392</td>\n      <td>2021-06-20T02:07:52.000</td>\n      <td>NYPD</td>\n      <td>New York City Police Department</td>\n      <td>Noise - Street/Sidewalk</td>\n      <td>Loud Talking</td>\n      <td>Street/Sidewalk</td>\n      <td>11233</td>\n      <td>173 THOMAS S BOYLAND STREET</td>\n      <td>THOMAS S BOYLAND STREET</td>\n      <td>...</td>\n      <td>-73.91361695887984</td>\n      <td>{'latitude': '40.67872765229688', 'longitude':...</td>\n      <td>13516</td>\n      <td>55</td>\n      <td>2</td>\n      <td>17</td>\n      <td>46</td>\n      <td>NaN</td>\n      <td>NaN</td>\n      <td>NaN</td>\n    </tr>\n    <tr>\n      <th>3</th>\n      <td>50936403</td>\n      <td>2021-06-20T02:07:34.000</td>\n      <td>NYPD</td>\n      <td>New York City Police Department</td>\n      <td>Noise - Street/Sidewalk</td>\n      <td>Loud Music/Party</td>\n      <td>Street/Sidewalk</td>\n      <td>10452</td>\n      <td>40 MARCY PLACE</td>\n      <td>MARCY PLACE</td>\n      <td>...</td>\n      <td>-73.91767022044058</td>\n      <td>{'latitude': '40.83861748382105', 'longitude':...</td>\n      <td>10930</td>\n      <td>50</td>\n      <td>5</td>\n      <td>42</td>\n      <td>27</td>\n      <td>NaN</td>\n      <td>NaN</td>\n      <td>NaN</td>\n    </tr>\n    <tr>\n      <th>4</th>\n      <td>50939185</td>\n      <td>2021-06-20T02:07:28.000</td>\n      <td>NYPD</td>\n      <td>New York City Police Department</td>\n      <td>Noise - Commercial</td>\n      <td>Car/Truck Music</td>\n      <td>Store/Commercial</td>\n      <td>10452</td>\n      <td>1552 JEROME AVENUE</td>\n      <td>JEROME AVENUE</td>\n      <td>...</td>\n      <td>-73.91523885071975</td>\n      <td>{'latitude': '40.84363854126145', 'longitude':...</td>\n      <td>10930</td>\n      <td>50</td>\n      <td>5</td>\n      <td>29</td>\n      <td>27</td>\n      <td>NaN</td>\n      <td>NaN</td>\n      <td>NaN</td>\n    </tr>\n  </tbody>\n</table>\n<p>5 rows × 36 columns</p>\n</div>"
     },
     "metadata": {},
     "execution_count": 6
    }
   ],
   "source": [
    "df_311.head()"
   ]
  },
  {
   "cell_type": "code",
   "execution_count": 7,
   "metadata": {},
   "outputs": [
    {
     "output_type": "execute_result",
     "data": {
      "text/plain": [
       "  problemid complaintid unittypeid   unittype spacetypeid         spacetype  \\\n",
       "0  17307278     8412850         91  APARTMENT         543  ENTIRE APARTMENT   \n",
       "1  17317058     8417365         91  APARTMENT         543  ENTIRE APARTMENT   \n",
       "2  17016467     8249017         91  APARTMENT         545    ENTRANCE/FOYER   \n",
       "3  14548958     6967900         91  APARTMENT         541          BATHROOM   \n",
       "4  14548959     6967900         91  APARTMENT         541          BATHROOM   \n",
       "\n",
       "  typeid           type majorcategoryid         majorcategory minorcategoryid  \\\n",
       "0      1      EMERGENCY              56           DOOR/WINDOW             337   \n",
       "1      3  NON EMERGENCY              63  UNSANITARY CONDITION             376   \n",
       "2      1      EMERGENCY              56           DOOR/WINDOW             333   \n",
       "3      1      EMERGENCY               9              PLUMBING              63   \n",
       "4      3  NON EMERGENCY               9              PLUMBING              63   \n",
       "\n",
       "    minorcategory codeid                           code statusid status  \\\n",
       "0    WINDOW FRAME   2836             LOOSE OR DEFECTIVE        2  CLOSE   \n",
       "1           PESTS   2821                           MICE        2  CLOSE   \n",
       "2            DOOR   2665         LOCK BROKEN OR MISSING        2  CLOSE   \n",
       "3  BATHTUB/SHOWER   2538              BROKEN OR MISSING        2  CLOSE   \n",
       "4  BATHTUB/SHOWER   2540  FAUCET BROKEN/MISSING/LEAKING        2  CLOSE   \n",
       "\n",
       "                statusdate                                  statusdescription  \n",
       "0  2017-03-31T00:00:00.000  The Department of Housing Preservation and Dev...  \n",
       "1  2017-03-16T00:00:00.000  The Department of Housing Preservation and Dev...  \n",
       "2  2017-03-03T00:00:00.000  The Department of Housing Preservation and Dev...  \n",
       "3  2014-07-29T00:00:00.000  The Department of Housing Preservation and Dev...  \n",
       "4  2014-08-04T00:00:00.000  The Department of Housing Preservation and Dev...  "
      ],
      "text/html": "<div>\n<style scoped>\n    .dataframe tbody tr th:only-of-type {\n        vertical-align: middle;\n    }\n\n    .dataframe tbody tr th {\n        vertical-align: top;\n    }\n\n    .dataframe thead th {\n        text-align: right;\n    }\n</style>\n<table border=\"1\" class=\"dataframe\">\n  <thead>\n    <tr style=\"text-align: right;\">\n      <th></th>\n      <th>problemid</th>\n      <th>complaintid</th>\n      <th>unittypeid</th>\n      <th>unittype</th>\n      <th>spacetypeid</th>\n      <th>spacetype</th>\n      <th>typeid</th>\n      <th>type</th>\n      <th>majorcategoryid</th>\n      <th>majorcategory</th>\n      <th>minorcategoryid</th>\n      <th>minorcategory</th>\n      <th>codeid</th>\n      <th>code</th>\n      <th>statusid</th>\n      <th>status</th>\n      <th>statusdate</th>\n      <th>statusdescription</th>\n    </tr>\n  </thead>\n  <tbody>\n    <tr>\n      <th>0</th>\n      <td>17307278</td>\n      <td>8412850</td>\n      <td>91</td>\n      <td>APARTMENT</td>\n      <td>543</td>\n      <td>ENTIRE APARTMENT</td>\n      <td>1</td>\n      <td>EMERGENCY</td>\n      <td>56</td>\n      <td>DOOR/WINDOW</td>\n      <td>337</td>\n      <td>WINDOW FRAME</td>\n      <td>2836</td>\n      <td>LOOSE OR DEFECTIVE</td>\n      <td>2</td>\n      <td>CLOSE</td>\n      <td>2017-03-31T00:00:00.000</td>\n      <td>The Department of Housing Preservation and Dev...</td>\n    </tr>\n    <tr>\n      <th>1</th>\n      <td>17317058</td>\n      <td>8417365</td>\n      <td>91</td>\n      <td>APARTMENT</td>\n      <td>543</td>\n      <td>ENTIRE APARTMENT</td>\n      <td>3</td>\n      <td>NON EMERGENCY</td>\n      <td>63</td>\n      <td>UNSANITARY CONDITION</td>\n      <td>376</td>\n      <td>PESTS</td>\n      <td>2821</td>\n      <td>MICE</td>\n      <td>2</td>\n      <td>CLOSE</td>\n      <td>2017-03-16T00:00:00.000</td>\n      <td>The Department of Housing Preservation and Dev...</td>\n    </tr>\n    <tr>\n      <th>2</th>\n      <td>17016467</td>\n      <td>8249017</td>\n      <td>91</td>\n      <td>APARTMENT</td>\n      <td>545</td>\n      <td>ENTRANCE/FOYER</td>\n      <td>1</td>\n      <td>EMERGENCY</td>\n      <td>56</td>\n      <td>DOOR/WINDOW</td>\n      <td>333</td>\n      <td>DOOR</td>\n      <td>2665</td>\n      <td>LOCK BROKEN OR MISSING</td>\n      <td>2</td>\n      <td>CLOSE</td>\n      <td>2017-03-03T00:00:00.000</td>\n      <td>The Department of Housing Preservation and Dev...</td>\n    </tr>\n    <tr>\n      <th>3</th>\n      <td>14548958</td>\n      <td>6967900</td>\n      <td>91</td>\n      <td>APARTMENT</td>\n      <td>541</td>\n      <td>BATHROOM</td>\n      <td>1</td>\n      <td>EMERGENCY</td>\n      <td>9</td>\n      <td>PLUMBING</td>\n      <td>63</td>\n      <td>BATHTUB/SHOWER</td>\n      <td>2538</td>\n      <td>BROKEN OR MISSING</td>\n      <td>2</td>\n      <td>CLOSE</td>\n      <td>2014-07-29T00:00:00.000</td>\n      <td>The Department of Housing Preservation and Dev...</td>\n    </tr>\n    <tr>\n      <th>4</th>\n      <td>14548959</td>\n      <td>6967900</td>\n      <td>91</td>\n      <td>APARTMENT</td>\n      <td>541</td>\n      <td>BATHROOM</td>\n      <td>3</td>\n      <td>NON EMERGENCY</td>\n      <td>9</td>\n      <td>PLUMBING</td>\n      <td>63</td>\n      <td>BATHTUB/SHOWER</td>\n      <td>2540</td>\n      <td>FAUCET BROKEN/MISSING/LEAKING</td>\n      <td>2</td>\n      <td>CLOSE</td>\n      <td>2014-08-04T00:00:00.000</td>\n      <td>The Department of Housing Preservation and Dev...</td>\n    </tr>\n  </tbody>\n</table>\n</div>"
     },
     "metadata": {},
     "execution_count": 7
    }
   ],
   "source": [
    "df_complaint_problems.head()"
   ]
  },
  {
   "cell_type": "code",
   "execution_count": 8,
   "metadata": {},
   "outputs": [
    {
     "output_type": "execute_result",
     "data": {
      "text/plain": [
       "  complaint_number  status date_entered  house_number   zip_code  \\\n",
       "0          1000006  CLOSED   12/30/1988  101           10003       \n",
       "1          1000008  CLOSED   01/03/1989  101           10003       \n",
       "2          1000009  CLOSED   01/03/1989  101           10003       \n",
       "3          1000010  CLOSED   01/03/1989  333           10013       \n",
       "4          1000011  CLOSED   01/03/1989  333           10013       \n",
       "\n",
       "                       house_street      bin community_board special_district  \\\n",
       "0  1 AVENUE                          1006289             103                    \n",
       "1  1 AVENUE                          1006289             103                    \n",
       "2  1 AVENUE                          1006289             103                    \n",
       "3  HUDSON STREET                     1010374             102                    \n",
       "4  HUDSON STREET                     1010374             102                    \n",
       "\n",
       "  complaint_category   unit disposition_date disposition_code inspection_date  \\\n",
       "0                 02   MAN.       01/04/1989               I1      01/03/1989   \n",
       "1                 03   MAN.       01/04/1989               I2      01/03/1989   \n",
       "2                 01   MAN.       01/04/1989               I2      01/04/1989   \n",
       "3                 67  C & D       01/06/1989               I2      01/04/1989   \n",
       "4                 10   MAN.       01/09/1989               H1      01/03/1989   \n",
       "\n",
       "                dobrundate  \n",
       "0  2018-11-07T00:00:00.000  \n",
       "1  2018-11-07T00:00:00.000  \n",
       "2  2018-11-07T00:00:00.000  \n",
       "3  2018-11-07T00:00:00.000  \n",
       "4  2018-11-07T00:00:00.000  "
      ],
      "text/html": "<div>\n<style scoped>\n    .dataframe tbody tr th:only-of-type {\n        vertical-align: middle;\n    }\n\n    .dataframe tbody tr th {\n        vertical-align: top;\n    }\n\n    .dataframe thead th {\n        text-align: right;\n    }\n</style>\n<table border=\"1\" class=\"dataframe\">\n  <thead>\n    <tr style=\"text-align: right;\">\n      <th></th>\n      <th>complaint_number</th>\n      <th>status</th>\n      <th>date_entered</th>\n      <th>house_number</th>\n      <th>zip_code</th>\n      <th>house_street</th>\n      <th>bin</th>\n      <th>community_board</th>\n      <th>special_district</th>\n      <th>complaint_category</th>\n      <th>unit</th>\n      <th>disposition_date</th>\n      <th>disposition_code</th>\n      <th>inspection_date</th>\n      <th>dobrundate</th>\n    </tr>\n  </thead>\n  <tbody>\n    <tr>\n      <th>0</th>\n      <td>1000006</td>\n      <td>CLOSED</td>\n      <td>12/30/1988</td>\n      <td>101</td>\n      <td>10003</td>\n      <td>1 AVENUE</td>\n      <td>1006289</td>\n      <td>103</td>\n      <td></td>\n      <td>02</td>\n      <td>MAN.</td>\n      <td>01/04/1989</td>\n      <td>I1</td>\n      <td>01/03/1989</td>\n      <td>2018-11-07T00:00:00.000</td>\n    </tr>\n    <tr>\n      <th>1</th>\n      <td>1000008</td>\n      <td>CLOSED</td>\n      <td>01/03/1989</td>\n      <td>101</td>\n      <td>10003</td>\n      <td>1 AVENUE</td>\n      <td>1006289</td>\n      <td>103</td>\n      <td></td>\n      <td>03</td>\n      <td>MAN.</td>\n      <td>01/04/1989</td>\n      <td>I2</td>\n      <td>01/03/1989</td>\n      <td>2018-11-07T00:00:00.000</td>\n    </tr>\n    <tr>\n      <th>2</th>\n      <td>1000009</td>\n      <td>CLOSED</td>\n      <td>01/03/1989</td>\n      <td>101</td>\n      <td>10003</td>\n      <td>1 AVENUE</td>\n      <td>1006289</td>\n      <td>103</td>\n      <td></td>\n      <td>01</td>\n      <td>MAN.</td>\n      <td>01/04/1989</td>\n      <td>I2</td>\n      <td>01/04/1989</td>\n      <td>2018-11-07T00:00:00.000</td>\n    </tr>\n    <tr>\n      <th>3</th>\n      <td>1000010</td>\n      <td>CLOSED</td>\n      <td>01/03/1989</td>\n      <td>333</td>\n      <td>10013</td>\n      <td>HUDSON STREET</td>\n      <td>1010374</td>\n      <td>102</td>\n      <td></td>\n      <td>67</td>\n      <td>C &amp; D</td>\n      <td>01/06/1989</td>\n      <td>I2</td>\n      <td>01/04/1989</td>\n      <td>2018-11-07T00:00:00.000</td>\n    </tr>\n    <tr>\n      <th>4</th>\n      <td>1000011</td>\n      <td>CLOSED</td>\n      <td>01/03/1989</td>\n      <td>333</td>\n      <td>10013</td>\n      <td>HUDSON STREET</td>\n      <td>1010374</td>\n      <td>102</td>\n      <td></td>\n      <td>10</td>\n      <td>MAN.</td>\n      <td>01/09/1989</td>\n      <td>H1</td>\n      <td>01/03/1989</td>\n      <td>2018-11-07T00:00:00.000</td>\n    </tr>\n  </tbody>\n</table>\n</div>"
     },
     "metadata": {},
     "execution_count": 8
    }
   ],
   "source": [
    "df_dob_omplaints.head()"
   ]
  },
  {
   "source": [
    "## 2. Extracting useful columns"
   ],
   "cell_type": "markdown",
   "metadata": {}
  }
 ]
}